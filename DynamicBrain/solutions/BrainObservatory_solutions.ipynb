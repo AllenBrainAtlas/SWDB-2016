{
 "cells": [
  {
   "cell_type": "markdown",
   "metadata": {},
   "source": [
    "<img src=\"../../PythonBootcamp/support_files/cropped-SummerWorkshop_Header.png\">  \n",
    "\n",
    "<h1 align=\"center\">Introduction to the Allen Brain Observatory</h1> \n",
    "<h3 align=\"center\">August 24, 2016</h3> "
   ]
  },
  {
   "cell_type": "markdown",
   "metadata": {},
   "source": [
    "<div style=\"border-left: 3px solid #000; padding: 1px; padding-left: 10px; background: #F0FAFF; \">\n",
    "<p>This notebook documents some classes and functions in the AllenSDK that help manipulate files and data structures in the Allen Brain Observatory. \n",
    "</div>\n"
   ]
  },
  {
   "cell_type": "code",
   "execution_count": 322,
   "metadata": {
    "collapsed": false
   },
   "outputs": [],
   "source": [
    "# please make sure your drive_path is set, so that the notebook can find the data files on the hard drive\n",
    "\n",
    "# OS X\n",
    "drive_path = '/Volumes/Brain2016'\n",
    "\n",
    "# Windows (a good guess)\n",
    "# drive_path = 'e:/'\n",
    "\n",
    "# Linux (will vary; the following is possibly what Ubuntu will do)\n",
    "# drive_path = '/media/Brain2016/'"
   ]
  },
  {
   "cell_type": "code",
   "execution_count": 2,
   "metadata": {
    "collapsed": false
   },
   "outputs": [],
   "source": [
    "# We need to import these modules to get started\n",
    "import numpy as np\n",
    "import pandas as pd\n",
    "import os\n",
    "import sys\n",
    "\n",
    "\n",
    "import matplotlib.pyplot as plt\n",
    "%matplotlib inline"
   ]
  },
  {
   "cell_type": "markdown",
   "metadata": {},
   "source": [
    "<div style=\"border-left: 3px solid #000; padding: 1px; padding-left: 10px; background: #F0FAFF; \">\n",
    "<p>The main entry point is the `BrainObservatoryCache` class.  This class is responsible for downloading any requested data or metadata as needed and storing it in well known locations.  For this workshop, all of the data has been preloaded onto the hard drives you have received.\n",
    "\n",
    "<p>We begin by importing the `BrainObservatoryCache` class and instantiating it.\n",
    "\n",
    "<p>`manifest_path` is a path to the manifest file.  We will use the manifest file preloaded onto your Workshop hard drives.  Make sure that `drive_path` is set correctly for your platform.  (See the first cell in this notebook.)\n",
    "</div>\n"
   ]
  },
  {
   "cell_type": "code",
   "execution_count": 3,
   "metadata": {
    "collapsed": false
   },
   "outputs": [],
   "source": [
    "from allensdk.core.brain_observatory_cache import BrainObservatoryCache\n",
    "\n",
    "manifest_path = os.path.join(drive_path,'BrainObservatory/manifest.json')\n",
    "boc = BrainObservatoryCache(manifest_file=manifest_path)"
   ]
  },
  {
   "cell_type": "markdown",
   "metadata": {},
   "source": [
    "<div style=\"background: #DFF0D8; border-radius: 3px; padding: 10px;\">\n",
    "<p>**Task 1.1:**  Get information about what's in the dataset from BrainObservatoryCache\n",
    "\n",
    "<p>The following methods for BrainObservatoryCache retrieve the available depths, cre lines, areas, and stimuli.  Notice that these parameters outline the 'data cube'.\n",
    "</div>"
   ]
  },
  {
   "cell_type": "code",
   "execution_count": 4,
   "metadata": {
    "collapsed": false
   },
   "outputs": [
    {
     "name": "stdout",
     "output_type": "stream",
     "text": [
      "all targeted structures: [u'VISal', u'VISl', u'VISp', u'VISpm']\n",
      "all imaging depths: [175, 275, 350, 375]\n",
      "all cre lines: [u'Cux2-CreERT2', u'Rbp4-Cre', u'Rorb-IRES2-Cre', u'Scnn1a-Tg3-Cre']\n",
      "all stimuli: ['drifting_gratings', 'locally_sparse_noise', 'natural_movie_one', 'natural_movie_three', 'natural_movie_two', 'natural_scenes', 'spontaneous', 'static_gratings']\n"
     ]
    }
   ],
   "source": [
    "# Download a list of all targeted areas\n",
    "targeted_structures = boc.get_all_targeted_structures()\n",
    "print 'all targeted structures: ' + str(targeted_structures)\n",
    "\n",
    "# Download a list of all imaging depths\n",
    "depths = boc.get_all_imaging_depths()\n",
    "print 'all imaging depths: ' + str(depths)\n",
    "\n",
    "# Download a list of all cre driver lines \n",
    "cre_lines = boc.get_all_cre_lines()\n",
    "print 'all cre lines: ' + str(cre_lines)\n",
    "\n",
    "# Download a list of all stimuli\n",
    "stims = boc.get_all_stimuli()\n",
    "print 'all stimuli: ' + str(stims)\n"
   ]
  },
  {
   "cell_type": "markdown",
   "metadata": {},
   "source": [
    "<div style=\"background: #DFF0D8; border-radius: 3px; padding: 10px;\">\n",
    "<p>**Task 1.2:**  Use tab completion in Jupyter to see what other methods the BrainObservatoryCache has.\n",
    "</div>"
   ]
  },
  {
   "cell_type": "code",
   "execution_count": null,
   "metadata": {
    "collapsed": false
   },
   "outputs": [],
   "source": [
    "# Hit the 'tab' key with the cursor just after the '.'\n",
    "boc."
   ]
  },
  {
   "cell_type": "markdown",
   "metadata": {},
   "source": [
    "<div style=\"border-left: 3px solid #000; padding: 1px; padding-left: 10px; background: #F0FAFF; \">\n",
    "<h2>Experiment containers</h2>\n",
    "<p>The experiment container describes a set of 3 experiment sessions performed at the same location (targeted area and imaging depth) in the same mouse that targets the same set of cells. Each experiment container has a unique ID number.\n",
    "</div>"
   ]
  },
  {
   "cell_type": "code",
   "execution_count": 23,
   "metadata": {
    "collapsed": false
   },
   "outputs": [
    {
     "name": "stdout",
     "output_type": "stream",
     "text": [
      "There are 79 experiment containers.\n"
     ]
    }
   ],
   "source": [
    "expt_cont_list = boc.get_experiment_containers()\n",
    "\n",
    "print \"There are \" + str(len(expt_cont_list)) + \" experiment containers.\""
   ]
  },
  {
   "cell_type": "code",
   "execution_count": 440,
   "metadata": {
    "collapsed": true
   },
   "outputs": [],
   "source": [
    "# example experiment_container_ids to use in this notebook\n",
    "expt_list = [511510699, 511510664, 511510797, 511507650, 511510917, \n",
    "             511510675, 511510911, 511510860, 511510658, 511498500]"
   ]
  },
  {
   "cell_type": "markdown",
   "metadata": {},
   "source": [
    "<div style=\"background: #DFF0D8; border-radius: 3px; padding: 10px;\">\n",
    "<p>**Task 1.3:** Pick an experiment container.  For this session we're going to need to get an experiment, which you'll use for the remainder of the tutorial.  Execute the following cells to do this.\n",
    "</div>"
   ]
  },
  {
   "cell_type": "code",
   "execution_count": 441,
   "metadata": {
    "collapsed": false
   },
   "outputs": [
    {
     "name": "stdout",
     "output_type": "stream",
     "text": [
      "YOU GET AN EXPERIMENT CONTAINER!! EVERYONE GETS AN EXPERIMENT CONTAINER!!!\n",
      "expt_container_id = 511510699\n"
     ]
    }
   ],
   "source": [
    "# pick a random experiment container\n",
    "expt_index = np.random.randint(0,len(expt_list))\n",
    "# get expt_container_id for that index\n",
    "expt_container_id = expt_list[expt_index]\n",
    "\n",
    "print \"YOU GET AN EXPERIMENT CONTAINER!! EVERYONE GETS AN EXPERIMENT CONTAINER!!!\"\n",
    "print 'expt_container_id =',expt_container_id"
   ]
  },
  {
   "cell_type": "markdown",
   "metadata": {},
   "source": [
    "<div style=\"background: #DFF0D8; border-radius: 3px; padding: 10px;\">\n",
    "<p>**Task 1.3.1:** Find out the location and Cre line of this experiment container\n",
    "</div>"
   ]
  },
  {
   "cell_type": "code",
   "execution_count": 129,
   "metadata": {
    "collapsed": false
   },
   "outputs": [
    {
     "name": "stdout",
     "output_type": "stream",
     "text": [
      "Experiment container 511510695 is \n",
      "[{'targeted_structure': u'VISal', 'imaging_depth': 175, 'age_days': 143.0, 'id': 511510695, 'cre_line': u'Cux2-CreERT2'}]\n"
     ]
    }
   ],
   "source": [
    "print \"Experiment container \" + str(expt_container_id) + \" is \"\n",
    "print boc.get_experiment_containers(ids=[expt_container_id])"
   ]
  },
  {
   "cell_type": "markdown",
   "metadata": {},
   "source": [
    "<div style=\"background: #DFF0D8; border-radius: 3px; padding: 10px;\">\n",
    "<p>**Task 1.4:** Get information about all of the experiment <strong>sessions</strong> in your experiment <strong>container</strong>.  This is accomplished with the `get_ophys_experiments` method.  \n",
    "</div>"
   ]
  },
  {
   "cell_type": "code",
   "execution_count": 422,
   "metadata": {
    "collapsed": false
   },
   "outputs": [
    {
     "name": "stdout",
     "output_type": "stream",
     "text": [
      "[{'session_type': u'three_session_B', 'age_days': 143.0, 'imaging_depth': 175, 'experiment_container_id': 511510695, 'targeted_structure': u'VISal', 'cre_line': u'Cux2-CreERT2', 'id': 503820068}, {'session_type': u'three_session_A', 'age_days': 143.0, 'imaging_depth': 175, 'experiment_container_id': 511510695, 'targeted_structure': u'VISal', 'cre_line': u'Cux2-CreERT2', 'id': 503412730}, {'session_type': u'three_session_C', 'age_days': 143.0, 'imaging_depth': 175, 'experiment_container_id': 511510695, 'targeted_structure': u'VISal', 'cre_line': u'Cux2-CreERT2', 'id': 504108263}]\n"
     ]
    }
   ],
   "source": [
    "expt_session_info = boc.get_ophys_experiments(experiment_container_ids=[expt_container_id])\n",
    "print(expt_session_info)"
   ]
  },
  {
   "cell_type": "markdown",
   "metadata": {},
   "source": [
    "<div style=\"border-left: 3px solid #000; padding: 1px; padding-left: 10px; background: #F0FAFF; \">\n",
    "\n",
    "<p>`get_experiment_containers` returns a list of dictionaries that contain information about experiment containers.\n",
    "\n",
    "<p>`get_ophys_experiments` returns a list of dictionaries that contain information about experiment sessions.  Here we are using keyword arguments to return just those experiment sessions that belong to our experiment container.\n",
    "</div>"
   ]
  },
  {
   "cell_type": "markdown",
   "metadata": {},
   "source": [
    "<div style=\"background: #DFF0D8; border-radius: 3px; padding: 10px;\">\n",
    "<p>**Task 1.5:**  Turn it into a DataFrame for easy access\n",
    "</div>"
   ]
  },
  {
   "cell_type": "code",
   "execution_count": 423,
   "metadata": {
    "collapsed": false
   },
   "outputs": [
    {
     "data": {
      "text/html": [
       "<div style=\"max-height:1000px;max-width:1500px;overflow:auto;\">\n",
       "<table border=\"1\" class=\"dataframe\">\n",
       "  <thead>\n",
       "    <tr style=\"text-align: right;\">\n",
       "      <th></th>\n",
       "      <th>age_days</th>\n",
       "      <th>cre_line</th>\n",
       "      <th>experiment_container_id</th>\n",
       "      <th>id</th>\n",
       "      <th>imaging_depth</th>\n",
       "      <th>session_type</th>\n",
       "      <th>targeted_structure</th>\n",
       "    </tr>\n",
       "  </thead>\n",
       "  <tbody>\n",
       "    <tr>\n",
       "      <th>0</th>\n",
       "      <td>143</td>\n",
       "      <td>Cux2-CreERT2</td>\n",
       "      <td>511510695</td>\n",
       "      <td>503820068</td>\n",
       "      <td>175</td>\n",
       "      <td>three_session_B</td>\n",
       "      <td>VISal</td>\n",
       "    </tr>\n",
       "    <tr>\n",
       "      <th>1</th>\n",
       "      <td>143</td>\n",
       "      <td>Cux2-CreERT2</td>\n",
       "      <td>511510695</td>\n",
       "      <td>503412730</td>\n",
       "      <td>175</td>\n",
       "      <td>three_session_A</td>\n",
       "      <td>VISal</td>\n",
       "    </tr>\n",
       "    <tr>\n",
       "      <th>2</th>\n",
       "      <td>143</td>\n",
       "      <td>Cux2-CreERT2</td>\n",
       "      <td>511510695</td>\n",
       "      <td>504108263</td>\n",
       "      <td>175</td>\n",
       "      <td>three_session_C</td>\n",
       "      <td>VISal</td>\n",
       "    </tr>\n",
       "  </tbody>\n",
       "</table>\n",
       "</div>"
      ],
      "text/plain": [
       "   age_days      cre_line  experiment_container_id         id  imaging_depth  \\\n",
       "0       143  Cux2-CreERT2                511510695  503820068            175   \n",
       "1       143  Cux2-CreERT2                511510695  503412730            175   \n",
       "2       143  Cux2-CreERT2                511510695  504108263            175   \n",
       "\n",
       "      session_type targeted_structure  \n",
       "0  three_session_B              VISal  \n",
       "1  three_session_A              VISal  \n",
       "2  three_session_C              VISal  "
      ]
     },
     "execution_count": 423,
     "metadata": {},
     "output_type": "execute_result"
    }
   ],
   "source": [
    "expt_session_frame = pd.DataFrame(expt_session_info)\n",
    "expt_session_frame"
   ]
  },
  {
   "cell_type": "markdown",
   "metadata": {},
   "source": [
    "<div style=\"background: #DFF0D8; border-radius: 3px; padding: 10px;\">\n",
    "<p>**Exercise 1.1:**  Find all experiment sessions from a given area, depth, cre line, or specific stimulus. How many of each are there? (Hint:  use the `help` function to see the other optional arguments for `get_ophys_experiments` or `get_experiment_containers`.)\n",
    "</div>"
   ]
  },
  {
   "cell_type": "code",
   "execution_count": 442,
   "metadata": {
    "collapsed": false
   },
   "outputs": [
    {
     "name": "stdout",
     "output_type": "stream",
     "text": [
      "51\n"
     ]
    }
   ],
   "source": [
    "Rorb = pd.DataFrame(boc.get_ophys_experiments(cre_lines=['Rorb-IRES2-Cre']))\n",
    "print len(Rorb)"
   ]
  },
  {
   "cell_type": "code",
   "execution_count": 448,
   "metadata": {
    "collapsed": false
   },
   "outputs": [
    {
     "name": "stdout",
     "output_type": "stream",
     "text": [
      "79\n"
     ]
    }
   ],
   "source": [
    "session_B = pd.DataFrame(boc.get_ophys_experiments(session_types=['three_session_B']))\n",
    "print len(session_B)"
   ]
  },
  {
   "cell_type": "markdown",
   "metadata": {},
   "source": [
    "<div style=\"background: #DFF0D8; border-radius: 3px; padding: 10px;\">\n",
    "<p>**Exercise 1.2:**  Make a pandas table from all experiment sessions.  Perform Exercise 1.1 using this table.\n",
    "</div>"
   ]
  },
  {
   "cell_type": "code",
   "execution_count": 450,
   "metadata": {
    "collapsed": true
   },
   "outputs": [],
   "source": [
    "all_expt = pd.DataFrame(boc.get_ophys_experiments())"
   ]
  },
  {
   "cell_type": "code",
   "execution_count": 451,
   "metadata": {
    "collapsed": false
   },
   "outputs": [
    {
     "name": "stdout",
     "output_type": "stream",
     "text": [
      "51\n"
     ]
    }
   ],
   "source": [
    "Rorb2 = all_expt[all_expt.cre_line=='Rorb-IRES2-Cre']\n",
    "print len(Rorb2)"
   ]
  },
  {
   "cell_type": "markdown",
   "metadata": {},
   "source": [
    "<div style=\"background: #DFF0D8; border-radius: 3px; padding: 10px;\">\n",
    "<p>**Exercise 1.3:**  Find the experiment id for Session A from your experiment container selected above.  Save this as `session_id`.\n",
    "</div>"
   ]
  },
  {
   "cell_type": "code",
   "execution_count": 424,
   "metadata": {
    "collapsed": false
   },
   "outputs": [
    {
     "name": "stdout",
     "output_type": "stream",
     "text": [
      "503412730\n"
     ]
    }
   ],
   "source": [
    "session_id = expt_session_frame[expt_session_frame.session_type=='three_session_A'].id.values[0]\n",
    "print session_id"
   ]
  },
  {
   "cell_type": "markdown",
   "metadata": {},
   "source": [
    "<div style=\"border-left: 3px solid #000; padding: 1px; padding-left: 10px; background: #F0FAFF; \">\n",
    "<h2>Cell Specimens</h2>\n",
    "\n",
    "\n",
    "<p>`get_cell_specimens` is a method of the BrainObservatoryCache that provides important pre-computed characteristics of all the cells in the data set.  \n",
    "</div>"
   ]
  },
  {
   "cell_type": "markdown",
   "metadata": {},
   "source": [
    "<div style=\"background: #DFF0D8; border-radius: 3px; padding: 10px;\">\n",
    "<p>**Task 1.5:**  Make a pandas table from the information returned by `get_cell_specimens` for just the cells in your experiment container. How many cells are in this container?\n",
    "</div>"
   ]
  },
  {
   "cell_type": "code",
   "execution_count": 425,
   "metadata": {
    "collapsed": false
   },
   "outputs": [
    {
     "data": {
      "text/html": [
       "<div style=\"max-height:1000px;max-width:1500px;overflow:auto;\">\n",
       "<table border=\"1\" class=\"dataframe\">\n",
       "  <thead>\n",
       "    <tr style=\"text-align: right;\">\n",
       "      <th></th>\n",
       "      <th>area</th>\n",
       "      <th>cell_specimen_id</th>\n",
       "      <th>dsi_dg</th>\n",
       "      <th>experiment_container_id</th>\n",
       "      <th>imaging_depth</th>\n",
       "      <th>osi_dg</th>\n",
       "      <th>osi_sg</th>\n",
       "      <th>p_dg</th>\n",
       "      <th>p_ns</th>\n",
       "      <th>p_sg</th>\n",
       "      <th>...</th>\n",
       "      <th>pref_sf_sg</th>\n",
       "      <th>pref_tf_dg</th>\n",
       "      <th>time_to_peak_ns</th>\n",
       "      <th>time_to_peak_sg</th>\n",
       "      <th>tld1_id</th>\n",
       "      <th>tld1_name</th>\n",
       "      <th>tld2_id</th>\n",
       "      <th>tld2_name</th>\n",
       "      <th>tlr1_id</th>\n",
       "      <th>tlr1_name</th>\n",
       "    </tr>\n",
       "  </thead>\n",
       "  <tbody>\n",
       "    <tr>\n",
       "      <th>0</th>\n",
       "      <td>VISal</td>\n",
       "      <td>517503030</td>\n",
       "      <td>NaN</td>\n",
       "      <td>511510695</td>\n",
       "      <td>175</td>\n",
       "      <td>NaN</td>\n",
       "      <td>0.752529</td>\n",
       "      <td>NaN</td>\n",
       "      <td>4.324820e-22</td>\n",
       "      <td>0.000020</td>\n",
       "      <td>...</td>\n",
       "      <td>0.02</td>\n",
       "      <td>NaN</td>\n",
       "      <td>0.16585</td>\n",
       "      <td>0.36487</td>\n",
       "      <td>177839004</td>\n",
       "      <td>Cux2-CreERT2</td>\n",
       "      <td>177837320</td>\n",
       "      <td>Camk2a-tTA</td>\n",
       "      <td>265943423</td>\n",
       "      <td>Ai93(TITL-GCaMP6f)</td>\n",
       "    </tr>\n",
       "    <tr>\n",
       "      <th>1</th>\n",
       "      <td>VISal</td>\n",
       "      <td>517503034</td>\n",
       "      <td>0.661227</td>\n",
       "      <td>511510695</td>\n",
       "      <td>175</td>\n",
       "      <td>0.733063</td>\n",
       "      <td>1.248231</td>\n",
       "      <td>0.340778</td>\n",
       "      <td>1.591583e-01</td>\n",
       "      <td>0.532933</td>\n",
       "      <td>...</td>\n",
       "      <td>0.08</td>\n",
       "      <td>4</td>\n",
       "      <td>0.33170</td>\n",
       "      <td>0.29853</td>\n",
       "      <td>177839004</td>\n",
       "      <td>Cux2-CreERT2</td>\n",
       "      <td>177837320</td>\n",
       "      <td>Camk2a-tTA</td>\n",
       "      <td>265943423</td>\n",
       "      <td>Ai93(TITL-GCaMP6f)</td>\n",
       "    </tr>\n",
       "    <tr>\n",
       "      <th>2</th>\n",
       "      <td>VISal</td>\n",
       "      <td>517503039</td>\n",
       "      <td>2.573839</td>\n",
       "      <td>511510695</td>\n",
       "      <td>175</td>\n",
       "      <td>-4.138092</td>\n",
       "      <td>1.109775</td>\n",
       "      <td>0.555365</td>\n",
       "      <td>4.199616e-02</td>\n",
       "      <td>0.080133</td>\n",
       "      <td>...</td>\n",
       "      <td>0.02</td>\n",
       "      <td>2</td>\n",
       "      <td>0.29853</td>\n",
       "      <td>0.16585</td>\n",
       "      <td>177839004</td>\n",
       "      <td>Cux2-CreERT2</td>\n",
       "      <td>177837320</td>\n",
       "      <td>Camk2a-tTA</td>\n",
       "      <td>265943423</td>\n",
       "      <td>Ai93(TITL-GCaMP6f)</td>\n",
       "    </tr>\n",
       "    <tr>\n",
       "      <th>3</th>\n",
       "      <td>VISal</td>\n",
       "      <td>517503044</td>\n",
       "      <td>2.698089</td>\n",
       "      <td>511510695</td>\n",
       "      <td>175</td>\n",
       "      <td>1.574695</td>\n",
       "      <td>1.769195</td>\n",
       "      <td>0.033663</td>\n",
       "      <td>1.894232e-01</td>\n",
       "      <td>0.379672</td>\n",
       "      <td>...</td>\n",
       "      <td>0.02</td>\n",
       "      <td>2</td>\n",
       "      <td>0.16585</td>\n",
       "      <td>0.23219</td>\n",
       "      <td>177839004</td>\n",
       "      <td>Cux2-CreERT2</td>\n",
       "      <td>177837320</td>\n",
       "      <td>Camk2a-tTA</td>\n",
       "      <td>265943423</td>\n",
       "      <td>Ai93(TITL-GCaMP6f)</td>\n",
       "    </tr>\n",
       "    <tr>\n",
       "      <th>4</th>\n",
       "      <td>VISal</td>\n",
       "      <td>517503048</td>\n",
       "      <td>NaN</td>\n",
       "      <td>511510695</td>\n",
       "      <td>175</td>\n",
       "      <td>NaN</td>\n",
       "      <td>NaN</td>\n",
       "      <td>NaN</td>\n",
       "      <td>NaN</td>\n",
       "      <td>NaN</td>\n",
       "      <td>...</td>\n",
       "      <td>NaN</td>\n",
       "      <td>NaN</td>\n",
       "      <td>NaN</td>\n",
       "      <td>NaN</td>\n",
       "      <td>177839004</td>\n",
       "      <td>Cux2-CreERT2</td>\n",
       "      <td>177837320</td>\n",
       "      <td>Camk2a-tTA</td>\n",
       "      <td>265943423</td>\n",
       "      <td>Ai93(TITL-GCaMP6f)</td>\n",
       "    </tr>\n",
       "  </tbody>\n",
       "</table>\n",
       "<p>5 rows × 24 columns</p>\n",
       "</div>"
      ],
      "text/plain": [
       "    area  cell_specimen_id    dsi_dg  experiment_container_id  imaging_depth  \\\n",
       "0  VISal         517503030       NaN                511510695            175   \n",
       "1  VISal         517503034  0.661227                511510695            175   \n",
       "2  VISal         517503039  2.573839                511510695            175   \n",
       "3  VISal         517503044  2.698089                511510695            175   \n",
       "4  VISal         517503048       NaN                511510695            175   \n",
       "\n",
       "     osi_dg    osi_sg      p_dg          p_ns      p_sg         ...          \\\n",
       "0       NaN  0.752529       NaN  4.324820e-22  0.000020         ...           \n",
       "1  0.733063  1.248231  0.340778  1.591583e-01  0.532933         ...           \n",
       "2 -4.138092  1.109775  0.555365  4.199616e-02  0.080133         ...           \n",
       "3  1.574695  1.769195  0.033663  1.894232e-01  0.379672         ...           \n",
       "4       NaN       NaN       NaN           NaN       NaN         ...           \n",
       "\n",
       "   pref_sf_sg  pref_tf_dg  time_to_peak_ns  time_to_peak_sg    tld1_id  \\\n",
       "0        0.02         NaN          0.16585          0.36487  177839004   \n",
       "1        0.08           4          0.33170          0.29853  177839004   \n",
       "2        0.02           2          0.29853          0.16585  177839004   \n",
       "3        0.02           2          0.16585          0.23219  177839004   \n",
       "4         NaN         NaN              NaN              NaN  177839004   \n",
       "\n",
       "      tld1_name    tld2_id   tld2_name    tlr1_id           tlr1_name  \n",
       "0  Cux2-CreERT2  177837320  Camk2a-tTA  265943423  Ai93(TITL-GCaMP6f)  \n",
       "1  Cux2-CreERT2  177837320  Camk2a-tTA  265943423  Ai93(TITL-GCaMP6f)  \n",
       "2  Cux2-CreERT2  177837320  Camk2a-tTA  265943423  Ai93(TITL-GCaMP6f)  \n",
       "3  Cux2-CreERT2  177837320  Camk2a-tTA  265943423  Ai93(TITL-GCaMP6f)  \n",
       "4  Cux2-CreERT2  177837320  Camk2a-tTA  265943423  Ai93(TITL-GCaMP6f)  \n",
       "\n",
       "[5 rows x 24 columns]"
      ]
     },
     "execution_count": 425,
     "metadata": {},
     "output_type": "execute_result"
    }
   ],
   "source": [
    "cell_specimens_df = pd.DataFrame(boc.get_cell_specimens(experiment_container_ids=[expt_container_id]))\n",
    "cell_specimens_df.head()"
   ]
  },
  {
   "cell_type": "code",
   "execution_count": 25,
   "metadata": {
    "collapsed": false
   },
   "outputs": [
    {
     "name": "stdout",
     "output_type": "stream",
     "text": [
      "284\n"
     ]
    }
   ],
   "source": [
    "print len(cell_specimens_df)"
   ]
  },
  {
   "cell_type": "markdown",
   "metadata": {},
   "source": [
    "<div style=\"background: #DFF0D8; border-radius: 3px; padding: 10px;\">\n",
    "<p>**Exercise 1.4:**  Filter the table from the previous task to find all cells in your experiment container id that have `dsi_dg` (Direction Selectivity Index for Drifting Gratings) < 1.0.\n",
    "</div>"
   ]
  },
  {
   "cell_type": "code",
   "execution_count": 426,
   "metadata": {
    "collapsed": false
   },
   "outputs": [
    {
     "data": {
      "text/html": [
       "<div style=\"max-height:1000px;max-width:1500px;overflow:auto;\">\n",
       "<table border=\"1\" class=\"dataframe\">\n",
       "  <thead>\n",
       "    <tr style=\"text-align: right;\">\n",
       "      <th></th>\n",
       "      <th>area</th>\n",
       "      <th>cell_specimen_id</th>\n",
       "      <th>dsi_dg</th>\n",
       "      <th>experiment_container_id</th>\n",
       "      <th>imaging_depth</th>\n",
       "      <th>osi_dg</th>\n",
       "      <th>osi_sg</th>\n",
       "      <th>p_dg</th>\n",
       "      <th>p_ns</th>\n",
       "      <th>p_sg</th>\n",
       "      <th>...</th>\n",
       "      <th>pref_sf_sg</th>\n",
       "      <th>pref_tf_dg</th>\n",
       "      <th>time_to_peak_ns</th>\n",
       "      <th>time_to_peak_sg</th>\n",
       "      <th>tld1_id</th>\n",
       "      <th>tld1_name</th>\n",
       "      <th>tld2_id</th>\n",
       "      <th>tld2_name</th>\n",
       "      <th>tlr1_id</th>\n",
       "      <th>tlr1_name</th>\n",
       "    </tr>\n",
       "  </thead>\n",
       "  <tbody>\n",
       "    <tr>\n",
       "      <th>1</th>\n",
       "      <td>VISal</td>\n",
       "      <td>517503034</td>\n",
       "      <td>0.661227</td>\n",
       "      <td>511510695</td>\n",
       "      <td>175</td>\n",
       "      <td>0.733063</td>\n",
       "      <td>1.248231</td>\n",
       "      <td>0.340778</td>\n",
       "      <td>1.591583e-01</td>\n",
       "      <td>0.532933</td>\n",
       "      <td>...</td>\n",
       "      <td>0.08</td>\n",
       "      <td>4</td>\n",
       "      <td>0.33170</td>\n",
       "      <td>0.29853</td>\n",
       "      <td>177839004</td>\n",
       "      <td>Cux2-CreERT2</td>\n",
       "      <td>177837320</td>\n",
       "      <td>Camk2a-tTA</td>\n",
       "      <td>265943423</td>\n",
       "      <td>Ai93(TITL-GCaMP6f)</td>\n",
       "    </tr>\n",
       "    <tr>\n",
       "      <th>5</th>\n",
       "      <td>VISal</td>\n",
       "      <td>517503053</td>\n",
       "      <td>0.545992</td>\n",
       "      <td>511510695</td>\n",
       "      <td>175</td>\n",
       "      <td>0.668369</td>\n",
       "      <td>1.936000</td>\n",
       "      <td>0.000020</td>\n",
       "      <td>3.374878e-04</td>\n",
       "      <td>0.034736</td>\n",
       "      <td>...</td>\n",
       "      <td>0.02</td>\n",
       "      <td>8</td>\n",
       "      <td>0.36487</td>\n",
       "      <td>0.09951</td>\n",
       "      <td>177839004</td>\n",
       "      <td>Cux2-CreERT2</td>\n",
       "      <td>177837320</td>\n",
       "      <td>Camk2a-tTA</td>\n",
       "      <td>265943423</td>\n",
       "      <td>Ai93(TITL-GCaMP6f)</td>\n",
       "    </tr>\n",
       "    <tr>\n",
       "      <th>6</th>\n",
       "      <td>VISal</td>\n",
       "      <td>517503058</td>\n",
       "      <td>0.577135</td>\n",
       "      <td>511510695</td>\n",
       "      <td>175</td>\n",
       "      <td>1.892780</td>\n",
       "      <td>1.225769</td>\n",
       "      <td>0.015737</td>\n",
       "      <td>1.529655e-09</td>\n",
       "      <td>0.028512</td>\n",
       "      <td>...</td>\n",
       "      <td>0.08</td>\n",
       "      <td>1</td>\n",
       "      <td>0.36487</td>\n",
       "      <td>0.26536</td>\n",
       "      <td>177839004</td>\n",
       "      <td>Cux2-CreERT2</td>\n",
       "      <td>177837320</td>\n",
       "      <td>Camk2a-tTA</td>\n",
       "      <td>265943423</td>\n",
       "      <td>Ai93(TITL-GCaMP6f)</td>\n",
       "    </tr>\n",
       "    <tr>\n",
       "      <th>7</th>\n",
       "      <td>VISal</td>\n",
       "      <td>517503063</td>\n",
       "      <td>-2.142079</td>\n",
       "      <td>511510695</td>\n",
       "      <td>175</td>\n",
       "      <td>-2.551965</td>\n",
       "      <td>0.664501</td>\n",
       "      <td>0.000002</td>\n",
       "      <td>2.339446e-01</td>\n",
       "      <td>0.862607</td>\n",
       "      <td>...</td>\n",
       "      <td>0.08</td>\n",
       "      <td>4</td>\n",
       "      <td>0.16585</td>\n",
       "      <td>0.92876</td>\n",
       "      <td>177839004</td>\n",
       "      <td>Cux2-CreERT2</td>\n",
       "      <td>177837320</td>\n",
       "      <td>Camk2a-tTA</td>\n",
       "      <td>265943423</td>\n",
       "      <td>Ai93(TITL-GCaMP6f)</td>\n",
       "    </tr>\n",
       "    <tr>\n",
       "      <th>8</th>\n",
       "      <td>VISal</td>\n",
       "      <td>517503068</td>\n",
       "      <td>-0.427590</td>\n",
       "      <td>511510695</td>\n",
       "      <td>175</td>\n",
       "      <td>-0.517852</td>\n",
       "      <td>NaN</td>\n",
       "      <td>0.754799</td>\n",
       "      <td>NaN</td>\n",
       "      <td>NaN</td>\n",
       "      <td>...</td>\n",
       "      <td>NaN</td>\n",
       "      <td>1</td>\n",
       "      <td>NaN</td>\n",
       "      <td>NaN</td>\n",
       "      <td>177839004</td>\n",
       "      <td>Cux2-CreERT2</td>\n",
       "      <td>177837320</td>\n",
       "      <td>Camk2a-tTA</td>\n",
       "      <td>265943423</td>\n",
       "      <td>Ai93(TITL-GCaMP6f)</td>\n",
       "    </tr>\n",
       "  </tbody>\n",
       "</table>\n",
       "<p>5 rows × 24 columns</p>\n",
       "</div>"
      ],
      "text/plain": [
       "    area  cell_specimen_id    dsi_dg  experiment_container_id  imaging_depth  \\\n",
       "1  VISal         517503034  0.661227                511510695            175   \n",
       "5  VISal         517503053  0.545992                511510695            175   \n",
       "6  VISal         517503058  0.577135                511510695            175   \n",
       "7  VISal         517503063 -2.142079                511510695            175   \n",
       "8  VISal         517503068 -0.427590                511510695            175   \n",
       "\n",
       "     osi_dg    osi_sg      p_dg          p_ns      p_sg         ...          \\\n",
       "1  0.733063  1.248231  0.340778  1.591583e-01  0.532933         ...           \n",
       "5  0.668369  1.936000  0.000020  3.374878e-04  0.034736         ...           \n",
       "6  1.892780  1.225769  0.015737  1.529655e-09  0.028512         ...           \n",
       "7 -2.551965  0.664501  0.000002  2.339446e-01  0.862607         ...           \n",
       "8 -0.517852       NaN  0.754799           NaN       NaN         ...           \n",
       "\n",
       "   pref_sf_sg  pref_tf_dg  time_to_peak_ns  time_to_peak_sg    tld1_id  \\\n",
       "1        0.08           4          0.33170          0.29853  177839004   \n",
       "5        0.02           8          0.36487          0.09951  177839004   \n",
       "6        0.08           1          0.36487          0.26536  177839004   \n",
       "7        0.08           4          0.16585          0.92876  177839004   \n",
       "8         NaN           1              NaN              NaN  177839004   \n",
       "\n",
       "      tld1_name    tld2_id   tld2_name    tlr1_id           tlr1_name  \n",
       "1  Cux2-CreERT2  177837320  Camk2a-tTA  265943423  Ai93(TITL-GCaMP6f)  \n",
       "5  Cux2-CreERT2  177837320  Camk2a-tTA  265943423  Ai93(TITL-GCaMP6f)  \n",
       "6  Cux2-CreERT2  177837320  Camk2a-tTA  265943423  Ai93(TITL-GCaMP6f)  \n",
       "7  Cux2-CreERT2  177837320  Camk2a-tTA  265943423  Ai93(TITL-GCaMP6f)  \n",
       "8  Cux2-CreERT2  177837320  Camk2a-tTA  265943423  Ai93(TITL-GCaMP6f)  \n",
       "\n",
       "[5 rows x 24 columns]"
      ]
     },
     "execution_count": 426,
     "metadata": {},
     "output_type": "execute_result"
    }
   ],
   "source": [
    "cell_specimens_filtered_dg = cell_specimens_df[cell_specimens_df.dsi_dg < 1.0]\n",
    "cell_specimens_filtered_dg.head()"
   ]
  },
  {
   "cell_type": "markdown",
   "metadata": {},
   "source": [
    "<div style=\"background: #DFF0D8; border-radius: 3px; padding: 10px;\">\n",
    "<p>**Exercise 1.5:**  Find the cell in your filtered dataframe that has the largest `dsi_dg` that is less than 1.0.  Save the cell_specimen_id of this cell to a variable called `cell_specimen_id`.\n",
    "</div>"
   ]
  },
  {
   "cell_type": "code",
   "execution_count": 452,
   "metadata": {
    "collapsed": false
   },
   "outputs": [
    {
     "name": "stdout",
     "output_type": "stream",
     "text": [
      "cell specimen id:  517503242\n",
      "max dsi:  0.988643230349\n"
     ]
    }
   ],
   "source": [
    "max_dsi = cell_specimens_filtered_dg.dsi_dg.max()\n",
    "cell_specimen_id = cell_specimens_filtered_dg[cell_specimens_filtered_dg.dsi_dg==max_dsi].cell_specimen_id.values[0]\n",
    "print \"cell specimen id: \", cell_specimen_id\n",
    "print \"max dsi: \", max_dsi"
   ]
  },
  {
   "cell_type": "code",
   "execution_count": 453,
   "metadata": {
    "collapsed": false
   },
   "outputs": [
    {
     "name": "stdout",
     "output_type": "stream",
     "text": [
      "cell specimen id:  517503242\n",
      "max dsi:  0.988643230349\n"
     ]
    }
   ],
   "source": [
    "#Alternate solution\n",
    "row_index = cell_specimens_filtered_dg.dsi_dg.argmax()\n",
    "\n",
    "cell_specimen_id = cell_specimens_filtered_dg['cell_specimen_id'].loc[row_index]\n",
    "max_dsi = cell_specimens_filtered_dg.dsi_dg.max()\n",
    "\n",
    "print \"cell specimen id: \", cell_specimen_id\n",
    "print \"max dsi: \", max_dsi"
   ]
  },
  {
   "cell_type": "markdown",
   "metadata": {},
   "source": [
    "<div style=\"background: #DFF0D8; border-radius: 3px; padding: 10px;\">\n",
    "<p>**Exercise 1.6:**  Find the preferred direction and temporal frequency for the cell you have identified in `cell_id`.  Save these to `ori` and `tf`.\n",
    "</div>"
   ]
  },
  {
   "cell_type": "code",
   "execution_count": 428,
   "metadata": {
    "collapsed": false
   },
   "outputs": [
    {
     "name": "stdout",
     "output_type": "stream",
     "text": [
      "0.0\n",
      "15.0\n"
     ]
    }
   ],
   "source": [
    "ori = cell_specimens_filtered_dg[cell_specimens_filtered_dg.cell_specimen_id==cell_specimen_id].pref_dir_dg.values[0]\n",
    "tf = cell_specimens_filtered_dg[cell_specimens_filtered_dg.cell_specimen_id==cell_specimen_id].pref_tf_dg.values[0]\n",
    "print ori\n",
    "print tf"
   ]
  },
  {
   "cell_type": "markdown",
   "metadata": {},
   "source": [
    "<div style=\"border-left: 3px solid #000; padding: 1px; padding-left: 10px; background: #F0FAFF; \">\n",
    "<p>We will be using the cell you have recorded in `cell_specimen_id` for much of the remainder of this notebook.\n",
    "\n",
    "<h2>The Data Object</h2>\n",
    "</div>"
   ]
  },
  {
   "cell_type": "markdown",
   "metadata": {},
   "source": [
    "<div style=\"background: #DFF0D8; border-radius: 3px; padding: 10px;\">\n",
    "<p>**Task 2.1:**  Create a data_set object for this experiment session.\n",
    "\n",
    "The data_set object contains methods and info for a single experiment session (one of the 3 in the experiment container)\n",
    "</div>"
   ]
  },
  {
   "cell_type": "code",
   "execution_count": 429,
   "metadata": {
    "collapsed": false
   },
   "outputs": [],
   "source": [
    "data_set = boc.get_ophys_experiment_data(ophys_experiment_id = session_id)"
   ]
  },
  {
   "cell_type": "markdown",
   "metadata": {},
   "source": [
    "<div style=\"background: #DFF0D8; border-radius: 3px; padding: 10px;\">\n",
    "<p>**Task 2.2:** Use either `dir` or tab-completion to find out what methods the new `data_set` object has.\n",
    "</div>"
   ]
  },
  {
   "cell_type": "code",
   "execution_count": null,
   "metadata": {
    "collapsed": true
   },
   "outputs": [],
   "source": [
    "data_set."
   ]
  },
  {
   "cell_type": "markdown",
   "metadata": {},
   "source": [
    "<div style=\"border-left: 3px solid #000; padding: 1px; padding-left: 10px; background: #F0FAFF; \">\n",
    "\n",
    "<p>Using the methods you find, perform the following exercises.\n",
    "</div>"
   ]
  },
  {
   "cell_type": "markdown",
   "metadata": {},
   "source": [
    "<div style=\"background: #DFF0D8; border-radius: 3px; padding: 10px;\">\n",
    "<p>**Exercise 2.1:** Get the metadata for your data set. How old was the mouse in this experiment?  Was it male or female?  \n",
    "</div>"
   ]
  },
  {
   "cell_type": "code",
   "execution_count": 455,
   "metadata": {
    "collapsed": false
   },
   "outputs": [
    {
     "data": {
      "text/plain": [
       "{'age_days': 123,\n",
       " 'cre_line': 'Cux2-CreERT2',\n",
       " 'device': 'Nikon A1R-MP multiphoton microscope',\n",
       " 'device_name': 'CAM2P.1',\n",
       " 'excitation_lambda': '910 microns',\n",
       " 'experiment_container_id': 511510695,\n",
       " 'fov': '400x400 microns (512 x 512 pixels)',\n",
       " 'genotype': 'Cux2-CreERT2; Camk2a-tTA; Ai93(TITL-GCaMP6f)',\n",
       " 'imaging_depth_um': 175,\n",
       " 'indicator': 'GCaMP6f',\n",
       " 'ophys_experiment_id': 503412730,\n",
       " 'session_start_time': datetime.datetime(2016, 2, 23, 11, 42, 49),\n",
       " 'session_type': 'three_session_A',\n",
       " 'sex': 'male',\n",
       " 'targeted_structure': 'VISal'}"
      ]
     },
     "execution_count": 455,
     "metadata": {},
     "output_type": "execute_result"
    }
   ],
   "source": [
    "data_set.get_metadata()"
   ]
  },
  {
   "cell_type": "code",
   "execution_count": 456,
   "metadata": {
    "collapsed": false
   },
   "outputs": [
    {
     "name": "stdout",
     "output_type": "stream",
     "text": [
      "Age:  123\n",
      "Sex:  male\n"
     ]
    }
   ],
   "source": [
    "print \"Age: \", data_set.get_metadata()['age_days']\n",
    "print \"Sex: \", data_set.get_metadata()['sex']"
   ]
  },
  {
   "cell_type": "markdown",
   "metadata": {},
   "source": [
    "<div style=\"background: #DFF0D8; border-radius: 3px; padding: 10px;\">\n",
    "<p>**Exercise 2.3:** Get the max projection image for your data set.  \n",
    "</div>"
   ]
  },
  {
   "cell_type": "code",
   "execution_count": 17,
   "metadata": {
    "collapsed": false
   },
   "outputs": [
    {
     "data": {
      "text/plain": [
       "<matplotlib.image.AxesImage at 0x12917d8d0>"
      ]
     },
     "execution_count": 17,
     "metadata": {},
     "output_type": "execute_result"
    },
    {
     "data": {
      "image/png": "[encoded data removed]",
      "text/plain": [
       "<matplotlib.figure.Figure at 0x10e274710>"
      ]
     },
     "metadata": {},
     "output_type": "display_data"
    }
   ],
   "source": [
    "max_proj = data_set.get_max_projection()\n",
    "plt.imshow(max_proj, cmap='gray')"
   ]
  },
  {
   "cell_type": "markdown",
   "metadata": {},
   "source": [
    "<div style=\"background: #DFF0D8; border-radius: 3px; padding: 10px;\">\n",
    "<p>**Exercise 2.4:** Let's find the cell you recorded in `cell_specimen_id` in `data_set`.  `cell_specimen_id` is a unique cell identifier that is used across multiple sessions in which that cell appears.  For each individual session, each cell has an index specific to that session.  There are two methods of data_set that allow you to map back and forth between these two identifiers.  Find them and use one of them to save the session identifier for your cell to `cell_index`.\n",
    "</div>"
   ]
  },
  {
   "cell_type": "code",
   "execution_count": 430,
   "metadata": {
    "collapsed": false
   },
   "outputs": [
    {
     "name": "stdout",
     "output_type": "stream",
     "text": [
      "40\n"
     ]
    }
   ],
   "source": [
    "cell_index = data_set.get_cell_specimen_indices([cell_specimen_id])[0]\n",
    "print cell_index"
   ]
  },
  {
   "cell_type": "markdown",
   "metadata": {},
   "source": [
    "<div style=\"background: #DFF0D8; border-radius: 3px; padding: 10px;\">\n",
    "<p>**Exercise 2.5:** Get the roi mask for your cell.  (Hint:  There are two methods that return roi masks.  In one of them masks are returned as lists of python objects.  What methods do they have?  What is the type of this object?)  What is the size and shape of the mask?\n",
    "</div>"
   ]
  },
  {
   "cell_type": "code",
   "execution_count": 19,
   "metadata": {
    "collapsed": false
   },
   "outputs": [],
   "source": [
    "# solution using arrays\n",
    "roi_array = data_set.get_roi_mask_array()\n",
    "roi_mask = roi_array[cell_index,:,:]"
   ]
  },
  {
   "cell_type": "code",
   "execution_count": 37,
   "metadata": {
    "collapsed": false
   },
   "outputs": [
    {
     "name": "stdout",
     "output_type": "stream",
     "text": [
      "<class 'allensdk.brain_observatory.roi_masks.RoiMask'>\n",
      "['__class__', '__delattr__', '__dict__', '__doc__', '__format__', '__getattribute__', '__hash__', '__init__', '__module__', '__new__', '__reduce__', '__reduce_ex__', '__repr__', '__setattr__', '__sizeof__', '__str__', '__subclasshook__', '__weakref__', 'get_mask_plane', 'height', 'img_cols', 'img_rows', 'init_by_mask', 'init_by_pixels', 'label', 'mask', 'mask_group', 'valid', 'width', 'x', 'y']\n",
      "(512, 512)\n"
     ]
    }
   ],
   "source": [
    "# solution using roi_mask objects\n",
    "cell_mask = data_set.get_roi_mask(cell_specimen_ids=[cell_specimen_id])[0]\n",
    "\n",
    "print type(cell_mask)\n",
    "print(dir(cell_mask))\n",
    "\n",
    "\n",
    "roi_mask = cell_mask.get_mask_plane()\n",
    "print roi_mask.shape"
   ]
  },
  {
   "cell_type": "markdown",
   "metadata": {},
   "source": [
    "<div style=\"background: #DFF0D8; border-radius: 3px; padding: 10px;\">\n",
    "<p>**Exercise 2.6:** Plot the mask overlayed on the max projection.  (Hint:  imshow has an optional parameter called `alpha`.)\n",
    "</div>"
   ]
  },
  {
   "cell_type": "code",
   "execution_count": 20,
   "metadata": {
    "collapsed": false
   },
   "outputs": [
    {
     "data": {
      "text/plain": [
       "<matplotlib.image.AxesImage at 0x1038c2a10>"
      ]
     },
     "execution_count": 20,
     "metadata": {},
     "output_type": "execute_result"
    },
    {
     "data": {
      "image/png": "[encoded data removed]",
      "text/plain": [
       "<matplotlib.figure.Figure at 0x10e6a1990>"
      ]
     },
     "metadata": {},
     "output_type": "display_data"
    }
   ],
   "source": [
    "plt.imshow(max_proj, cmap='gray')\n",
    "plt.imshow(roi_array[cell_index,:,:], cmap='Reds', alpha=0.3)"
   ]
  },
  {
   "cell_type": "markdown",
   "metadata": {},
   "source": [
    "# Traces"
   ]
  },
  {
   "cell_type": "markdown",
   "metadata": {},
   "source": [
    "<div style=\"background: #DFF0D8; border-radius: 3px; padding: 10px;\">\n",
    "<p>**Exercise 2.7:**  What kinds of traces can you extract from the data object?  Retrieve the \"corrected fluorescence\" traces.   What is the shape of this object?  The methods will return a tuple of length two.  The first value is the set of time stamps for the acquisition frames; the second is an array of shape (number_of_cells,time_points).  How many cells are in your data set?  Plot the \"corrected fluorescence\" trace for the cell you saved in `cell_session_id`. \n",
    "</div>"
   ]
  },
  {
   "cell_type": "code",
   "execution_count": 139,
   "metadata": {
    "collapsed": true
   },
   "outputs": [],
   "source": [
    "timestamps, traces = data_set.get_corrected_fluorescence_traces()"
   ]
  },
  {
   "cell_type": "code",
   "execution_count": 457,
   "metadata": {
    "collapsed": false
   },
   "outputs": [
    {
     "name": "stdout",
     "output_type": "stream",
     "text": [
      "Number of cells:  117\n"
     ]
    }
   ],
   "source": [
    "print \"Number of cells: \", len(traces)"
   ]
  },
  {
   "cell_type": "code",
   "execution_count": 458,
   "metadata": {
    "collapsed": false
   },
   "outputs": [
    {
     "data": {
      "text/plain": [
       "<matplotlib.text.Text at 0x11e8a7450>"
      ]
     },
     "execution_count": 458,
     "metadata": {},
     "output_type": "execute_result"
    },
    {
     "data": {
      "image/png": "[encoded data removed]",
      "text/plain": [
       "<matplotlib.figure.Figure at 0x12ca59550>"
      ]
     },
     "metadata": {},
     "output_type": "display_data"
    }
   ],
   "source": [
    "plt.plot(traces[cell_index,:])\n",
    "plt.xlabel(\"Imaging frames\")\n",
    "plt.ylabel(\"Fluorescence\")"
   ]
  },
  {
   "cell_type": "markdown",
   "metadata": {},
   "source": [
    "# Stimuli"
   ]
  },
  {
   "cell_type": "markdown",
   "metadata": {},
   "source": [
    "<div style=\"background: #DFF0D8; border-radius: 3px; padding: 10px;\">\n",
    "<p>**Exercise 3.1:**  What stimuli were shown in this session? Use a method of the data_set object to find out.\n",
    "</div>"
   ]
  },
  {
   "cell_type": "code",
   "execution_count": 24,
   "metadata": {
    "collapsed": false
   },
   "outputs": [
    {
     "data": {
      "text/plain": [
       "[u'drifting_gratings',\n",
       " u'natural_movie_one',\n",
       " u'natural_movie_three',\n",
       " u'spontaneous']"
      ]
     },
     "execution_count": 24,
     "metadata": {},
     "output_type": "execute_result"
    }
   ],
   "source": [
    "data_set.list_stimuli()"
   ]
  },
  {
   "cell_type": "markdown",
   "metadata": {},
   "source": [
    "<div style=\"border-left: 3px solid #000; padding: 1px; padding-left: 10px; background: #F0FAFF; \">\n",
    "<p>The stimulus table stores the timing information regarding stimulus conditions\n",
    "</div>"
   ]
  },
  {
   "cell_type": "markdown",
   "metadata": {},
   "source": [
    "<div style=\"background: #DFF0D8; border-radius: 3px; padding: 10px;\">\n",
    "<p>**Exercise 3.2:** Use a method of the data_set object to get the stimulus_table for drifting gratings.  (Use help to find the necessary arguments for the method.)  What kind of object is this?  How many stimulus conditions are there?  How many orientations?  How many temporal frequencies?  How many trials of each condition were shown?  How long was each presentation?  (Hint:  use boolean indexing.)\n",
    "\n",
    "<p><strong>Important hint</strong>: trial start and end times are in aquisition frames, which count each frame acquired by the two-photon microscope, not seconds.  This is the same index used for the fluorescence traces.\n",
    "</div>"
   ]
  },
  {
   "cell_type": "code",
   "execution_count": 431,
   "metadata": {
    "collapsed": false
   },
   "outputs": [],
   "source": [
    "stim_table = data_set.get_stimulus_table('drifting_gratings')"
   ]
  },
  {
   "cell_type": "code",
   "execution_count": 27,
   "metadata": {
    "collapsed": false
   },
   "outputs": [
    {
     "data": {
      "text/html": [
       "<div style=\"max-height:1000px;max-width:1500px;overflow:auto;\">\n",
       "<table border=\"1\" class=\"dataframe\">\n",
       "  <thead>\n",
       "    <tr style=\"text-align: right;\">\n",
       "      <th></th>\n",
       "      <th>temporal_frequency</th>\n",
       "      <th>orientation</th>\n",
       "      <th>blank_sweep</th>\n",
       "      <th>start</th>\n",
       "      <th>end</th>\n",
       "    </tr>\n",
       "  </thead>\n",
       "  <tbody>\n",
       "    <tr>\n",
       "      <th>0</th>\n",
       "      <td>2</td>\n",
       "      <td>90</td>\n",
       "      <td>0</td>\n",
       "      <td>737</td>\n",
       "      <td>796</td>\n",
       "    </tr>\n",
       "    <tr>\n",
       "      <th>1</th>\n",
       "      <td>4</td>\n",
       "      <td>270</td>\n",
       "      <td>0</td>\n",
       "      <td>827</td>\n",
       "      <td>887</td>\n",
       "    </tr>\n",
       "    <tr>\n",
       "      <th>2</th>\n",
       "      <td>1</td>\n",
       "      <td>315</td>\n",
       "      <td>0</td>\n",
       "      <td>918</td>\n",
       "      <td>977</td>\n",
       "    </tr>\n",
       "    <tr>\n",
       "      <th>3</th>\n",
       "      <td>NaN</td>\n",
       "      <td>NaN</td>\n",
       "      <td>1</td>\n",
       "      <td>1008</td>\n",
       "      <td>1068</td>\n",
       "    </tr>\n",
       "    <tr>\n",
       "      <th>4</th>\n",
       "      <td>8</td>\n",
       "      <td>270</td>\n",
       "      <td>0</td>\n",
       "      <td>1099</td>\n",
       "      <td>1158</td>\n",
       "    </tr>\n",
       "  </tbody>\n",
       "</table>\n",
       "</div>"
      ],
      "text/plain": [
       "   temporal_frequency  orientation  blank_sweep  start   end\n",
       "0                   2           90            0    737   796\n",
       "1                   4          270            0    827   887\n",
       "2                   1          315            0    918   977\n",
       "3                 NaN          NaN            1   1008  1068\n",
       "4                   8          270            0   1099  1158"
      ]
     },
     "execution_count": 27,
     "metadata": {},
     "output_type": "execute_result"
    }
   ],
   "source": [
    "stim_table.head()"
   ]
  },
  {
   "cell_type": "code",
   "execution_count": 459,
   "metadata": {
    "collapsed": false
   },
   "outputs": [
    {
     "name": "stdout",
     "output_type": "stream",
     "text": [
      "[   0.   45.   90.  135.  180.  225.  270.  315.   nan]\n",
      "[  1.   2.   4.   8.  15.  nan]\n"
     ]
    }
   ],
   "source": [
    "print np.sort(stim_table.orientation.unique())\n",
    "print np.sort(stim_table.temporal_frequency.unique())"
   ]
  },
  {
   "cell_type": "code",
   "execution_count": 461,
   "metadata": {
    "collapsed": false
   },
   "outputs": [
    {
     "name": "stdout",
     "output_type": "stream",
     "text": [
      "Number of trials:  15\n"
     ]
    }
   ],
   "source": [
    "print \"Number of trials: \", len(stim_table[(stim_table.orientation==0)&(stim_table.temporal_frequency==1)])"
   ]
  },
  {
   "cell_type": "markdown",
   "metadata": {},
   "source": [
    "<div style=\"background: #DFF0D8; border-radius: 3px; padding: 10px;\">\n",
    "<p>**Exercise 3.3:**> Plot the fluorescence trace for the cell in `cell_session_id` for a few trials using the start, end times of the trials.\n",
    "</div>"
   ]
  },
  {
   "cell_type": "code",
   "execution_count": 141,
   "metadata": {
    "collapsed": false
   },
   "outputs": [
    {
     "data": {
      "text/plain": [
       "[<matplotlib.lines.Line2D at 0x144068210>]"
      ]
     },
     "execution_count": 141,
     "metadata": {},
     "output_type": "execute_result"
    },
    {
     "data": {
      "image/png": "[encoded data removed]",
      "text/plain": [
       "<matplotlib.figure.Figure at 0x11bd7cd90>"
      ]
     },
     "metadata": {},
     "output_type": "display_data"
    }
   ],
   "source": [
    "plt.plot(traces[cell_index,stim_table.start[0]:stim_table.end[0]])"
   ]
  },
  {
   "cell_type": "markdown",
   "metadata": {},
   "source": [
    "<div style=\"background: #DFF0D8; border-radius: 3px; padding: 10px;\">\n",
    "<p>**Exercise 3.4:** Create a plot that shows when the drifting gratings were displayed.  (Hint:  avxspan is an axis object method that will fill in the background between two x positions.  See the following example.)\n",
    "</div>"
   ]
  },
  {
   "cell_type": "code",
   "execution_count": 26,
   "metadata": {
    "collapsed": false
   },
   "outputs": [
    {
     "data": {
      "text/plain": [
       "<matplotlib.patches.Polygon at 0x11a2adc50>"
      ]
     },
     "execution_count": 26,
     "metadata": {},
     "output_type": "execute_result"
    },
    {
     "data": {
      "image/png": "[encoded data removed]",
      "text/plain": [
       "<matplotlib.figure.Figure at 0x11a2ade10>"
      ]
     },
     "metadata": {},
     "output_type": "display_data"
    }
   ],
   "source": [
    "fig,ax = plt.subplots(1)\n",
    "\n",
    "t = np.linspace(0,2.0*np.pi,1000)\n",
    "ax.plot(t,np.cos(t))\n",
    "ax.axvspan(xmin=np.pi/4,xmax=7*np.pi/4,color='g',alpha=0.3)"
   ]
  },
  {
   "cell_type": "code",
   "execution_count": 142,
   "metadata": {
    "collapsed": false
   },
   "outputs": [
    {
     "data": {
      "image/png": "[encoded data removed]",
      "text/plain": [
       "<matplotlib.figure.Figure at 0x14d906e10>"
      ]
     },
     "metadata": {},
     "output_type": "display_data"
    }
   ],
   "source": [
    "plt.figure(figsize=(14,4))\n",
    "plt.plot(traces[cell_index,:])\n",
    "for i in range(len(stim_table)):\n",
    "    plt.axvspan(xmin=stim_table.start[i], xmax=stim_table.end[i], color='pink', alpha=0.3)"
   ]
  },
  {
   "cell_type": "markdown",
   "metadata": {},
   "source": [
    "<div style=\"border-left: 3px solid #000; padding: 1px; padding-left: 10px; background: #F0FAFF; \">\n",
    "<h2>Analysis</h2>\n",
    "\n",
    "\n",
    "<p>The analysis objects summarize this trial data and provide convenient DataFrame objects.  \n",
    "</div>"
   ]
  },
  {
   "cell_type": "markdown",
   "metadata": {},
   "source": [
    "<div style=\"background: #DFF0D8; border-radius: 3px; padding: 10px;\">\n",
    "<p>**Task 3.1:**  Import the `DriftingGratings` object and instatiate it with `data_set`.\n",
    "</div>"
   ]
  },
  {
   "cell_type": "code",
   "execution_count": 432,
   "metadata": {
    "collapsed": false
   },
   "outputs": [],
   "source": [
    "from allensdk.brain_observatory.drifting_gratings import DriftingGratings\n",
    "\n",
    "dg = DriftingGratings(data_set)"
   ]
  },
  {
   "cell_type": "markdown",
   "metadata": {},
   "source": [
    "<div style=\"border-left: 3px solid #000; padding: 1px; padding-left: 10px; background: #F0FAFF; \">\n",
    "\n",
    "<p>sweep_response is a DataFrame that contains the dF/F response of each cell during each stimulus trial. It shares its index with stim_table. Each cell contains a timeseries that extends from 1 second prior to the start of the trial to 1 second after the end of the trial. The sweep_response table is organized as cells (columns) for each sweep (rows)\n",
    "\n",
    "<p>mean_sweep_response provides the mean dF/F for each trial.\n",
    "</div>"
   ]
  },
  {
   "cell_type": "markdown",
   "metadata": {},
   "source": [
    "<div style=\"background: #DFF0D8; border-radius: 3px; padding: 10px;\">\n",
    "<p>**Exercise 3.5:** Get the sweep_response for this stimulus and data set.  What type of object is this?  What data does it contain?\n",
    "</div>"
   ]
  },
  {
   "cell_type": "code",
   "execution_count": 433,
   "metadata": {
    "collapsed": false
   },
   "outputs": [],
   "source": [
    "sweep_response = dg.sweep_response"
   ]
  },
  {
   "cell_type": "code",
   "execution_count": 38,
   "metadata": {
    "collapsed": false
   },
   "outputs": [
    {
     "data": {
      "text/plain": [
       "628"
      ]
     },
     "execution_count": 38,
     "metadata": {},
     "output_type": "execute_result"
    }
   ],
   "source": [
    "len(sweep_response)"
   ]
  },
  {
   "cell_type": "code",
   "execution_count": 462,
   "metadata": {
    "collapsed": false
   },
   "outputs": [
    {
     "data": {
      "text/plain": [
       "Index([u'0', u'1', u'2', u'3', u'4', u'5', u'6', u'7', u'8', u'9', u'10', u'11', u'12', u'13', u'14', u'15', u'16', u'17', u'18', u'19', u'20', u'21', u'22', u'23', u'24', u'25', u'26', u'27', u'28', u'29', u'30', u'31', u'32', u'33', u'34', u'35', u'36', u'37', u'38', u'39', u'40', u'41', u'42', u'43', u'44', u'45', u'46', u'47', u'48', u'49', u'50', u'51', u'52', u'53', u'54', u'55', u'56', u'57', u'58', u'59', u'60', u'61', u'62', u'63', u'64', u'65', u'66', u'67', u'68', u'69', u'70', u'71', u'72', u'73', u'74', u'75', u'76', u'77', u'78', u'79', u'80', u'81', u'82', u'83', u'84', u'85', u'86', u'87', u'88', u'89', u'90', u'91', u'92', u'93', u'94', u'95', u'96', u'97', u'98', u'99', ...], dtype='object')"
      ]
     },
     "execution_count": 462,
     "metadata": {},
     "output_type": "execute_result"
    }
   ],
   "source": [
    "sweep_response.keys()"
   ]
  },
  {
   "cell_type": "code",
   "execution_count": 463,
   "metadata": {
    "collapsed": false
   },
   "outputs": [
    {
     "data": {
      "text/plain": [
       "array([  1.5961051 ,  -4.78981733,   7.50977993,  -0.51077008,\n",
       "        -3.96284461,   7.02146292,  -0.90870261,   0.11534691,\n",
       "         0.34028292,  -2.54299045,   7.82727003,  -2.31848359,\n",
       "        -3.24655771,  -6.26680279,   8.48588943,   1.43049955,\n",
       "         2.19188929,   0.12130737,  -7.94899464,  -1.37603879,\n",
       "         1.59884691,   0.74139833,   3.62510681,   1.00502968,\n",
       "        -7.77492523,   2.36229897,  -2.80863047,   4.22143936,\n",
       "        -0.47944784,  -5.25932312, -10.88322449,   5.9956789 ,\n",
       "         7.83985853,   2.48599052,   3.58322859,   6.19802475,\n",
       "         6.51128292,   6.6678524 ,   8.24582577,   1.78357363,\n",
       "         1.58619881,  -1.49823427,  -4.45192432,  -2.46471763,\n",
       "         2.36594677,   1.95410252,   4.24854755,   4.54255342,\n",
       "         1.0653019 ,   0.78829527,   1.22108459,  -9.12970924,\n",
       "        -1.30612254,  -7.5830102 ,   3.83183956,   4.28364277,\n",
       "         9.74427414,  -4.04998064,  -0.95649958,  -0.53005219,\n",
       "        -4.6194973 ,  -2.74984241,   2.72119045,  -5.99396229,\n",
       "        -5.45079708,   3.10194492,   9.86565399,  -4.4230938 ,\n",
       "         1.08226538,  -8.3678484 ,  -5.06418943,  -0.89386106,\n",
       "        -4.69765091,  -9.10482979,  -5.08613014,  -7.09738731,\n",
       "        -1.20617151,  -3.94344926,  -7.83173466,  -7.60498047,\n",
       "         4.27720547,  -3.93892527,  -0.63439012,   5.30011654,\n",
       "         4.11230326,  -0.88382363,  -6.7235589 ,   5.07261753,\n",
       "        -7.0458231 ,   0.42783022,  -1.94677711,  -6.84024096,\n",
       "         1.61678791,   0.53488016,  -0.22966862,   1.00610256,\n",
       "        -4.57425117,  -3.14948559,  -3.27172279,  -8.90859413,\n",
       "        -1.22724175,  -6.38968945,  -8.53039646,   6.80375099,\n",
       "         1.96938515,   8.89955711,   1.3577342 ,  -2.59895325,\n",
       "         1.56489611,  -0.82493424,  -8.01867294,   4.66345549,\n",
       "         0.44103861,   4.03829813,  -5.84791279,  -3.66038084,\n",
       "        -2.77942419,  -5.55090904,  -3.43141556,  -5.97215891], dtype=float32)"
      ]
     },
     "execution_count": 463,
     "metadata": {},
     "output_type": "execute_result"
    }
   ],
   "source": [
    "sweep_response['0'].iloc[0]"
   ]
  },
  {
   "cell_type": "markdown",
   "metadata": {},
   "source": [
    "<div style=\"background: #DFF0D8; border-radius: 3px; padding: 10px;\">\n",
    "<p>**Exercise 3.6:** Get the mean_sweep_response for this stimulus and data set.  How does this object differ from sweep_response?\n",
    "</div>"
   ]
  },
  {
   "cell_type": "code",
   "execution_count": 434,
   "metadata": {
    "collapsed": true
   },
   "outputs": [],
   "source": [
    "mean_sweep_response = dg.mean_sweep_response"
   ]
  },
  {
   "cell_type": "code",
   "execution_count": 464,
   "metadata": {
    "collapsed": false
   },
   "outputs": [
    {
     "data": {
      "text/plain": [
       "-0.42185312509536743"
      ]
     },
     "execution_count": 464,
     "metadata": {},
     "output_type": "execute_result"
    }
   ],
   "source": [
    "mean_sweep_response['0'].iloc[0]"
   ]
  },
  {
   "cell_type": "markdown",
   "metadata": {},
   "source": [
    "<div style=\"background: #DFF0D8; border-radius: 3px; padding: 10px;\">\n",
    "<p>**Exercise 3.7:** Find the trials for a specific stimulus condition\n",
    "(ex: temporal_frequency = 2 and orientation = 90).  Use the stimulus table and boolean indexing.\n",
    "</div>"
   ]
  },
  {
   "cell_type": "code",
   "execution_count": 435,
   "metadata": {
    "collapsed": false
   },
   "outputs": [],
   "source": [
    "subset = sweep_response[(stim_table.orientation==ori)&(stim_table.temporal_frequency==tf)]"
   ]
  },
  {
   "cell_type": "markdown",
   "metadata": {},
   "source": [
    "<div style=\"background: #DFF0D8; border-radius: 3px; padding: 10px;\">\n",
    "<p>**Exercise 3.8:** Use the trials you've found and the sweep_response table to plot the response across trials.  (Extra credit for highlighting the interval over which the stimulus is 'on'.)\n",
    "</div>"
   ]
  },
  {
   "cell_type": "code",
   "execution_count": 436,
   "metadata": {
    "collapsed": false
   },
   "outputs": [
    {
     "data": {
      "text/plain": [
       "<matplotlib.patches.Polygon at 0x1279f8750>"
      ]
     },
     "execution_count": 436,
     "metadata": {},
     "output_type": "execute_result"
    },
    {
     "data": {
      "image/png": "[encoded data removed]",
      "text/plain": [
       "<matplotlib.figure.Figure at 0x12e228850>"
      ]
     },
     "metadata": {},
     "output_type": "display_data"
    }
   ],
   "source": [
    "timex = np.arange(-1*dg.interlength, dg.sweeplength+dg.interlength)\n",
    "plt.figure(figsize=(8,6))\n",
    "for i in range(len(subset)):\n",
    "    plt.plot(timex, subset[str(cell_index)].iloc[i])\n",
    "plt.axvspan(xmin=0,xmax=dg.sweeplength, color='pink', alpha=0.3)"
   ]
  },
  {
   "cell_type": "markdown",
   "metadata": {},
   "source": [
    "<div style=\"background: #DFF0D8; border-radius: 3px; padding: 10px;\">\n",
    "<p>**Exercise 3.9:**  Compute and plot the mean response over trials for the preferred condition for your selected cell.\n",
    "</div>"
   ]
  },
  {
   "cell_type": "code",
   "execution_count": 437,
   "metadata": {
    "collapsed": false
   },
   "outputs": [
    {
     "data": {
      "text/plain": [
       "<matplotlib.patches.Polygon at 0x1281d60d0>"
      ]
     },
     "execution_count": 437,
     "metadata": {},
     "output_type": "execute_result"
    },
    {
     "data": {
      "image/png": "[encoded data removed]",
      "text/plain": [
       "<matplotlib.figure.Figure at 0x1284cab90>"
      ]
     },
     "metadata": {},
     "output_type": "display_data"
    }
   ],
   "source": [
    "plt.plot(timex, subset[str(cell_index)].mean())\n",
    "plt.axvspan(xmin=0,xmax=dg.sweeplength, color='pink', alpha=0.3)"
   ]
  },
  {
   "cell_type": "markdown",
   "metadata": {},
   "source": [
    "<div style=\"background: #DFF0D8; border-radius: 3px; padding: 10px;\">\n",
    "<p>**Exercise 3.10:**  Repeat this process using `mean_sweep_response` in order to compute a single numerical value for the response to the preferred orientation and temporal frequency.\n",
    "</div>"
   ]
  },
  {
   "cell_type": "code",
   "execution_count": 342,
   "metadata": {
    "collapsed": true
   },
   "outputs": [],
   "source": [
    "subset_mean = mean_sweep_response[(stim_table.orientation==ori)&(stim_table.temporal_frequency==tf)]"
   ]
  },
  {
   "cell_type": "code",
   "execution_count": 343,
   "metadata": {
    "collapsed": false
   },
   "outputs": [
    {
     "data": {
      "text/plain": [
       "3.0847707705572249"
      ]
     },
     "execution_count": 343,
     "metadata": {},
     "output_type": "execute_result"
    }
   ],
   "source": [
    "subset_mean[str(cell_index)].mean()"
   ]
  },
  {
   "cell_type": "markdown",
   "metadata": {},
   "source": [
    "<div style=\"background: #DFF0D8; border-radius: 3px; padding: 10px;\">\n",
    "<p>**Exercise 3.11:**  Generate a matrix of response values over all direction and temporal frequency conditions by repeating the previous calculation for each condition.  Plot a heat map of the mean response across all stimulus conditions.  Plot direction and temporal frequency tuning curves by averaging over each.\n",
    "</div>"
   ]
  },
  {
   "cell_type": "code",
   "execution_count": 150,
   "metadata": {
    "collapsed": false
   },
   "outputs": [
    {
     "name": "stdout",
     "output_type": "stream",
     "text": [
      "[   0.   45.   90.  135.  180.  225.  270.  315.]\n",
      "[  1.   2.   4.   8.  15.]\n"
     ]
    }
   ],
   "source": [
    "ori_vals = np.sort(stim_table.orientation.dropna().unique())\n",
    "tf_vals = np.sort(stim_table.temporal_frequency.dropna().unique())\n",
    "print ori_vals\n",
    "print tf_vals"
   ]
  },
  {
   "cell_type": "code",
   "execution_count": 438,
   "metadata": {
    "collapsed": false
   },
   "outputs": [],
   "source": [
    "response = np.empty((len(ori_vals), len(tf_vals)))\n",
    "for i,oriv in enumerate(ori_vals):\n",
    "    for j,tfv in enumerate(tf_vals):\n",
    "        subset_mean =  mean_sweep_response[(stim_table.orientation==oriv)&(stim_table.temporal_frequency==tfv)]\n",
    "        response[i,j] = subset_mean[str(cell_index)].mean()"
   ]
  },
  {
   "cell_type": "code",
   "execution_count": 465,
   "metadata": {
    "collapsed": false
   },
   "outputs": [
    {
     "data": {
      "text/plain": [
       "([<matplotlib.axis.YTick at 0x113993f90>,\n",
       "  <matplotlib.axis.YTick at 0x126628a90>,\n",
       "  <matplotlib.axis.YTick at 0x142827650>,\n",
       "  <matplotlib.axis.YTick at 0x13cb6d650>,\n",
       "  <matplotlib.axis.YTick at 0x13cb6d290>,\n",
       "  <matplotlib.axis.YTick at 0x12cf41fd0>,\n",
       "  <matplotlib.axis.YTick at 0x12cf41450>,\n",
       "  <matplotlib.axis.YTick at 0x12cf46c50>],\n",
       " <a list of 8 Text yticklabel objects>)"
      ]
     },
     "execution_count": 465,
     "metadata": {},
     "output_type": "execute_result"
    },
    {
     "data": {
      "image/png": "[encoded data removed]",
      "text/plain": [
       "<matplotlib.figure.Figure at 0x142827690>"
      ]
     },
     "metadata": {},
     "output_type": "display_data"
    }
   ],
   "source": [
    "plt.imshow(response, cmap='gray', interpolation='none')\n",
    "plt.xlabel(\"Temporal frequency\")\n",
    "plt.ylabel(\"Orientation\")\n",
    "plt.xticks(range(5), tf_vals)\n",
    "plt.yticks(range(8), ori_vals)"
   ]
  },
  {
   "cell_type": "markdown",
   "metadata": {},
   "source": [
    "<div style=\"background: #DFF0D8; border-radius: 3px; padding: 10px;\">\n",
    "<p>**Task 3.2:**  The easy way!  We did this as a pedagogic exercise so that you could learn about the sdk and the data.  Should you need it, this matrix has been computed already and is available in the `response` attribute for `DriftingGratings`.\n",
    "</div>"
   ]
  },
  {
   "cell_type": "code",
   "execution_count": null,
   "metadata": {
    "collapsed": true
   },
   "outputs": [],
   "source": []
  },
  {
   "cell_type": "markdown",
   "metadata": {},
   "source": [
    "<div style=\"border-left: 3px solid #000; padding: 1px; padding-left: 10px; background: #F0FAFF; \">\n",
    "<h2>Other Stimulus Types</h2>\n",
    "</div>"
   ]
  },
  {
   "cell_type": "markdown",
   "metadata": {
    "collapsed": true
   },
   "source": [
    "<div style=\"background: #DFF0D8; border-radius: 3px; padding: 10px;\">\n",
    "<p>**Task 3.2:**  There are analysis objects for the other stimulus types.  You saw above that Session A contains responses for drifting gratings, natural movies, and spontaneous activity.  Instantiate the Natural Movie object and see what methods and attributes are available.\n",
    "</div>"
   ]
  },
  {
   "cell_type": "code",
   "execution_count": null,
   "metadata": {
    "collapsed": true
   },
   "outputs": [],
   "source": [
    "from allensdk.brain_observatory.natural_movie import NaturalMovie \n",
    "\n",
    "nm1 = NaturalMovie(data_set)  #how to pick which movie, check sdk"
   ]
  },
  {
   "cell_type": "markdown",
   "metadata": {},
   "source": [
    "<div style=\"background: #DFF0D8; border-radius: 3px; padding: 10px;\">\n",
    "<p>**Exercise 3.12:**  There are also objects for StaticGratings, NaturalScenes, and LocallySparseNoise.  For each of these, use what you've learned to find an experiment with each of these stimulus types, instantiate the analysis object, and explore the stimulus tables and available attributes.\n",
    "</div>"
   ]
  },
  {
   "cell_type": "code",
   "execution_count": 64,
   "metadata": {
    "collapsed": true
   },
   "outputs": [],
   "source": [
    "from allensdk.brain_observatory.static_gratings import StaticGratings\n",
    "from allensdk.brain_observatory.natural_scenes import NaturalScenes\n",
    "from allensdk.brain_observatory.locally_sparse_noise import LocallySparseNoise"
   ]
  },
  {
   "cell_type": "markdown",
   "metadata": {},
   "source": [
    "<div style=\"background: #DFF0D8; border-radius: 3px; padding: 10px;\">\n",
    "<p>**Exercise 3.13:**  Load the stimulus template for the LocallySparseNoise stimulus. Plot the first frame of the stimulus.\n",
    "</div>"
   ]
  },
  {
   "cell_type": "code",
   "execution_count": 65,
   "metadata": {
    "collapsed": true
   },
   "outputs": [],
   "source": [
    "session_id_C = expt_session_frame[expt_session_frame.session_type=='three_session_C'].id.values[0]\n",
    "data_set_C = boc.get_ophys_experiment_data(ophys_experiment_id = session_id_C)"
   ]
  },
  {
   "cell_type": "code",
   "execution_count": 66,
   "metadata": {
    "collapsed": true
   },
   "outputs": [],
   "source": [
    "lsn_template = data_set_C.get_stimulus_template('locally_sparse_noise')"
   ]
  },
  {
   "cell_type": "code",
   "execution_count": 67,
   "metadata": {
    "collapsed": false
   },
   "outputs": [
    {
     "data": {
      "text/plain": [
       "(9000, 16, 28)"
      ]
     },
     "execution_count": 67,
     "metadata": {},
     "output_type": "execute_result"
    }
   ],
   "source": [
    "lsn_template.shape"
   ]
  },
  {
   "cell_type": "code",
   "execution_count": 68,
   "metadata": {
    "collapsed": false
   },
   "outputs": [
    {
     "data": {
      "text/plain": [
       "<matplotlib.image.AxesImage at 0x1133e3c90>"
      ]
     },
     "execution_count": 68,
     "metadata": {},
     "output_type": "execute_result"
    },
    {
     "data": {
      "image/png": "[encoded data removed]",
      "text/plain": [
       "<matplotlib.figure.Figure at 0x113440510>"
      ]
     },
     "metadata": {},
     "output_type": "display_data"
    }
   ],
   "source": [
    "plt.imshow(lsn_template[0,:,:], cmap='gray', interpolation='none')"
   ]
  },
  {
   "cell_type": "markdown",
   "metadata": {},
   "source": [
    "<div style=\"background: #DFF0D8; border-radius: 3px; padding: 10px;\">\n",
    "<p>**Exercise 3.14:**  Find all of the frames with a white square located at x=0,y=0. How many frames are there?\n",
    "</div>"
   ]
  },
  {
   "cell_type": "code",
   "execution_count": 75,
   "metadata": {
    "collapsed": false
   },
   "outputs": [
    {
     "name": "stdout",
     "output_type": "stream",
     "text": [
      "96\n"
     ]
    }
   ],
   "source": [
    "frames = np.where(lsn_template[:,0,0]==255)[0]\n",
    "print len(frames)"
   ]
  },
  {
   "cell_type": "markdown",
   "metadata": {},
   "source": [
    "### Other Exercises or Homework"
   ]
  },
  {
   "cell_type": "markdown",
   "metadata": {},
   "source": [
    "<div style=\"background: #DFF0D8; border-radius: 3px; padding: 10px;\">\n",
    "<p>**Homework 1:**  Compute Receptive Fields for the ON and OFF responses using the Locally Sparse Noise stimulus.  (If you're having trouble, try testing your code on this cell_specimen_id:   )\n",
    "</div>"
   ]
  },
  {
   "cell_type": "markdown",
   "metadata": {},
   "source": [
    "<div style=\"background: #DFF0D8; border-radius: 3px; padding: 10px;\">\n",
    "<p>**Homework 2:**  Pick an image from the Natural Scenes. Find all of the cells from which this is the preferred image. Determine the spatial frequency tuning of those cells. Does it differ from the population as a whole? Does it differ across areas, Cre lines, layers?\n",
    "</div>"
   ]
  },
  {
   "cell_type": "markdown",
   "metadata": {},
   "source": [
    "<div style=\"border-left: 3px solid #000; padding: 1px; padding-left: 10px; background: #F0FAFF; \">\n",
    "<h2>Project Ideas</h2>\n",
    "\n",
    "<p>Here are some ideas to get you started in thinking about your projects.\n",
    "</div>"
   ]
  },
  {
   "cell_type": "markdown",
   "metadata": {},
   "source": [
    "<ol>\n",
    "<li> How do cells' responses differ across regions, layers, and Cre lines?  How best can these differences be captured?\n",
    "<li> What is the distribution of feature responses?  How does preferred orientation, say, vary across regions, layers, and Cre lines?\n",
    "<li> Do the responses to one type of stimulus allow us to predict the responses to a different type?  Are grating responses consistent with natural image responses?\n",
    "<li> Can you distinguish \"simple\" and \"complex\" cells in the dataset?  What is the right model or metric to use?\n",
    "<li> Characterize the cross correlations (both \"noise\" and \"signal\" correlations) in the data set.  Can you model this variability?  \n",
    "<li> Develop models of stimulus response that control for running speed or include temporal dynamics.\n",
    "<li> How well can you identify the stimulus category given the activity of a set of neurons within an experiment, i.e. can you \"decode\" the stimulus?  What is the best way to do this?  What features are necessary?  Can you identify cells that carry \"more\" information about stimuli?\n",
    "<li> What population metrics are useful for describing the data?  Can you model the population activity?\n",
    "<li> What is the best way to visualize the activity of many cells in an experiment?  Is there a useful dimensional reduction that can help you?\n",
    "</ol>"
   ]
  }
 ],
 "metadata": {
  "kernelspec": {
   "display_name": "Python 2",
   "language": "python",
   "name": "python2"
  },
  "language_info": {
   "codemirror_mode": {
    "name": "ipython",
    "version": 2
   },
   "file_extension": ".py",
   "mimetype": "text/x-python",
   "name": "python",
   "nbconvert_exporter": "python",
   "pygments_lexer": "ipython2",
   "version": "2.7.11"
  }
 },
 "nbformat": 4,
 "nbformat_minor": 0
}
