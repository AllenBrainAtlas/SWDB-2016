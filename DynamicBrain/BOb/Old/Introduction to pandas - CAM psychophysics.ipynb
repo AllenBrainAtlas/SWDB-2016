{
 "cells": [
  {
   "cell_type": "markdown",
   "metadata": {},
   "source": [
    "#Introduction to pandas - CAM psychophysics"
   ]
  },
  {
   "cell_type": "markdown",
   "metadata": {},
   "source": [
    "\n",
    "8/25/15 - Summer workshop on the dynamic brain <br>\n",
    "shawno@alleninstitute.org"
   ]
  },
  {
   "cell_type": "markdown",
   "metadata": {},
   "source": [
    "##Pandas:\n",
    "* Library with high-level data structures and manipulation tools:\n",
    "    * Load/save data\n",
    "    * Interactively explore data sets\n",
    "    * Select, filter tabular data\n",
    "    * Compute summary statistics\n",
    "    * Plotting and visualization\n",
    "    * Groupby\n",
    "\n",
    "##DataFrame object:\n",
    "\n",
    "* Represents tabular, spreadsheet-like data structure\n",
    "* Ordered collection of columns\n",
    "* Each column can be a different value type (numeric, string, boolean, etc.)\n"
   ]
  },
  {
   "cell_type": "markdown",
   "metadata": {},
   "source": [
    "##Imports"
   ]
  },
  {
   "cell_type": "code",
   "execution_count": 1,
   "metadata": {
    "collapsed": true
   },
   "outputs": [],
   "source": [
    "# Convention for import naming\n",
    "import pandas as pd"
   ]
  },
  {
   "cell_type": "code",
   "execution_count": 2,
   "metadata": {
    "collapsed": true
   },
   "outputs": [],
   "source": [
    "# Format DataFrame display properties\n",
    "pd.set_option('display.max_rows', 30)\n",
    "pd.set_option('display.max_columns', 500)\n",
    "pd.set_option('display.notebook_repr_html',True)"
   ]
  },
  {
   "cell_type": "code",
   "execution_count": 3,
   "metadata": {
    "collapsed": false
   },
   "outputs": [],
   "source": [
    "import numpy as np\n",
    "import matplotlib.pyplot as plt\n",
    "%matplotlib inline"
   ]
  },
  {
   "cell_type": "markdown",
   "metadata": {},
   "source": [
    "##Loading data\n",
    "There are a large number of methods for reading various data formats"
   ]
  },
  {
   "cell_type": "code",
   "execution_count": 6,
   "metadata": {
    "collapsed": false
   },
   "outputs": [
    {
     "data": {
      "text/plain": [
       "['read_clipboard',\n",
       " 'read_csv',\n",
       " 'read_excel',\n",
       " 'read_fwf',\n",
       " 'read_gbq',\n",
       " 'read_hdf',\n",
       " 'read_html',\n",
       " 'read_json',\n",
       " 'read_msgpack',\n",
       " 'read_pickle',\n",
       " 'read_sql',\n",
       " 'read_sql_query',\n",
       " 'read_sql_table',\n",
       " 'read_stata',\n",
       " 'read_table']"
      ]
     },
     "execution_count": 6,
     "metadata": {},
     "output_type": "execute_result"
    }
   ],
   "source": [
    "read_methods = [x for x in dir(pd) if 'read' in x]\n",
    "read_methods"
   ]
  },
  {
   "cell_type": "markdown",
   "metadata": {},
   "source": [
    "##Load DataFrame from .pkl file"
   ]
  },
  {
   "cell_type": "code",
   "execution_count": 7,
   "metadata": {
    "collapsed": false
   },
   "outputs": [],
   "source": [
    "file_name = r'cam_psychophysics.pkl'\n",
    "df = pd.read_pickle(file_name)"
   ]
  },
  {
   "cell_type": "markdown",
   "metadata": {},
   "source": [
    "###Use head() and tail() methods to take quick look at data structure"
   ]
  },
  {
   "cell_type": "code",
   "execution_count": 8,
   "metadata": {
    "collapsed": false
   },
   "outputs": [
    {
     "data": {
      "text/html": [
       "<div>\n",
       "<table border=\"1\" class=\"dataframe\">\n",
       "  <thead>\n",
       "    <tr style=\"text-align: right;\">\n",
       "      <th></th>\n",
       "      <th>trial</th>\n",
       "      <th>contrast</th>\n",
       "      <th>ori</th>\n",
       "      <th>sf</th>\n",
       "      <th>trial_start_time</th>\n",
       "      <th>reaction_time</th>\n",
       "      <th>behavioral_choice</th>\n",
       "      <th>cell_1</th>\n",
       "      <th>cell_2</th>\n",
       "      <th>cell_3</th>\n",
       "    </tr>\n",
       "  </thead>\n",
       "  <tbody>\n",
       "    <tr>\n",
       "      <th>0</th>\n",
       "      <td>1</td>\n",
       "      <td>0.154016</td>\n",
       "      <td>0</td>\n",
       "      <td>0.08</td>\n",
       "      <td>0.0000</td>\n",
       "      <td>NaN</td>\n",
       "      <td>False</td>\n",
       "      <td>2.963491</td>\n",
       "      <td>0.527927</td>\n",
       "      <td>48.264495</td>\n",
       "    </tr>\n",
       "    <tr>\n",
       "      <th>1</th>\n",
       "      <td>2</td>\n",
       "      <td>0.000000</td>\n",
       "      <td>0</td>\n",
       "      <td>0.08</td>\n",
       "      <td>10.5132</td>\n",
       "      <td>NaN</td>\n",
       "      <td>False</td>\n",
       "      <td>0.694963</td>\n",
       "      <td>14.859777</td>\n",
       "      <td>-1.813913</td>\n",
       "    </tr>\n",
       "    <tr>\n",
       "      <th>2</th>\n",
       "      <td>3</td>\n",
       "      <td>0.110599</td>\n",
       "      <td>0</td>\n",
       "      <td>0.08</td>\n",
       "      <td>21.6051</td>\n",
       "      <td>0.5007</td>\n",
       "      <td>True</td>\n",
       "      <td>39.441033</td>\n",
       "      <td>33.849090</td>\n",
       "      <td>4.552901</td>\n",
       "    </tr>\n",
       "    <tr>\n",
       "      <th>3</th>\n",
       "      <td>4</td>\n",
       "      <td>1.000000</td>\n",
       "      <td>0</td>\n",
       "      <td>0.08</td>\n",
       "      <td>44.0905</td>\n",
       "      <td>0.6683</td>\n",
       "      <td>True</td>\n",
       "      <td>161.265780</td>\n",
       "      <td>65.791733</td>\n",
       "      <td>24.354897</td>\n",
       "    </tr>\n",
       "    <tr>\n",
       "      <th>4</th>\n",
       "      <td>5</td>\n",
       "      <td>0.065776</td>\n",
       "      <td>0</td>\n",
       "      <td>0.08</td>\n",
       "      <td>57.8520</td>\n",
       "      <td>NaN</td>\n",
       "      <td>False</td>\n",
       "      <td>2.211847</td>\n",
       "      <td>-4.142675</td>\n",
       "      <td>3.766877</td>\n",
       "    </tr>\n",
       "  </tbody>\n",
       "</table>\n",
       "</div>"
      ],
      "text/plain": [
       "   trial  contrast  ori    sf  trial_start_time  reaction_time  \\\n",
       "0      1  0.154016    0  0.08            0.0000            NaN   \n",
       "1      2  0.000000    0  0.08           10.5132            NaN   \n",
       "2      3  0.110599    0  0.08           21.6051         0.5007   \n",
       "3      4  1.000000    0  0.08           44.0905         0.6683   \n",
       "4      5  0.065776    0  0.08           57.8520            NaN   \n",
       "\n",
       "  behavioral_choice      cell_1     cell_2     cell_3  \n",
       "0             False    2.963491   0.527927  48.264495  \n",
       "1             False    0.694963  14.859777  -1.813913  \n",
       "2              True   39.441033  33.849090   4.552901  \n",
       "3              True  161.265780  65.791733  24.354897  \n",
       "4             False    2.211847  -4.142675   3.766877  "
      ]
     },
     "execution_count": 8,
     "metadata": {},
     "output_type": "execute_result"
    }
   ],
   "source": [
    "df.head()"
   ]
  },
  {
   "cell_type": "code",
   "execution_count": 9,
   "metadata": {
    "collapsed": false
   },
   "outputs": [
    {
     "data": {
      "text/html": [
       "<div>\n",
       "<table border=\"1\" class=\"dataframe\">\n",
       "  <thead>\n",
       "    <tr style=\"text-align: right;\">\n",
       "      <th></th>\n",
       "      <th>trial</th>\n",
       "      <th>contrast</th>\n",
       "      <th>ori</th>\n",
       "      <th>sf</th>\n",
       "      <th>trial_start_time</th>\n",
       "      <th>reaction_time</th>\n",
       "      <th>behavioral_choice</th>\n",
       "      <th>cell_1</th>\n",
       "      <th>cell_2</th>\n",
       "      <th>cell_3</th>\n",
       "    </tr>\n",
       "  </thead>\n",
       "  <tbody>\n",
       "    <tr>\n",
       "      <th>273</th>\n",
       "      <td>274</td>\n",
       "      <td>0.154016</td>\n",
       "      <td>0</td>\n",
       "      <td>0.08</td>\n",
       "      <td>2704.8105</td>\n",
       "      <td>0.5664</td>\n",
       "      <td>True</td>\n",
       "      <td>1.161886</td>\n",
       "      <td>1.296190</td>\n",
       "      <td>-0.889249</td>\n",
       "    </tr>\n",
       "    <tr>\n",
       "      <th>274</th>\n",
       "      <td>275</td>\n",
       "      <td>0.110599</td>\n",
       "      <td>0</td>\n",
       "      <td>0.08</td>\n",
       "      <td>2715.8854</td>\n",
       "      <td>0.4669</td>\n",
       "      <td>True</td>\n",
       "      <td>0.761951</td>\n",
       "      <td>-0.110314</td>\n",
       "      <td>-0.021039</td>\n",
       "    </tr>\n",
       "    <tr>\n",
       "      <th>275</th>\n",
       "      <td>276</td>\n",
       "      <td>0.000000</td>\n",
       "      <td>0</td>\n",
       "      <td>0.08</td>\n",
       "      <td>2721.9734</td>\n",
       "      <td>NaN</td>\n",
       "      <td>False</td>\n",
       "      <td>-0.775457</td>\n",
       "      <td>-0.811356</td>\n",
       "      <td>-0.419071</td>\n",
       "    </tr>\n",
       "    <tr>\n",
       "      <th>276</th>\n",
       "      <td>277</td>\n",
       "      <td>1.000000</td>\n",
       "      <td>0</td>\n",
       "      <td>0.08</td>\n",
       "      <td>2729.8308</td>\n",
       "      <td>0.5499</td>\n",
       "      <td>True</td>\n",
       "      <td>19.334407</td>\n",
       "      <td>15.026411</td>\n",
       "      <td>3.668632</td>\n",
       "    </tr>\n",
       "    <tr>\n",
       "      <th>277</th>\n",
       "      <td>278</td>\n",
       "      <td>0.154016</td>\n",
       "      <td>0</td>\n",
       "      <td>0.08</td>\n",
       "      <td>2737.1862</td>\n",
       "      <td>0.4337</td>\n",
       "      <td>True</td>\n",
       "      <td>NaN</td>\n",
       "      <td>NaN</td>\n",
       "      <td>NaN</td>\n",
       "    </tr>\n",
       "  </tbody>\n",
       "</table>\n",
       "</div>"
      ],
      "text/plain": [
       "     trial  contrast  ori    sf  trial_start_time  reaction_time  \\\n",
       "273    274  0.154016    0  0.08         2704.8105         0.5664   \n",
       "274    275  0.110599    0  0.08         2715.8854         0.4669   \n",
       "275    276  0.000000    0  0.08         2721.9734            NaN   \n",
       "276    277  1.000000    0  0.08         2729.8308         0.5499   \n",
       "277    278  0.154016    0  0.08         2737.1862         0.4337   \n",
       "\n",
       "    behavioral_choice     cell_1     cell_2    cell_3  \n",
       "273              True   1.161886   1.296190 -0.889249  \n",
       "274              True   0.761951  -0.110314 -0.021039  \n",
       "275             False  -0.775457  -0.811356 -0.419071  \n",
       "276              True  19.334407  15.026411  3.668632  \n",
       "277              True        NaN        NaN       NaN  "
      ]
     },
     "execution_count": 9,
     "metadata": {},
     "output_type": "execute_result"
    }
   ],
   "source": [
    "df.tail()"
   ]
  },
  {
   "cell_type": "markdown",
   "metadata": {},
   "source": [
    "###Many familiar functions/methods work with DataFrames (e.g. len(), .keys(), .shape()...)"
   ]
  },
  {
   "cell_type": "code",
   "execution_count": 10,
   "metadata": {
    "collapsed": false
   },
   "outputs": [
    {
     "data": {
      "text/plain": [
       "278"
      ]
     },
     "execution_count": 10,
     "metadata": {},
     "output_type": "execute_result"
    }
   ],
   "source": [
    "len(df)"
   ]
  },
  {
   "cell_type": "code",
   "execution_count": 11,
   "metadata": {
    "collapsed": false
   },
   "outputs": [
    {
     "name": "stdout",
     "output_type": "stream",
     "text": [
      "# of trials = 278\n"
     ]
    }
   ],
   "source": [
    "print '# of trials = %s' %len(df)"
   ]
  },
  {
   "cell_type": "code",
   "execution_count": 12,
   "metadata": {
    "collapsed": false
   },
   "outputs": [
    {
     "data": {
      "text/plain": [
       "(278, 10)"
      ]
     },
     "execution_count": 12,
     "metadata": {},
     "output_type": "execute_result"
    }
   ],
   "source": [
    "df.shape"
   ]
  },
  {
   "cell_type": "code",
   "execution_count": 13,
   "metadata": {
    "collapsed": false
   },
   "outputs": [
    {
     "name": "stdout",
     "output_type": "stream",
     "text": [
      "Index([u'trial', u'contrast', u'ori', u'sf', u'trial_start_time',\n",
      "       u'reaction_time', u'behavioral_choice', u'cell_1', u'cell_2',\n",
      "       u'cell_3'],\n",
      "      dtype='object')\n"
     ]
    }
   ],
   "source": [
    "keys = df.keys()\n",
    "print keys"
   ]
  },
  {
   "cell_type": "code",
   "execution_count": 14,
   "metadata": {
    "collapsed": false
   },
   "outputs": [
    {
     "name": "stdout",
     "output_type": "stream",
     "text": [
      "Index([u'trial', u'contrast', u'ori', u'sf', u'trial_start_time',\n",
      "       u'reaction_time', u'behavioral_choice', u'cell_1', u'cell_2',\n",
      "       u'cell_3'],\n",
      "      dtype='object')\n"
     ]
    }
   ],
   "source": [
    "columns = df.columns\n",
    "print columns"
   ]
  },
  {
   "cell_type": "code",
   "execution_count": 15,
   "metadata": {
    "collapsed": false
   },
   "outputs": [
    {
     "data": {
      "text/plain": [
       "True"
      ]
     },
     "execution_count": 15,
     "metadata": {},
     "output_type": "execute_result"
    }
   ],
   "source": [
    "columns is keys"
   ]
  },
  {
   "cell_type": "markdown",
   "metadata": {},
   "source": [
    "##Selecting columns"
   ]
  },
  {
   "cell_type": "markdown",
   "metadata": {},
   "source": [
    "###Retrieve column based on column name"
   ]
  },
  {
   "cell_type": "code",
   "execution_count": 16,
   "metadata": {
    "collapsed": false
   },
   "outputs": [
    {
     "data": {
      "text/plain": [
       "0    0.154016\n",
       "1    0.000000\n",
       "2    0.110599\n",
       "3    1.000000\n",
       "4    0.065776\n",
       "5    0.154016\n",
       "6    0.000000\n",
       "7    0.065776\n",
       "8    1.000000\n",
       "9    1.000000\n",
       "Name: contrast, dtype: float64"
      ]
     },
     "execution_count": 16,
     "metadata": {},
     "output_type": "execute_result"
    }
   ],
   "source": [
    "# Return Series\n",
    "contrast = df['contrast']\n",
    "contrast.head(10)"
   ]
  },
  {
   "cell_type": "code",
   "execution_count": 17,
   "metadata": {
    "collapsed": false
   },
   "outputs": [
    {
     "data": {
      "text/plain": [
       "array([ 0.15401601,  0.        ,  0.11059908,  1.        ,  0.06577578,\n",
       "        0.15401601,  0.        ,  0.06577578,  1.        ,  1.        ])"
      ]
     },
     "execution_count": 17,
     "metadata": {},
     "output_type": "execute_result"
    }
   ],
   "source": [
    "# Return numpy ndarray\n",
    "contrast_array = df['contrast'].values\n",
    "contrast_array[:10]"
   ]
  },
  {
   "cell_type": "markdown",
   "metadata": {},
   "source": [
    "###Inspect data by making a plot"
   ]
  },
  {
   "cell_type": "code",
   "execution_count": 18,
   "metadata": {
    "collapsed": false
   },
   "outputs": [
    {
     "data": {
      "text/plain": [
       "<matplotlib.axes._subplots.AxesSubplot at 0x1074ea750>"
      ]
     },
     "execution_count": 18,
     "metadata": {},
     "output_type": "execute_result"
    },
    {
     "data": {
      "image/png": "[encoded data removed]",
      "text/plain": [
       "<matplotlib.figure.Figure at 0x1074eae50>"
      ]
     },
     "metadata": {},
     "output_type": "display_data"
    }
   ],
   "source": [
    "df.contrast.plot()"
   ]
  },
  {
   "cell_type": "code",
   "execution_count": 20,
   "metadata": {
    "collapsed": false
   },
   "outputs": [
    {
     "data": {
      "text/plain": [
       "(-0.4, 1.4)"
      ]
     },
     "execution_count": 20,
     "metadata": {},
     "output_type": "execute_result"
    },
    {
     "data": {
      "image/png": "[encoded data removed]",
      "text/plain": [
       "<matplotlib.figure.Figure at 0x107976590>"
      ]
     },
     "metadata": {},
     "output_type": "display_data"
    }
   ],
   "source": [
    "df.contrast.plot(x='trial',marker='o',alpha=0.7,linestyle='none')\n",
    "\n",
    "# Format plot\n",
    "plt.gcf().set_size_inches(16,3)\n",
    "plt.ylabel('Contrast',fontsize=15)\n",
    "plt.xlabel('Trial',fontsize=15)\n",
    "plt.ylim(-0.4,1.4)"
   ]
  },
  {
   "cell_type": "markdown",
   "metadata": {},
   "source": [
    "###Select multiple columns"
   ]
  },
  {
   "cell_type": "code",
   "execution_count": 21,
   "metadata": {
    "collapsed": false
   },
   "outputs": [],
   "source": [
    "df_tmp = df[['ori','sf']]"
   ]
  },
  {
   "cell_type": "code",
   "execution_count": 22,
   "metadata": {
    "collapsed": false
   },
   "outputs": [],
   "source": [
    "# Use copy to get new DataFrame object instead of a 'view' on existing object\n",
    "df_tmp = df[['ori','sf']].copy()"
   ]
  },
  {
   "cell_type": "code",
   "execution_count": 23,
   "metadata": {
    "collapsed": false
   },
   "outputs": [
    {
     "data": {
      "text/html": [
       "<div>\n",
       "<table border=\"1\" class=\"dataframe\">\n",
       "  <thead>\n",
       "    <tr style=\"text-align: right;\">\n",
       "      <th></th>\n",
       "      <th>ori</th>\n",
       "      <th>sf</th>\n",
       "    </tr>\n",
       "  </thead>\n",
       "  <tbody>\n",
       "    <tr>\n",
       "      <th>0</th>\n",
       "      <td>0</td>\n",
       "      <td>0.08</td>\n",
       "    </tr>\n",
       "    <tr>\n",
       "      <th>1</th>\n",
       "      <td>0</td>\n",
       "      <td>0.08</td>\n",
       "    </tr>\n",
       "    <tr>\n",
       "      <th>2</th>\n",
       "      <td>0</td>\n",
       "      <td>0.08</td>\n",
       "    </tr>\n",
       "    <tr>\n",
       "      <th>3</th>\n",
       "      <td>0</td>\n",
       "      <td>0.08</td>\n",
       "    </tr>\n",
       "    <tr>\n",
       "      <th>4</th>\n",
       "      <td>0</td>\n",
       "      <td>0.08</td>\n",
       "    </tr>\n",
       "    <tr>\n",
       "      <th>5</th>\n",
       "      <td>0</td>\n",
       "      <td>0.08</td>\n",
       "    </tr>\n",
       "    <tr>\n",
       "      <th>6</th>\n",
       "      <td>0</td>\n",
       "      <td>0.08</td>\n",
       "    </tr>\n",
       "    <tr>\n",
       "      <th>7</th>\n",
       "      <td>0</td>\n",
       "      <td>0.08</td>\n",
       "    </tr>\n",
       "    <tr>\n",
       "      <th>8</th>\n",
       "      <td>0</td>\n",
       "      <td>0.08</td>\n",
       "    </tr>\n",
       "    <tr>\n",
       "      <th>9</th>\n",
       "      <td>0</td>\n",
       "      <td>0.08</td>\n",
       "    </tr>\n",
       "  </tbody>\n",
       "</table>\n",
       "</div>"
      ],
      "text/plain": [
       "   ori    sf\n",
       "0    0  0.08\n",
       "1    0  0.08\n",
       "2    0  0.08\n",
       "3    0  0.08\n",
       "4    0  0.08\n",
       "5    0  0.08\n",
       "6    0  0.08\n",
       "7    0  0.08\n",
       "8    0  0.08\n",
       "9    0  0.08"
      ]
     },
     "execution_count": 23,
     "metadata": {},
     "output_type": "execute_result"
    }
   ],
   "source": [
    "df_tmp.head(10)"
   ]
  },
  {
   "cell_type": "code",
   "execution_count": 24,
   "metadata": {
    "collapsed": false
   },
   "outputs": [
    {
     "name": "stdout",
     "output_type": "stream",
     "text": [
      "[0]\n",
      "[ 0.08]\n"
     ]
    }
   ],
   "source": [
    "print df_tmp.ori.unique()\n",
    "print df_tmp.sf.unique()"
   ]
  },
  {
   "cell_type": "markdown",
   "metadata": {},
   "source": [
    "##Adding, deleting columns"
   ]
  },
  {
   "cell_type": "markdown",
   "metadata": {},
   "source": [
    "###Delete column"
   ]
  },
  {
   "cell_type": "code",
   "execution_count": 25,
   "metadata": {
    "collapsed": false
   },
   "outputs": [
    {
     "data": {
      "text/html": [
       "<div>\n",
       "<table border=\"1\" class=\"dataframe\">\n",
       "  <thead>\n",
       "    <tr style=\"text-align: right;\">\n",
       "      <th></th>\n",
       "      <th>trial</th>\n",
       "      <th>contrast</th>\n",
       "      <th>trial_start_time</th>\n",
       "      <th>reaction_time</th>\n",
       "      <th>behavioral_choice</th>\n",
       "      <th>cell_1</th>\n",
       "      <th>cell_2</th>\n",
       "      <th>cell_3</th>\n",
       "    </tr>\n",
       "  </thead>\n",
       "  <tbody>\n",
       "    <tr>\n",
       "      <th>0</th>\n",
       "      <td>1</td>\n",
       "      <td>0.154016</td>\n",
       "      <td>0.0000</td>\n",
       "      <td>NaN</td>\n",
       "      <td>False</td>\n",
       "      <td>2.963491</td>\n",
       "      <td>0.527927</td>\n",
       "      <td>48.264495</td>\n",
       "    </tr>\n",
       "    <tr>\n",
       "      <th>1</th>\n",
       "      <td>2</td>\n",
       "      <td>0.000000</td>\n",
       "      <td>10.5132</td>\n",
       "      <td>NaN</td>\n",
       "      <td>False</td>\n",
       "      <td>0.694963</td>\n",
       "      <td>14.859777</td>\n",
       "      <td>-1.813913</td>\n",
       "    </tr>\n",
       "    <tr>\n",
       "      <th>2</th>\n",
       "      <td>3</td>\n",
       "      <td>0.110599</td>\n",
       "      <td>21.6051</td>\n",
       "      <td>0.5007</td>\n",
       "      <td>True</td>\n",
       "      <td>39.441033</td>\n",
       "      <td>33.849090</td>\n",
       "      <td>4.552901</td>\n",
       "    </tr>\n",
       "  </tbody>\n",
       "</table>\n",
       "</div>"
      ],
      "text/plain": [
       "   trial  contrast  trial_start_time  reaction_time behavioral_choice  \\\n",
       "0      1  0.154016            0.0000            NaN             False   \n",
       "1      2  0.000000           10.5132            NaN             False   \n",
       "2      3  0.110599           21.6051         0.5007              True   \n",
       "\n",
       "      cell_1     cell_2     cell_3  \n",
       "0   2.963491   0.527927  48.264495  \n",
       "1   0.694963  14.859777  -1.813913  \n",
       "2  39.441033  33.849090   4.552901  "
      ]
     },
     "execution_count": 25,
     "metadata": {},
     "output_type": "execute_result"
    }
   ],
   "source": [
    "df.drop(['ori','sf'],axis=1,inplace=True)\n",
    "df.head(3)"
   ]
  },
  {
   "cell_type": "markdown",
   "metadata": {},
   "source": [
    "###Add new column"
   ]
  },
  {
   "cell_type": "code",
   "execution_count": 26,
   "metadata": {
    "collapsed": false
   },
   "outputs": [
    {
     "data": {
      "text/html": [
       "<div>\n",
       "<table border=\"1\" class=\"dataframe\">\n",
       "  <thead>\n",
       "    <tr style=\"text-align: right;\">\n",
       "      <th></th>\n",
       "      <th>trial</th>\n",
       "      <th>contrast</th>\n",
       "      <th>trial_start_time</th>\n",
       "      <th>reaction_time</th>\n",
       "      <th>behavioral_choice</th>\n",
       "      <th>cell_1</th>\n",
       "      <th>cell_2</th>\n",
       "      <th>cell_3</th>\n",
       "    </tr>\n",
       "  </thead>\n",
       "  <tbody>\n",
       "    <tr>\n",
       "      <th>0</th>\n",
       "      <td>1</td>\n",
       "      <td>0.154016</td>\n",
       "      <td>0.0000</td>\n",
       "      <td>NaN</td>\n",
       "      <td>False</td>\n",
       "      <td>2.963491</td>\n",
       "      <td>0.527927</td>\n",
       "      <td>48.264495</td>\n",
       "    </tr>\n",
       "    <tr>\n",
       "      <th>1</th>\n",
       "      <td>2</td>\n",
       "      <td>0.000000</td>\n",
       "      <td>10.5132</td>\n",
       "      <td>NaN</td>\n",
       "      <td>False</td>\n",
       "      <td>0.694963</td>\n",
       "      <td>14.859777</td>\n",
       "      <td>-1.813913</td>\n",
       "    </tr>\n",
       "  </tbody>\n",
       "</table>\n",
       "</div>"
      ],
      "text/plain": [
       "   trial  contrast  trial_start_time  reaction_time behavioral_choice  \\\n",
       "0      1  0.154016            0.0000            NaN             False   \n",
       "1      2  0.000000           10.5132            NaN             False   \n",
       "\n",
       "     cell_1     cell_2     cell_3  \n",
       "0  2.963491   0.527927  48.264495  \n",
       "1  0.694963  14.859777  -1.813913  "
      ]
     },
     "execution_count": 26,
     "metadata": {},
     "output_type": "execute_result"
    }
   ],
   "source": [
    "df.head(2)"
   ]
  },
  {
   "cell_type": "code",
   "execution_count": 27,
   "metadata": {
    "collapsed": false
   },
   "outputs": [
    {
     "data": {
      "text/plain": [
       "0    False\n",
       "1     True\n",
       "2    False\n",
       "3    False\n",
       "4    False\n",
       "Name: contrast, dtype: bool"
      ]
     },
     "execution_count": 27,
     "metadata": {},
     "output_type": "execute_result"
    }
   ],
   "source": [
    "new_column = df.contrast == 0\n",
    "new_column.head()"
   ]
  },
  {
   "cell_type": "code",
   "execution_count": 28,
   "metadata": {
    "collapsed": false
   },
   "outputs": [],
   "source": [
    "# Add new column\n",
    "df['blank_trial'] = new_column"
   ]
  },
  {
   "cell_type": "code",
   "execution_count": 29,
   "metadata": {
    "collapsed": false
   },
   "outputs": [
    {
     "data": {
      "text/html": [
       "<div>\n",
       "<table border=\"1\" class=\"dataframe\">\n",
       "  <thead>\n",
       "    <tr style=\"text-align: right;\">\n",
       "      <th></th>\n",
       "      <th>trial</th>\n",
       "      <th>contrast</th>\n",
       "      <th>trial_start_time</th>\n",
       "      <th>reaction_time</th>\n",
       "      <th>behavioral_choice</th>\n",
       "      <th>cell_1</th>\n",
       "      <th>cell_2</th>\n",
       "      <th>cell_3</th>\n",
       "      <th>blank_trial</th>\n",
       "    </tr>\n",
       "  </thead>\n",
       "  <tbody>\n",
       "    <tr>\n",
       "      <th>0</th>\n",
       "      <td>1</td>\n",
       "      <td>0.154016</td>\n",
       "      <td>0.0000</td>\n",
       "      <td>NaN</td>\n",
       "      <td>False</td>\n",
       "      <td>2.963491</td>\n",
       "      <td>0.527927</td>\n",
       "      <td>48.264495</td>\n",
       "      <td>False</td>\n",
       "    </tr>\n",
       "    <tr>\n",
       "      <th>1</th>\n",
       "      <td>2</td>\n",
       "      <td>0.000000</td>\n",
       "      <td>10.5132</td>\n",
       "      <td>NaN</td>\n",
       "      <td>False</td>\n",
       "      <td>0.694963</td>\n",
       "      <td>14.859777</td>\n",
       "      <td>-1.813913</td>\n",
       "      <td>True</td>\n",
       "    </tr>\n",
       "  </tbody>\n",
       "</table>\n",
       "</div>"
      ],
      "text/plain": [
       "   trial  contrast  trial_start_time  reaction_time behavioral_choice  \\\n",
       "0      1  0.154016            0.0000            NaN             False   \n",
       "1      2  0.000000           10.5132            NaN             False   \n",
       "\n",
       "     cell_1     cell_2     cell_3 blank_trial  \n",
       "0  2.963491   0.527927  48.264495       False  \n",
       "1  0.694963  14.859777  -1.813913        True  "
      ]
     },
     "execution_count": 29,
     "metadata": {},
     "output_type": "execute_result"
    }
   ],
   "source": [
    "df.head(2)"
   ]
  },
  {
   "cell_type": "markdown",
   "metadata": {},
   "source": [
    "##Selecting rows and filtering"
   ]
  },
  {
   "cell_type": "markdown",
   "metadata": {},
   "source": [
    "###Slice rows"
   ]
  },
  {
   "cell_type": "code",
   "execution_count": 30,
   "metadata": {
    "collapsed": false
   },
   "outputs": [
    {
     "data": {
      "text/html": [
       "<div>\n",
       "<table border=\"1\" class=\"dataframe\">\n",
       "  <thead>\n",
       "    <tr style=\"text-align: right;\">\n",
       "      <th></th>\n",
       "      <th>trial</th>\n",
       "      <th>contrast</th>\n",
       "      <th>trial_start_time</th>\n",
       "      <th>reaction_time</th>\n",
       "      <th>behavioral_choice</th>\n",
       "      <th>cell_1</th>\n",
       "      <th>cell_2</th>\n",
       "      <th>cell_3</th>\n",
       "      <th>blank_trial</th>\n",
       "    </tr>\n",
       "  </thead>\n",
       "  <tbody>\n",
       "    <tr>\n",
       "      <th>50</th>\n",
       "      <td>51</td>\n",
       "      <td>0.154016</td>\n",
       "      <td>683.6033</td>\n",
       "      <td>0.5167</td>\n",
       "      <td>True</td>\n",
       "      <td>25.331746</td>\n",
       "      <td>6.095053</td>\n",
       "      <td>2.348168</td>\n",
       "      <td>False</td>\n",
       "    </tr>\n",
       "    <tr>\n",
       "      <th>60</th>\n",
       "      <td>61</td>\n",
       "      <td>0.065776</td>\n",
       "      <td>805.8876</td>\n",
       "      <td>0.6341</td>\n",
       "      <td>True</td>\n",
       "      <td>0.146912</td>\n",
       "      <td>0.939254</td>\n",
       "      <td>1.098063</td>\n",
       "      <td>False</td>\n",
       "    </tr>\n",
       "    <tr>\n",
       "      <th>70</th>\n",
       "      <td>71</td>\n",
       "      <td>1.000000</td>\n",
       "      <td>908.8725</td>\n",
       "      <td>0.6845</td>\n",
       "      <td>True</td>\n",
       "      <td>70.375252</td>\n",
       "      <td>23.015545</td>\n",
       "      <td>5.261710</td>\n",
       "      <td>False</td>\n",
       "    </tr>\n",
       "    <tr>\n",
       "      <th>80</th>\n",
       "      <td>81</td>\n",
       "      <td>0.110599</td>\n",
       "      <td>1007.6379</td>\n",
       "      <td>0.3002</td>\n",
       "      <td>True</td>\n",
       "      <td>1.065761</td>\n",
       "      <td>0.426136</td>\n",
       "      <td>0.819726</td>\n",
       "      <td>False</td>\n",
       "    </tr>\n",
       "    <tr>\n",
       "      <th>90</th>\n",
       "      <td>91</td>\n",
       "      <td>0.154016</td>\n",
       "      <td>1115.6605</td>\n",
       "      <td>0.2507</td>\n",
       "      <td>True</td>\n",
       "      <td>22.269671</td>\n",
       "      <td>7.499783</td>\n",
       "      <td>2.342139</td>\n",
       "      <td>False</td>\n",
       "    </tr>\n",
       "  </tbody>\n",
       "</table>\n",
       "</div>"
      ],
      "text/plain": [
       "    trial  contrast  trial_start_time  reaction_time behavioral_choice  \\\n",
       "50     51  0.154016          683.6033         0.5167              True   \n",
       "60     61  0.065776          805.8876         0.6341              True   \n",
       "70     71  1.000000          908.8725         0.6845              True   \n",
       "80     81  0.110599         1007.6379         0.3002              True   \n",
       "90     91  0.154016         1115.6605         0.2507              True   \n",
       "\n",
       "       cell_1     cell_2    cell_3 blank_trial  \n",
       "50  25.331746   6.095053  2.348168       False  \n",
       "60   0.146912   0.939254  1.098063       False  \n",
       "70  70.375252  23.015545  5.261710       False  \n",
       "80   1.065761   0.426136  0.819726       False  \n",
       "90  22.269671   7.499783  2.342139       False  "
      ]
     },
     "execution_count": 30,
     "metadata": {},
     "output_type": "execute_result"
    }
   ],
   "source": [
    "df[50:100:10] # [start, end, step]"
   ]
  },
  {
   "cell_type": "markdown",
   "metadata": {},
   "source": [
    "###Selection purely by position (integer index)"
   ]
  },
  {
   "cell_type": "code",
   "execution_count": 35,
   "metadata": {
    "collapsed": false
   },
   "outputs": [
    {
     "data": {
      "text/html": [
       "<div>\n",
       "<table border=\"1\" class=\"dataframe\">\n",
       "  <thead>\n",
       "    <tr style=\"text-align: right;\">\n",
       "      <th></th>\n",
       "      <th>trial</th>\n",
       "      <th>trial_start_time</th>\n",
       "      <th>behavioral_choice</th>\n",
       "      <th>cell_2</th>\n",
       "      <th>blank_trial</th>\n",
       "    </tr>\n",
       "  </thead>\n",
       "  <tbody>\n",
       "    <tr>\n",
       "      <th>150</th>\n",
       "      <td>151</td>\n",
       "      <td>1654.0906</td>\n",
       "      <td>True</td>\n",
       "      <td>16.188409</td>\n",
       "      <td>False</td>\n",
       "    </tr>\n",
       "    <tr>\n",
       "      <th>160</th>\n",
       "      <td>161</td>\n",
       "      <td>1755.1730</td>\n",
       "      <td>True</td>\n",
       "      <td>0.490875</td>\n",
       "      <td>False</td>\n",
       "    </tr>\n",
       "    <tr>\n",
       "      <th>170</th>\n",
       "      <td>171</td>\n",
       "      <td>1830.2355</td>\n",
       "      <td>True</td>\n",
       "      <td>-0.982403</td>\n",
       "      <td>False</td>\n",
       "    </tr>\n",
       "    <tr>\n",
       "      <th>180</th>\n",
       "      <td>181</td>\n",
       "      <td>1933.3039</td>\n",
       "      <td>False</td>\n",
       "      <td>-0.854056</td>\n",
       "      <td>True</td>\n",
       "    </tr>\n",
       "    <tr>\n",
       "      <th>190</th>\n",
       "      <td>191</td>\n",
       "      <td>2013.6208</td>\n",
       "      <td>False</td>\n",
       "      <td>-0.023270</td>\n",
       "      <td>True</td>\n",
       "    </tr>\n",
       "  </tbody>\n",
       "</table>\n",
       "</div>"
      ],
      "text/plain": [
       "     trial  trial_start_time behavioral_choice     cell_2 blank_trial\n",
       "150    151         1654.0906              True  16.188409       False\n",
       "160    161         1755.1730              True   0.490875       False\n",
       "170    171         1830.2355              True  -0.982403       False\n",
       "180    181         1933.3039             False  -0.854056        True\n",
       "190    191         2013.6208             False  -0.023270        True"
      ]
     },
     "execution_count": 35,
     "metadata": {},
     "output_type": "execute_result"
    }
   ],
   "source": [
    "df.iloc[150:200:10,0:10:2]"
   ]
  },
  {
   "cell_type": "markdown",
   "metadata": {},
   "source": [
    "###Select rows based on boolean array"
   ]
  },
  {
   "cell_type": "code",
   "execution_count": 36,
   "metadata": {
    "collapsed": false
   },
   "outputs": [
    {
     "data": {
      "text/plain": [
       "Index([u'trial', u'contrast', u'trial_start_time', u'reaction_time',\n",
       "       u'behavioral_choice', u'cell_1', u'cell_2', u'cell_3', u'blank_trial'],\n",
       "      dtype='object')"
      ]
     },
     "execution_count": 36,
     "metadata": {},
     "output_type": "execute_result"
    }
   ],
   "source": [
    "df.columns"
   ]
  },
  {
   "cell_type": "code",
   "execution_count": 37,
   "metadata": {
    "collapsed": false
   },
   "outputs": [
    {
     "data": {
      "text/plain": [
       "array([False,  True, False, False, False, False,  True, False, False,\n",
       "       False, False, False, False, False,  True, False, False, False,\n",
       "       False, False, False, False, False, False, False, False, False,\n",
       "       False, False, False, False,  True,  True, False, False, False,\n",
       "       False, False, False, False, False, False, False, False,  True,\n",
       "       False, False, False, False,  True], dtype=bool)"
      ]
     },
     "execution_count": 37,
     "metadata": {},
     "output_type": "execute_result"
    }
   ],
   "source": [
    "blank_bool = df.blank_trial.values\n",
    "blank_bool[:50]"
   ]
  },
  {
   "cell_type": "code",
   "execution_count": 38,
   "metadata": {
    "collapsed": false
   },
   "outputs": [
    {
     "name": "stdout",
     "output_type": "stream",
     "text": [
      "# of rows in original df = 278\n",
      "# of rows after boolean indexing = 44\n"
     ]
    }
   ],
   "source": [
    "print \"# of rows in original df = %s\" % len(df)\n",
    "print \"# of rows after boolean indexing = %s\" % len(df[blank_bool])"
   ]
  },
  {
   "cell_type": "markdown",
   "metadata": {},
   "source": [
    "###Filter dataframe by inserting expression in brackets that yields boolean array"
   ]
  },
  {
   "cell_type": "code",
   "execution_count": 41,
   "metadata": {
    "collapsed": false
   },
   "outputs": [
    {
     "data": {
      "text/html": [
       "<div>\n",
       "<table border=\"1\" class=\"dataframe\">\n",
       "  <thead>\n",
       "    <tr style=\"text-align: right;\">\n",
       "      <th></th>\n",
       "      <th>trial</th>\n",
       "      <th>contrast</th>\n",
       "      <th>trial_start_time</th>\n",
       "      <th>reaction_time</th>\n",
       "      <th>behavioral_choice</th>\n",
       "      <th>cell_1</th>\n",
       "      <th>cell_2</th>\n",
       "      <th>cell_3</th>\n",
       "      <th>blank_trial</th>\n",
       "    </tr>\n",
       "  </thead>\n",
       "  <tbody>\n",
       "    <tr>\n",
       "      <th>1</th>\n",
       "      <td>2</td>\n",
       "      <td>0</td>\n",
       "      <td>10.5132</td>\n",
       "      <td>NaN</td>\n",
       "      <td>False</td>\n",
       "      <td>0.694963</td>\n",
       "      <td>14.859777</td>\n",
       "      <td>-1.813913</td>\n",
       "      <td>True</td>\n",
       "    </tr>\n",
       "    <tr>\n",
       "      <th>6</th>\n",
       "      <td>7</td>\n",
       "      <td>0</td>\n",
       "      <td>79.6365</td>\n",
       "      <td>NaN</td>\n",
       "      <td>False</td>\n",
       "      <td>0.177490</td>\n",
       "      <td>-1.843292</td>\n",
       "      <td>-0.129403</td>\n",
       "      <td>True</td>\n",
       "    </tr>\n",
       "    <tr>\n",
       "      <th>14</th>\n",
       "      <td>15</td>\n",
       "      <td>0</td>\n",
       "      <td>168.7602</td>\n",
       "      <td>NaN</td>\n",
       "      <td>False</td>\n",
       "      <td>-2.021175</td>\n",
       "      <td>-1.392319</td>\n",
       "      <td>-1.559392</td>\n",
       "      <td>True</td>\n",
       "    </tr>\n",
       "    <tr>\n",
       "      <th>31</th>\n",
       "      <td>32</td>\n",
       "      <td>0</td>\n",
       "      <td>360.1184</td>\n",
       "      <td>NaN</td>\n",
       "      <td>False</td>\n",
       "      <td>-0.673639</td>\n",
       "      <td>-0.589315</td>\n",
       "      <td>-1.106445</td>\n",
       "      <td>True</td>\n",
       "    </tr>\n",
       "    <tr>\n",
       "      <th>32</th>\n",
       "      <td>33</td>\n",
       "      <td>0</td>\n",
       "      <td>369.7267</td>\n",
       "      <td>NaN</td>\n",
       "      <td>False</td>\n",
       "      <td>-0.164662</td>\n",
       "      <td>0.081860</td>\n",
       "      <td>-1.228453</td>\n",
       "      <td>True</td>\n",
       "    </tr>\n",
       "  </tbody>\n",
       "</table>\n",
       "</div>"
      ],
      "text/plain": [
       "    trial  contrast  trial_start_time  reaction_time behavioral_choice  \\\n",
       "1       2         0           10.5132            NaN             False   \n",
       "6       7         0           79.6365            NaN             False   \n",
       "14     15         0          168.7602            NaN             False   \n",
       "31     32         0          360.1184            NaN             False   \n",
       "32     33         0          369.7267            NaN             False   \n",
       "\n",
       "      cell_1     cell_2    cell_3 blank_trial  \n",
       "1   0.694963  14.859777 -1.813913        True  \n",
       "6   0.177490  -1.843292 -0.129403        True  \n",
       "14 -2.021175  -1.392319 -1.559392        True  \n",
       "31 -0.673639  -0.589315 -1.106445        True  \n",
       "32 -0.164662   0.081860 -1.228453        True  "
      ]
     },
     "execution_count": 41,
     "metadata": {},
     "output_type": "execute_result"
    }
   ],
   "source": [
    "df_blank = df[df.contrast==0]\n",
    "df_blank.head(5)"
   ]
  },
  {
   "cell_type": "code",
   "execution_count": 42,
   "metadata": {
    "collapsed": false
   },
   "outputs": [
    {
     "data": {
      "text/plain": [
       "44"
      ]
     },
     "execution_count": 42,
     "metadata": {},
     "output_type": "execute_result"
    }
   ],
   "source": [
    "len(df_blank)"
   ]
  },
  {
   "cell_type": "markdown",
   "metadata": {},
   "source": [
    "## Summary statistics"
   ]
  },
  {
   "cell_type": "markdown",
   "metadata": {},
   "source": [
    "####value_counts()"
   ]
  },
  {
   "cell_type": "code",
   "execution_count": 43,
   "metadata": {
    "collapsed": false
   },
   "outputs": [
    {
     "data": {
      "text/plain": [
       "0.000000    44\n",
       "0.065776    60\n",
       "0.110599    68\n",
       "0.154016    54\n",
       "1.000000    52\n",
       "dtype: int64"
      ]
     },
     "execution_count": 43,
     "metadata": {},
     "output_type": "execute_result"
    }
   ],
   "source": [
    "df.contrast.value_counts().sort_index()"
   ]
  },
  {
   "cell_type": "markdown",
   "metadata": {},
   "source": [
    "####mean()"
   ]
  },
  {
   "cell_type": "code",
   "execution_count": 44,
   "metadata": {
    "collapsed": false
   },
   "outputs": [
    {
     "data": {
      "text/plain": [
       "0.68705035971223016"
      ]
     },
     "execution_count": 44,
     "metadata": {},
     "output_type": "execute_result"
    }
   ],
   "source": [
    "df.behavioral_choice.mean()"
   ]
  },
  {
   "cell_type": "code",
   "execution_count": 45,
   "metadata": {
    "collapsed": false
   },
   "outputs": [
    {
     "name": "stdout",
     "output_type": "stream",
     "text": [
      "contrast =  0.0\n",
      "hit_rate =  0.0681818181818\n",
      "\n",
      "contrast =  0.0657757813818\n",
      "hit_rate =  0.4\n",
      "\n",
      "contrast =  0.110599079137\n",
      "hit_rate =  0.897058823529\n",
      "\n",
      "contrast =  0.154016008969\n",
      "hit_rate =  0.962962962963\n",
      "\n",
      "contrast =  1.0\n",
      "hit_rate =  0.980769230769\n",
      "\n"
     ]
    }
   ],
   "source": [
    "contrasts = sorted(df.contrast.unique())\n",
    "for c in contrasts:\n",
    "    print \"contrast = \", c\n",
    "    print \"hit_rate = \", df[df.contrast==c].behavioral_choice.mean()\n",
    "    print \"\""
   ]
  },
  {
   "cell_type": "markdown",
   "metadata": {},
   "source": [
    "####describe()"
   ]
  },
  {
   "cell_type": "code",
   "execution_count": 46,
   "metadata": {
    "collapsed": false
   },
   "outputs": [
    {
     "data": {
      "text/plain": [
       "count    190.000000\n",
       "mean       0.467658\n",
       "std        0.123261\n",
       "min        0.117000\n",
       "25%        0.385300\n",
       "50%        0.458950\n",
       "75%        0.533900\n",
       "max        0.786700\n",
       "Name: reaction_time, dtype: float64"
      ]
     },
     "execution_count": 46,
     "metadata": {},
     "output_type": "execute_result"
    }
   ],
   "source": [
    "df.reaction_time.describe()"
   ]
  },
  {
   "cell_type": "markdown",
   "metadata": {},
   "source": [
    "##Plotting"
   ]
  },
  {
   "cell_type": "code",
   "execution_count": 47,
   "metadata": {
    "collapsed": false
   },
   "outputs": [
    {
     "data": {
      "text/plain": [
       "<matplotlib.text.Text at 0x107d77410>"
      ]
     },
     "execution_count": 47,
     "metadata": {},
     "output_type": "execute_result"
    },
    {
     "data": {
      "image/png": "[encoded data removed]",
      "text/plain": [
       "<matplotlib.figure.Figure at 0x107c23f90>"
      ]
     },
     "metadata": {},
     "output_type": "display_data"
    }
   ],
   "source": [
    "df.reaction_time.hist(range=(0,1),bins=20)\n",
    "plt.title('Histogram of reactions times')"
   ]
  },
  {
   "cell_type": "code",
   "execution_count": 50,
   "metadata": {
    "collapsed": false
   },
   "outputs": [
    {
     "data": {
      "text/plain": [
       "<matplotlib.axes._subplots.AxesSubplot at 0x1081039d0>"
      ]
     },
     "execution_count": 50,
     "metadata": {},
     "output_type": "execute_result"
    },
    {
     "data": {
      "image/png": "[encoded data removed]",
      "text/plain": [
       "<matplotlib.figure.Figure at 0x107c23c50>"
      ]
     },
     "metadata": {},
     "output_type": "display_data"
    }
   ],
   "source": [
    "fig,ax = plt.subplots(1,1)\n",
    "ax.set_title('Responses vs contrast for cell_1')\n",
    "ax.set_ylabel('dF/F')\n",
    "ax.set_ylim(-10,200)\n",
    "\n",
    "df.plot(x='contrast',y='cell_1',marker='o',linestyle='none',alpha=0.5,ax=ax,xlim=(-0.1,1.1))"
   ]
  },
  {
   "cell_type": "code",
   "execution_count": 51,
   "metadata": {
    "collapsed": false
   },
   "outputs": [
    {
     "data": {
      "text/plain": [
       "(-20, 150)"
      ]
     },
     "execution_count": 51,
     "metadata": {},
     "output_type": "execute_result"
    },
    {
     "data": {
      "image/png": "[encoded data removed]",
      "text/plain": [
       "<matplotlib.figure.Figure at 0x107c0fd50>"
      ]
     },
     "metadata": {},
     "output_type": "display_data"
    }
   ],
   "source": [
    "fig,ax = plt.subplots(1,1)\n",
    "\n",
    "df.plot(x='cell_2',y='cell_1',marker='o',linestyle='none',ax=ax,alpha=0.5)\n",
    "\n",
    "ax.set_aspect(1)\n",
    "ax.set_xlim(-20,150)\n",
    "ax.set_ylim(-20,150)"
   ]
  },
  {
   "cell_type": "code",
   "execution_count": 52,
   "metadata": {
    "collapsed": false,
    "scrolled": true
   },
   "outputs": [
    {
     "data": {
      "text/plain": [
       "<matplotlib.text.Text at 0x108511490>"
      ]
     },
     "execution_count": 52,
     "metadata": {},
     "output_type": "execute_result"
    },
    {
     "data": {
      "image/png": "[encoded data removed]",
      "text/plain": [
       "<matplotlib.figure.Figure at 0x107c0fc50>"
      ]
     },
     "metadata": {},
     "output_type": "display_data"
    }
   ],
   "source": [
    "fig,ax = plt.subplots(1,2)\n",
    "fig.set_size_inches(10,3)\n",
    "\n",
    "df.trial_start_time.diff().hist(ax=ax[0],range=(0,30),bins=30)\n",
    "\n",
    "ax[0].set_xlabel('Inter-trial interval')\n",
    "df.trial_start_time.diff().plot(ax=ax[1])\n",
    "ax[1].set_xlabel('Trial')\n",
    "ax[1].set_ylabel('Inter-trial interval')"
   ]
  },
  {
   "cell_type": "markdown",
   "metadata": {},
   "source": [
    "##Groupby and \"Split, apply, and combine\""
   ]
  },
  {
   "cell_type": "code",
   "execution_count": 53,
   "metadata": {
    "collapsed": true
   },
   "outputs": [],
   "source": [
    "gb = df.groupby('contrast')"
   ]
  },
  {
   "cell_type": "code",
   "execution_count": 55,
   "metadata": {
    "collapsed": false
   },
   "outputs": [
    {
     "data": {
      "text/plain": [
       "contrast\n",
       "0.000000    0.068182\n",
       "0.065776    0.400000\n",
       "0.110599    0.897059\n",
       "0.154016    0.962963\n",
       "1.000000    0.980769\n",
       "Name: behavioral_choice, dtype: float64"
      ]
     },
     "execution_count": 55,
     "metadata": {},
     "output_type": "execute_result"
    }
   ],
   "source": [
    "gb.behavioral_choice.mean()"
   ]
  },
  {
   "cell_type": "code",
   "execution_count": 56,
   "metadata": {
    "collapsed": false
   },
   "outputs": [
    {
     "data": {
      "text/plain": [
       "<matplotlib.text.Text at 0x10865b610>"
      ]
     },
     "execution_count": 56,
     "metadata": {},
     "output_type": "execute_result"
    },
    {
     "data": {
      "image/png": "[encoded data removed]",
      "text/plain": [
       "<matplotlib.figure.Figure at 0x107d673d0>"
      ]
     },
     "metadata": {},
     "output_type": "display_data"
    }
   ],
   "source": [
    "fig,ax = plt.subplots(1,1)\n",
    "gb.behavioral_choice.mean().plot(marker='o')\n",
    "\n",
    "# format plot\n",
    "fig.set_size_inches(5,4)\n",
    "ax.set_title('Psychometric function')\n",
    "ax.set_xlim(-0.1,1.1)\n",
    "ax.set_ylim(0,1.05)\n",
    "ax.set_ylabel('Response rate')"
   ]
  },
  {
   "cell_type": "code",
   "execution_count": 57,
   "metadata": {
    "collapsed": false
   },
   "outputs": [
    {
     "data": {
      "text/plain": [
       "<matplotlib.text.Text at 0x1087e63d0>"
      ]
     },
     "execution_count": 57,
     "metadata": {},
     "output_type": "execute_result"
    },
    {
     "data": {
      "image/png": "[encoded data removed]",
      "text/plain": [
       "<matplotlib.figure.Figure at 0x108119f90>"
      ]
     },
     "metadata": {},
     "output_type": "display_data"
    }
   ],
   "source": [
    "fig,ax = plt.subplots(1,1)\n",
    "df[df.behavioral_choice==True].groupby('contrast')['cell_1','cell_2','cell_3'].mean().plot(marker='o',ax=ax)\n",
    "\n",
    "# format plot\n",
    "fig.set_size_inches(5,4)\n",
    "ax.set_xlim(-0.1,1.1)\n",
    "ax.set_ylim(-2,56)\n",
    "ax.set_ylabel('dF/F')"
   ]
  },
  {
   "cell_type": "code",
   "execution_count": 58,
   "metadata": {
    "collapsed": false
   },
   "outputs": [
    {
     "name": "stdout",
     "output_type": "stream",
     "text": [
      "Responses at threshold contrast level:\n",
      "                     cell_1    cell_2    cell_3\n",
      "behavioral_choice                              \n",
      "False              0.790146 -0.037260  0.032959\n",
      "True               2.822779  1.035414  0.438028\n"
     ]
    }
   ],
   "source": [
    "print \"Responses at threshold contrast level:\"\n",
    "print df[df.contrast==contrasts[1]].groupby('behavioral_choice')['cell_1','cell_2','cell_3'].mean()"
   ]
  },
  {
   "cell_type": "code",
   "execution_count": 59,
   "metadata": {
    "collapsed": false
   },
   "outputs": [
    {
     "data": {
      "text/plain": [
       "(-1, 2)"
      ]
     },
     "execution_count": 59,
     "metadata": {},
     "output_type": "execute_result"
    },
    {
     "data": {
      "image/png": "[encoded data removed]",
      "text/plain": [
       "<matplotlib.figure.Figure at 0x107dae610>"
      ]
     },
     "metadata": {},
     "output_type": "display_data"
    }
   ],
   "source": [
    "df[df.contrast==contrasts[1]].groupby('behavioral_choice')['cell_1','cell_2','cell_3'].mean().plot(marker='o')\n",
    "plt.xlim(-1,2)"
   ]
  },
  {
   "cell_type": "markdown",
   "metadata": {},
   "source": [
    "###Save: to_pickle(), to_excel(), etc."
   ]
  },
  {
   "cell_type": "code",
   "execution_count": 60,
   "metadata": {
    "collapsed": false
   },
   "outputs": [],
   "source": [
    "save_name = r'data.pkl'\n",
    "df.to_pickle(save_name)\n",
    "\n",
    "save_name = r'data.xlsx'\n",
    "df.to_excel(save_name)"
   ]
  },
  {
   "cell_type": "markdown",
   "metadata": {},
   "source": [
    "###Homework: Make dataframe of metadata for CAM experiments"
   ]
  },
  {
   "cell_type": "code",
   "execution_count": null,
   "metadata": {
    "collapsed": true
   },
   "outputs": [],
   "source": []
  }
 ],
 "metadata": {
  "kernelspec": {
   "display_name": "Python 2",
   "language": "python",
   "name": "python2"
  },
  "language_info": {
   "codemirror_mode": {
    "name": "ipython",
    "version": 2
   },
   "file_extension": ".py",
   "mimetype": "text/x-python",
   "name": "python",
   "nbconvert_exporter": "python",
   "pygments_lexer": "ipython2",
   "version": "2.7.11"
  }
 },
 "nbformat": 4,
 "nbformat_minor": 0
}
