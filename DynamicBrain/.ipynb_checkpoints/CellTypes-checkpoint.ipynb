{
 "cells": [
  {
   "cell_type": "markdown",
   "metadata": {},
   "source": [
    "<img src=\"../PythonBootcamp/support_files/cropped-SummerWorkshop_Header.png\">  \n",
    "\n",
    "<h1 align=\"center\">Data Set I: Cell Types </h1> \n",
    "<h3 align=\"center\">Monday, August 22, 2016</h3> "
   ]
  },
  {
   "cell_type": "markdown",
   "metadata": {},
   "source": [
    "<div style=\"border-left: 3px solid #000; padding: 1px; padding-left: 10px; background: #F0FAFF; \">\n",
    "<h2>Drive path</h2>\n",
    "\n",
    "First things first - let's make sure your drive path is set up appropriately. You will want to un-comment only one of these options depending on which operating system you are running. You also may have to tweak the option for your specific set-up (e.g. change the drive letter for Windows).\n",
    "</div>"
   ]
  },
  {
   "cell_type": "code",
   "execution_count": null,
   "metadata": {
    "collapsed": true
   },
   "outputs": [],
   "source": [
    "# please make sure your drive_path is set, so that the notebook can find the data files on the hard drive\n",
    "\n",
    "# OS X\n",
    "drive_path = '/Volumes/Brain2016'\n",
    "\n",
    "# Windows (a good guess)\n",
    "# drive_path = 'e:/'\n",
    "\n",
    "# Linux (will vary; the following is possibly what Ubuntu will do)\n",
    "# drive_path = '/media/Brain2016/'"
   ]
  },
  {
   "cell_type": "markdown",
   "metadata": {},
   "source": [
    "<div style=\"border-left: 3px solid #000; padding: 1px; padding-left: 10px; background: #F0FAFF; \">\n",
    "<h2>Cell Types Database</h2>\n",
    "\n",
    "<p>\n",
    "The Cell Types database contains data derived from single-cell experiments in the mouse visual cortex and lateral geniculate nucleus (LGN). This includes in vitro electrophysiological recordings from cortical slice experiments, morphological reconstructions based on single-neuron fills, and single-cell transcriptomic data from the LGN.</p>\n",
    "\n",
    "<p>\n",
    "The database can be accessed [on the web](https://celltypes.brain-map.org). This is useful for browsing and familiarizing yourself with the data, but for more in-depth analyses, it is often more efficient to access the data programmatically. The [AllenSDK](https://alleninstitute.github.io/AllenSDK/) provides Python-based tools to support that approach, and this notebook will introduce you to them.<.p>\n",
    "\n",
    "<p>\n",
    "If you have not installed the `allensdk` python module yet, do so from a command prompt:</p>\n",
    "\n",
    "<p>\n",
    "   `> pip install allensdk` </p>\n",
    "    \n",
    "</div>"
   ]
  },
  {
   "cell_type": "markdown",
   "metadata": {},
   "source": [
    "<div style=\"border-left: 3px solid #000; padding: 1px; padding-left: 10px; background: #F0FAFF; \">\n",
    "<h2>1. Plotting ephys data from an experiment</h2>\n",
    "\n",
    "Let's start by looking at electrophysiology data from a recorded cell of the mouse visual cortex. The first step is to get access to the Neurodata Without Borders (.nwb) file that contains data from the cell we're interested in. Each recorded cell has its own NWB file.\n",
    "</div>"
   ]
  },
  {
   "cell_type": "code",
   "execution_count": null,
   "metadata": {
    "collapsed": false
   },
   "outputs": [],
   "source": [
    "import os\n",
    "import numpy as np\n",
    "from allensdk.core.cell_types_cache import CellTypesCache\n",
    "\n",
    "## A CellTypesCache is used to copy and cache data from the cell types database.\n",
    "## If you create the CellTypesCache instance with no arguments, then data is downloaded\n",
    "## from the online repository:\n",
    "# ctc = CellTypesCache()\n",
    "\n",
    "## Because we have limited internet bandwidth, the data you need is already provided on\n",
    "## your external hard drive. To ensure this local data is used instead of the online\n",
    "## repository, create the CellTypesCache instance using the `manifest_file` argument:\n",
    "ctc = CellTypesCache(manifest_file=os.path.join(drive_path, 'cell_types', 'manifest.json'))\n",
    "\n",
    "## this saves the NWB file to 'specimen_464212183/ephys.nwb'\n",
    "data_set = ctc.get_ephys_data(464212183)"
   ]
  },
  {
   "cell_type": "markdown",
   "metadata": {},
   "source": [
    "<div style=\"border-left: 3px solid #000; padding: 1px; padding-left: 10px; background: #F0FAFF; \">\n",
    "\n",
    "<p>\n",
    "**Documentation:**\n",
    "[CellTypesCache](http://alleninstitute.github.io/AllenSDK/allensdk.core.html#allensdk.core.cell_types_cache.CellTypesCache),\n",
    "[CellTypesCache.get_ephys_data()](http://alleninstitute.github.io/AllenSDK/allensdk.core.html#allensdk.core.cell_types_cache.CellTypesCache.get_ephys_data)\n",
    "</p>\n",
    "<p>\n",
    "*Note: you can find these by using the search tool on the main [AllenSDK page](http://alleninstitute.github.io/AllenSDK/)*\n",
    "</p>\n",
    "</div>"
   ]
  },
  {
   "cell_type": "markdown",
   "metadata": {},
   "source": [
    "<div style=\"background: #DFF0D8; border-radius: 3px; padding: 10px;\">\n",
    "<p>**Exercise 1.1:**</p>\n",
    "\n",
    "<p>Use Python code to inspect which data type is returned by `ctc.get_ephys_data()`. (You can verify your answer with the API documentation)</p>\n",
    "\n",
    "<p>\n",
    "Try loading the NWB file for the cell with specimen ID of 324493977 and assigning that to a new variable. \n",
    "</p>\n",
    "</div>"
   ]
  },
  {
   "cell_type": "code",
   "execution_count": null,
   "metadata": {
    "collapsed": false
   },
   "outputs": [],
   "source": []
  },
  {
   "cell_type": "markdown",
   "metadata": {},
   "source": [
    "<div style=\"border-left: 3px solid #000; padding: 1px; padding-left: 10px; background: #F0FAFF; \">\n",
    "\n",
    "<p>\n",
    "The electrophysiological data in a Cell Types NWB file is organized by \"sweeps.\" These sweeps represent specific periods during which a single stimulus is applied to the cell and the response is recorded. Different types of stimuli can be applied to the cell, and similar stimuli are grouped by type on the web app. For example, one-second long step current injections are grouped together under the name \"Long Squares.\" We refer to sweeps by their number, which are integers indicating the order in which the sweeps were collected.</p>\n",
    "\n",
    "<p>\n",
    "There are typically periods of time during an experiment between sweeps; this may be due to the experimentalist making some on-line adjustments, or may be intentional to allow the cell to return to some baseline after an intense stimulus. </p>\n",
    "\n",
    "<p>\n",
    "Returning to the example, we now have an object called `data_set` that provides access to the data in the NWB file through built-in methods. We can access sweep-level data like this:</p>\n",
    "</div>"
   ]
  },
  {
   "cell_type": "code",
   "execution_count": null,
   "metadata": {
    "collapsed": false
   },
   "outputs": [],
   "source": [
    "sweep_number = 30\n",
    "sweep_data = data_set.get_sweep(sweep_number)"
   ]
  },
  {
   "cell_type": "markdown",
   "metadata": {},
   "source": [
    "<div style=\"border-left: 3px solid #000; padding: 1px; padding-left: 10px; background: #F0FAFF; \">\n",
    "<p>**Documentation:**\n",
    "[NwbDataSet](http://alleninstitute.github.io/AllenSDK/allensdk.core.html#allensdk.core.nwb_data_set.NwbDataSet), [NwbDataSet.get_sweep()](http://alleninstitute.github.io/AllenSDK/allensdk.core.html#allensdk.core.nwb_data_set.NwbDataSet.get_sweep)\n",
    "</p>\n",
    "</div>"
   ]
  },
  {
   "cell_type": "markdown",
   "metadata": {},
   "source": [
    "<div style=\"background: #DFF0D8; border-radius: 3px; padding: 10px;\">\n",
    "<p>**Exercise 1.2:**</p>\n",
    "\n",
    "<p>`data_set.get_sweep()` returns a dict with four key/value pairs. What are the data types of these values?</p>\n",
    "\n",
    "</div>"
   ]
  },
  {
   "cell_type": "code",
   "execution_count": null,
   "metadata": {
    "collapsed": false
   },
   "outputs": [],
   "source": []
  },
  {
   "cell_type": "markdown",
   "metadata": {},
   "source": [
    "<div style=\"border-left: 3px solid #000; padding: 1px; padding-left: 10px; background: #F0FAFF; \">\n",
    "\n",
    "Most of the sweeps in the Cell Types Database are recorded in current-clamp mode, meaning that a current stimulus is injected into the recorded cell, and a voltage response is recorded. The current data is stored in the NWB file in amperes, and the voltage data is in volts. However, it is usually more convenient to work with the data in picoamps and millivolts.</div>"
   ]
  },
  {
   "cell_type": "markdown",
   "metadata": {},
   "source": [
    "<div style=\"background: #DFF0D8; border-radius: 3px; padding: 10px;\">\n",
    "<p>**Exercise 1.3:**</p>\n",
    "\n",
    "<p>Write code to put the stimulus (current) and response (voltage) from the sweep into variables `i` and `v`, respectively. Convert their units to pA and mV (the raw data are expressed in unscaled A/V units).</p>\n",
    "</div>"
   ]
  },
  {
   "cell_type": "code",
   "execution_count": null,
   "metadata": {
    "collapsed": false
   },
   "outputs": [],
   "source": []
  },
  {
   "cell_type": "markdown",
   "metadata": {},
   "source": [
    "<div style=\"border-left: 3px solid #000; padding: 1px; padding-left: 10px; background: #F0FAFF; \">\n",
    "\n",
    "The time points are not included in the NWB file as a waveform, but we can generate one based on the sampling rate:\n",
    "</div>"
   ]
  },
  {
   "cell_type": "code",
   "execution_count": null,
   "metadata": {
    "collapsed": false
   },
   "outputs": [],
   "source": [
    "sampling_rate = sweep_data[\"sampling_rate\"] # in Hz"
   ]
  },
  {
   "cell_type": "markdown",
   "metadata": {},
   "source": [
    "<div style=\"background: #DFF0D8; border-radius: 3px; padding: 10px;\">\n",
    "<p>**Exercise 1.4:**</p>\n",
    "\n",
    "<p>Create a new array `t` that is the same length as `v` and `i` and contains the correct time points (in seconds) according to the sampling rate.</p>\n",
    "\n",
    "<p>See: [numpy.arange()](http://docs.scipy.org/doc/numpy/reference/generated/numpy.arange.html)</p>\n",
    "</div>"
   ]
  },
  {
   "cell_type": "code",
   "execution_count": null,
   "metadata": {
    "collapsed": false
   },
   "outputs": [],
   "source": []
  },
  {
   "cell_type": "markdown",
   "metadata": {},
   "source": [
    "<div style=\"border-left: 3px solid #000; padding: 1px; padding-left: 10px; background: #F0FAFF; \">\n",
    "\n",
    "Finally, we can plot the data after importing `matplotlib`.\n",
    "</div>"
   ]
  },
  {
   "cell_type": "code",
   "execution_count": null,
   "metadata": {
    "collapsed": true
   },
   "outputs": [],
   "source": [
    "%matplotlib notebook\n",
    "import matplotlib.pyplot as plt"
   ]
  },
  {
   "cell_type": "code",
   "execution_count": null,
   "metadata": {
    "collapsed": false
   },
   "outputs": [],
   "source": [
    "fig, axes = plt.subplots(2, 1, sharex=True)\n",
    "axes[0].plot(t, v, color='black')\n",
    "axes[1].plot(t, i, color='gray')\n",
    "axes[0].set(ylabel=\"mV\")\n",
    "axes[1].set(ylabel=\"pA\", xlabel=\"seconds\")"
   ]
  },
  {
   "cell_type": "markdown",
   "metadata": {},
   "source": [
    "<div style=\"background: #DFF0D8; border-radius: 3px; padding: 10px;\">\n",
    "<p>**Exercise 1.5:**</p>\n",
    "\n",
    "<p>\n",
    "Change the x-axis in the above plot to focus on the response during the current step. First do this manually using the toolbar shown below the plots, then do it by modifying the code that generated the plots.\n",
    "</p>\n",
    "\n",
    "<p>\n",
    "See: [matplotlib.axes.set_xlim()](http://matplotlib.org/api/axes_api.html#matplotlib.axes.Axes.set_xlim)\n",
    "</p>\n",
    "</div>"
   ]
  },
  {
   "cell_type": "code",
   "execution_count": null,
   "metadata": {
    "collapsed": false
   },
   "outputs": [],
   "source": []
  },
  {
   "cell_type": "markdown",
   "metadata": {},
   "source": [
    "<div style=\"border-left: 3px solid #000; padding: 1px; padding-left: 10px; background: #F0FAFF; \">\n",
    "\n",
    "Getting the voltage, current stimulus, and time is something we'll want to do a lot. Therefore, we'll make a function that will do it for whatever sweep we give it, and try it out on some new sweeps.\n",
    "\n",
    "</div>"
   ]
  },
  {
   "cell_type": "code",
   "execution_count": null,
   "metadata": {
    "collapsed": true
   },
   "outputs": [],
   "source": [
    "def get_sweep_v_i_t_from_set(data_set, sweep_number):\n",
    "    \"\"\"Given an NwbDataSet and a sweep number, return a tuple containing\n",
    "    (response, stimulus, time_values).\n",
    "    \"\"\"\n",
    "    sweep_data = data_set.get_sweep(sweep_number)\n",
    "    i = sweep_data[\"stimulus\"] # in A\n",
    "    v = sweep_data[\"response\"] # in V\n",
    "    i *= 1e12 # to pA\n",
    "    v *= 1e3 # to mV\n",
    "    sampling_rate = sweep_data[\"sampling_rate\"] # in Hz\n",
    "    t = np.arange(len(v)) / sampling_rate\n",
    "    return v, i, t"
   ]
  },
  {
   "cell_type": "code",
   "execution_count": null,
   "metadata": {
    "collapsed": false,
    "scrolled": false
   },
   "outputs": [],
   "source": [
    "# Retrieve and plot data from two sweeps\n",
    "sweep_numbers = [38, 40]\n",
    "fig, axes = plt.subplots(2, 1, sharex=True)\n",
    "\n",
    "for s in sweep_numbers:\n",
    "    v, i, t = get_sweep_v_i_t_from_set(data_set, s)\n",
    "    axes[0].plot(t, v)\n",
    "    axes[1].plot(t, i, color='gray')\n",
    "\n",
    "axes[0].set(ylabel=\"mV\")\n",
    "axes[1].set(ylabel=\"pA\", xlabel=\"seconds\")"
   ]
  },
  {
   "cell_type": "markdown",
   "metadata": {},
   "source": [
    "<div style=\"background: #DFF0D8; border-radius: 3px; padding: 10px;\">\n",
    "<p>**Exercise 1.6:**</p>\n",
    "\n",
    "<p>\n",
    "Each NWB file contains multiple sweeps that were recorded from a single neuron. Each sweep has a different type of stimulus — square pulse, ramp, noise, etc.\n",
    "Print a list of the stimulus type for each sweep in `data_set` (try to print them in order).\n",
    "</p>\n",
    "\n",
    "<p>\n",
    "Hint: The NwbDataSet methods `get_sweep_numbers()` and `get_sweep_metadata()` will be useful. \n",
    "</p>\n",
    "\n",
    "</div>"
   ]
  },
  {
   "cell_type": "code",
   "execution_count": null,
   "metadata": {
    "collapsed": false
   },
   "outputs": [],
   "source": []
  },
  {
   "cell_type": "markdown",
   "metadata": {},
   "source": [
    "<div style=\"border-left: 3px solid #000; padding: 1px; padding-left: 10px; background: #F0FAFF; \">\n",
    "\n",
    "<h2>2. Looking at a morphology</h2>\n",
    "\n",
    "<p>\n",
    "As mentioned above, the Cell Types database also contains 3D reconstructions of neuronal morphologies. These data are represented with the [SWC format](http://www.neuronland.org/NLMorphologyConverter/MorphologyFormats/SWC/Spec.html). An SWC file represents the morphology as a connected tree, and each node of the has a location in 3D space as well as a radius.</p>\n",
    "\n",
    "<p>\n",
    "We'll download a particular cell's reconstruction here.</p>\n",
    "\n",
    "</div>"
   ]
  },
  {
   "cell_type": "code",
   "execution_count": null,
   "metadata": {
    "collapsed": false
   },
   "outputs": [],
   "source": [
    "# Query the database for all cells that have a morphological reconstruction\n",
    "cells = ctc.get_cells(require_reconstruction=True)\n",
    "print \"Cells with reconstructions: {:d}\".format(len(cells))"
   ]
  },
  {
   "cell_type": "code",
   "execution_count": null,
   "metadata": {
    "collapsed": false
   },
   "outputs": [],
   "source": [
    "# Download and access an SWC file\n",
    "cell_id = 464212183\n",
    "morphology = ctc.get_reconstruction(cell_id) "
   ]
  },
  {
   "cell_type": "markdown",
   "metadata": {},
   "source": [
    "<div style=\"border-left: 3px solid #000; padding: 1px; padding-left: 10px; background: #F0FAFF; \">\n",
    "**Documentation:** [CellTypesCache.get_reconstruction()](http://alleninstitute.github.io/AllenSDK/allensdk.core.html#allensdk.core.cell_types_cache.CellTypesCache.get_reconstruction), [Morphology](http://alleninstitute.github.io/AllenSDK/allensdk.core.html#allensdk.core.swc.Morphology)\n",
    "</div>"
   ]
  },
  {
   "cell_type": "markdown",
   "metadata": {},
   "source": [
    "<div style=\"border-left: 3px solid #000; padding: 1px; padding-left: 10px; background: #F0FAFF; \">\n",
    "\n",
    "The AllenSDK contains a module that makes it easier to work with the SWC files. We'll see how the data is represented by looking at the first node.\n",
    "\n",
    "</div>"
   ]
  },
  {
   "cell_type": "code",
   "execution_count": null,
   "metadata": {
    "collapsed": false
   },
   "outputs": [],
   "source": [
    "morphology = ctc.get_reconstruction(cell_id)\n",
    "compartment_list = morphology.compartment_list\n",
    "print compartment_list[0]"
   ]
  },
  {
   "cell_type": "markdown",
   "metadata": {},
   "source": [
    "<div style=\"border-left: 3px solid #000; padding: 1px; padding-left: 10px; background: #F0FAFF; \">\n",
    "\n",
    "Note that the `type` field refers to the type of neuronal compartment:\n",
    "<table style=\"align: left\">\n",
    "<tr><th>Compartment type</th><th>Value</th></tr>\n",
    "<tr><td>Soma</td><td>1</td>\n",
    "<tr><td>Axon</td><td>2</td>\n",
    "<tr><td>Dendrite</td><td>3</td>\n",
    "<tr><td>Apical dendrite</td><td>4</td>\n",
    "</table>\n",
    "\n",
    "<p>\n",
    "We can use this data to draw lines between each node and all its children to get a drawing of the cell. We'll do it looking at it from the front (x-y view) and from the side (z-y view).</p>\n",
    "\n",
    "</div>"
   ]
  },
  {
   "cell_type": "code",
   "execution_count": null,
   "metadata": {
    "collapsed": false,
    "scrolled": false
   },
   "outputs": [],
   "source": [
    "fig, axes = plt.subplots(1, 2, sharey=True, sharex=False, figsize=(8, 4))\n",
    "axes[0].set_aspect('equal')\n",
    "axes[1].set_aspect('equal')\n",
    "\n",
    "# Make a line drawing of x-y and y-z views\n",
    "for c in morphology.compartment_list:\n",
    "    if c[\"parent\"] == -1: # if this is the root node, don't draw anything\n",
    "        continue\n",
    "    p = morphology.compartment_index[c[\"parent\"]]\n",
    "    axes[0].plot([p['x'], c['x']], [p['y'], c['y']], color='black')\n",
    "    axes[1].plot([p['z'], c['z']], [p['y'], c['y']], color='black')\n",
    "\n",
    "axes[0].set_ylabel('y')\n",
    "axes[0].set_xlabel('x')\n",
    "axes[1].set_xlabel('z')"
   ]
  },
  {
   "cell_type": "markdown",
   "metadata": {},
   "source": [
    "<div style=\"background: #DFF0D8; border-radius: 3px; padding: 10px;\">\n",
    "<p>**Exercise 2.1:**</p>\n",
    "\n",
    "<p>\n",
    "What is the total length of the dendritic processes of this cell?\n",
    "</p>\n",
    "<p>\n",
    "Write a function that takes a specimen ID as a parameter and returns the total length of the dendrites for the cell. Try it on a different cell (the `cells` variable above is a list of cell data entries - each one has an `id` field.).\n",
    "</div>"
   ]
  },
  {
   "cell_type": "code",
   "execution_count": null,
   "metadata": {
    "collapsed": false,
    "scrolled": true
   },
   "outputs": [],
   "source": []
  },
  {
   "cell_type": "markdown",
   "metadata": {},
   "source": [
    "<div style=\"border-left: 3px solid #000; padding: 1px; padding-left: 10px; background: #F0FAFF; \">\n",
    "\n",
    "<h2>3. Calculating features of the ephys data</h2>\n",
    "\n",
    "<p>\n",
    "Plotting the data is great, but if we want to do some analysis on things like spike times, spike shapes, etc., we want to go through and extract these features from our raw data. This can be accomplished by using the feature extraction tools in the SDK.</p>\n",
    "</div>"
   ]
  },
  {
   "cell_type": "code",
   "execution_count": null,
   "metadata": {
    "collapsed": false
   },
   "outputs": [],
   "source": [
    "# First, pick a sweep and plot the membrane potential:\n",
    "sweep_number = 35\n",
    "v, i, t = get_sweep_v_i_t_from_set(data_set, sweep_number)\n",
    "\n",
    "fig = plt.figure()\n",
    "plt.plot(t, v, color='black')"
   ]
  },
  {
   "cell_type": "code",
   "execution_count": null,
   "metadata": {
    "collapsed": false
   },
   "outputs": [],
   "source": [
    "# Now let's analyze those spikes:\n",
    "from allensdk.ephys.ephys_extractor import EphysSweepFeatureExtractor\n",
    "\n",
    "sweep_ext = EphysSweepFeatureExtractor(t=t, v=v, i=i, start=1.02, end=2.02)\n",
    "sweep_ext.process_spikes()\n",
    "\n",
    "print \"Avg spike threshold: {:.1f} mV\".format(sweep_ext.spike_feature(\"threshold_v\").mean())\n",
    "print \"Avg spike width: {:.2f} ms\".format(1e3 * np.nanmean(sweep_ext.spike_feature(\"width\")))"
   ]
  },
  {
   "cell_type": "markdown",
   "metadata": {},
   "source": [
    "<div style=\"border-left: 3px solid #000; padding: 1px; padding-left: 10px; background: #F0FAFF; \">\n",
    "**Documentation:**\n",
    "[EphysSweepFeatureExtractor](http://alleninstitute.github.io/AllenSDK/allensdk.ephys.html#allensdk.ephys.ephys_extractor.EphysSweepFeatureExtractor)\n",
    "</div>"
   ]
  },
  {
   "cell_type": "markdown",
   "metadata": {},
   "source": [
    "<div style=\"border-left: 3px solid #000; padding: 1px; padding-left: 10px; background: #F0FAFF; \">\n",
    "\n",
    "The method `spike_feature()` returns a NumPy array of features for each spike. You pass it the name of the feature that you want. Features that can't be calculated for a given spike are set to `NaN`.\n",
    "\n",
    "We can take a look at all the properties calculated for each spike by the extractor:</div>"
   ]
  },
  {
   "cell_type": "code",
   "execution_count": null,
   "metadata": {
    "collapsed": false
   },
   "outputs": [],
   "source": [
    "sweep_ext.spike_feature_keys()"
   ]
  },
  {
   "cell_type": "markdown",
   "metadata": {},
   "source": [
    "<div style=\"border-left: 3px solid #000; padding: 1px; padding-left: 10px; background: #F0FAFF; \">\n",
    "\n",
    "We can look at when the spikes occur by looking at the `threshold_t` property (i.e., time of spike threshold).</div>"
   ]
  },
  {
   "cell_type": "code",
   "execution_count": null,
   "metadata": {
    "collapsed": false
   },
   "outputs": [],
   "source": [
    "spike_times = sweep_ext.spike_feature(\"threshold_t\")\n",
    "\n",
    "print spike_times[:5]  # print just the first 5 spike times"
   ]
  },
  {
   "cell_type": "markdown",
   "metadata": {},
   "source": [
    "<div style=\"border-left: 3px solid #000; padding: 1px; padding-left: 10px; background: #F0FAFF; \">\n",
    "\n",
    "We can see that the first spikes happen just after the stimulus step begins at 1.02 sec. Let's plot the voltage trace and then put a dot at the time of each spike detected by the extractor.</div>"
   ]
  },
  {
   "cell_type": "code",
   "execution_count": null,
   "metadata": {
    "collapsed": false,
    "scrolled": false
   },
   "outputs": [],
   "source": [
    "fig = plt.figure()\n",
    "p = plt.plot(t, v, color='black')\n",
    "\n",
    "min_v = v.min()\n",
    "\n",
    "v_level = min_v - 5\n",
    "\n",
    "plt.scatter(spike_times, np.ones(len(spike_times)) * min_v, c='firebrick')\n",
    "plt.xlim(0.9, 1.2)"
   ]
  },
  {
   "cell_type": "markdown",
   "metadata": {},
   "source": [
    "<div style=\"border-left: 3px solid #000; padding: 1px; padding-left: 10px; background: #F0FAFF; \">\n",
    "\n",
    "We could also get the threshold voltages from the extractor and put dots where the extractor thinks the spikes begin (zooming in a little more to see better): </div>"
   ]
  },
  {
   "cell_type": "code",
   "execution_count": null,
   "metadata": {
    "collapsed": false,
    "scrolled": false
   },
   "outputs": [],
   "source": [
    "fig = plt.figure()\n",
    "plt.plot(t, v, color='black')\n",
    "\n",
    "threshold_v = sweep_ext.spike_feature(\"threshold_v\")\n",
    "\n",
    "# setting zorder puts the dots on top of the trace\n",
    "plt.scatter(spike_times, threshold_v, s=50, c='firebrick', zorder=20)\n",
    "plt.xlim(1.015, 1.08)"
   ]
  },
  {
   "cell_type": "markdown",
   "metadata": {},
   "source": [
    "<div style=\"border-left: 3px solid #000; padding: 1px; padding-left: 10px; background: #F0FAFF; \">\n",
    "**Documentation:**\n",
    "[pyplot.scatter()](http://matplotlib.org/api/pyplot_api.html#matplotlib.pyplot.scatter)\n",
    "</div>"
   ]
  },
  {
   "cell_type": "markdown",
   "metadata": {},
   "source": [
    "<div style=\"background: #DFF0D8; border-radius: 3px; padding: 10px;\">\n",
    "<p>**Exercise 3.1:**</p>\n",
    "<p>\n",
    "Add dots to the above plot to illustrate where the extractor thinks the peaks and fast troughs of the spikes are. Use different colors for these different features.\n",
    "</p>\n",
    "</div>"
   ]
  },
  {
   "cell_type": "code",
   "execution_count": null,
   "metadata": {
    "collapsed": false
   },
   "outputs": [],
   "source": []
  },
  {
   "cell_type": "markdown",
   "metadata": {
    "collapsed": true
   },
   "source": [
    "<div style=\"border-left: 3px solid #000; padding: 1px; padding-left: 10px; background: #F0FAFF; \">\n",
    "\n",
    "We can use these features to look at things like how particular aspects of firing change throughout the step and at different stimulus levels. Here, we'll look at how the instantaneous firing frequency changes from spike to spike during a step (does it slow down? accelerate? stay the same?).\n",
    "\n",
    "We'll work through this step-by-step. </div>"
   ]
  },
  {
   "cell_type": "markdown",
   "metadata": {},
   "source": [
    "<div style=\"background: #DFF0D8; border-radius: 3px; padding: 10px;\">\n",
    "<p>**Exercise 3.2:**</p>\n",
    "\n",
    "<p>\n",
    "First, calculate the interspike intervals between the spike times shown above and store them in a variable called `isis` (the function [`np.diff()`](http://docs.scipy.org/doc/numpy/reference/generated/numpy.diff.html) may be useful here).\n",
    "</p>\n",
    "</div>"
   ]
  },
  {
   "cell_type": "code",
   "execution_count": null,
   "metadata": {
    "collapsed": true
   },
   "outputs": [],
   "source": []
  },
  {
   "cell_type": "markdown",
   "metadata": {},
   "source": [
    "<div style=\"border-left: 3px solid #000; padding: 1px; padding-left: 10px; background: #F0FAFF; \">\n",
    "\n",
    "Now that we have the interspike intervals, we can invert them to get the instantaneous firing rates.</div>"
   ]
  },
  {
   "cell_type": "markdown",
   "metadata": {},
   "source": [
    "<div style=\"background: #DFF0D8; border-radius: 3px; padding: 10px;\">\n",
    "<p>**Exercise 3.3:**</p>\n",
    "\n",
    "<p>\n",
    "Next, invert the interspike intervals to calculate the instantaneous firing rates and store them in the variable `inst_rates`. Then plot that rate vs spike number.\n",
    "</p>\n",
    "</div>"
   ]
  },
  {
   "cell_type": "code",
   "execution_count": null,
   "metadata": {
    "collapsed": false
   },
   "outputs": [],
   "source": []
  },
  {
   "cell_type": "markdown",
   "metadata": {},
   "source": [
    "<div style=\"border-left: 3px solid #000; padding: 1px; padding-left: 10px; background: #F0FAFF; \">\n",
    "\n",
    "Finally, let's plot that for several different sweep amplitudes to see how the response changes. </div>"
   ]
  },
  {
   "cell_type": "markdown",
   "metadata": {},
   "source": [
    "<div style=\"background: #DFF0D8; border-radius: 3px; padding: 10px;\">\n",
    "<p>**Exercise 3.4:**</p>\n",
    "\n",
    "<p>\n",
    "Calculate the instantaneous firing frequency for the sweeps numbered 29 through 35 and plot them against spike number on the same graph.\n",
    "</p>\n",
    "\n",
    "<p>\n",
    "On a separate graph, plot the same thing, but normalize each sweep by the instantaneous firing frequency of its first spike.\n",
    "</p>\n",
    "\n",
    "\n",
    "</div>"
   ]
  },
  {
   "cell_type": "code",
   "execution_count": null,
   "metadata": {
    "collapsed": false,
    "scrolled": false
   },
   "outputs": [],
   "source": []
  },
  {
   "cell_type": "markdown",
   "metadata": {},
   "source": [
    "<div style=\"border-left: 3px solid #000; padding: 1px; padding-left: 10px; background: #F0FAFF; \">\n",
    "\n",
    "<h2>4. Pre-computed features in the database</h2>\n",
    "\n",
    "<p>\n",
    "There is also a [set of features](http://help.brain-map.org/download/attachments/8323525/EphysOverview.pdf?version=1&modificationDate=1464378318096) in the Cell Types Database that have already been computed, which could serve as good starting points for further analysis. There are many features computed for each cell, including the cell's input resistance, spike thresholds, spike adaptation, etc.  We can query the database using the SDK to get these features. </p>\n",
    "</div>"
   ]
  },
  {
   "cell_type": "code",
   "execution_count": null,
   "metadata": {
    "collapsed": false,
    "scrolled": false
   },
   "outputs": [],
   "source": [
    "specimen_id = 464212183\n",
    "\n",
    "# download all features for all cells\n",
    "features = ctc.get_ephys_features()\n",
    "\n",
    "# filter down to a specific cell\n",
    "cell_features = [f for f in features if f['specimen_id'] == specimen_id]\n",
    "\n",
    "# display the result\n",
    "cell_features"
   ]
  },
  {
   "cell_type": "markdown",
   "metadata": {},
   "source": [
    "<div style=\"border-left: 3px solid #000; padding: 1px; padding-left: 10px; background: #F0FAFF; \">\n",
    "<p>\n",
    "**Documentation:**\n",
    "\n",
    "[CellTypesCache.get_ephys_features()](https://alleninstitute.github.io/AllenSDK/allensdk.core.html?highlight=get_ephys_features#allensdk.core.cell_types_cache.CellTypesCache.get_ephys_features)\n",
    "\n",
    "</p>\n",
    "</div>"
   ]
  },
  {
   "cell_type": "markdown",
   "metadata": {},
   "source": [
    "<div style=\"border-left: 3px solid #000; padding: 1px; padding-left: 10px; background: #F0FAFF; \">\n",
    "\n",
    "That's how to get all the ephys features for a given specimen - what if we want a particular feature for all cells?\n",
    "</div>"
   ]
  },
  {
   "cell_type": "code",
   "execution_count": null,
   "metadata": {
    "collapsed": false
   },
   "outputs": [],
   "source": [
    "tau = np.array([f['tau'] for f in features], dtype=float)\n",
    "input_resistance = np.array([f['ri'] for f in features], dtype=float)\n",
    "\n",
    "plt.figure()\n",
    "plt.scatter(tau, input_resistance, color='seagreen', alpha=0.5)\n",
    "plt.ylabel(\"input resistance (MOhm)\")\n",
    "plt.xlabel(\"membrane time constant (ms)\")"
   ]
  },
  {
   "cell_type": "markdown",
   "metadata": {},
   "source": [
    "<div style=\"border-left: 3px solid #000; padding: 1px; padding-left: 10px; background: #F0FAFF; \">\n",
    "<p>\n",
    "Let's use NumPy to fit a regression line to these data and plot it. The function we'll use is [`lstsq()`](http://docs.scipy.org/doc/numpy/reference/generated/numpy.linalg.lstsq.html) from the [`numpy.linalg`](http://docs.scipy.org/doc/numpy/reference/routines.linalg.html) module. This function solves the matrix equation \n",
    "</p>\n",
    "<p>\n",
    "$A \\vec{x} = \\vec{y}$\n",
    "</p>\n",
    "<p>\n",
    "for $\\vec{x}$, and it takes $A$ and $\\vec{y}$ as its parameters. Here, $\\vec{y}$ is a vector of our dependent values (input resistance, $R_{\\textrm{in}}$, in this case). $x$ has the coefficients of the equation we're solving for. Since we're fitting the data to a line of the form:\n",
    "</p>\n",
    "<p>\n",
    "$R_{\\textrm{in}} = m\\tau + c$\n",
    "</p>\n",
    "<p>\n",
    "Our vector of coefficients ($\\vec{x}$) will contain $m$ and $c$ like so:\n",
    "</p>\n",
    "<p>\n",
    "$\\vec{x} = \\left[ \\begin{array}{c}\n",
    "m \\\\\n",
    "c\n",
    "\\end{array} \\right]$\n",
    "</p>\n",
    "<p>\n",
    "So, we need to put together our $A$ matrix so that it makes sense when multiplied with $\\vec{x}$ that it would produce $\\vec{y}$. To do that, we'll put our independent values (the $\\tau$'s) in the first column of the matrix, and we'll fill the second column with ones. That way, when we multiply $A$ and $\\vec{x}$, we'll multiply $\\tau$ by $m$ and add $c$.\n",
    "</p>\n",
    "<p>\n",
    "$A = \\left[ \\begin{array}{cc}\n",
    "\\tau_0 & 1 \\\\\n",
    "\\tau_1 & 1 \\\\\n",
    "\\vdots & \\vdots\n",
    "\\end{array} \\right]$\n",
    "</p>\n",
    "<p>\n",
    "To do that, we can use the NumPy [`ones_like()`](http://docs.scipy.org/doc/numpy/reference/generated/numpy.ones_like.html) function to get an array full of ones that's the same size as the one we pass it. We can put two vectors together with the function [`vstack()`](http://docs.scipy.org/doc/numpy/reference/generated/numpy.vstack.html) (since a 1D array is treated as a row), and then use the `T` function to transpose that to turn the rows into columns. Here's the result:\n",
    "</p>\n",
    "</div>"
   ]
  },
  {
   "cell_type": "code",
   "execution_count": null,
   "metadata": {
    "collapsed": false
   },
   "outputs": [],
   "source": [
    "A = np.vstack([tau, np.ones_like(tau)]).T\n",
    "A"
   ]
  },
  {
   "cell_type": "markdown",
   "metadata": {},
   "source": [
    "<div style=\"border-left: 3px solid #000; padding: 1px; padding-left: 10px; background: #F0FAFF; \">\n",
    "\n",
    "Now we have the right inputs for `lstsq()`. </div>"
   ]
  },
  {
   "cell_type": "markdown",
   "metadata": {},
   "source": [
    "<div style=\"background: #DFF0D8; border-radius: 3px; padding: 10px;\">\n",
    "<p>**Exercise 4.1:**</p>\n",
    "\n",
    "<p>\n",
    "Run the least-squares fit and print out the coefficients `m` and `c` from the fit (note: the function returns a tuple - the coefficients are in the first entry of that tuple).\n",
    "</p>\n",
    "</div>"
   ]
  },
  {
   "cell_type": "code",
   "execution_count": null,
   "metadata": {
    "collapsed": false,
    "scrolled": true
   },
   "outputs": [],
   "source": []
  },
  {
   "cell_type": "markdown",
   "metadata": {},
   "source": [
    "<div style=\"background: #DFF0D8; border-radius: 3px; padding: 10px;\">\n",
    "<p>**Exercise 4.2:**</p>\n",
    "\n",
    "<p>\n",
    "Repeat the scatter plot of values above, but now plot the fit line on top of the data points.\n",
    "</p>\n",
    "</div>"
   ]
  },
  {
   "cell_type": "code",
   "execution_count": null,
   "metadata": {
    "collapsed": false,
    "scrolled": false
   },
   "outputs": [],
   "source": []
  },
  {
   "cell_type": "markdown",
   "metadata": {},
   "source": [
    "<div style=\"border-left: 3px solid #000; padding: 1px; padding-left: 10px; background: #F0FAFF; \">\n",
    "\n",
    "We can look at other pairs of features together. </div>"
   ]
  },
  {
   "cell_type": "code",
   "execution_count": null,
   "metadata": {
    "collapsed": false
   },
   "outputs": [],
   "source": [
    "updown = np.array([f['upstroke_downstroke_ratio_short_square'] for f in features], dtype=float)\n",
    "fasttrough = np.array([f['fast_trough_v_long_square'] for f in features], dtype=float)\n",
    "\n",
    "fig = plt.figure()\n",
    "plt.scatter(fasttrough, updown, color='seagreen', alpha=0.5)\n",
    "plt.ylabel(\"upstroke-downstroke ratio\")\n",
    "plt.xlabel(\"fast trough depth (mV)\")"
   ]
  },
  {
   "cell_type": "markdown",
   "metadata": {},
   "source": [
    "<div style=\"border-left: 3px solid #000; padding: 1px; padding-left: 10px; background: #F0FAFF; \">\n",
    "\n",
    "Here, it looks like there may be roughly two clusters in the data. Maybe they relate to whether the cells are presumably excitatory (spiny) cells or inhibitory (aspiny) cells? Let's query the data to split up the two sets to see. </div>"
   ]
  },
  {
   "cell_type": "code",
   "execution_count": null,
   "metadata": {
    "collapsed": false
   },
   "outputs": [],
   "source": [
    "cells = ctc.get_cells()\n",
    "\n",
    "cell_index = { c['id']: c for c in cells}\n",
    "\n",
    "dendrite_types = ['spiny', 'aspiny']\n",
    "data = {}\n",
    "\n",
    "for dendrite_type in dendrite_types:\n",
    "    type_features = [f for f in features if cell_index[f['specimen_id']]['dendrite_type'] == dendrite_type]\n",
    "    data[dendrite_type] = {\n",
    "        \"fasttrough\": [f['fast_trough_v_long_square'] for f in type_features],\n",
    "        \"updown\": [f['upstroke_downstroke_ratio_short_square'] for f in type_features],\n",
    "    }\n",
    "    \n",
    "plt.figure()\n",
    "for a_type, color in zip(dendrite_types, [\"slateblue\", \"tomato\"]):\n",
    "    plt.scatter(data[a_type]['fasttrough'], data[a_type]['updown'], color=color, label=a_type)\n",
    "plt.legend(loc='best')\n",
    "plt.ylabel(\"upstroke-downstroke ratio\")\n",
    "plt.xlabel(\"fast trough depth (mV)\")"
   ]
  },
  {
   "cell_type": "markdown",
   "metadata": {},
   "source": [
    "<div style=\"background: #DFF0D8; border-radius: 3px; padding: 10px;\">\n",
    "<p>**Exercise 4.3:**</p>\n",
    "\n",
    "<p>\n",
    "Pick two other features and plot them against each other. Find a pair you think is most interesting.\n",
    "</p>\n",
    "</div>"
   ]
  },
  {
   "cell_type": "code",
   "execution_count": null,
   "metadata": {
    "collapsed": false
   },
   "outputs": [],
   "source": []
  },
  {
   "cell_type": "code",
   "execution_count": null,
   "metadata": {
    "collapsed": false
   },
   "outputs": [],
   "source": [
    "# Generate field list \n",
    "fields = [(name, {}) for name in features[0].keys()]\n",
    "w.setFields(fields)\n",
    "\n",
    "# Convert data to a numpy record array (required by pyqtgraph)\n",
    "fdata = np.empty(len(features), dtype=[(name, float) for name in features[0]])\n",
    "for i, rec in enumerate(features):\n",
    "    for k,v in rec.items():\n",
    "        fdata[i][k] = v\n",
    "\n",
    "# Send data to the scatter plot generator\n",
    "w.setData(fdata)\n",
    "\n",
    "# Hint: plot avg_isi vs adaptation or threshold_t_ramp, colored by tau"
   ]
  },
  {
   "cell_type": "markdown",
   "metadata": {},
   "source": [
    "<div style=\"border-left: 3px solid #000; padding: 1px; padding-left: 10px; background: #F0FAFF; \">\n",
    "\n",
    "The database also contains morphological features, including things like the maximum distance from the soma, number of stems emerging from the soma, and others: </div>"
   ]
  },
  {
   "cell_type": "code",
   "execution_count": null,
   "metadata": {
    "collapsed": false,
    "scrolled": false
   },
   "outputs": [],
   "source": [
    "morph_features = ctc.get_morphology_features()\n",
    "\n",
    "cell_morph_features = [f for f in morph_features if f['specimen_id'] == specimen_id]\n",
    "print cell_morph_features"
   ]
  },
  {
   "cell_type": "markdown",
   "metadata": {},
   "source": [
    "<div style=\"border-left: 3px solid #000; padding: 1px; padding-left: 10px; background: #F0FAFF; \">\n",
    "\n",
    "\n",
    "<h2>5. GLIF models</h2>\n",
    "\n",
    "<p>\n",
    "To use the models in the Cell Types database, we'll use another set of tools in the SDK. Here's how to download and run a particular GLIF model that we know the ID of. </p> </div>"
   ]
  },
  {
   "cell_type": "code",
   "execution_count": null,
   "metadata": {
    "collapsed": false
   },
   "outputs": [],
   "source": [
    "from allensdk.api.queries.glif_api import GlifApi\n",
    "from allensdk.model.glif.glif_neuron import GlifNeuron\n",
    "\n",
    "glif_model_id = 472299313 # Level 5 GLIF for neuron with specimen ID = 464212183\n",
    "glif_api = GlifApi()\n",
    "\n",
    "glif_api.get_neuronal_model(glif_model_id)\n",
    "neuron_config = glif_api.get_neuron_config()\n",
    "neuron = GlifNeuron.from_dict(neuron_config)"
   ]
  },
  {
   "cell_type": "code",
   "execution_count": null,
   "metadata": {
    "collapsed": false
   },
   "outputs": [],
   "source": [
    "# Run the stimulus from a given sweep\n",
    "sweep_number = 31\n",
    "sweep_data = data_set.get_sweep(sweep_number)\n",
    "i = sweep_data[\"stimulus\"]\n",
    "sampling_rate = sweep_data[\"sampling_rate\"]\n",
    "neuron.dt = 1.0 / sampling_rate\n",
    "index_range = sweep_data[\"index_range\"]\n",
    "\n",
    "output = neuron.run(i[index_range[0]:index_range[1]])"
   ]
  },
  {
   "cell_type": "markdown",
   "metadata": {},
   "source": [
    "<div style=\"border-left: 3px solid #000; padding: 1px; padding-left: 10px; background: #F0FAFF; \">\n",
    "**Documentation:**\n",
    "[GlifApi.get_neuronal_model()](http://alleninstitute.github.io/AllenSDK/allensdk.api.queries.html?highlight=get_neuronal_model#allensdk.api.queries.glif_api.GlifApi.get_neuronal_model), [GlifApi.get_neuron_config()](http://alleninstitute.github.io/AllenSDK/allensdk.api.queries.html?highlight=get_neuronal_model#allensdk.api.queries.glif_api.GlifApi.get_neuron_config), [GlifNeuron.from_dict()](http://alleninstitute.github.io/AllenSDK/allensdk.model.glif.html?highlight=glifneuron.from_dict#allensdk.model.glif.glif_neuron.GlifNeuron.from_dict), [GlifNeuron.run()](http://alleninstitute.github.io/AllenSDK/allensdk.model.glif.html?highlight=glifneuron.from_dict#allensdk.model.glif.glif_neuron.GlifNeuron.run)\n",
    "</div>"
   ]
  },
  {
   "cell_type": "markdown",
   "metadata": {},
   "source": [
    "<div style=\"border-left: 3px solid #000; padding: 1px; padding-left: 10px; background: #F0FAFF; \">\n",
    "\n",
    "We can take a look at the different outputs from the model. </div>"
   ]
  },
  {
   "cell_type": "code",
   "execution_count": null,
   "metadata": {
    "collapsed": false,
    "scrolled": false
   },
   "outputs": [],
   "source": [
    "t = np.arange(0, len(output['voltage'])) * neuron.dt\n",
    "\n",
    "fig, ax = plt.subplots(1, 1)\n",
    "ax.plot(t, output['voltage'] * 1e3, label='voltage')\n",
    "ax.plot(t, output['threshold'] * 1e3, label='threshold')\n",
    "ax.legend(loc=\"best\")\n",
    "\n",
    "spike_times = output['interpolated_spike_times']\n",
    "ax.scatter(spike_times, np.ones(len(spike_times)) * 30.0, c='k')\n",
    "ax.set(ylabel=\"mV\", xlabel=\"seconds\", xlim=(0, 2))"
   ]
  },
  {
   "cell_type": "markdown",
   "metadata": {},
   "source": [
    "<div style=\"border-left: 3px solid #000; padding: 1px; padding-left: 10px; background: #F0FAFF; \">\n",
    "\n",
    "Several versions of GLIF models exist for many neurons, with additional factors that increase their complexity (and, ideally, improve their reproduction of the original data). We can compare these fits directly - in this case, the level-5 version we've been looking at (that includes factors like reset rules, after-spike currents, and threshold adaption) with a simpler level-2 version (that only includes reset rules). </div>"
   ]
  },
  {
   "cell_type": "markdown",
   "metadata": {},
   "source": [
    "<div style=\"background: #DFF0D8; border-radius: 3px; padding: 10px;\">\n",
    "<p>**Exercise 5.1:**</p>\n",
    "\n",
    "<p>\n",
    "Look at the Level-2 GLIF model for the same cell (GLIF model ID of 472299317). In what ways does it differ from the Level-5 version? Does that change for different sweeps?</p>\n",
    "</div>"
   ]
  },
  {
   "cell_type": "code",
   "execution_count": null,
   "metadata": {
    "collapsed": false
   },
   "outputs": [],
   "source": []
  },
  {
   "cell_type": "markdown",
   "metadata": {
    "collapsed": false
   },
   "source": [
    "<div style=\"border-left: 3px solid #000; padding: 1px; padding-left: 10px; background: #F0FAFF; \">\n",
    "\n",
    "<h2>6. Biophysical models</h2>\n",
    "\n",
    "\n",
    "<p>**NOTE: You must have NEURON installed and configured to work with Python for this section to work correctly**</p>\n",
    "\n",
    "<p>All biophysical models are implemented using the [NEURON](http://www.neuron.yale.edu/neuron) simulation environment. Documentation for the [NEURON API can be found here](http://www.neuron.yale.edu/neuron/static/new_doc/index.html). A biophysical model can be downloaded and run in a similar way as the GLIF models using the AllenSDK.</p>\n",
    "</div>"
   ]
  },
  {
   "cell_type": "code",
   "execution_count": null,
   "metadata": {
    "collapsed": false,
    "scrolled": true
   },
   "outputs": [],
   "source": [
    "from allensdk.api.queries.biophysical_api import BiophysicalApi\n",
    "\n",
    "bp_api = BiophysicalApi()\n",
    "bp_api.cache_stimulus = False # don't download the stimulus waveforms (NWB file)\n",
    "neuronal_model_id = 473863035\n",
    "\n",
    "bp_api.cache_data(neuronal_model_id, working_directory='neuronal_model')"
   ]
  },
  {
   "cell_type": "markdown",
   "metadata": {
    "collapsed": false
   },
   "source": [
    "<div style=\"border-left: 3px solid #000; padding: 1px; padding-left: 10px; background: #F0FAFF; \">\n",
    "First, we need to enter the `neuronal_model` directory to load the model. We'll save our current location in `cwd` (current working directory) to go back afterwards.\n",
    "</div>"
   ]
  },
  {
   "cell_type": "code",
   "execution_count": null,
   "metadata": {
    "collapsed": true
   },
   "outputs": [],
   "source": [
    "cwd = os.getcwd()\n",
    "os.chdir(os.path.join(cwd, 'neuronal_model'))"
   ]
  },
  {
   "cell_type": "markdown",
   "metadata": {},
   "source": [
    "<div style=\"border-left: 3px solid #000; padding: 1px; padding-left: 10px; background: #F0FAFF; \">\n",
    "**Documentation:**\n",
    "[BiophysicalAPI](http://alleninstitute.github.io/AllenSDK/allensdk.api.queries.html?highlight=biophysicalapi#allensdk.api.queries.biophysical_api.BiophysicalApi)\n",
    "\n",
    "<p>\n",
    "We need to compile the .mod files that describe the biophysical mechanisms before using the model.</p>\n",
    "\n",
    "<p>\n",
    "**OSX/Linux users:** Run the cell below to compile .mod files. </p>\n",
    "\n",
    "<p>\n",
    "**Windows users:** </p>\n",
    "\n",
    "<ul>\n",
    "<li> Start -> All Programs -> NEURON 7.4 -> mknrndll\n",
    "<li>Browse to the dynamicbrain2016\\celltypes\\neuronal_model\\modfiles directory\n",
    "<li>Click `Make nrnmech.dll`</ul>\n",
    "</div>\n"
   ]
  },
  {
   "cell_type": "code",
   "execution_count": null,
   "metadata": {
    "collapsed": false
   },
   "outputs": [],
   "source": [
    "import sys\n",
    "if sys.platform == 'win32':\n",
    "    print \"WARNING: modfiles must be compiled manually in windows; see above.\"\n",
    "else:\n",
    "    # Execute the NEURON program `nrnivmodl`\n",
    "    os.system('nrnivmodl modfiles')"
   ]
  },
  {
   "cell_type": "markdown",
   "metadata": {},
   "source": [
    "<div style=\"border-left: 3px solid #000; padding: 1px; padding-left: 10px; background: #F0FAFF; \">\n",
    "\n",
    "Now that that's done, let's see what else is in the folder. </div>"
   ]
  },
  {
   "cell_type": "code",
   "execution_count": null,
   "metadata": {
    "collapsed": false
   },
   "outputs": [],
   "source": [
    "print(os.listdir('.'))"
   ]
  },
  {
   "cell_type": "markdown",
   "metadata": {},
   "source": [
    "<div style=\"border-left: 3px solid #000; padding: 1px; padding-left: 10px; background: #F0FAFF; \">\n",
    "\n",
    "Now that we have our files sorted, we'll configure the model. </div>"
   ]
  },
  {
   "cell_type": "code",
   "execution_count": null,
   "metadata": {
    "collapsed": true
   },
   "outputs": [],
   "source": [
    "# How to get NEURON to import on a Windows systems (not necessary for OS X or Linux)\n",
    "import os, sys\n",
    "if sys.platform == 'win32':\n",
    "    sys.path.append(\"C:\\\\nrn\\\\lib\\\\python\")\n",
    "    os.putenv('PATH', os.getenv('PATH') + \";C:\\\\nrn\\\\bin;C:\\\\nrn\\\\mingw\\\\bin\")"
   ]
  },
  {
   "cell_type": "code",
   "execution_count": null,
   "metadata": {
    "collapsed": false
   },
   "outputs": [],
   "source": [
    "from allensdk.model.biophys_sim.config import Config\n",
    "from allensdk.model.biophysical.utils import Utils\n",
    "\n",
    "description = Config().load(\"manifest.json\")\n",
    "utils = Utils(description) # object for setting up the model\n",
    "\n",
    "if sys.platform == 'win32':\n",
    "    utils.h.nrn_load_dll(os.path.join(\"modfiles\", \"nrnmech.dll\"))\n",
    "\n",
    "manifest = description.manifest\n",
    "morphology_path = manifest.get_path(\"MORPHOLOGY\")\n",
    "utils.generate_morphology(morphology_path)\n",
    "utils.load_cell_parameters()\n",
    "\n",
    "# Now let's set up the stimulus\n",
    "h = utils.h # get access to the NEURON environment through \"h\"\n",
    "stim = h.IClamp(h.soma[0](0.5)) # insert a current clamp stimulus in the middle of the soma\n",
    "stim.amp = 0.2 # nA\n",
    "stim.dur = 1000 # ms\n",
    "stim.delay = 1000 # ms\n",
    "\n",
    "# set up variable time step for faster execution\n",
    "h.cvode_active(1)\n",
    "h.cvode.atolscale(\"cai\", 1e-4)\n",
    "h.cvode.maxstep(10)\n",
    "\n",
    "vec = utils.record_values() # save the voltage and time values\n",
    "\n",
    "h.tstop = 3000 # run it for 3 sec\n",
    "\n",
    "os.chdir(os.path.join(cwd)) # go back to our original directory, now that we've loaded the model"
   ]
  },
  {
   "cell_type": "markdown",
   "metadata": {},
   "source": [
    "<div style=\"border-left: 3px solid #000; padding: 1px; padding-left: 10px; background: #F0FAFF; \">\n",
    "**Documentation:** [biophys_sim.config.Config](http://alleninstitute.github.io/AllenSDK/allensdk.model.biophys_sim.html?highlight=biophys_sim.config#allensdk.model.biophys_sim.config.Config), [biophysical.utils](http://alleninstitute.github.io/AllenSDK/allensdk.model.biophysical.html#module-allensdk.model.biophysical.utils), [nrn.IClamp](http://www.neuron.yale.edu/neuron/static/docs/help/neuron/neuron/mech.html#IClamp), [nrn.Cvode](http://www.neuron.yale.edu/neuron/static/new_doc/simctrl/cvode.html) </div>"
   ]
  },
  {
   "cell_type": "markdown",
   "metadata": {},
   "source": [
    "<div style=\"border-left: 3px solid #000; padding: 1px; padding-left: 10px; background: #F0FAFF; \">\n",
    "\n",
    "Now let's run the model and see what we get. </div>"
   ]
  },
  {
   "cell_type": "code",
   "execution_count": null,
   "metadata": {
    "collapsed": false
   },
   "outputs": [],
   "source": [
    "h.finitialize()\n",
    "h.run()\n",
    "\n",
    "plt.figure()\n",
    "plt.plot(vec[\"t\"], vec[\"v\"], color='black')"
   ]
  },
  {
   "cell_type": "markdown",
   "metadata": {},
   "source": [
    "<div style=\"border-left: 3px solid #000; padding: 1px; padding-left: 10px; background: #F0FAFF; \">\n",
    "<h2>Homework</h2>\n",
    "</div>"
   ]
  },
  {
   "cell_type": "markdown",
   "metadata": {},
   "source": [
    "<div style=\"border-left: 3px solid #000; padding: 1px; padding-left: 10px; background: #F0FAFF; \">\n",
    "\n",
    "**1. Data access**\n",
    "</div>"
   ]
  },
  {
   "cell_type": "markdown",
   "metadata": {},
   "source": [
    "<div style=\"background: #DFF0D8; border-radius: 3px; padding: 10px;\">\n",
    "<p>**Homework 1.1:**</p>\n",
    "\n",
    "<p>\n",
    "Load data (voltage, current, time) from a long-square sweep. Try to use NumPy methods to figure out the amplitude of the current step applied during this sweep. Can you also figure out when the step begins? Would your method work with any step amplitude?\n",
    "</p>\n",
    "</div>"
   ]
  },
  {
   "cell_type": "code",
   "execution_count": null,
   "metadata": {
    "collapsed": false
   },
   "outputs": [],
   "source": []
  },
  {
   "cell_type": "markdown",
   "metadata": {},
   "source": [
    "<div style=\"background: #DFF0D8; border-radius: 3px; padding: 10px;\">\n",
    "<p>**Homework 1.2:**</p>\n",
    "\n",
    "<p>\n",
    "Load sweeps for three different stimulus protocols (ramp, short square, and long square). Look for the appropriate sweep numbers using the web app.\n",
    "</p>\n",
    "\n",
    "<p>\n",
    "Plot both the voltage traces and the current stimuli that elicited them. Try to adjust the plot axis limits to view the most relevant part of the data.\n",
    "</p>\n",
    "\n",
    "<p>\n",
    "**Hint:** The URL for a particular specimen ID has the form <code>http://celltypes.brain-map.org/mouse/experiment/electrophysiology/000000000</code> where <code>000000000</code> is the specimen ID.\n",
    "</p>\n",
    "</div>"
   ]
  },
  {
   "cell_type": "code",
   "execution_count": null,
   "metadata": {
    "collapsed": false
   },
   "outputs": [],
   "source": []
  },
  {
   "cell_type": "markdown",
   "metadata": {},
   "source": [
    "<div style=\"border-left: 3px solid #000; padding: 1px; padding-left: 10px; background: #F0FAFF; \">\n",
    "\n",
    "**2. Morphological data**\n",
    "</div>"
   ]
  },
  {
   "cell_type": "markdown",
   "metadata": {},
   "source": [
    "<div style=\"background: #DFF0D8; border-radius: 3px; padding: 10px;\">\n",
    "<p>**Homework 2.1:**</p>\n",
    "\n",
    "<p>\n",
    "Plot the morphology for the cell with a specimen ID of 473943881. Color the axonal and dendritic compartments differently.\n",
    "</p>\n",
    "</div>"
   ]
  },
  {
   "cell_type": "code",
   "execution_count": null,
   "metadata": {
    "collapsed": false,
    "scrolled": false
   },
   "outputs": [],
   "source": []
  },
  {
   "cell_type": "markdown",
   "metadata": {},
   "source": [
    "<div style=\"background: #DFF0D8; border-radius: 3px; padding: 10px;\">\n",
    "<p>**Homework 2.2:**</p>\n",
    "<p>\n",
    "Use the function you wrote earlier to calculate the total length of the dendritic compartments of every cell with a morphological reconstruction. Plot a histogram of those values.\n",
    "</p>\n",
    "</div>"
   ]
  },
  {
   "cell_type": "code",
   "execution_count": null,
   "metadata": {
    "collapsed": false,
    "scrolled": false
   },
   "outputs": [],
   "source": []
  },
  {
   "cell_type": "markdown",
   "metadata": {},
   "source": [
    "<div style=\"border-left: 3px solid #000; padding: 1px; padding-left: 10px; background: #F0FAFF; \">\n",
    "**3. Feature analysis**\n",
    "</div>"
   ]
  },
  {
   "cell_type": "markdown",
   "metadata": {},
   "source": [
    "<div style=\"background: #DFF0D8; border-radius: 3px; padding: 10px;\">\n",
    "<p>**Homework 3.1:**</p>\n",
    "\n",
    "<p>\n",
    "Plot the average upstroke/downstroke ratio (on short squares) of all the cells , split up by Cre line (note: use the key `transgenic_line` to access that information). Add error bars to show the standard deviation.\n",
    "</p>\n",
    "</div>"
   ]
  },
  {
   "cell_type": "code",
   "execution_count": null,
   "metadata": {
    "collapsed": false,
    "scrolled": false
   },
   "outputs": [],
   "source": []
  },
  {
   "cell_type": "markdown",
   "metadata": {},
   "source": [
    "<div style=\"background: #DFF0D8; border-radius: 3px; padding: 10px;\">\n",
    "<p>**Homework 3.2:**</p>\n",
    "\n",
    "<p>\n",
    "Use the feature extractor to plot the waveform of every spike in a given sweep on top of each other. How much (or little) variability there is in the spike waveform during the course of a sweep? Is there a consistent trend from the first spike to the last?\n",
    "</p>\n",
    "</div>"
   ]
  },
  {
   "cell_type": "code",
   "execution_count": null,
   "metadata": {
    "collapsed": false
   },
   "outputs": [],
   "source": []
  },
  {
   "cell_type": "markdown",
   "metadata": {},
   "source": [
    "<div style=\"background: #DFF0D8; border-radius: 3px; padding: 10px;\">\n",
    "<p>**Homework 3.3:**</p>\n",
    "\n",
    "<p>\n",
    "The membrane time constant ($\\tau$) and input resistance ($R_m$) can be used together to estimate the total capacitance of the cell ($C_m$), since $\\tau = R_m C_m$. Estimate the capacitance of each cell that has a reconstruction. Then, plot the capacitance against the total dendritic length you calculated above to see if there is any relationship between the two.\n",
    "</p>\n",
    "</div>"
   ]
  },
  {
   "cell_type": "code",
   "execution_count": null,
   "metadata": {
    "collapsed": false
   },
   "outputs": [],
   "source": []
  },
  {
   "cell_type": "markdown",
   "metadata": {},
   "source": [
    "<div style=\"background: #DFF0D8; border-radius: 3px; padding: 10px;\">\n",
    "<p>**(Bonus) Homework 3.4:**</p>\n",
    "\n",
    "<p>\n",
    "Train an [LDA classifier](http://scikit-learn.org/0.16/modules/generated/sklearn.lda.LDA.html) to distinguish between spiny/aspiny based on the upstroke/downstroke ratio and fast trough depth.</p>\n",
    "</div>"
   ]
  },
  {
   "cell_type": "code",
   "execution_count": null,
   "metadata": {
    "collapsed": false
   },
   "outputs": [],
   "source": []
  },
  {
   "cell_type": "markdown",
   "metadata": {},
   "source": [
    "<div style=\"border-left: 3px solid #000; padding: 1px; padding-left: 10px; background: #F0FAFF; \">\n",
    "\n",
    "**4. Single-cell models**\n",
    "\n",
    "</div>"
   ]
  },
  {
   "cell_type": "markdown",
   "metadata": {},
   "source": [
    "<div style=\"background: #DFF0D8; border-radius: 3px; padding: 10px;\">\n",
    "<p>**Homework 4.1:**</p>\n",
    "<p>\n",
    "Load the GLIF model with the ID 472424802. Use the code below to generate a sine-wave modulated input with random noise. Stimulate the model with that input.\n",
    "</p>\n",
    "<p>\n",
    "Try a few instances of that input (with different random noise) to see how that affects the time of the spikes.\n",
    "</p>\n",
    "</div>"
   ]
  },
  {
   "cell_type": "code",
   "execution_count": null,
   "metadata": {
    "collapsed": false
   },
   "outputs": [],
   "source": [
    "sampling_rate = 20000 # in Hz\n",
    "dt = 1. / sampling_rate\n",
    "t = np.arange(0, sampling_rate * 2) * dt\n",
    "cycles_per_second = 2\n",
    "intensity = 200\n",
    "i = intensity * np.sin(t * (2 * np.pi * cycles_per_second)) + np.random.normal(0, 7 * intensity, len(t))\n",
    "i *= 1e-12 # from pA to A"
   ]
  },
  {
   "cell_type": "code",
   "execution_count": null,
   "metadata": {
    "collapsed": false
   },
   "outputs": [],
   "source": []
  },
  {
   "cell_type": "markdown",
   "metadata": {},
   "source": [
    "<div style=\"background: #DFF0D8; border-radius: 3px; padding: 10px;\">\n",
    "<p>**(BONUS) Homework 4.2 (if you have NEURON set up)**</p>\n",
    "<p>\n",
    "Load the biophysically-detailed model shown in the *Biophysical models* section above. Use the feature extractor to analyze spike features and plot them as in the *Calculating features of the ephys data* section. \n",
    "</p>\n",
    "</div>"
   ]
  },
  {
   "cell_type": "code",
   "execution_count": null,
   "metadata": {
    "collapsed": false
   },
   "outputs": [],
   "source": []
  },
  {
   "cell_type": "markdown",
   "metadata": {},
   "source": [
    "<div style=\"border-left: 3px solid #000; padding: 1px; padding-left: 10px; background: #F0FAFF;\">\n",
    "<h2>Project suggestions</h2>\n",
    "\n",
    "<ul>\n",
    "<li>Examine how ephys / morph features vary across Cre-line, layer, and/or cortical location</li>\n",
    "<li>Attempt to classify cells using ephys data/features (e.g., use machine learning to predict Cre line)</li>\n",
    "<li>Calculate “dendrite density clouds” after orienting and averaging morphologies</li>\n",
    "<li>Look at whether truncation of apical dendrites is linked to differences in any ephys features</li>\n",
    "<li>Connect Brain Observatory functional properties to ephys intrinsic properties</li>\n",
    "<li>Perform <a href=\"https://en.wikipedia.org/wiki/Sholl_analysis\">Sholl analysis</a> on neuronal morphologies</li>\n",
    "<li>Look for correlations between ephys data and Gene Expression and Taxonomy in V1</li>\n",
    "<li>Compare GLIF and biophysical models based on the same cells \\*</li>\n",
    "<li>Create a simple circuit with GLIF or biophysical models and supply with external inputs \\*</li>\n",
    "<li>Distribute synapses across dendritic trees of different models and compare the distribution of PSPs (how many PSPs are needed to generate a spike across cells and conditions?) \\*</li>\n",
    "</ul>\n",
    "</div>"
   ]
  }
 ],
 "metadata": {
  "kernelspec": {
   "display_name": "Python 2",
   "language": "python",
   "name": "python2"
  },
  "language_info": {
   "codemirror_mode": {
    "name": "ipython",
    "version": 2
   },
   "file_extension": ".py",
   "mimetype": "text/x-python",
   "name": "python",
   "nbconvert_exporter": "python",
   "pygments_lexer": "ipython2",
   "version": "2.7.11"
  }
 },
 "nbformat": 4,
 "nbformat_minor": 0
}
