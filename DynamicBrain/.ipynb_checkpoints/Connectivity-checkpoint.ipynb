{
 "cells": [
  {
   "cell_type": "markdown",
   "metadata": {},
   "source": [
    "<img src=\"../PythonBootcamp/support_files/cropped-SummerWorkshop_Header.png\">  \n",
    "\n",
    "<h1 align=\"center\">Introduction to the Allen Mouse Brain Connectivity Atlas</h1> \n",
    "<h3 align=\"center\">August 23, 2016</h3> "
   ]
  },
  {
   "cell_type": "markdown",
   "metadata": {},
   "source": [
    "<div style=\"border-left: 3px solid #000; padding: 1px; padding-left: 10px; background: #F0FAFF; \">\n",
    "<p>This notebook demonstrates how to access and manipulate data in the Allen Mouse Brain Connectivity Atlas.\n",
    "</div>"
   ]
  },
  {
   "cell_type": "code",
   "execution_count": null,
   "metadata": {
    "collapsed": true
   },
   "outputs": [],
   "source": [
    "# please make sure your drive_path is set, so that the notebook can find the data files on the hard drive\n",
    "\n",
    "# OS X\n",
    "drive_path = '/Volumes/Brain2016'\n",
    "\n",
    "# Windows (a good guess)\n",
    "# drive_path = 'e:/'\n",
    "\n",
    "# Linux (will vary; the following is possibly what Ubuntu will do)\n",
    "# drive_path = '/media/Brain2016/'"
   ]
  },
  {
   "cell_type": "markdown",
   "metadata": {},
   "source": [
    "<div style=\"border-left: 3px solid #000; padding: 1px; padding-left: 10px; background: #F0FAFF; \">\n",
    "<p>The `MouseConnectivityCache` AllenSDK class provides methods for downloading metadata about experiments, including their viral injection site and the mouse's transgenic line. You can request information either as a Pandas DataFrame or a simple list of dictionaries.\n",
    "\n",
    "<p>An important feature of the `MouseConnectivityCache` is how it stores and retrieves data for you. By default, it will create (or read) a manifest file that keeps track of where various connectivity atlas data are stored. If you request something that has not already been downloaded, it will download it and store it in a well known location.\n",
    "</div>"
   ]
  },
  {
   "cell_type": "code",
   "execution_count": null,
   "metadata": {
    "collapsed": true
   },
   "outputs": [],
   "source": [
    "import os\n",
    "from allensdk.core.mouse_connectivity_cache import MouseConnectivityCache"
   ]
  },
  {
   "cell_type": "code",
   "execution_count": null,
   "metadata": {
    "collapsed": false
   },
   "outputs": [],
   "source": [
    "# When downloading 3D connectivity data volumes, what resolution do you want (in microns)?  \n",
    "# Options are: 10, 25, 50, 100\n",
    "resolution_um=25\n",
    "\n",
    "# The manifest file is a simple JSON file that keeps track of all of\n",
    "# the data that has already been downloaded onto the hard drives.\n",
    "# If you supply a relative path, it is assumed to be relative to your\n",
    "# current working directory.\n",
    "manifest_file = os.path.join(drive_path, \"MouseConnectivity\",\"manifest.json\")\n",
    "\n",
    "mcc = MouseConnectivityCache(manifest_file=manifest_file, resolution=resolution_um)\n",
    "\n",
    "# open up a pandas dataframe of all of the experiments\n",
    "all_experiments = mcc.get_experiments(dataframe=True)\n",
    "print \"%d total experiments\" % len(all_experiments)\n",
    "\n",
    "# take a look at what we know about an experiment with a primary motor injection\n",
    "all_experiments.loc[122642490]"
   ]
  },
  {
   "cell_type": "markdown",
   "metadata": {},
   "source": [
    "<div style=\"background: #DFF0D8; border-radius: 3px; padding: 10px;\">\n",
    "<p>**Exercise Set 1:**\n",
    "<ol>\n",
    "<li>Go to the mouse connectivity atlas (http://connectivity.brain-map.org)\n",
    "<li>Find an experiment ID for an injection in your favorite structure.  \n",
    "<li>Note this experiment's transgenic line.\n",
    "<li>Verify that the contents of `all_experiments` for that experiment are consistent with what's on the web application.\n",
    "</ol>   \n",
    "</div>"
   ]
  },
  {
   "cell_type": "code",
   "execution_count": null,
   "metadata": {
    "collapsed": false
   },
   "outputs": [],
   "source": []
  },
  {
   "cell_type": "markdown",
   "metadata": {},
   "source": [
    "<div style=\"border-left: 3px solid #000; padding: 1px; padding-left: 10px; background: #F0FAFF; \">\n",
    "<p>`MouseConnectivityCache` has a method for retrieving the adult mouse structure ontology as an `Ontology` class instance. This is a light wrapper around a Pandas DataFrame of structures that provides some helper methods for figuring out which structures are parents/children of each other. It's also handy for finding the ID of a structure by its acronym.\n",
    "</div>"
   ]
  },
  {
   "cell_type": "code",
   "execution_count": null,
   "metadata": {
    "collapsed": false
   },
   "outputs": [],
   "source": [
    "# grab the Ontology instance\n",
    "ontology = mcc.get_ontology()\n",
    "\n",
    "# get some info on the isocortex\n",
    "isocortex = ontology['Isocortex']\n",
    "isocortex"
   ]
  },
  {
   "cell_type": "markdown",
   "metadata": {},
   "source": [
    "<div style=\"background: #DFF0D8; border-radius: 3px; padding: 10px;\">\n",
    "<p>**Exercise 2.1:**  Take a look at what functions are available in the Ontology class using 'help' or 'dir'\n",
    " </div>"
   ]
  },
  {
   "cell_type": "code",
   "execution_count": null,
   "metadata": {
    "collapsed": true
   },
   "outputs": [],
   "source": []
  },
  {
   "cell_type": "markdown",
   "metadata": {},
   "source": [
    "<div style=\"background: #DFF0D8; border-radius: 3px; padding: 10px;\">\n",
    "<p>**Exercise 2.2:**  Print the name of the parent structure of isocortex.  \n",
    "  </div>"
   ]
  },
  {
   "cell_type": "code",
   "execution_count": null,
   "metadata": {
    "collapsed": true
   },
   "outputs": [],
   "source": []
  },
  {
   "cell_type": "markdown",
   "metadata": {},
   "source": [
    "<div style=\"background: #DFF0D8; border-radius: 3px; padding: 10px;\">\n",
    "**Exercise 2.3:**  Figure out the acronym for secondary motor area.  Hint: http://connectivity.brain-map.org, http://atlas.brain-map.org\n",
    "  </div>"
   ]
  },
  {
   "cell_type": "code",
   "execution_count": null,
   "metadata": {
    "collapsed": true
   },
   "outputs": [],
   "source": []
  },
  {
   "cell_type": "markdown",
   "metadata": {},
   "source": [
    "<div style=\"background: #DFF0D8; border-radius: 3px; padding: 10px;\">\n",
    "<p>**Exercise 2.4:** Print the acronyms for all of the visual areas in the ontology.\n",
    " </div>"
   ]
  },
  {
   "cell_type": "code",
   "execution_count": null,
   "metadata": {
    "collapsed": true
   },
   "outputs": [],
   "source": []
  },
  {
   "cell_type": "markdown",
   "metadata": {},
   "source": [
    "<div style=\"background: #DFF0D8; border-radius: 3px; padding: 10px;\">\n",
    "<p>**Exercise 2.5:** Print a list of acronyms for descendant structures of the cerebellum.\n",
    "</div>"
   ]
  },
  {
   "cell_type": "code",
   "execution_count": null,
   "metadata": {
    "collapsed": true
   },
   "outputs": [],
   "source": []
  },
  {
   "cell_type": "markdown",
   "metadata": {},
   "source": [
    "<div style=\"border-left: 3px solid #000; padding: 1px; padding-left: 10px; background: #F0FAFF; \">\n",
    "<p>On the connectivity atlas web site, you'll see that we show most of our data at a fairly coarse structure level. We did this by creating a \"structure set\" of ~300 structures. If you want to filter your ontology structures down to that list, you can do this:\n",
    "</div>"
   ]
  },
  {
   "cell_type": "code",
   "execution_count": null,
   "metadata": {
    "collapsed": false
   },
   "outputs": [],
   "source": [
    "from allensdk.api.queries.ontologies_api import OntologiesApi\n",
    "\n",
    "# get the adult mouse structures summary structures\n",
    "oa = OntologiesApi()\n",
    "set_name = [oa.quote_string('Mouse Connectivity - Summary')]\n",
    "summary_structures = oa.get_structures(structure_set_names=set_name)\n",
    "\n",
    "summary_structure_ids = [ s['id'] for s in summary_structures ]\n",
    "\n",
    "# let's just look at the first five\n",
    "ontology[summary_structure_ids[:5]]"
   ]
  },
  {
   "cell_type": "markdown",
   "metadata": {},
   "source": [
    "<div style=\"border-left: 3px solid #000; padding: 1px; padding-left: 10px; background: #F0FAFF; \">\n",
    "<p>This is how you can filter experiments by transgenic line:\n",
    "</div>"
   ]
  },
  {
   "cell_type": "code",
   "execution_count": null,
   "metadata": {
    "collapsed": false
   },
   "outputs": [],
   "source": [
    "# fetch the experiments that have injections in the isocortex of cre-positive mice\n",
    "cre_cortical_experiments = mcc.get_experiments(cre=True, \n",
    "                                                injection_structure_ids=isocortex['id'])\n",
    "\n",
    "print(\"%d Cre cortical experiments\" % len(cre_cortical_experiments))\n",
    "\n",
    "# same as before, but restrict the cre line\n",
    "rbp4_cortical_experiments = mcc.get_experiments(cre=[ 'Rbp4-Cre_KL100' ], \n",
    "                                                injection_structure_ids=isocortex['id'])\n",
    "\n",
    "\n",
    "print(\"%d Rbp4 cortical experiments\" % len(rbp4_cortical_experiments))"
   ]
  },
  {
   "cell_type": "markdown",
   "metadata": {},
   "source": [
    "<div style=\"background: #DFF0D8; border-radius: 3px; padding: 10px;\">\n",
    "<p>**Exercise Set 3.1:**  Make a unique list of all Cre lines associated with any experiment.\n",
    "  \n",
    "   </div>"
   ]
  },
  {
   "cell_type": "code",
   "execution_count": null,
   "metadata": {
    "collapsed": true
   },
   "outputs": [],
   "source": []
  },
  {
   "cell_type": "markdown",
   "metadata": {},
   "source": [
    "<div style=\"background: #DFF0D8; border-radius: 3px; padding: 10px;\">\n",
    "<p>**Exercise Set 3.2:**  Get all the wild-type experiments delivered to VISp. How many are there? How are they the same and different? \n",
    "   </div>"
   ]
  },
  {
   "cell_type": "code",
   "execution_count": null,
   "metadata": {
    "collapsed": true
   },
   "outputs": [],
   "source": []
  },
  {
   "cell_type": "markdown",
   "metadata": {},
   "source": [
    "<div style=\"background: #DFF0D8; border-radius: 3px; padding: 10px;\">\n",
    "<p>**Exercise Set 3.3:**  Pick your favorite Cre line (or use the one above). Count the injections with this line targeted to VISp. Repeat the analysis above.\n",
    "   </div>"
   ]
  },
  {
   "cell_type": "code",
   "execution_count": null,
   "metadata": {
    "collapsed": true
   },
   "outputs": [],
   "source": []
  },
  {
   "cell_type": "markdown",
   "metadata": {},
   "source": [
    "<div style=\"background: #DFF0D8; border-radius: 3px; padding: 10px;\">\n",
    "<p>**Exercise Set 3.4:**  Figure out how many experiments in each Cre line are available in VISp.\n",
    "   </div>"
   ]
  },
  {
   "cell_type": "code",
   "execution_count": null,
   "metadata": {
    "collapsed": true
   },
   "outputs": [],
   "source": []
  },
  {
   "cell_type": "markdown",
   "metadata": {},
   "source": [
    "<div style=\"border-left: 3px solid #000; padding: 1px; padding-left: 10px; background: #F0FAFF; \">\n",
    "<h2>Structure Signal Unionization</h2>\n",
    "\n",
    "<p>The ProjectionStructureUnionizes API data tells you how much signal there was in a given structure and experiment. It contains the density of projecting signal, volume of projecting signal, and other information. `MouseConnectivityCache` provides methods for querying and storing this data.\n",
    "\n",
    "<p>**Important structure unionize columns**\n",
    "\n",
    "<ul>\n",
    "<li> projection_density: sum of detected pixels / volume of structure   \n",
    "<li> projection_energy: sum of detected pixel intensity / volume of structure\n",
    "<li> projection_volume: volume of projecting signal in mm3\n",
    "<li> normalized_projection_volume: projection_volume / volume of injection site\n",
    "<li> is_injection: \n",
    "    <ul>\n",
    "   <li> True => record contains signal only inside injection site\n",
    "   <li> False => record contains signal only outside injection site\n",
    "   </ul>\n",
    "<li> hemisphere_id:\n",
    "    <ul>\n",
    "  <li> 1 => left hemisphere only\n",
    "  <li> 2 => right hemisphere only\n",
    "  <li> 3 => both hemispheres\n",
    "  </ul>\n",
    "</ul>\n",
    "\n",
    "<p>Please see http://help.brain-map.org/display/mouseconnectivity/API#API-ProjectionDataGridding for more information.\n",
    "</div>"
   ]
  },
  {
   "cell_type": "code",
   "execution_count": null,
   "metadata": {
    "collapsed": false
   },
   "outputs": [],
   "source": [
    "# find wild-type injections into primary visual area\n",
    "visp = ontology['VISp']\n",
    "visp_experiments = mcc.get_experiments(cre=False, \n",
    "                                       injection_structure_ids=visp['id'])\n",
    "\n",
    "print(\"%d VISp experiments\" % len(visp_experiments))\n",
    "\n",
    "structure_unionizes = mcc.get_structure_unionizes([ e['id'] for e in visp_experiments ], \n",
    "                                                  is_injection=False,\n",
    "                                                  structure_ids=isocortex['id'])\n",
    "\n",
    "print(\"%d VISp non-injection, cortical structure unionizes\" % len(structure_unionizes))"
   ]
  },
  {
   "cell_type": "code",
   "execution_count": null,
   "metadata": {
    "collapsed": false
   },
   "outputs": [],
   "source": [
    "structure_unionizes.head()"
   ]
  },
  {
   "cell_type": "markdown",
   "metadata": {},
   "source": [
    "<div style=\"border-left: 3px solid #000; padding: 1px; padding-left: 10px; background: #F0FAFF; \">\n",
    "<p>This is a rather large table, even for a relatively small number of experiments.  You can filter it down to a smaller list of structures like this.\n",
    "</div>"
   ]
  },
  {
   "cell_type": "code",
   "execution_count": null,
   "metadata": {
    "collapsed": false
   },
   "outputs": [],
   "source": [
    "dense_unionizes = structure_unionizes[ structure_unionizes.projection_density > .5 ]\n",
    "large_unionizes = dense_unionizes[ dense_unionizes.volume > .5 ]\n",
    "large_structures = ontology[large_unionizes.structure_id]\n",
    "\n",
    "print(\"%d large, dense, cortical, non-injection unionizes, %d structures\" % ( len(large_unionizes), len(large_structures) ))\n",
    "\n",
    "print(large_structures.name)\n",
    "\n",
    "large_unionizes"
   ]
  },
  {
   "cell_type": "markdown",
   "metadata": {},
   "source": [
    "<div style=\"background: #DFF0D8; border-radius: 3px; padding: 10px;\">\n",
    "<p>**Exercise Set 4.1:**  Get the StructureUnionize records for injections into primary motor areas, restricted to target structures in the hippocampal formation.  \n",
    "  </div>"
   ]
  },
  {
   "cell_type": "code",
   "execution_count": null,
   "metadata": {
    "collapsed": true
   },
   "outputs": [],
   "source": []
  },
  {
   "cell_type": "markdown",
   "metadata": {},
   "source": [
    "<div style=\"background: #DFF0D8; border-radius: 3px; padding: 10px;\">\n",
    "<p>**Exercise Set 4.2:**  Restrict further to only HPF, not all descendants.\n",
    "  </div>"
   ]
  },
  {
   "cell_type": "code",
   "execution_count": null,
   "metadata": {
    "collapsed": true
   },
   "outputs": [],
   "source": []
  },
  {
   "cell_type": "markdown",
   "metadata": {},
   "source": [
    "<div style=\"background: #DFF0D8; border-radius: 3px; padding: 10px;\">\n",
    "<p>**Exercise Set 4.3:**  Print the top 5 records by projection signal density.\n",
    "  </div>"
   ]
  },
  {
   "cell_type": "code",
   "execution_count": null,
   "metadata": {
    "collapsed": true
   },
   "outputs": [],
   "source": []
  },
  {
   "cell_type": "markdown",
   "metadata": {},
   "source": [
    "<div style=\"border-left: 3px solid #000; padding: 1px; padding-left: 10px; background: #F0FAFF; \">\n",
    "<h2>Generating a Projection Matrix</h2>\n",
    "<p>The `MouseConnectivityCache` class provides a helper method for converting ProjectionStructureUnionize records for a set of experiments and structures into a matrix.  This code snippet demonstrates how to make a matrix of projection density values in auditory sub-structures for cre-negative VISp experiments. \n",
    "</div>"
   ]
  },
  {
   "cell_type": "code",
   "execution_count": null,
   "metadata": {
    "collapsed": false
   },
   "outputs": [],
   "source": [
    "%matplotlib inline\n",
    "\n",
    "import numpy as np\n",
    "import matplotlib.pyplot as plt\n",
    "import warnings\n",
    "warnings.filterwarnings('ignore')\n",
    "\n",
    "\n",
    "visp_experiment_ids = [ e['id'] for e in visp_experiments ]\n",
    "ctx_children = ontology.get_child_ids( ontology['Isocortex'].id )\n",
    "\n",
    "pm = mcc.get_projection_matrix(experiment_ids = visp_experiment_ids, \n",
    "                               projection_structure_ids = ctx_children,\n",
    "                               hemisphere_ids= [2], # right hemisphere, ipsilateral\n",
    "                               parameter = 'projection_density')\n",
    "\n",
    "row_labels = pm['rows'] # these are just experiment ids\n",
    "column_labels = [ c['label'] for c in pm['columns'] ] \n",
    "matrix = pm['matrix']\n",
    "\n",
    "fig, ax = plt.subplots(figsize=(15,15))\n",
    "heatmap = ax.pcolor(matrix, cmap=plt.cm.afmhot)\n",
    "\n",
    "# put the major ticks at the middle of each cell\n",
    "ax.set_xticks(np.arange(matrix.shape[1])+0.5, minor=False)\n",
    "ax.set_yticks(np.arange(matrix.shape[0])+0.5, minor=False)\n",
    "\n",
    "ax.set_xlim([0, matrix.shape[1]])\n",
    "ax.set_ylim([0, matrix.shape[0]])          \n",
    "\n",
    "# want a more natural, table-like display\n",
    "ax.invert_yaxis()\n",
    "ax.xaxis.tick_top()\n",
    "\n",
    "ax.set_xticklabels(column_labels, minor=False)\n",
    "ax.set_yticklabels(row_labels, minor=False)\n",
    "plt.show()"
   ]
  },
  {
   "cell_type": "markdown",
   "metadata": {},
   "source": [
    "<div style=\"background: #DFF0D8; border-radius: 3px; padding: 10px;\">\n",
    "<p>**Exercise Set 5.1:**  Make a projection matrix using the same experiments from exercise 4, but for left-hemisphere data in children of isocortex.\n",
    "       </div>"
   ]
  },
  {
   "cell_type": "code",
   "execution_count": null,
   "metadata": {
    "collapsed": true
   },
   "outputs": [],
   "source": []
  },
  {
   "cell_type": "markdown",
   "metadata": {},
   "source": [
    "<div style=\"background: #DFF0D8; border-radius: 3px; padding: 10px;\">\n",
    "<p>**Exercise Set 5.2:**  Plot the projection matrix as a heat map.\n",
    "       </div>"
   ]
  },
  {
   "cell_type": "code",
   "execution_count": null,
   "metadata": {
    "collapsed": true
   },
   "outputs": [],
   "source": []
  },
  {
   "cell_type": "markdown",
   "metadata": {},
   "source": [
    "<div style=\"background: #DFF0D8; border-radius: 3px; padding: 10px;\">\n",
    "<p>**Exercise Set 5.3:**  Advanced: try to build the projection matrix without using get_projection_matrix.\n",
    "<ol>\n",
    "<li>retrieve the structure unionize records described in 5.1\n",
    "<li>pivot the records into a projection density matrix\n",
    "       </ol>\n",
    "       </div>"
   ]
  },
  {
   "cell_type": "code",
   "execution_count": null,
   "metadata": {
    "collapsed": true
   },
   "outputs": [],
   "source": []
  },
  {
   "cell_type": "markdown",
   "metadata": {},
   "source": [
    "<div style=\"border-left: 3px solid #000; padding: 1px; padding-left: 10px; background: #F0FAFF; \">\n",
    "<h2>Manipulating Grid Data</h2>\n",
    "\n",
    "<p>The `MouseConnectivityCache` class also helps you download and open every experiment's projection grid data volume. By default it will download 25um volumes, but uou could also download data at other resolutions if you prefer (10um, 50um, 100um).\n",
    "\n",
    "<p>This demonstrates how you can load the projection density for a particular experiment. It also shows how to download the template volume to which all grid data is registered. Voxels in that template have been structurally annotated by neuroanatomists and stored in a separate annotation volume image.\n",
    "</div>"
   ]
  },
  {
   "cell_type": "code",
   "execution_count": null,
   "metadata": {
    "collapsed": false
   },
   "outputs": [],
   "source": [
    "experiment_id = 181599674\n",
    "\n",
    "# projection density: number of projecting pixels / voxel volume\n",
    "pd, pd_info = mcc.get_projection_density(experiment_id)\n",
    "\n",
    "# injection density: number of projecting pixels in injection site / voxel volume\n",
    "ind, ind_info = mcc.get_injection_density(experiment_id)\n",
    "\n",
    "# injection fraction: number of pixels in injection site / voxel volume\n",
    "inf, inf_info = mcc.get_injection_fraction(experiment_id)\n",
    "\n",
    "# data mask:\n",
    "# binary mask indicating which voxels contain valid data\n",
    "dm, dm_info = mcc.get_data_mask(experiment_id)\n",
    "\n",
    "template, template_info = mcc.get_template_volume()\n",
    "annot, annot_info = mcc.get_annotation_volume()\n",
    "\n",
    "print(pd_info)\n",
    "print(pd.shape, template.shape, annot.shape)"
   ]
  },
  {
   "cell_type": "markdown",
   "metadata": {},
   "source": [
    "<div style=\"border-left: 3px solid #000; padding: 1px; padding-left: 10px; background: #F0FAFF; \">\n",
    "<p>Once you have these loaded, you can use matplotlib see what they look like.\n",
    "</div>"
   ]
  },
  {
   "cell_type": "code",
   "execution_count": null,
   "metadata": {
    "collapsed": false,
    "scrolled": true
   },
   "outputs": [],
   "source": [
    "# compute the maximum intensity projection of the projection density\n",
    "pd_mip = pd.max(axis=0)\n",
    "ind_mip = ind.max(axis=0)\n",
    "inf_mip = inf.max(axis=0)\n",
    "dm_mip = dm.min(axis=0)\n",
    "\n",
    "# show that slice of all volumes side-by-side\n",
    "f, ((ax1, ax2, ax3), (ax4, ax5, ax6)) = plt.subplots(2, 3, figsize=(15, 6))\n",
    "\n",
    "ax1.imshow(pd_mip, cmap='hot', aspect='equal')\n",
    "ax1.set_title(\"projection density MaxIP\")\n",
    "\n",
    "ax2.imshow(ind_mip, cmap='hot', aspect='equal')\n",
    "ax2.set_title(\"injection density MaxIP\")\n",
    "\n",
    "ax3.imshow(inf_mip, cmap='hot', aspect='equal')\n",
    "ax3.set_title(\"injection fraction MaxIP\")\n",
    "\n",
    "# pick a slice to show\n",
    "slice_idx = 26\n",
    "ax4.imshow(template[slice_idx,:,:], cmap='gray', aspect='equal', vmin=template.min(), vmax=template.max())\n",
    "ax4.set_title(\"registration template\")\n",
    "\n",
    "ax5.imshow(annot[slice_idx,:,:], cmap='gray', aspect='equal', vmin=0, vmax=2000)\n",
    "ax5.set_title(\"annotation volume\")\n",
    "\n",
    "ax6.imshow(dm_mip, cmap='hot', aspect='equal', vmin=0, vmax=1)\n",
    "ax6.set_title('data mask MinIP')\n",
    "\n",
    "plt.show()"
   ]
  },
  {
   "cell_type": "markdown",
   "metadata": {},
   "source": [
    "<div style=\"border-left: 3px solid #000; padding: 1px; padding-left: 10px; background: #F0FAFF; \">\n",
    "<p>The `MouseConnectivityCache` also provides you with a way to compute and store structure masks. A structure mask is a numpy array that tells you if a voxel belongs to a particular structure.\n",
    "\n",
    "<p>How is this different from the annotation volume? The annotation volume assigns each voxel a single label, usually one that is at the bottom of the structure ontology. You won't find a single voxel labeled 'Isocortex' in the annotation volume, but there are many voxels that are labeled as descendants of the Isocortex. `MouseConnectivityCache` can compute for you a mask of voxels that are labeled as any of the descendants of a structure.\n",
    "\n",
    "<p>Careful.  Computing masks is a time-consuming task!\n",
    "</div>"
   ]
  },
  {
   "cell_type": "code",
   "execution_count": null,
   "metadata": {
    "collapsed": false
   },
   "outputs": [],
   "source": [
    "isocortex_mask, _ = mcc.get_structure_mask(isocortex['id'])\n",
    "\n",
    "# pull out the values of all voxels in the isocortex mask\n",
    "isocortex_pd = pd[np.where(isocortex_mask)]\n",
    "\n",
    "# print out the average projection density of voxels in the isocortex\n",
    "print(isocortex_pd.mean())"
   ]
  },
  {
   "cell_type": "markdown",
   "metadata": {},
   "source": [
    "<div style=\"background: #DFF0D8; border-radius: 3px; padding: 10px;\">\n",
    "<p>**Exercise Set 6.1:**  Get the mask for the whole brain ('grey').\n",
    "  </div>"
   ]
  },
  {
   "cell_type": "code",
   "execution_count": null,
   "metadata": {
    "collapsed": true
   },
   "outputs": [],
   "source": []
  },
  {
   "cell_type": "markdown",
   "metadata": {},
   "source": [
    "<div style=\"background: #DFF0D8; border-radius: 3px; padding: 10px;\">\n",
    "<p>**Exercise Set 6.2:**  Open the projection density volumes for two experiments.\n",
    "  </div>"
   ]
  },
  {
   "cell_type": "code",
   "execution_count": null,
   "metadata": {
    "collapsed": true
   },
   "outputs": [],
   "source": []
  },
  {
   "cell_type": "markdown",
   "metadata": {},
   "source": [
    "<div style=\"background: #DFF0D8; border-radius: 3px; padding: 10px;\">\n",
    "<p>**Exercise Set 6.3:**  Extract the values within the brain from both experiments.\n",
    "  </div>"
   ]
  },
  {
   "cell_type": "code",
   "execution_count": null,
   "metadata": {
    "collapsed": true
   },
   "outputs": [],
   "source": []
  },
  {
   "cell_type": "markdown",
   "metadata": {},
   "source": [
    "<div style=\"background: #DFF0D8; border-radius: 3px; padding: 10px;\">\n",
    "<p>**Exercise Set 6.4:**  Compute the correlation coefficient between the two.\n",
    "  </div>"
   ]
  },
  {
   "cell_type": "code",
   "execution_count": null,
   "metadata": {
    "collapsed": true
   },
   "outputs": [],
   "source": []
  },
  {
   "cell_type": "markdown",
   "metadata": {},
   "source": [
    "<div style=\"border-left: 3px solid #000; padding: 1px; padding-left: 10px; background: #F0FAFF; \">\n",
    "<h2>Homework</h2>\n",
    "</div>"
   ]
  },
  {
   "cell_type": "markdown",
   "metadata": {},
   "source": [
    "<div style=\"background: #DFF0D8; border-radius: 3px; padding: 10px;\">\n",
    "<p>**Homework 1:**  Explain what StructureUnionize means in words. How are these data defined in terms of the data at the voxel level? Write an equation.  Start here: <link to whitepaper>.\n",
    "</div>"
   ]
  },
  {
   "cell_type": "code",
   "execution_count": null,
   "metadata": {
    "collapsed": true
   },
   "outputs": [],
   "source": []
  },
  {
   "cell_type": "markdown",
   "metadata": {},
   "source": [
    "<div style=\"background: #DFF0D8; border-radius: 3px; padding: 10px;\">\n",
    "<p>**Homework 2:**  See if you can recover the structure unionize data from the grid data for an experiment.\n",
    "</div>"
   ]
  },
  {
   "cell_type": "code",
   "execution_count": null,
   "metadata": {
    "collapsed": true
   },
   "outputs": [],
   "source": []
  },
  {
   "cell_type": "markdown",
   "metadata": {},
   "source": [
    "<div style=\"background: #DFF0D8; border-radius: 3px; padding: 10px;\">\n",
    "<p>**Homework 3:**\n",
    "Think about how the structure unionize data could be used to create a connectome. See Oh et al., 2014 Supplemental Material. \n",
    "</div>"
   ]
  },
  {
   "cell_type": "code",
   "execution_count": null,
   "metadata": {
    "collapsed": true
   },
   "outputs": [],
   "source": []
  },
  {
   "cell_type": "markdown",
   "metadata": {},
   "source": [
    "<div style=\"background: #DFF0D8; border-radius: 3px; padding: 10px;\">\n",
    "<p>**Homework 4:**  Structure-based correlation search\n",
    "<ul>\n",
    "<li>Pick several experiments delivered into MOp.\n",
    "<li>Get the projection density values for all structures at the \"Summary\" level\n",
    "<li>Build an experiment-experiment correlation matrix based on those values.\n",
    "</ul>\n",
    "</div>"
   ]
  },
  {
   "cell_type": "code",
   "execution_count": null,
   "metadata": {
    "collapsed": true
   },
   "outputs": [],
   "source": []
  },
  {
   "cell_type": "markdown",
   "metadata": {},
   "source": [
    "<div style=\"background: #DFF0D8; border-radius: 3px; padding: 10px;\">\n",
    "<p>**Homework 5:**  Voxel-based correlation search\n",
    "<ul>\n",
    "<li>Pick several experiments delivered into VISp. \n",
    "<li>Grab their projection density voxel data at 100 $\\mu$m resolution.\n",
    "<li>Compute an experiment-experiment correlation matrix based from those volumes.\n",
    "<li>Restrict your correlation to VISp only.\n",
    "</ul>\n",
    "</div>"
   ]
  },
  {
   "cell_type": "code",
   "execution_count": null,
   "metadata": {
    "collapsed": true
   },
   "outputs": [],
   "source": []
  },
  {
   "cell_type": "markdown",
   "metadata": {},
   "source": [
    "<div style=\"background: #DFF0D8; border-radius: 3px; padding: 10px;\">\n",
    "<p>**Homework 6:**  Use the Oh et al., 2014 method to fit a connectome between the visual data (or the whole brain, if you're ambitious!). For regression, look at the package scikit-learn. (Advanced)\n",
    "</div>"
   ]
  },
  {
   "cell_type": "code",
   "execution_count": null,
   "metadata": {
    "collapsed": true
   },
   "outputs": [],
   "source": []
  }
 ],
 "metadata": {
  "kernelspec": {
   "display_name": "Python 2",
   "language": "python",
   "name": "python2"
  },
  "language_info": {
   "codemirror_mode": {
    "name": "ipython",
    "version": 2
   },
   "file_extension": ".py",
   "mimetype": "text/x-python",
   "name": "python",
   "nbconvert_exporter": "python",
   "pygments_lexer": "ipython2",
   "version": "2.7.11"
  }
 },
 "nbformat": 4,
 "nbformat_minor": 0
}
