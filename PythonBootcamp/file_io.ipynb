{
 "cells": [
  {
   "cell_type": "markdown",
   "metadata": {},
   "source": [
    "# Files and Directories"
   ]
  },
  {
   "cell_type": "markdown",
   "metadata": {},
   "source": [
    "Data does not generally spend its entire lifespan loaded into memory as Python objects. Generally the lifecycle of data in a scientific Python project involves one or more cycles that look like this:\n",
    "\n",
    "1. load some data from a file into Python\n",
    "2. process the data in Python\n",
    "3. save the processed data to another file\n",
    "\n",
    "In this notebook, we are going to cover the basics of steps 1 and 3."
   ]
  },
  {
   "cell_type": "markdown",
   "metadata": {},
   "source": [
    "### Be cautious (and a little afraid)"
   ]
  },
  {
   "cell_type": "markdown",
   "metadata": {},
   "source": [
    "Prior to this section any problems caused by bugs in your code were limited to that code; once you have detected and fixed the bugs, rerunning your code eliminates any further issues. As we are now dealing with external files, programming errors may alter or delete those files. To reduce the chances of this happening:\n",
    "\n",
    "1. Backup your data\n",
    "2. Reduce cross-contaimination by putting individual projects in their own directories\n",
    "3. Give your files stereotyped names and locations\n",
    "4. Try writing one file first. Then do the others."
   ]
  },
  {
   "cell_type": "markdown",
   "metadata": {},
   "source": [
    "### Paths"
   ]
  },
  {
   "cell_type": "markdown",
   "metadata": {},
   "source": [
    "Directories (folders) and files on your hard drives(s) are organized in a tree structure. Nodes are directories and files, while edges indicate containment. As you navigate from directory to directory, you trace out a path through this tree. Paths can be represented as strings like this:\n",
    "\n",
    "    \"/drive_name/folder_a/file.format\"\n",
    "    \n",
    "on linux and like this:\n",
    "\n",
    "    \"drive_name:\\\\folder_a\\file.format\"\n",
    "    \n",
    "on windows. You can use representations like these to tell Python which locations ought to be read from and written to.\n",
    "\n",
    "Dealing with paths will be substantially easier if you first import the <code>os</code> module:"
   ]
  },
  {
   "cell_type": "code",
   "execution_count": 2,
   "metadata": {
    "collapsed": true
   },
   "outputs": [],
   "source": [
    "import os"
   ]
  },
  {
   "cell_type": "markdown",
   "metadata": {},
   "source": [
    "Now that you have done that, we can use one of the module's more useful features - automatic system-appropriate path construction:\n",
    "\n",
    "<code>\n",
    "os.path.join('name_1', 'name_2', 'name_3')\n",
    "</code>\n",
    "\n",
    "where the names might be the names of files or directories. Give it a shot:"
   ]
  },
  {
   "cell_type": "code",
   "execution_count": null,
   "metadata": {
    "collapsed": true
   },
   "outputs": [],
   "source": []
  },
  {
   "cell_type": "markdown",
   "metadata": {},
   "source": [
    "You will notice that this path does not quite look like the ones from above - look at the left hand side. This is because it is a relative as opposed to absolute path. This means that it proceeds from an arbitrary directory rather than the root of your file system (or a drive). The directory that it is relative to is your Current Working Directory, which you can find by:\n",
    "\n",
    "<code>\n",
    "os.getcwd()\n",
    "</code>"
   ]
  },
  {
   "cell_type": "code",
   "execution_count": 3,
   "metadata": {
    "collapsed": false
   },
   "outputs": [
    {
     "name": "stdout",
     "output_type": "stream",
     "text": [
      "/local1/code/python_bootcamp/pythonbootcamp2016\n"
     ]
    }
   ],
   "source": [
    "print os.getcwd()"
   ]
  },
  {
   "cell_type": "markdown",
   "metadata": {},
   "source": [
    "You can always convert a relative path to an absolute path by using:\n",
    "\n",
    "<code>\n",
    "os.path.abspath(rel_path)\n",
    "</code>"
   ]
  },
  {
   "cell_type": "code",
   "execution_count": null,
   "metadata": {
    "collapsed": true
   },
   "outputs": [],
   "source": []
  },
  {
   "cell_type": "markdown",
   "metadata": {},
   "source": [
    "To find out if a path actually exists on your drive, use:\n",
    "\n",
    "\n",
    "<code>\n",
    "os.path.exists(path)\n",
    "</code>"
   ]
  },
  {
   "cell_type": "code",
   "execution_count": null,
   "metadata": {
    "collapsed": true
   },
   "outputs": [],
   "source": []
  },
  {
   "cell_type": "markdown",
   "metadata": {},
   "source": [
    "To make a directory (or directories), use\n",
    "\n",
    "<code>\n",
    "os.makedirs(directory_path)\n",
    "</code>"
   ]
  },
  {
   "cell_type": "code",
   "execution_count": 4,
   "metadata": {
    "collapsed": true
   },
   "outputs": [],
   "source": [
    "# Try making a directory called eg 'io_stuff' (unless that already exists on your machine). Store the path in a variable.\n",
    "# You can use this directory to do he remaining excercises in this section.\n",
    "\n",
    "io_dir_path = #"
   ]
  },
  {
   "cell_type": "markdown",
   "metadata": {},
   "source": [
    "### A basic text file"
   ]
  },
  {
   "cell_type": "markdown",
   "metadata": {},
   "source": [
    "Now we are going to make a basic text file."
   ]
  },
  {
   "cell_type": "code",
   "execution_count": null,
   "metadata": {
    "collapsed": true
   },
   "outputs": [],
   "source": [
    "# First we must specify a path. If you define a variable called text_file_path, the below code should run just fine.\n",
    "# make sure that the resulting path is in io_dir_path and that it ends in 'some_file_name.txt'.\n",
    "\n",
    "text_file_path = #"
   ]
  },
  {
   "cell_type": "code",
   "execution_count": null,
   "metadata": {
    "collapsed": true
   },
   "outputs": [],
   "source": [
    "with open(text_file_path, 'wb') as text_file: \n",
    "    # this syntax makes a file object - text_file - in memory. This file's path is text_file_path.\n",
    "    # Because we used 'wb' as the second argument to open(), text_file is open for writing.\n",
    "    # The with statement is followed by an indented code block. When this block ends, text_file will be safely closed\n",
    "    \n",
    "    text_file.write('Hello disk!')\n",
    "    text_file.write('\\n') # newline character\n",
    "    text_file.write('line 2')"
   ]
  },
  {
   "cell_type": "code",
   "execution_count": null,
   "metadata": {
    "collapsed": true
   },
   "outputs": [],
   "source": [
    "# Now we can read our text back out\n",
    "\n",
    "with open(text_file_path, 'rb') as text_file: # rb for read\n",
    "    print text_file.read() # this reads the whole file into a string\n",
    "    \n",
    "# we can also read the lines from the file into a list\n",
    "with open(text_file_path, 'rb') as text_file:\n",
    "    \n",
    "    lines = text_file.readlines()\n",
    "    print lines"
   ]
  },
  {
   "cell_type": "markdown",
   "metadata": {},
   "source": [
    "### IOError\n",
    "\n",
    "Try opening a nonexistant (check this!) text file for reading:"
   ]
  },
  {
   "cell_type": "code",
   "execution_count": null,
   "metadata": {
    "collapsed": true
   },
   "outputs": [],
   "source": []
  },
  {
   "cell_type": "markdown",
   "metadata": {},
   "source": [
    "### A slightly more advanced text file"
   ]
  },
  {
   "cell_type": "markdown",
   "metadata": {},
   "source": [
    "csv files are similar to the file types used by excel and similar programs. CSV is an initialism for 'comma-seperated values'. Basically, we are talking about a text file that has a tabular shema - a delimiter character divides columns while a newline character divides rows.\n",
    "\n",
    "The easiest way to interact with CSVs is probably pandas."
   ]
  },
  {
   "cell_type": "code",
   "execution_count": null,
   "metadata": {
    "collapsed": true
   },
   "outputs": [],
   "source": [
    "import pandas as pd"
   ]
  },
  {
   "cell_type": "code",
   "execution_count": null,
   "metadata": {
    "collapsed": true
   },
   "outputs": [],
   "source": [
    "# make a dataframe\n",
    "data = pd.DataFrame([{'color': 'red', 'float': 8.7}, {'color': 'green', 'float': 4.29}])\n",
    "print data"
   ]
  },
  {
   "cell_type": "code",
   "execution_count": null,
   "metadata": {
    "collapsed": true
   },
   "outputs": [],
   "source": [
    "# write it to a file\n",
    "csv_path = os.path.join(csv_file_path) # you will need to specify the path\n",
    "data.to_csv(csv_path)"
   ]
  },
  {
   "cell_type": "code",
   "execution_count": null,
   "metadata": {
    "collapsed": true
   },
   "outputs": [],
   "source": [
    "# read it back out\n",
    "read_data = pd.DataFrame.from_csv(csv_file_path)\n",
    "print read_data"
   ]
  },
  {
   "cell_type": "markdown",
   "metadata": {},
   "source": [
    "Check out the resulting csv in excel/libreoffice/the mac one. What happens if you add another row and then read it back to python?"
   ]
  },
  {
   "cell_type": "code",
   "execution_count": null,
   "metadata": {
    "collapsed": true
   },
   "outputs": [],
   "source": []
  },
  {
   "cell_type": "markdown",
   "metadata": {},
   "source": [
    "### Excercize: Really just text\n",
    "\n",
    "CSV files are really just text files with a particular data schema. They consist of values, which are divided into columns by a delimiter (such as a comma) and into rows by a different delimiter (such as a newline: \\n). Such a file might look like:\n",
    "\n",
    "a,b\\nc,d\n",
    "\n",
    "which would correspond to a matrix like:\n",
    "<code>\n",
    "a b\n",
    "c d\n",
    "</code>\n",
    "\n",
    "Make a function that writes 2d arrays to csv files as text. Make another function that reads them back. Use only the tools appropriate for text files.\n"
   ]
  },
  {
   "cell_type": "markdown",
   "metadata": {},
   "source": [
    "### Excercize: Collation\n",
    "\n",
    "1. Programatically generate 50 numerical arrays. Try using numpy with <code>np.random.randn</code>\n",
    "2. Create a directory. Save each array in a seperate 1-row csv file in that directory.\n",
    "3. Read the data from each such file. Create a new csv file in a seperate directory that contains all of the data as rows."
   ]
  }
 ],
 "metadata": {
  "kernelspec": {
   "display_name": "Python 2",
   "language": "python",
   "name": "python2"
  },
  "language_info": {
   "codemirror_mode": {
    "name": "ipython",
    "version": 2
   },
   "file_extension": ".py",
   "mimetype": "text/x-python",
   "name": "python",
   "nbconvert_exporter": "python",
   "pygments_lexer": "ipython2",
   "version": "2.7.11"
  }
 },
 "nbformat": 4,
 "nbformat_minor": 0
}
