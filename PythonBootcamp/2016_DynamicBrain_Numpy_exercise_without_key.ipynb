{
 "cells": [
  {
   "cell_type": "markdown",
   "metadata": {},
   "source": [
    "# exercise 1"
   ]
  },
  {
   "cell_type": "code",
   "execution_count": 1,
   "metadata": {
    "collapsed": true
   },
   "outputs": [],
   "source": [
    "# import numpy in this cell"
   ]
  },
  {
   "cell_type": "code",
   "execution_count": 2,
   "metadata": {
    "collapsed": false
   },
   "outputs": [],
   "source": [
    "# create a 1-d numpy array (call it ts for timestamps), with increasing integers from 3 to 300 \n",
    "# (including 3 but not 300) with increment of 3, and print the array"
   ]
  },
  {
   "cell_type": "code",
   "execution_count": 3,
   "metadata": {
    "collapsed": false
   },
   "outputs": [],
   "source": [
    "# change the dtype of ts into 32-bit floating point and pring ts"
   ]
  },
  {
   "cell_type": "code",
   "execution_count": 4,
   "metadata": {
    "collapsed": false
   },
   "outputs": [],
   "source": [
    "# add 0.5 to every element in ts which is larger than 200 and print ts"
   ]
  },
  {
   "cell_type": "code",
   "execution_count": 5,
   "metadata": {
    "collapsed": false
   },
   "outputs": [],
   "source": [
    "# find out the mean difference between adjacent elements and print it\n",
    "# it should be 3.0051"
   ]
  },
  {
   "cell_type": "code",
   "execution_count": 6,
   "metadata": {
    "collapsed": false
   },
   "outputs": [],
   "source": [
    "# find the index of the element closest to the number 212.3, and print that index and print the element\n",
    "# you should see: \n",
    "# index: 70 ; value: 213.5"
   ]
  },
  {
   "cell_type": "markdown",
   "metadata": {},
   "source": [
    "# exercise 2"
   ]
  },
  {
   "cell_type": "code",
   "execution_count": 7,
   "metadata": {
    "collapsed": true
   },
   "outputs": [],
   "source": [
    "# create a 2-d matrix with 5 rows and 10 columns and every element equals to 0"
   ]
  },
  {
   "cell_type": "code",
   "execution_count": 8,
   "metadata": {
    "collapsed": false
   },
   "outputs": [],
   "source": [
    "# print the data type of frame\n",
    "# you should see:\n",
    "# float64"
   ]
  },
  {
   "cell_type": "code",
   "execution_count": 9,
   "metadata": {
    "collapsed": true
   },
   "outputs": [],
   "source": [
    "# change the dtype of frame to unsigned 16-bit integer"
   ]
  },
  {
   "cell_type": "code",
   "execution_count": 10,
   "metadata": {
    "collapsed": false
   },
   "outputs": [],
   "source": [
    "# cange the element at 4th row and 9th column into 5, and print frame\n",
    "# you should see:\n",
    "# [[0 0 0 0 0 0 0 0 0 0]\n",
    "#  [0 0 0 0 0 0 0 0 0 0]\n",
    "#  [0 0 0 0 0 0 0 0 0 0]\n",
    "#  [0 0 0 0 0 0 0 0 5 0]\n",
    "#  [0 0 0 0 0 0 0 0 0 0]\n",
    "#  [0 0 0 0 0 0 0 0 0 0]]"
   ]
  },
  {
   "cell_type": "code",
   "execution_count": 11,
   "metadata": {
    "collapsed": false
   },
   "outputs": [],
   "source": [
    "# change the elements in the square between 2nd and 4th row (including 2nd but not 4th), 4th and 6th \n",
    "# column (including 4th but not 6th) into 3, then print frame\n",
    "# you should see:\n",
    "# [[0 0 0 0 0 0 0 0 0 0]\n",
    "#  [0 0 0 3 3 0 0 0 0 0]\n",
    "#  [0 0 0 3 3 0 0 0 0 0]\n",
    "#  [0 0 0 0 0 0 0 0 5 0]\n",
    "#  [0 0 0 0 0 0 0 0 0 0]\n",
    "#  [0 0 0 0 0 0 0 0 0 0]]"
   ]
  },
  {
   "cell_type": "code",
   "execution_count": 12,
   "metadata": {
    "collapsed": false
   },
   "outputs": [],
   "source": [
    "# change every element in the first row into 7, print frame\n",
    "# verify the result in the printed matrix\n",
    "# you should see:\n",
    "# [[7 7 7 7 7 7 7 7 7 7]\n",
    "#  [0 0 0 3 3 0 0 0 0 0]\n",
    "#  [0 0 0 3 3 0 0 0 0 0]\n",
    "#  [0 0 0 0 0 0 0 0 5 0]\n",
    "#  [0 0 0 0 0 0 0 0 0 0]\n",
    "#  [0 0 0 0 0 0 0 0 0 0]]"
   ]
  },
  {
   "cell_type": "code",
   "execution_count": 13,
   "metadata": {
    "collapsed": false
   },
   "outputs": [],
   "source": [
    "# change every element in the 7th column into 3, print frame\n",
    "# you should see:\n",
    "# [[7 7 7 7 7 7 3 7 7 7]\n",
    "#  [0 0 0 3 3 0 3 0 0 0]\n",
    "#  [0 0 0 3 3 0 3 0 0 0]\n",
    "#  [0 0 0 0 0 0 3 0 5 0]\n",
    "#  [0 0 0 0 0 0 3 0 0 0]\n",
    "#  [0 0 0 0 0 0 3 0 0 0]]"
   ]
  },
  {
   "cell_type": "code",
   "execution_count": 14,
   "metadata": {
    "collapsed": false
   },
   "outputs": [],
   "source": [
    "# print the mean value of every element in frame\n",
    "# you should see:\n",
    "# 1.63333333333"
   ]
  },
  {
   "cell_type": "code",
   "execution_count": 15,
   "metadata": {
    "collapsed": false
   },
   "outputs": [],
   "source": [
    "# print mean value of each row\n",
    "# you should see:\n",
    "# [ 6.6  0.9  0.9  0.8  0.3  0.3]"
   ]
  },
  {
   "cell_type": "code",
   "execution_count": 16,
   "metadata": {
    "collapsed": false
   },
   "outputs": [],
   "source": [
    "# print mean value of each column\n",
    "# you should see:\n",
    "# [ 1.16666667  1.16666667  1.16666667  2.16666667  2.16666667  1.16666667\n",
    "#   3.          1.16666667  2.          1.16666667]"
   ]
  },
  {
   "cell_type": "code",
   "execution_count": 17,
   "metadata": {
    "collapsed": false
   },
   "outputs": [],
   "source": [
    "# make a new matrix frame2, with every element equals the equvalent element in frame plus 1\n",
    "# print frame2\n",
    "# you should see:\n",
    "# [[8 8 8 8 8 8 4 8 8 8]\n",
    "#  [1 1 1 4 4 1 4 1 1 1]\n",
    "#  [1 1 1 4 4 1 4 1 1 1]\n",
    "#  [1 1 1 1 1 1 4 1 6 1]\n",
    "#  [1 1 1 1 1 1 4 1 1 1]\n",
    "#  [1 1 1 1 1 1 4 1 1 1]]"
   ]
  },
  {
   "cell_type": "code",
   "execution_count": 18,
   "metadata": {
    "collapsed": false
   },
   "outputs": [],
   "source": [
    "# attach frame and frame2 into a 3-d matrix with depth of 2, call it frames\n",
    "# print frames\n",
    "# you should see:\n",
    "# [[[7 7 7 7 7 7 3 7 7 7]\n",
    "#   [0 0 0 3 3 0 3 0 0 0]\n",
    "#   [0 0 0 3 3 0 3 0 0 0]\n",
    "#   [0 0 0 0 0 0 3 0 5 0]\n",
    "#   [0 0 0 0 0 0 3 0 0 0]\n",
    "#   [0 0 0 0 0 0 3 0 0 0]]\n",
    "# \n",
    "#  [[8 8 8 8 8 8 4 8 8 8]\n",
    "#   [1 1 1 4 4 1 4 1 1 1]\n",
    "#   [1 1 1 4 4 1 4 1 1 1]\n",
    "#   [1 1 1 1 1 1 4 1 6 1]\n",
    "#   [1 1 1 1 1 1 4 1 1 1]\n",
    "#   [1 1 1 1 1 1 4 1 1 1]]]"
   ]
  },
  {
   "cell_type": "code",
   "execution_count": 19,
   "metadata": {
    "collapsed": false
   },
   "outputs": [],
   "source": [
    "# print the shape of frames\n",
    "# you should see:\n",
    "# (2L, 6L, 10L)"
   ]
  },
  {
   "cell_type": "markdown",
   "metadata": {},
   "source": [
    "# exercise 3"
   ]
  },
  {
   "cell_type": "code",
   "execution_count": 20,
   "metadata": {
    "collapsed": true
   },
   "outputs": [],
   "source": [
    "# import matplotlib.pyplot as plt\n",
    "import matplotlib.pyplot as plt\n",
    "\n",
    "%matplotlib inline"
   ]
  },
  {
   "cell_type": "code",
   "execution_count": 21,
   "metadata": {
    "collapsed": false
   },
   "outputs": [],
   "source": [
    "# create a 1-d numpy array (call it t for time), with increasing 64-bit floating point number from 0 \n",
    "# to 3 (including 0 but not 3) with increment of 0.001\n",
    "# print the first 10 elements of t\n",
    "# print the last 10 elements of t\n",
    "# print the length of t\n",
    "\n",
    "# you should see:\n",
    "# [ 0.    0.01  0.02  0.03  0.04  0.05  0.06  0.07  0.08  0.09]\n",
    "# [ 2.9   2.91  2.92  2.93  2.94  2.95  2.96  2.97  2.98  2.99]\n",
    "# 300"
   ]
  },
  {
   "cell_type": "code",
   "execution_count": 22,
   "metadata": {
    "collapsed": false
   },
   "outputs": [],
   "source": [
    "# lets say t is a 3-second time axis, calculate the sampling rate of t, call it fs\n",
    "# print fs\n",
    "# you should see:\n",
    "# 100"
   ]
  },
  {
   "cell_type": "code",
   "execution_count": 23,
   "metadata": {
    "collapsed": false
   },
   "outputs": [],
   "source": [
    "# create a 1-d array representing a sinusoid wave with amplitude of 2, frequenc of 1 Hz and phase of 0\n",
    "# on t axis, call it sin1\n",
    "# plot sin1 against t"
   ]
  },
  {
   "cell_type": "code",
   "execution_count": 24,
   "metadata": {
    "collapsed": true
   },
   "outputs": [],
   "source": [
    "# creat a function to generate a customized sinusoid wave on any arbituary time axis with unit of second\n",
    "# call the function: sinusoid\n",
    "# the input of the function should be:\n",
    "# t: time axis (in second)\n",
    "# freq: frequency (default 1)\n",
    "# amp: amplitude (default 1)\n",
    "# phase: phase (in degree, default 0)\n",
    "# dc: DC component, default 0"
   ]
  },
  {
   "cell_type": "code",
   "execution_count": 25,
   "metadata": {
    "collapsed": false
   },
   "outputs": [],
   "source": [
    "# use sinusoid function to generate a sinusoid wave (frequency 3 Hz, amplitude 3, phase 90 degree,\n",
    "# dc 0) on time axis t, call it sin2\n",
    "# plot sin2 against t"
   ]
  },
  {
   "cell_type": "code",
   "execution_count": 26,
   "metadata": {
    "collapsed": false
   },
   "outputs": [],
   "source": [
    "# use sinusoid function to generate a sinusoid wave (frequency 5 Hz, amplitude 0.5, phase 180 degree,\n",
    "# dc 0) on time axis t, call it sin3\n",
    "# plot sin3 against t"
   ]
  },
  {
   "cell_type": "code",
   "execution_count": 27,
   "metadata": {
    "collapsed": false
   },
   "outputs": [],
   "source": [
    "# create a 1-d array (call it noise) with same dimension of t and random number following a flat \n",
    "# distribution from -0.5 to 0.5, call it noise\n",
    "# plot noise against t"
   ]
  },
  {
   "cell_type": "code",
   "execution_count": 28,
   "metadata": {
    "collapsed": false
   },
   "outputs": [],
   "source": [
    "# generate a 1-d array (call it signal) by adding sin1, sin2, sin3 and noise together\n",
    "# plot signal against t"
   ]
  },
  {
   "cell_type": "code",
   "execution_count": 29,
   "metadata": {
    "collapsed": false
   },
   "outputs": [],
   "source": [
    "# plot fist 0.5 second of the signal"
   ]
  },
  {
   "cell_type": "code",
   "execution_count": 30,
   "metadata": {
    "collapsed": false
   },
   "outputs": [],
   "source": [
    "# plot fft of the signal in the frequency range [0, 10] Hz\n",
    "# you should see three peaks at 1, 3 and 5 Hz."
   ]
  }
 ],
 "metadata": {
  "kernelspec": {
   "display_name": "Python 2",
   "language": "python",
   "name": "python2"
  },
  "language_info": {
   "codemirror_mode": {
    "name": "ipython",
    "version": 2
   },
   "file_extension": ".py",
   "mimetype": "text/x-python",
   "name": "python",
   "nbconvert_exporter": "python",
   "pygments_lexer": "ipython2",
   "version": "2.7.11"
  }
 },
 "nbformat": 4,
 "nbformat_minor": 0
}
