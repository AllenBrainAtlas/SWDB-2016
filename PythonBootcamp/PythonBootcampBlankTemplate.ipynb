{
 "cells": [
  {
   "cell_type": "markdown",
   "metadata": {},
   "source": [
    "<img src=\"cropped-SummerWorkshop_Header.png\">  \n",
    "\n",
    "<h1 align=\"center\">Python Bootcamp</h1> \n",
    "<h3 align=\"center\">August 20-21, 2016</h3> "
   ]
  },
  {
   "cell_type": "markdown",
   "metadata": {},
   "source": [
    "<div class=\"alert alert-info\">\n",
    "<font size=\"7\">Module Title</font>\n",
    "<p>\n",
    "**Section Header**\n",
    "</p>\n",
    "<p>\n",
    "Some Text\n",
    "</p>\n",
    "\n",
    "<ul style=\"list-style-type:disc\">\n",
    "**An unordered list**\n",
    "  <li>Point 1</li>\n",
    "  <li>Point 2</li>\n",
    "  <li>Point 3</li>\n",
    "</ul>\n",
    "\n",
    "<ol>\n",
    "**An unordered list**\n",
    "  <li>Point 1</li>\n",
    "  <li>Point 2</li>\n",
    "  <li>Point 3</li>\n",
    "</ol>\n",
    "  \n",
    "</div>"
   ]
  },
  {
   "cell_type": "markdown",
   "metadata": {
    "collapsed": true
   },
   "source": [
    "## Cells with module specific information"
   ]
  },
  {
   "cell_type": "code",
   "execution_count": null,
   "metadata": {
    "collapsed": true
   },
   "outputs": [],
   "source": []
  },
  {
   "cell_type": "markdown",
   "metadata": {},
   "source": [
    "<div class=\"alert alert-success\">\n",
    "<font size=\"6\">Exercise</font>\n",
    "<p>\n",
    "TEXT\n",
    "</p>\n",
    "</div>"
   ]
  },
  {
   "cell_type": "code",
   "execution_count": null,
   "metadata": {
    "collapsed": true
   },
   "outputs": [],
   "source": []
  },
  {
   "cell_type": "code",
   "execution_count": null,
   "metadata": {
    "collapsed": true
   },
   "outputs": [],
   "source": []
  }
 ],
 "metadata": {
  "kernelspec": {
   "display_name": "Python 2",
   "language": "python",
   "name": "python2"
  },
  "language_info": {
   "codemirror_mode": {
    "name": "ipython",
    "version": 2
   },
   "file_extension": ".py",
   "mimetype": "text/x-python",
   "name": "python",
   "nbconvert_exporter": "python",
   "pygments_lexer": "ipython2",
   "version": "2.7.11"
  },
  "widgets": {
   "state": {},
   "version": "1.1.2"
  }
 },
 "nbformat": 4,
 "nbformat_minor": 0
}
