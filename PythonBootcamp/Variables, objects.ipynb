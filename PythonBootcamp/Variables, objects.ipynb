{
 "cells": [
  {
   "cell_type": "code",
   "execution_count": 9,
   "metadata": {
    "collapsed": true
   },
   "outputs": [],
   "source": [
    "from __future__ import print_function\n",
    "from operator import add, sub"
   ]
  },
  {
   "cell_type": "code",
   "execution_count": 146,
   "metadata": {
    "collapsed": false
   },
   "outputs": [],
   "source": [
    "#maybe move to module? so that they dont see wierd code?\n",
    "import datetime\n",
    "import random\n",
    "\n",
    "class Mouse(object):\n",
    "    \n",
    "    \"\"\"\n",
    "    I am a real mouse.\n",
    "    \"\"\"\n",
    "    \n",
    "    __COLORS = (\"white\", \"black\", \"brown\", \"pink\", )\n",
    "    __FIRST_NAMES = (\"Bill\", \"Bob\", \"Beth\", \"Beverly\", \"Bridget\", )\n",
    "    __LAST_NAMES = (\"Bacon\", \"Pizza\", \"Taco\", \"Burrito\", \"Soup\", )\n",
    "    \n",
    "    def __init__(self, color=None, first_name=None, last_name=None, \n",
    "            is_evil=None):\n",
    "        \n",
    "        \"\"\"\n",
    "        I am the mouse constructor. All my arguments are optional. If no value is\n",
    "        passed, their values will be determined at random.\n",
    "        Arguments:\n",
    "        color (optional[str]): The color of the mouse.\n",
    "        first_name (optional[str]): The first name of the mouse. \n",
    "        last_name (optional[str]): The last name of the mouse.\n",
    "        is_evil (optional[bool]): Indicator of the soul, sadly just a binary value.\n",
    "        \"\"\"\n",
    "\n",
    "        if color == None:\n",
    "            color = random.choice(Mouse.__COLORS)\n",
    "        if first_name == None:\n",
    "            first_name = random.choice(Mouse.__FIRST_NAMES)\n",
    "        if last_name == None:\n",
    "            last_name = random.choice(Mouse.__LAST_NAMES)\n",
    "        if is_evil == None:\n",
    "            is_evil = bool(random.random())\n",
    "            \n",
    "        self.color = color\n",
    "        self.first_name = first_name\n",
    "        self.last_name = last_name\n",
    "        self.is_evil = is_evil\n",
    "        self.birthdate = datetime.datetime.now()\n",
    "        \n",
    "        print(self)\n",
    "    \n",
    "    def __str__(self):\n",
    "        introduction = (\n",
    "            \"Hello World!\\n\"\n",
    "            \"My name is {first_name} {last_name}.\\n\"\n",
    "            \"I am a {color} mouse.\\n\"\n",
    "            \"I was born at {birthdate}.\\n\"\n",
    "        )\n",
    "        format_dict = {\n",
    "            \"first_name\": self.first_name,\n",
    "            \"last_name\": self.last_name,\n",
    "            \"color\": self.color,\n",
    "            \"birthdate\": self.birthdate,\n",
    "        }\n",
    "        return introduction.format(**format_dict)\n",
    "    \n",
    "    def __repr__(self):\n",
    "        return \"\" # we don't want a repr?\n",
    "\n",
    "    def __add__(self, other_mouse):\n",
    "        return Mouse(color=other_mouse.color, \n",
    "            first_name=other_mouse.first_name,\n",
    "            last_name=self.last_name,\n",
    "            is_evil=self.is_evil)\n",
    "    \n",
    "    def __sub__(self, other_mouse):\n",
    "        winner_str = \"{winner_name} won the mouse fight against {loser_name}.\"\n",
    "        \n",
    "        return winner_str.format(winner_name=self.first_name, \n",
    "            loser_name=other_mouse.first_name)\n",
    "    \n",
    "    @property\n",
    "    def age(self):\n",
    "        return (datetime.datetime.now() - self.birthdate)\n",
    "    "
   ]
  },
  {
   "cell_type": "markdown",
   "metadata": {},
   "source": [
    "# Python objects are a lot like real-world objects\n",
    "### In the real world, we have mice. They vary in age, color, and even name. "
   ]
  },
  {
   "cell_type": "code",
   "execution_count": null,
   "metadata": {
    "collapsed": true
   },
   "outputs": [],
   "source": [
    "#mouse images"
   ]
  },
  {
   "cell_type": "markdown",
   "metadata": {},
   "source": [
    "### Python also has mice. To create a mouse object in python we execute the following line of code."
   ]
  },
  {
   "cell_type": "code",
   "execution_count": 147,
   "metadata": {
    "collapsed": false,
    "scrolled": true
   },
   "outputs": [
    {
     "name": "stdout",
     "output_type": "stream",
     "text": [
      "Hello World!\n",
      "My name is Bridget Burrito.\n",
      "I am a brown mouse.\n",
      "I was born at 2016-07-21 10:35:02.626000.\n",
      "\n"
     ]
    },
    {
     "data": {
      "text/plain": []
     },
     "execution_count": 147,
     "metadata": {},
     "output_type": "execute_result"
    }
   ],
   "source": [
    "Mouse()"
   ]
  },
  {
   "cell_type": "markdown",
   "metadata": {},
   "source": [
    "### It can be useful to store an object under a name so that we can use it more easily. \n",
    "#### The syntax for assignment is as follows:\n",
    "#### name = object"
   ]
  },
  {
   "cell_type": "code",
   "execution_count": 144,
   "metadata": {
    "collapsed": false,
    "scrolled": true
   },
   "outputs": [
    {
     "name": "stdout",
     "output_type": "stream",
     "text": [
      "Hello World!\n",
      "My name is Bill Soup.\n",
      "I am a black mouse.\n",
      "I was born at 2016-07-21 10:34:49.042000.\n",
      "\n"
     ]
    }
   ],
   "source": [
    "my_mouse = Mouse()"
   ]
  },
  {
   "cell_type": "markdown",
   "metadata": {},
   "source": [
    "#### Now our mouse object is stored under the name my_mouse.\n",
    "#### The act of storing an object under a name is known as assignment. After assigning an object to a name it's name is often called a variable and the object it refers to is often called its value.\n",
    "variable = value\n",
    "#### Create a mouse object and assign it to a name in the cell below:"
   ]
  },
  {
   "cell_type": "code",
   "execution_count": null,
   "metadata": {
    "collapsed": true
   },
   "outputs": [],
   "source": []
  },
  {
   "cell_type": "markdown",
   "metadata": {},
   "source": [
    "#### Like Variables you may be familiar with from mathematics, you can perform various operations on objects. One of which is addition."
   ]
  },
  {
   "cell_type": "code",
   "execution_count": 149,
   "metadata": {
    "collapsed": false
   },
   "outputs": [
    {
     "name": "stdout",
     "output_type": "stream",
     "text": [
      "Hello World!\n",
      "My name is Bill Soup.\n",
      "I am a brown mouse.\n",
      "I was born at 2016-07-21 10:45:06.630000.\n",
      "\n",
      "Hello World!\n",
      "My name is Beth Soup.\n",
      "I am a white mouse.\n",
      "I was born at 2016-07-21 10:45:06.631000.\n",
      "\n",
      "Hello World!\n",
      "My name is Bob Soup.\n",
      "I am a brown mouse.\n",
      "I was born at 2016-07-21 10:45:06.631000.\n",
      "\n"
     ]
    }
   ],
   "source": [
    "mouse_0 = Mouse()\n",
    "mouse_1 = Mouse()\n",
    "mouse_2 = mouse_0 + mouse_1"
   ]
  },
  {
   "cell_type": "markdown",
   "metadata": {},
   "source": [
    "#### We can also add two mice by calling the add function:\n",
    "#### The syntax is:\n",
    "#### add(object_0, object_1)"
   ]
  },
  {
   "cell_type": "code",
   "execution_count": null,
   "metadata": {
    "collapsed": true
   },
   "outputs": [],
   "source": [
    "mouse_2 = add(mouse_0, mouse_1)"
   ]
  },
  {
   "cell_type": "markdown",
   "metadata": {},
   "source": [
    "#### Like real world objects, python objects have attributes or qualities associated with them. In the mouse pictures, each mouse had a color. Our mouse object also has a color. To access the color of our mouse object, we use the following syntax:\n",
    "#### object.color \n",
    "#### Because we assigned our mouse object to a name, we will actually use:\n",
    "#### name.color"
   ]
  },
  {
   "cell_type": "code",
   "execution_count": 150,
   "metadata": {
    "collapsed": true
   },
   "outputs": [],
   "source": [
    "color = my_mouse.color"
   ]
  },
  {
   "cell_type": "markdown",
   "metadata": {},
   "source": [
    "#### If we want to show the value of color in the console, we can use the print function "
   ]
  },
  {
   "cell_type": "code",
   "execution_count": 151,
   "metadata": {
    "collapsed": false
   },
   "outputs": [
    {
     "name": "stdout",
     "output_type": "stream",
     "text": [
      "black\n"
     ]
    }
   ],
   "source": [
    "print(color)"
   ]
  },
  {
   "cell_type": "markdown",
   "metadata": {},
   "source": [
    "#### In the cell below, access mouse_2's age attribute and print it to the console."
   ]
  },
  {
   "cell_type": "code",
   "execution_count": null,
   "metadata": {
    "collapsed": true
   },
   "outputs": [],
   "source": [
    "#print(mouse.age)\n",
    "#age = mouse.age\n",
    "#print(age)"
   ]
  },
  {
   "cell_type": "markdown",
   "metadata": {},
   "source": [
    "# Common python objects\n",
    "### Integer (int)\n",
    "#### A whole number that is positive, negative, or 0.\n",
    "#### The following are all examples of integers:\n",
    "##### 5\n",
    "##### 0\n",
    "##### -1\n",
    "#### In the cell below, assign an integer to a name and print its value to the console:"
   ]
  },
  {
   "cell_type": "code",
   "execution_count": null,
   "metadata": {
    "collapsed": true
   },
   "outputs": [],
   "source": []
  },
  {
   "cell_type": "markdown",
   "metadata": {},
   "source": [
    "### Float (float)\n",
    "#### A positive or negative number that has a decimal fraction component. This component can have a numerator of 0.\n",
    "#### The following are all examples of floats:\n",
    "#### 5.0\n",
    "#### 5.1\n",
    "#### 0.0\n",
    "#### In the cell below, assign a float to a name and print its value to the console:"
   ]
  },
  {
   "cell_type": "code",
   "execution_count": null,
   "metadata": {
    "collapsed": true
   },
   "outputs": [],
   "source": []
  },
  {
   "cell_type": "markdown",
   "metadata": {},
   "source": [
    "### Boolean (bool)\n",
    "#### Either True or False."
   ]
  },
  {
   "cell_type": "markdown",
   "metadata": {},
   "source": [
    "### String (str)\n",
    "#### A set of contiguous ascii characters encapsulated in \"\" or ''.\n",
    "#### The following are all examples of strings:\n",
    "#### \"5\"\n",
    "#### '5.0'\n",
    "#### \"five\"\n",
    "#### In the cell below, assign a string to a name and print its value to the console:"
   ]
  },
  {
   "cell_type": "code",
   "execution_count": null,
   "metadata": {
    "collapsed": true
   },
   "outputs": [],
   "source": []
  },
  {
   "cell_type": "markdown",
   "metadata": {},
   "source": [
    "#### Like the mouse object, useful attributes of objects can be accessed. \n",
    "#### For example, strings have the attribute 'isdigit'. Which returns a boolean value, indicating whether or not the string only contains only digits."
   ]
  },
  {
   "cell_type": "code",
   "execution_count": 156,
   "metadata": {
    "collapsed": false
   },
   "outputs": [
    {
     "name": "stdout",
     "output_type": "stream",
     "text": [
      "True\n",
      "False\n"
     ]
    }
   ],
   "source": [
    "print(\"555\".isdigit())\n",
    "print(\"55five\".isdigit())"
   ]
  }
 ],
 "metadata": {
  "kernelspec": {
   "display_name": "Python 2",
   "language": "python",
   "name": "python2"
  },
  "language_info": {
   "codemirror_mode": {
    "name": "ipython",
    "version": 2
   },
   "file_extension": ".py",
   "mimetype": "text/x-python",
   "name": "python",
   "nbconvert_exporter": "python",
   "pygments_lexer": "ipython2",
   "version": "2.7.10"
  }
 },
 "nbformat": 4,
 "nbformat_minor": 0
}
