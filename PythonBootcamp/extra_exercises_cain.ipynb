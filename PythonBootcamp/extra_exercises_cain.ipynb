{
 "cells": [
  {
   "cell_type": "markdown",
   "metadata": {},
   "source": [
    "# Exercise 1(b):\n",
    "A replacement cipher uses a known dictionary to scramble a piece of \"plaintext\". Write a function that receives two arguments: a piece of plaintext, and a dictionary that converts characters to keys.  The function should return the enciphered \"ciphertext\" that results from replacing plaintext characters according to the user-supplied dictionary.\n",
    "\n",
    "For example, write a function to convert:\n",
    "    \"Hello\" using the dictionary {'H':'0', 'e':'1', 'l':'2','o':'4'}\n",
    "to:\n",
    "    \"01223\""
   ]
  },
  {
   "cell_type": "code",
   "execution_count": 20,
   "metadata": {
    "collapsed": false
   },
   "outputs": [
    {
     "name": "stdout",
     "output_type": "stream",
     "text": [
      "01224\n"
     ]
    }
   ],
   "source": [
    "def f(plaintext, cipher_dict):\n",
    "    ciphertext = ''\n",
    "    for curr_char in plaintext:\n",
    "        ciphertext += cipher_dict[curr_char]\n",
    "    return ciphertext\n",
    "\n",
    "print f('Hello', {'H':'0', 'e':'1', 'l':'2','o':'4'})"
   ]
  },
  {
   "cell_type": "markdown",
   "metadata": {},
   "source": [
    "# Exercise 1(b):\n",
    "The following cipertext was encoded with a simple dictionary: {'a':'0','b':1,'c':2 ...\n",
    "    \n",
    "    \"24  14  20  0  17  4  0  15  24  19  7  14  13  12  0  18  19  4  17\"\n",
    "    \n",
    "Can you compute the secrete message?\n"
   ]
  },
  {
   "cell_type": "code",
   "execution_count": 40,
   "metadata": {
    "collapsed": false
   },
   "outputs": [
    {
     "data": {
      "text/plain": [
       "'youareapythonmaster'"
      ]
     },
     "execution_count": 40,
     "metadata": {},
     "output_type": "execute_result"
    }
   ],
   "source": [
    "decipher_dict = dict([(str(ii), val) for ii, val in enumerate('abcdefghijklmnopqrstuvwxyz')])\n",
    "decipher_dict[' ']=' '\n",
    "decipher_dict['']=''\n",
    "f(\"24  14  20  0  17  4  0  15  24  19  7  14  13  12  0  18  19  4  17\".split(' '), decipher_dict)"
   ]
  },
  {
   "cell_type": "markdown",
   "metadata": {},
   "source": [
    "# Exercise 2(a):\n",
    "Suppose you are given a list of dictionaries, each with the same keys.  Write a function that converts this to a dictionary of lists.  \n",
    "\n",
    "For example, convert:\n",
    "    x = [{'a':1,'b':2}, {'a':3,'b':4}]\n",
    "to:\n",
    "    y = {'a':[1,3], 'b':[2,4]}"
   ]
  },
  {
   "cell_type": "code",
   "execution_count": 1,
   "metadata": {
    "collapsed": false
   },
   "outputs": [
    {
     "name": "stdout",
     "output_type": "stream",
     "text": [
      "{'a': [1, 3], 'b': [2, 4]}\n"
     ]
    }
   ],
   "source": [
    "def f(input_list):\n",
    "    result_dict = {}\n",
    "    for current_input_dict in input_list:\n",
    "        for key, val in current_input_dict.items():\n",
    "            if not key in result_dict:\n",
    "                result_dict[key] = [val]\n",
    "            else:\n",
    "                result_dict[key].append(val)\n",
    "    return result_dict\n",
    "\n",
    "print f([{'a':1,'b':2}, {'a':3,'b':4}])"
   ]
  },
  {
   "cell_type": "markdown",
   "metadata": {},
   "source": [
    "# Exercise 2(b):\n",
    "Suppose you are given a dictionary of.  Write a function that converts this to a list of dictionaries.  \n",
    "\n",
    "For example, convert:\n",
    "    y = {'a':[1,3,4], 'b':[2,4,6]}\n",
    "to:\n",
    "    x = [{'a':1,'b':2}, {'a':3,'b':4},{'a':4,'b':6}]    "
   ]
  },
  {
   "cell_type": "code",
   "execution_count": 58,
   "metadata": {
    "collapsed": false
   },
   "outputs": [
    {
     "name": "stdout",
     "output_type": "stream",
     "text": [
      "({'a': 1}, {'b': 2})\n",
      "({'a': 3}, {'b': 4})\n",
      "({'a': 4}, {'b': 6})\n",
      "[{'a': 1, 'b': 2}, {'a': 3, 'b': 4}, {'a': 4, 'b': 6}]\n"
     ]
    }
   ],
   "source": [
    "def f(input_dict):\n",
    "    temp_list = []\n",
    "    for key, val_list in input_dict.items():\n",
    "        new_dict_list = [{key:val} for val in val_list ]\n",
    "        temp_list.append(new_dict_list)\n",
    "    \n",
    "    final_list = []\n",
    "    for x in zip(*temp_list):\n",
    "        curr_dict = {}\n",
    "        for src_dict in x:\n",
    "            for key, val in src_dict.items():\n",
    "                curr_dict[key] = val\n",
    "        final_list.append(curr_dict)\n",
    "        \n",
    "    return final_list\n",
    "\n",
    "print f({'a':[1,3,4], 'b':[2,4,6]})"
   ]
  },
  {
   "cell_type": "markdown",
   "metadata": {},
   "source": [
    "# Example 3:"
   ]
  },
  {
   "cell_type": "markdown",
   "metadata": {},
   "source": [
    "# Example 3:\n",
    "Write a function that will create a \"circulant\" matrix. That is, create a matrix of size NxN such that each row is rotated one element to the right relative to the preceeding row.  The function should take three arguments: \"N\", the size of the matrix, \"rv\" a row vector, and an integer \"k\" (0<=k<=N-1) defining which row in the matrix should correspond to \"rv\".\n",
    "\n",
    "For example, \n",
    "\n",
    "    import numpy as np\n",
    "    f(4, np.array([0,2,3,0]),2)\n",
    "    \n",
    "should return:\n",
    "\n",
    "    array([[ 3.,  0.,  0.,  2.],\n",
    "           [ 2.,  3.,  0.,  0.],\n",
    "           [ 0.,  2.,  3.,  0.],       # Here, on row k, is the vector \"rv\"\n",
    "           [ 0.,  0.,  2.,  3.]])"
   ]
  },
  {
   "cell_type": "code",
   "execution_count": 69,
   "metadata": {
    "collapsed": false
   },
   "outputs": [
    {
     "data": {
      "text/plain": [
       "array([[ 3.,  0.,  0.,  2.],\n",
       "       [ 2.,  3.,  0.,  0.],\n",
       "       [ 0.,  2.,  3.,  0.],\n",
       "       [ 0.,  0.,  2.,  3.]])"
      ]
     },
     "execution_count": 69,
     "metadata": {},
     "output_type": "execute_result"
    }
   ],
   "source": [
    "import numpy as np\n",
    "\n",
    "def f(N, rv, k):\n",
    "    \n",
    "    A = np.outer(np.ones(N), rv)\n",
    "    for ii in range(N):\n",
    "        A[ii,:]=np.roll(A[ii,:],ii)\n",
    "        \n",
    "    return np.roll(A, k, axis=1)\n",
    "    \n",
    "\n",
    "f(4, np.array([0,2,3,0]),2)"
   ]
  }
 ],
 "metadata": {
  "kernelspec": {
   "display_name": "Python 2",
   "language": "python",
   "name": "python2"
  },
  "language_info": {
   "codemirror_mode": {
    "name": "ipython",
    "version": 2
   },
   "file_extension": ".py",
   "mimetype": "text/x-python",
   "name": "python",
   "nbconvert_exporter": "python",
   "pygments_lexer": "ipython2",
   "version": "2.7.11"
  }
 },
 "nbformat": 4,
 "nbformat_minor": 0
}
