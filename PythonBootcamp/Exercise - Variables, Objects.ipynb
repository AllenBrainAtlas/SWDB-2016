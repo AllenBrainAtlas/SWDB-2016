{
 "cells": [
  {
   "cell_type": "markdown",
   "metadata": {},
   "source": [
    "<div class=\"alert alert-warning\">\n",
    "<font size=4>\n",
    "The exercises aren't ordered in any particular way. The \"Some kind of code\" is a placeholder for whatever we want to call the code in between the input/result of an exercise. I also used syntax highlighting throughout. Will reformat on request.\n",
    "-Chris"
   ]
  },
  {
   "cell_type": "markdown",
   "metadata": {},
   "source": [
    "<div class=\"alert alert-success\">\n",
    "<font size=6>Exercises 1\n"
   ]
  },
  {
   "cell_type": "markdown",
   "metadata": {},
   "source": [
    "<div class=\"alert alert-success\">\n",
    "<font size=6>Exercise 1.0:</font><p>Get the number of digits in an integer. The <code>str</code> function can be used to convert a data-type into a string. The <code>len</code> function will return the length of a string.</p>\n",
    "```python\n",
    ">>>2016\n",
    "``` \n",
    "Some kind of code\n",
    "```python\n",
    ">>>4\n",
    "``` "
   ]
  },
  {
   "cell_type": "markdown",
   "metadata": {},
   "source": [
    "<div class=\"alert alert-success\">\n",
    "<font size=6>Exercise 1.1:</font></p>Calculate the remainder resulting from the division of two integers.</p>\n",
    "```python\n",
    ">>>a = 5\n",
    ">>>b = 2\n",
    "``` \n",
    "Some kind of code\n",
    "```python\n",
    ">>>1\n",
    "``` "
   ]
  },
  {
   "cell_type": "markdown",
   "metadata": {},
   "source": [
    "<div class=\"alert alert-warning\"> \n",
    "No idea how to write the pseudo-code for 1.2."
   ]
  },
  {
   "cell_type": "markdown",
   "metadata": {},
   "source": [
    "<div class=\"alert alert-success\">\n",
    "<font size=6>Exercise 1.2:</font><p>Divide an integer assigned to a variable and reassign it to that same variable using a single operator.</p>\n",
    "```python\n",
    ">>>a = 4\n",
    "``` \n",
    "Some kind of code dividing by <code>2</code>\n",
    "```python\n",
    ">>>a = 2\n",
    "``` "
   ]
  },
  {
   "cell_type": "markdown",
   "metadata": {},
   "source": [
    "<div class=\"alert alert-success\">\n",
    "<font size=6>Exercise 1.3:</font><p>Create a string consisting of a single character repeated <code>100</code> times. "
   ]
  },
  {
   "cell_type": "markdown",
   "metadata": {},
   "source": [
    "<div class=\"alert alert-success\">\n",
    "<font size=6>Exercise 1.4:</font><p>Quotes are used to denote the start and stop of strings in python. Try to create a string that contains quotes. "
   ]
  },
  {
   "cell_type": "markdown",
   "metadata": {},
   "source": [
    "<div class=\"alert alert-success\">\n",
    "<font size=6>Exercise 1.5:</font><p>Of a string of only digits ranging from <code>0-9</code>, get the largest digit.</p>\n",
    "```python\n",
    ">>>a = \"419234587\"\n",
    "``` \n",
    "Some kind of code\n",
    "```python\n",
    ">>>9\n",
    "``` "
   ]
  },
  {
   "cell_type": "markdown",
   "metadata": {},
   "source": [
    "<div class=\"alert alert-warning\"> \n",
    "The function needed to easily do exercise 1.6 is <code>input</code>. Used syntax highlighting as a hint."
   ]
  },
  {
   "cell_type": "markdown",
   "metadata": {},
   "source": [
    "<div class=\"alert alert-success\">\n",
    "<font size=6>Exercise 1.6:</font><p>Create a basic prompt designed to receive user <code>input</code>.</p>"
   ]
  },
  {
   "cell_type": "markdown",
   "metadata": {},
   "source": [
    "<div class=\"alert alert-success\">\n",
    "<font size=6>Exercise 1.7:</font><p>Add two string together without the <code>+</code> operator.</p>"
   ]
  },
  {
   "cell_type": "markdown",
   "metadata": {},
   "source": [
    "<div class=\"alert alert-success\">\n",
    "<font size=6>Exercise 1.8:</font><p>Get the the decimal component of a float without using subtraction.\n",
    "```python\n",
    ">>>a = 5.5\n",
    "```\n",
    "Some kind of code\n",
    "```python\n",
    ">>>0.5\n",
    "```"
   ]
  },
  {
   "cell_type": "markdown",
   "metadata": {},
   "source": [
    "<div class=\"alert alert-success\">\n",
    "<font size=6>Exercise 1.9:</font><p>Fun with floating points. Compute <code>1.0 / 3.0</code> and round to two places after the decimal point.</p>\n",
    "```python\n",
    ">>>a = 1.0 / 3.0\n",
    "```\n",
    "Some kind of code\n",
    "```python\n",
    ">>>0.33\n",
    "``` "
   ]
  },
  {
   "cell_type": "markdown",
   "metadata": {},
   "source": [
    "<div class=\"alert alert-success\">\n",
    "<font size=6>Exercise 1.e.0:</font>\n",
    "<p>Python string support many different encodings. One of which is hexidecimal. This format is extremely popular. \n",
    "Try to convert the hexidecimal string representation of black, <code>\"ffffff\"</code>, to a series of rgb integers.</p>\n",
    "<p><b>Hint: The </b><code>map</code><b> function will apply a function to every character within a string and the </b><code>.decode</code><b> method of a string can be used to interpret that string with a specified encoding.</b></p>\n",
    "```python\n",
    ">>>\"ffffff\"\n",
    "```\n",
    "Some kind of code\n",
    "```python\n",
    ">>>[255, 255, 255]\n",
    "```  "
   ]
  },
  {
   "cell_type": "markdown",
   "metadata": {},
   "source": [
    "<div class=\"alert alert-success\">\n",
    "<font size=6>Exercise 1.e.1:</font><p>Sometimes its fun to do useless things. Unfortunately a regular python string doesn't always cooperate. We expect to see a \"cool\" shape by running the following snipette of code but just end up getting disappointed.</p>\n",
    "```python\n",
    ">>>print \"\"\"\n",
    " /\\\n",
    "//\\\\\n",
    "\"\"\"\n",
    "```\n",
    "Despite our efforts we only see <code>///\\</code> displayed.\n",
    "Figure out a way to successfully <code>print</code> out our \"cool\" shape to the console so that our hard work designing the shape wasn't for nothing.\n",
    "```python\n",
    ">>>cool_shape = \"\"\"\n",
    " /\\\n",
    "//\\\\\n",
    "\"\"\"\n",
    "```\n",
    "Some kind of code\n",
    "```python\n",
    " /\\\n",
    "//\\\\\n",
    "```"
   ]
  },
  {
   "cell_type": "markdown",
   "metadata": {},
   "source": [
    "<div class=\"alert alert-warning\">\n",
    "<font size=6>Key</font>\n",
    "<hr>\n",
    "<font size=6>Exercise 1.0:</font>\n",
    "<p>Believe it or not...this is one of the fastest ways to do this (in Python, for small integers):</p>\n",
    "```python\n",
    ">>>len(str(<integer value>))\n",
    "```  \n",
    "also works but requires math (faster for large ints...fails for 0):\n",
    "```python\n",
    ">>>int(math.log10(<integer value>)) + 1\n",
    "```\n",
    "<hr>\n",
    "<font size=6>Exercise  1.1:</font><p>So many ways but the most efficient one is probably modulo.</p>\n",
    "```python\n",
    ">>><integer value 0> % <integer value 1>\n",
    "```\n",
    "or \n",
    "```python\n",
    ">>>divmod(<integer value 0>, <integer value 1>)[1]\n",
    "```\n",
    "<hr>\n",
    "<font size=6>Exercise 1.2:</font><p></p> \n",
    "```python\n",
    ">>>a = 5\n",
    ">>>a /= 2 \n",
    "```\n",
    "<hr>\n",
    "<font size=6>Exercise 1.3:</font>\n",
    "```python\n",
    ">>><string value 0>*<100 / (length of string value 0)>\n",
    "```\n",
    "<hr>\n",
    "<font size=6>Exercise 1.4:</font><p>Maybe bad because there are <b>SO</b> many possiblities:</p>\n",
    "```python\n",
    ">>>\"\"\"\"<string value 0>\"\"\"\"\n",
    "```  \n",
    "or \n",
    "```python\n",
    ">>>\"'<string value 0>'\"\n",
    "```  \n",
    "or\n",
    "```python\n",
    ">>>\"\\\"<string value 0>\\\"\"\n",
    "```  \n",
    "or \n",
    "```python\n",
    ">>>\"\\'<string value 0>\\'\"\n",
    "```\n",
    "<hr>\n",
    "<font size=6>Exercise 1.5:</font><p>This works because we're just getting the highest ranking unicode character.</p>\n",
    "```python\n",
    ">>>int(max(<string of digits>))\n",
    "```\n",
    "<hr>\n",
    "<font size=6>Exercise 1.6:</font>\n",
    "```python\n",
    ">>>input(<prompt string>)\n",
    "```\n",
    "<hr>\n",
    "<font size=6>Exercise 1.7:</font><p></p>\n",
    "```python\n",
    ">>>\"\".join(<string value 0>, <string value 1>)\n",
    "```\n",
    "<hr>\n",
    "<font size=6>Exercise 1.8:</font><p></p>\n",
    "```python\n",
    ">>>round(5.5 % 5.0, 1)\n",
    "```\n",
    "<hr>\n",
    "<font size=6>Exercise 1.9:</font>\n",
    "<p>Seems easy but really useful. People will need to know how to do this for pretty plots, etc?</p>\n",
    "```python\n",
    ">>>round(1.0/3.0, 2)\n",
    "```  \n",
    "or \n",
    "```python\n",
    ">>>float( \"{:.2f}\".format( 1.0 / 3.0 ) )\n",
    "```\n",
    "<hr>\n",
    "<font size=6>Exercise 1.e.0:</font>\n",
    "<p>Without iteration, the number of possibilities are significantly fewer but there are still way too many variations to list. The simplest one should be:</p>\n",
    "```python\n",
    ">>>map(ord, \"ffffff\".decode(\"hex\"))\n",
    "```  \n",
    "<hr>\n",
    "<font size=6>Exercise 1.e.1:</font>\n",
    "<p>Simply convert to raw string.</p>\n",
    "```python\n",
    ">>>print r\"\"\"\n",
    " /\\\n",
    "//\\\\\n",
    "\"\"\"\n",
    "```\n",
    "<hr>"
   ]
  }
 ],
 "metadata": {
  "kernelspec": {
   "display_name": "Python 2",
   "language": "python",
   "name": "python2"
  },
  "language_info": {
   "codemirror_mode": {
    "name": "ipython",
    "version": 2
   },
   "file_extension": ".py",
   "mimetype": "text/x-python",
   "name": "python",
   "nbconvert_exporter": "python",
   "pygments_lexer": "ipython2",
   "version": "2.7.11"
  }
 },
 "nbformat": 4,
 "nbformat_minor": 0
}
