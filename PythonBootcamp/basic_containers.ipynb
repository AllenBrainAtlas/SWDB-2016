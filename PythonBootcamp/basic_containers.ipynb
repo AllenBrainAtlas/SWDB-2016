{
 "cells": [
  {
   "cell_type": "markdown",
   "metadata": {
    "collapsed": true
   },
   "source": [
    "## Containers"
   ]
  },
  {
   "cell_type": "markdown",
   "metadata": {},
   "source": [
    "A container is an object capable of expressing a 'has some' relationship with other objects."
   ]
  },
  {
   "cell_type": "markdown",
   "metadata": {},
   "source": [
    "### sequences\n"
   ]
  },
  {
   "cell_type": "markdown",
   "metadata": {},
   "source": [
    "Sequences are, unsurprisingly, containers whose elements are associated with natural number (represented in python by nonnegative int) indices."
   ]
  },
  {
   "cell_type": "markdown",
   "metadata": {},
   "source": [
    "##### strings"
   ]
  },
  {
   "cell_type": "markdown",
   "metadata": {},
   "source": [
    "strings are sequences, which means that you can access their elements by integer index. To access the $j^{th}$ element of a string or other sequence, use the syntax:"
   ]
  },
  {
   "cell_type": "markdown",
   "metadata": {},
   "source": [
    "my_sequence[j]"
   ]
  },
  {
   "cell_type": "code",
   "execution_count": 3,
   "metadata": {
    "collapsed": false
   },
   "outputs": [
    {
     "name": "stdout",
     "output_type": "stream",
     "text": [
      "n\n"
     ]
    }
   ],
   "source": [
    "# for instance\n",
    "\n",
    "my_string = 'Allen Institute'\n",
    "print my_string[6] # (Note that indices begin at 0, not 1)"
   ]
  },
  {
   "cell_type": "markdown",
   "metadata": {},
   "source": [
    "### Sequence slicing options:"
   ]
  },
  {
   "cell_type": "markdown",
   "metadata": {},
   "source": [
    "negative indices proceed from the final element. Make a string and get its third-to-last element."
   ]
  },
  {
   "cell_type": "code",
   "execution_count": null,
   "metadata": {
    "collapsed": true
   },
   "outputs": [],
   "source": []
  },
  {
   "cell_type": "markdown",
   "metadata": {},
   "source": [
    "You can obtain a slice by specifying starting (inclusive) and ending (exclusive) indices, like:\n",
    "\n",
    "<code>\n",
    "my_string[3:8] # 3rd to 7th item\n",
    "</code>\n",
    "\n",
    "Try this. What happens if you omit one or both of these?:"
   ]
  },
  {
   "cell_type": "code",
   "execution_count": null,
   "metadata": {
    "collapsed": true
   },
   "outputs": [],
   "source": []
  },
  {
   "cell_type": "markdown",
   "metadata": {},
   "source": [
    "Alternatively, you can specify a step by the syntax [start : stop : step]\n",
    "\n",
    "<code>\n",
    "my_string[2:8:3]\n",
    "</code>\n",
    "\n",
    "What happens if you specify a negative step without a start or stop?\n"
   ]
  },
  {
   "cell_type": "code",
   "execution_count": null,
   "metadata": {
    "collapsed": true
   },
   "outputs": [],
   "source": []
  },
  {
   "cell_type": "markdown",
   "metadata": {
    "collapsed": false
   },
   "source": [
    "The <code>len(a_sequence)</code> function will tell you how many elements a sequence has. Use this to check the length of a whitespace-only string."
   ]
  },
  {
   "cell_type": "code",
   "execution_count": null,
   "metadata": {
    "collapsed": true
   },
   "outputs": [],
   "source": []
  },
  {
   "cell_type": "markdown",
   "metadata": {},
   "source": [
    "##### tuples"
   ]
  },
  {
   "cell_type": "markdown",
   "metadata": {},
   "source": [
    "Strings are fine for representing sequences of text, but we would often like to store sequences of numbers or other Python objects. To do this, we can use a tuple:"
   ]
  },
  {
   "cell_type": "code",
   "execution_count": 15,
   "metadata": {
    "collapsed": false
   },
   "outputs": [
    {
     "name": "stdout",
     "output_type": "stream",
     "text": [
      "3\n",
      "banana\n",
      "((0, 1), (2, 3))\n",
      "(0, 1)\n",
      "3\n"
     ]
    }
   ],
   "source": [
    "some_numbers = (1, 1, 2, 3) # parentheses here indicate a tuple; alternatively we could call tuple()\n",
    "print some_numbers[3]\n",
    "\n",
    "# we can store any kind or kinds of value(s) in a tuple\n",
    "strange_tuple = (1, 1, 2, 'banana', '5?')\n",
    "print strange_tuple[3]\n",
    "\n",
    "# This includes other tuples - we can represent a 2d array by a tuple of tuples:\n",
    "my_matrix = ((0, 1), (2, 3))\n",
    "print my_matrix\n",
    "print my_matrix[0]\n",
    "print my_matrix[1][1]"
   ]
  },
  {
   "cell_type": "code",
   "execution_count": 44,
   "metadata": {
    "collapsed": false
   },
   "outputs": [
    {
     "name": "stdout",
     "output_type": "stream",
     "text": [
      "3\n"
     ]
    }
   ],
   "source": [
    "# to find a value in a tuple, use .index(value)\n",
    "haystack = (1, 2, 3, 'needle', 4)\n",
    "print haystack.index('needle')"
   ]
  },
  {
   "cell_type": "code",
   "execution_count": 66,
   "metadata": {
    "collapsed": false
   },
   "outputs": [
    {
     "name": "stdout",
     "output_type": "stream",
     "text": [
      "True\n",
      "False\n"
     ]
    }
   ],
   "source": [
    "# you can also test whether a value is in a tuple\n",
    "my_tuple = (1, 3, 5)\n",
    "print 3 in my_tuple\n",
    "print 4 in my_tuple"
   ]
  },
  {
   "cell_type": "code",
   "execution_count": 39,
   "metadata": {
    "collapsed": false
   },
   "outputs": [
    {
     "name": "stdout",
     "output_type": "stream",
     "text": [
      "67.9\n",
      "('very left', 'left', 'right', 'very right')\n"
     ]
    }
   ],
   "source": [
    "# the built-in sum function can be applied to a sequence of numbers\n",
    "some_numbers = (10, 12, 2.9, 43)\n",
    "print sum(some_numbers)\n",
    "\n",
    "# The plus operator acting on two sequences will concatenate\n",
    "left_tuple = ('very left', 'left')\n",
    "right_tuple = ('right', 'very right')\n",
    "print left_tuple + right_tuple\n",
    "# careful - what happens if one or both of these are length 1? Recall the use of parantheses in evaluating expressions..."
   ]
  },
  {
   "cell_type": "markdown",
   "metadata": {},
   "source": [
    "A natural extension of indexing is to set a value in a sequence by index."
   ]
  },
  {
   "cell_type": "code",
   "execution_count": 25,
   "metadata": {
    "collapsed": false
   },
   "outputs": [
    {
     "ename": "TypeError",
     "evalue": "'tuple' object does not support item assignment",
     "output_type": "error",
     "traceback": [
      "\u001b[1;31m---------------------------------------------------------------------------\u001b[0m",
      "\u001b[1;31mTypeError\u001b[0m                                 Traceback (most recent call last)",
      "\u001b[1;32m<ipython-input-25-9d0ef639b5ce>\u001b[0m in \u001b[0;36m<module>\u001b[1;34m()\u001b[0m\n\u001b[0;32m      1\u001b[0m \u001b[0mstrange_tuple\u001b[0m \u001b[1;33m=\u001b[0m \u001b[1;33m(\u001b[0m\u001b[1;36m1\u001b[0m\u001b[1;33m,\u001b[0m \u001b[1;36m1\u001b[0m\u001b[1;33m,\u001b[0m \u001b[1;36m2\u001b[0m\u001b[1;33m,\u001b[0m \u001b[1;34m'banana'\u001b[0m\u001b[1;33m,\u001b[0m \u001b[1;36m5\u001b[0m\u001b[1;33m)\u001b[0m\u001b[1;33m\u001b[0m\u001b[0m\n\u001b[1;32m----> 2\u001b[1;33m \u001b[0mstrange_tuple\u001b[0m\u001b[1;33m[\u001b[0m\u001b[1;36m3\u001b[0m\u001b[1;33m]\u001b[0m \u001b[1;33m=\u001b[0m \u001b[1;36m3\u001b[0m\u001b[1;33m\u001b[0m\u001b[0m\n\u001b[0m",
      "\u001b[1;31mTypeError\u001b[0m: 'tuple' object does not support item assignment"
     ]
    }
   ],
   "source": [
    "strange_tuple = (1, 1, 2, 'banana', 5)\n",
    "strange_tuple[3] = 3"
   ]
  },
  {
   "cell_type": "markdown",
   "metadata": {},
   "source": [
    "So that didn't work - what is going on? The answer is that tuples are immutable objects - once they are created, they cannot be changed."
   ]
  },
  {
   "cell_type": "markdown",
   "metadata": {},
   "source": [
    "##### lists"
   ]
  },
  {
   "cell_type": "markdown",
   "metadata": {},
   "source": [
    "Lists are the mutable equivalent of tuples. This means we can alter them in-place."
   ]
  },
  {
   "cell_type": "code",
   "execution_count": 37,
   "metadata": {
    "collapsed": false
   },
   "outputs": [
    {
     "name": "stdout",
     "output_type": "stream",
     "text": [
      "[5, 4, 3]\n",
      "[5, 20, 3]\n",
      "original list: [5, 20, 3]\n",
      "removed element: 5\n",
      "changed list: [20, 3]\n",
      "[20, 3, 12]\n",
      "[20, 3, 'x', 12]\n",
      "[20, 3, 12]\n"
     ]
    }
   ],
   "source": [
    "# square brackets enclose a list; or call the constructor list()\n",
    "my_list = [5, 4, 3]\n",
    "print my_list\n",
    "\n",
    "# we can alter the values of a list!\n",
    "my_list[1] = 20\n",
    "print my_list\n",
    "\n",
    "# Remove and return element at a given index\n",
    "print \"original list:\", my_list\n",
    "removed_element = my_list.pop(0)\n",
    "print \"removed element:\", removed_element\n",
    "print \"changed list:\", my_list\n",
    "\n",
    "# add additional elements with \"append\"\n",
    "my_list.append(12)\n",
    "print my_list\n",
    "\n",
    "# insert elements with \"insert\"\n",
    "my_list.insert(2, 'x')\n",
    "print my_list\n",
    "\n",
    "# remove elements with \"remove\"\n",
    "my_list.remove('x')\n",
    "print my_list"
   ]
  },
  {
   "cell_type": "code",
   "execution_count": 45,
   "metadata": {
    "collapsed": false
   },
   "outputs": [
    {
     "name": "stdout",
     "output_type": "stream",
     "text": [
      "[5, 4, 3, 2, 1]\n",
      "2\n",
      "3\n"
     ]
    }
   ],
   "source": [
    "# lists can be sliced easily as well\n",
    "my_list = [1, 2, 3, 4, 5]\n",
    "print my_list[::-1]\n",
    "print my_list[1]\n",
    "\n",
    "# values can be found as with tuples\n",
    "print my_list.index(4)"
   ]
  },
  {
   "cell_type": "code",
   "execution_count": 58,
   "metadata": {
    "collapsed": false
   },
   "outputs": [
    {
     "name": "stdout",
     "output_type": "stream",
     "text": [
      "[0, 1, 4, 9, 16, 25, 36, 49, 64, 81]\n",
      "[0, 16, 256, 1296, 4096]\n"
     ]
    }
   ],
   "source": [
    "# a \"pythonic\" technique for generating a list in a single line\n",
    "my_list1 = [x**2 for x in range(10)]\n",
    "print my_list1\n",
    "my_list2 = [x**2 for x in my_list1 if x % 2 == 0]\n",
    "print my_list2"
   ]
  },
  {
   "cell_type": "code",
   "execution_count": 61,
   "metadata": {
    "collapsed": false
   },
   "outputs": [
    {
     "name": "stdout",
     "output_type": "stream",
     "text": [
      "[0, 2, 4, 6, 8]\n"
     ]
    }
   ],
   "source": [
    "# range(start, stop, [step]) makes integer lists\n",
    "print range(0, 10, 2)"
   ]
  },
  {
   "cell_type": "markdown",
   "metadata": {},
   "source": [
    "### mappings"
   ]
  },
  {
   "cell_type": "markdown",
   "metadata": {},
   "source": [
    "##### dictionaries\n",
    "\n",
    "There is only one built-in mapping type - the dictionary - but it is extremely useful."
   ]
  },
  {
   "cell_type": "code",
   "execution_count": 46,
   "metadata": {
    "collapsed": false
   },
   "outputs": [
    {
     "name": "stdout",
     "output_type": "stream",
     "text": [
      "{'a': 1, 'b': 2}\n"
     ]
    }
   ],
   "source": [
    "# dictionaries are unordered collections of \"values\" indexed by \"keys\"\n",
    "# they can be created all at once\n",
    "# dictionaries are defined with curly brackets \"{}\"\n",
    "dict1 = {'a':1, 'b':2}\n",
    "print dict1"
   ]
  },
  {
   "cell_type": "code",
   "execution_count": 47,
   "metadata": {
    "collapsed": false
   },
   "outputs": [
    {
     "name": "stdout",
     "output_type": "stream",
     "text": [
      "{'a': 5, 'b': 6}\n"
     ]
    }
   ],
   "source": [
    "# or they can be created piece by piece\n",
    "dict2 = {}\n",
    "dict2['a'] = 5\n",
    "dict2['b'] = 6\n",
    "print dict2"
   ]
  },
  {
   "cell_type": "code",
   "execution_count": 48,
   "metadata": {
    "collapsed": false
   },
   "outputs": [
    {
     "name": "stdout",
     "output_type": "stream",
     "text": [
      "6\n"
     ]
    }
   ],
   "source": [
    "# dictionaries are addressed by their keys\n",
    "print dict2['b']"
   ]
  },
  {
   "cell_type": "code",
   "execution_count": 49,
   "metadata": {
    "collapsed": false
   },
   "outputs": [
    {
     "name": "stdout",
     "output_type": "stream",
     "text": [
      "{'a': 5, 'c': [3, 4, 5], 'b': 6, 'd': 'hello'}\n"
     ]
    }
   ],
   "source": [
    "# values can be any object\n",
    "dict2['c'] = [3, 4, 5]\n",
    "dict2['d'] = 'hello'\n",
    "print dict2"
   ]
  },
  {
   "cell_type": "code",
   "execution_count": 50,
   "metadata": {
    "collapsed": false
   },
   "outputs": [
    {
     "name": "stdout",
     "output_type": "stream",
     "text": [
      "{'a': 5, 3: 'apples', 'c': [3, 4, 5], 'b': 6, 'd': 'hello'}\n"
     ]
    }
   ],
   "source": [
    "# keys can be any hashable (immutable) type\n",
    "dict2[3] = 'apples'\n",
    "print dict2"
   ]
  },
  {
   "cell_type": "code",
   "execution_count": 53,
   "metadata": {
    "collapsed": false
   },
   "outputs": [
    {
     "name": "stdout",
     "output_type": "stream",
     "text": [
      "{'a': 5, 'c': [3, 4, 5], 3: 'apples', 'd': 'hello', ('LGN', 'V1'): 'connection present', 'b': 6}\n"
     ]
    }
   ],
   "source": [
    "# tuples can be useful keys\n",
    "dict2[('LGN','V1')] = 'connection present'\n",
    "print dict2"
   ]
  },
  {
   "cell_type": "code",
   "execution_count": 54,
   "metadata": {
    "collapsed": false
   },
   "outputs": [
    {
     "ename": "TypeError",
     "evalue": "unhashable type: 'list'",
     "output_type": "error",
     "traceback": [
      "\u001b[1;31m---------------------------------------------------------------------------\u001b[0m",
      "\u001b[1;31mTypeError\u001b[0m                                 Traceback (most recent call last)",
      "\u001b[1;32m<ipython-input-54-59d4ca246a88>\u001b[0m in \u001b[0;36m<module>\u001b[1;34m()\u001b[0m\n\u001b[0;32m      1\u001b[0m \u001b[1;31m# lists can't be keys since they're mutable\u001b[0m\u001b[1;33m\u001b[0m\u001b[1;33m\u001b[0m\u001b[0m\n\u001b[1;32m----> 2\u001b[1;33m \u001b[0mdict2\u001b[0m\u001b[1;33m[\u001b[0m\u001b[1;33m[\u001b[0m\u001b[1;36m3\u001b[0m\u001b[1;33m,\u001b[0m\u001b[1;36m8\u001b[0m\u001b[1;33m]\u001b[0m\u001b[1;33m]\u001b[0m \u001b[1;33m=\u001b[0m \u001b[1;36m900\u001b[0m\u001b[1;33m\u001b[0m\u001b[0m\n\u001b[0m",
      "\u001b[1;31mTypeError\u001b[0m: unhashable type: 'list'"
     ]
    }
   ],
   "source": [
    "# lists can't be keys since they're mutable\n",
    "dict2[[3,8]] = 900"
   ]
  },
  {
   "cell_type": "code",
   "execution_count": 55,
   "metadata": {
    "collapsed": false
   },
   "outputs": [
    {
     "name": "stdout",
     "output_type": "stream",
     "text": [
      "\"keys\" method: ['a', 'c', 3, 'd', ('LGN', 'V1'), 'b']\n",
      "\"values\" method: [5, [3, 4, 5], 'apples', 'hello', 'connection present', 6]\n",
      "\"items\" method: [('a', 5), ('c', [3, 4, 5]), (3, 'apples'), ('d', 'hello'), (('LGN', 'V1'), 'connection present'), ('b', 6)]\n"
     ]
    }
   ],
   "source": [
    "# some useful dictionary methods\n",
    "print '\"keys\" method:', dict2.keys()\n",
    "print '\"values\" method:', dict2.values()\n",
    "print '\"items\" method:', dict2.items() # items are (key, value) tuples"
   ]
  },
  {
   "cell_type": "code",
   "execution_count": 56,
   "metadata": {
    "collapsed": false
   },
   "outputs": [
    {
     "name": "stdout",
     "output_type": "stream",
     "text": [
      "5\n",
      "default_return_string\n"
     ]
    }
   ],
   "source": [
    "# \"get\" returns a default string if the key isn't found\n",
    "print dict2.get('a', 'default_return_string')\n",
    "print dict2.get('q', 'default_return_string')"
   ]
  },
  {
   "cell_type": "markdown",
   "metadata": {},
   "source": [
    "### sets"
   ]
  },
  {
   "cell_type": "markdown",
   "metadata": {},
   "source": [
    "##### sets"
   ]
  },
  {
   "cell_type": "markdown",
   "metadata": {},
   "source": [
    "Sets are unordered mutable collections of unique elements. They support familiar mathematical operations."
   ]
  },
  {
   "cell_type": "code",
   "execution_count": 65,
   "metadata": {
    "collapsed": false
   },
   "outputs": [
    {
     "name": "stdout",
     "output_type": "stream",
     "text": [
      "set([3])\n",
      "set([0, 1, 2, 3, 4, 5, 6])\n",
      "set([0, 1, 2])\n",
      "set([0, 1, 2, 4, 5, 6])\n"
     ]
    }
   ],
   "source": [
    "left_set = set([0, 1, 2, 3])\n",
    "right_set = set([3, 4, 5, 6])\n",
    "\n",
    "# intersection\n",
    "print left_set & right_set\n",
    "\n",
    "# union\n",
    "print left_set | right_set\n",
    "\n",
    "# difference\n",
    "print left_set - right_set\n",
    "\n",
    "# symmetric difference\n",
    "print left_set ^ right_set"
   ]
  },
  {
   "cell_type": "code",
   "execution_count": 67,
   "metadata": {
    "collapsed": false
   },
   "outputs": [
    {
     "name": "stdout",
     "output_type": "stream",
     "text": [
      "True\n",
      "False\n"
     ]
    }
   ],
   "source": [
    "small_set = set([1, 2])\n",
    "big_set = set([0, 1, 2, 3])\n",
    "\n",
    "# subsethood\n",
    "print small_set <= big_set\n",
    "\n",
    "# supersethood\n",
    "print small_set >= big_set"
   ]
  },
  {
   "cell_type": "code",
   "execution_count": 68,
   "metadata": {
    "collapsed": false
   },
   "outputs": [
    {
     "name": "stdout",
     "output_type": "stream",
     "text": [
      "set([1, 2, 3, 4, 5])\n",
      "set([1, 2, 4, 5])\n"
     ]
    }
   ],
   "source": [
    "# being mutable, sets support add, remove\n",
    "my_set = set([1, 2, 3, 4])\n",
    "my_set.add(5)\n",
    "print my_set\n",
    "my_set.remove(3)\n",
    "print my_set"
   ]
  },
  {
   "cell_type": "markdown",
   "metadata": {},
   "source": [
    "##### frozensets"
   ]
  },
  {
   "cell_type": "code",
   "execution_count": 57,
   "metadata": {
    "collapsed": false
   },
   "outputs": [
    {
     "name": "stdout",
     "output_type": "stream",
     "text": [
      "frozenset(['12', 'new york'])\n",
      "{frozenset(['12', 'new york']): 15}\n",
      "15\n"
     ]
    }
   ],
   "source": [
    "# frozensets are just immutable sets - we can't alter them in-place, but we can use them as keys for dictionaries\n",
    "my_fset = frozenset(['new york', '12'])\n",
    "my_dict = {my_fset: 15}\n",
    "\n",
    "print my_fset\n",
    "print my_dict\n",
    "print my_dict[my_fset]"
   ]
  },
  {
   "cell_type": "markdown",
   "metadata": {
    "collapsed": true
   },
   "source": [
    "### Excercise: reverse a dictionary\n",
    "\n",
    "The goal of this excercise is to produce from an input dictionary an output dictionary whose keys are the input dictionary's values and whose values are the respective keys. You might find the <code>iteritems()</code> dictionary method to be useful.\n",
    "\n",
    "Also: make sure your input dict has hashable values"
   ]
  },
  {
   "cell_type": "code",
   "execution_count": null,
   "metadata": {
    "collapsed": true
   },
   "outputs": [],
   "source": []
  },
  {
   "cell_type": "markdown",
   "metadata": {},
   "source": [
    "### Excercise: list of dict -> dict of list\n",
    "\n",
    "Write a function which takes as input:\n",
    "\n",
    "1. A list of dictionaries with the same keys\n",
    "2. A key\n",
    "\n",
    "and returns:\n",
    "\n",
    "1. A dictionary whose keys are the values obtained by item[input_key] per item in the input list and whose values are the items of the input list.\n",
    "\n",
    "If the values are not unique, raise a ValueError with an informative message.\n"
   ]
  },
  {
   "cell_type": "code",
   "execution_count": null,
   "metadata": {
    "collapsed": true
   },
   "outputs": [],
   "source": []
  },
  {
   "cell_type": "markdown",
   "metadata": {},
   "source": [
    "### Excercise: uniquification\n",
    "\n",
    "Part 1: Use a set to find the unique values in a list.\n",
    "\n",
    "Part 2: Use a for loop to find the unique values in a list. When might you want to use one or the other of these?"
   ]
  },
  {
   "cell_type": "code",
   "execution_count": null,
   "metadata": {
    "collapsed": true
   },
   "outputs": [],
   "source": []
  }
 ],
 "metadata": {
  "kernelspec": {
   "display_name": "Python 2",
   "language": "python",
   "name": "python2"
  },
  "language_info": {
   "codemirror_mode": {
    "name": "ipython",
    "version": 2
   },
   "file_extension": ".py",
   "mimetype": "text/x-python",
   "name": "python",
   "nbconvert_exporter": "python",
   "pygments_lexer": "ipython2",
   "version": "2.7.11"
  }
 },
 "nbformat": 4,
 "nbformat_minor": 0
}
