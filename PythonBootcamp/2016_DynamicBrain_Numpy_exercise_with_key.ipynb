{
 "cells": [
  {
   "cell_type": "markdown",
   "metadata": {},
   "source": [
    "# exercise 1"
   ]
  },
  {
   "cell_type": "code",
   "execution_count": 1,
   "metadata": {
    "collapsed": true
   },
   "outputs": [],
   "source": [
    "# import numpy in this cell\n",
    "\n",
    "import numpy as np"
   ]
  },
  {
   "cell_type": "code",
   "execution_count": 2,
   "metadata": {
    "collapsed": false
   },
   "outputs": [
    {
     "name": "stdout",
     "output_type": "stream",
     "text": [
      "[  3   6   9  12  15  18  21  24  27  30  33  36  39  42  45  48  51  54\n",
      "  57  60  63  66  69  72  75  78  81  84  87  90  93  96  99 102 105 108\n",
      " 111 114 117 120 123 126 129 132 135 138 141 144 147 150 153 156 159 162\n",
      " 165 168 171 174 177 180 183 186 189 192 195 198 201 204 207 210 213 216\n",
      " 219 222 225 228 231 234 237 240 243 246 249 252 255 258 261 264 267 270\n",
      " 273 276 279 282 285 288 291 294 297]\n"
     ]
    }
   ],
   "source": [
    "# create a 1-d numpy array (call it ts for timestamps), with increasing integers from 3 to 300 \n",
    "# (including 3 but not 300) with increment of 3, and print the array\n",
    "\n",
    "ts = np.arange(3, 300, 3)\n",
    "print ts"
   ]
  },
  {
   "cell_type": "code",
   "execution_count": 3,
   "metadata": {
    "collapsed": false
   },
   "outputs": [
    {
     "name": "stdout",
     "output_type": "stream",
     "text": [
      "[   3.    6.    9.   12.   15.   18.   21.   24.   27.   30.   33.   36.\n",
      "   39.   42.   45.   48.   51.   54.   57.   60.   63.   66.   69.   72.\n",
      "   75.   78.   81.   84.   87.   90.   93.   96.   99.  102.  105.  108.\n",
      "  111.  114.  117.  120.  123.  126.  129.  132.  135.  138.  141.  144.\n",
      "  147.  150.  153.  156.  159.  162.  165.  168.  171.  174.  177.  180.\n",
      "  183.  186.  189.  192.  195.  198.  201.  204.  207.  210.  213.  216.\n",
      "  219.  222.  225.  228.  231.  234.  237.  240.  243.  246.  249.  252.\n",
      "  255.  258.  261.  264.  267.  270.  273.  276.  279.  282.  285.  288.\n",
      "  291.  294.  297.]\n"
     ]
    }
   ],
   "source": [
    "# change the dtype of ts into 32-bit floating point and pring ts\n",
    "\n",
    "ts = ts.astype(np.float32)\n",
    "print ts"
   ]
  },
  {
   "cell_type": "code",
   "execution_count": 4,
   "metadata": {
    "collapsed": false
   },
   "outputs": [
    {
     "name": "stdout",
     "output_type": "stream",
     "text": [
      "[   3.     6.     9.    12.    15.    18.    21.    24.    27.    30.    33.\n",
      "   36.    39.    42.    45.    48.    51.    54.    57.    60.    63.    66.\n",
      "   69.    72.    75.    78.    81.    84.    87.    90.    93.    96.    99.\n",
      "  102.   105.   108.   111.   114.   117.   120.   123.   126.   129.   132.\n",
      "  135.   138.   141.   144.   147.   150.   153.   156.   159.   162.   165.\n",
      "  168.   171.   174.   177.   180.   183.   186.   189.   192.   195.   198.\n",
      "  201.5  204.5  207.5  210.5  213.5  216.5  219.5  222.5  225.5  228.5\n",
      "  231.5  234.5  237.5  240.5  243.5  246.5  249.5  252.5  255.5  258.5\n",
      "  261.5  264.5  267.5  270.5  273.5  276.5  279.5  282.5  285.5  288.5\n",
      "  291.5  294.5  297.5]\n"
     ]
    }
   ],
   "source": [
    "# add 0.5 to every element in ts which is larger than 200 and print ts\n",
    "\n",
    "ts[ts > 200] = ts[ts > 200] + 0.5\n",
    "print ts"
   ]
  },
  {
   "cell_type": "code",
   "execution_count": 5,
   "metadata": {
    "collapsed": false
   },
   "outputs": [
    {
     "name": "stdout",
     "output_type": "stream",
     "text": [
      "3.0051\n"
     ]
    }
   ],
   "source": [
    "# find out the mean difference between adjacent elements and print it\n",
    "\n",
    "print np.mean(np.diff(ts))"
   ]
  },
  {
   "cell_type": "code",
   "execution_count": 6,
   "metadata": {
    "collapsed": false
   },
   "outputs": [
    {
     "name": "stdout",
     "output_type": "stream",
     "text": [
      "index: 70 ; value: 213.5\n"
     ]
    }
   ],
   "source": [
    "# find the index of the element closest to the number 212.3, and print that index and print the element\n",
    "\n",
    "ind = np.argmin(np.abs(ts-212.3))\n",
    "print 'index:', ind, ';', 'value:', ts[ind]"
   ]
  },
  {
   "cell_type": "markdown",
   "metadata": {},
   "source": [
    "# exercise 2"
   ]
  },
  {
   "cell_type": "code",
   "execution_count": 7,
   "metadata": {
    "collapsed": true
   },
   "outputs": [],
   "source": [
    "# create a 2-d matrix with 5 rows and 10 columns and every element equals to 0\n",
    "\n",
    "frame = np.zeros((6, 10))"
   ]
  },
  {
   "cell_type": "code",
   "execution_count": 8,
   "metadata": {
    "collapsed": false
   },
   "outputs": [
    {
     "name": "stdout",
     "output_type": "stream",
     "text": [
      "float64\n"
     ]
    }
   ],
   "source": [
    "# print the data type of frame\n",
    "\n",
    "print frame.dtype"
   ]
  },
  {
   "cell_type": "code",
   "execution_count": 9,
   "metadata": {
    "collapsed": true
   },
   "outputs": [],
   "source": [
    "# change the dtype of frame to unsigned 16-bit integer\n",
    "\n",
    "frame = frame.astype(np.uint16)"
   ]
  },
  {
   "cell_type": "code",
   "execution_count": 10,
   "metadata": {
    "collapsed": false
   },
   "outputs": [
    {
     "name": "stdout",
     "output_type": "stream",
     "text": [
      "[[0 0 0 0 0 0 0 0 0 0]\n",
      " [0 0 0 0 0 0 0 0 0 0]\n",
      " [0 0 0 0 0 0 0 0 0 0]\n",
      " [0 0 0 0 0 0 0 0 5 0]\n",
      " [0 0 0 0 0 0 0 0 0 0]\n",
      " [0 0 0 0 0 0 0 0 0 0]]\n"
     ]
    }
   ],
   "source": [
    "# cange the element at 4th row and 9th column into 5, and print frame\n",
    "\n",
    "frame[3, 8] = 5\n",
    "print frame"
   ]
  },
  {
   "cell_type": "code",
   "execution_count": 11,
   "metadata": {
    "collapsed": false
   },
   "outputs": [
    {
     "name": "stdout",
     "output_type": "stream",
     "text": [
      "[[0 0 0 0 0 0 0 0 0 0]\n",
      " [0 0 0 3 3 0 0 0 0 0]\n",
      " [0 0 0 3 3 0 0 0 0 0]\n",
      " [0 0 0 0 0 0 0 0 5 0]\n",
      " [0 0 0 0 0 0 0 0 0 0]\n",
      " [0 0 0 0 0 0 0 0 0 0]]\n"
     ]
    }
   ],
   "source": [
    "# change the elements in the square between 2nd and 4th row (including 2nd but not 4th), 4th and 6th \n",
    "# column (including 4th but not 6th) into 3, then print frame\n",
    "\n",
    "frame[1:3, 3:5] = 3\n",
    "print frame"
   ]
  },
  {
   "cell_type": "code",
   "execution_count": 12,
   "metadata": {
    "collapsed": false
   },
   "outputs": [
    {
     "name": "stdout",
     "output_type": "stream",
     "text": [
      "[[7 7 7 7 7 7 7 7 7 7]\n",
      " [0 0 0 3 3 0 0 0 0 0]\n",
      " [0 0 0 3 3 0 0 0 0 0]\n",
      " [0 0 0 0 0 0 0 0 5 0]\n",
      " [0 0 0 0 0 0 0 0 0 0]\n",
      " [0 0 0 0 0 0 0 0 0 0]]\n"
     ]
    }
   ],
   "source": [
    "# change every element in the first row into 7, print frame\n",
    "\n",
    "frame[0, :] = 7\n",
    "print frame"
   ]
  },
  {
   "cell_type": "code",
   "execution_count": 13,
   "metadata": {
    "collapsed": false
   },
   "outputs": [
    {
     "name": "stdout",
     "output_type": "stream",
     "text": [
      "[[7 7 7 7 7 7 3 7 7 7]\n",
      " [0 0 0 3 3 0 3 0 0 0]\n",
      " [0 0 0 3 3 0 3 0 0 0]\n",
      " [0 0 0 0 0 0 3 0 5 0]\n",
      " [0 0 0 0 0 0 3 0 0 0]\n",
      " [0 0 0 0 0 0 3 0 0 0]]\n"
     ]
    }
   ],
   "source": [
    "# change every element in the 7th column into 3, print frame\n",
    "\n",
    "frame[:, 6] = 3\n",
    "print frame"
   ]
  },
  {
   "cell_type": "code",
   "execution_count": 14,
   "metadata": {
    "collapsed": false
   },
   "outputs": [
    {
     "name": "stdout",
     "output_type": "stream",
     "text": [
      "1.63333333333\n"
     ]
    }
   ],
   "source": [
    "# print the mean value of every element in frame\n",
    "\n",
    "print np.mean(frame)"
   ]
  },
  {
   "cell_type": "code",
   "execution_count": 15,
   "metadata": {
    "collapsed": false
   },
   "outputs": [
    {
     "name": "stdout",
     "output_type": "stream",
     "text": [
      "[ 6.6  0.9  0.9  0.8  0.3  0.3]\n"
     ]
    }
   ],
   "source": [
    "# print mean value of each row\n",
    "\n",
    "print np.mean(frame, axis=1)"
   ]
  },
  {
   "cell_type": "code",
   "execution_count": 16,
   "metadata": {
    "collapsed": false
   },
   "outputs": [
    {
     "name": "stdout",
     "output_type": "stream",
     "text": [
      "[ 1.16666667  1.16666667  1.16666667  2.16666667  2.16666667  1.16666667\n",
      "  3.          1.16666667  2.          1.16666667]\n"
     ]
    }
   ],
   "source": [
    "# print mean value of each column\n",
    "\n",
    "print np.mean(frame, axis=0)"
   ]
  },
  {
   "cell_type": "code",
   "execution_count": 17,
   "metadata": {
    "collapsed": false
   },
   "outputs": [
    {
     "name": "stdout",
     "output_type": "stream",
     "text": [
      "[[8 8 8 8 8 8 4 8 8 8]\n",
      " [1 1 1 4 4 1 4 1 1 1]\n",
      " [1 1 1 4 4 1 4 1 1 1]\n",
      " [1 1 1 1 1 1 4 1 6 1]\n",
      " [1 1 1 1 1 1 4 1 1 1]\n",
      " [1 1 1 1 1 1 4 1 1 1]]\n"
     ]
    }
   ],
   "source": [
    "# make a new matrix frame2, with every element equals the equvalent element in frame plus 1\n",
    "# print frame2\n",
    "\n",
    "frame2 = frame + 1\n",
    "print frame2"
   ]
  },
  {
   "cell_type": "code",
   "execution_count": 18,
   "metadata": {
    "collapsed": false
   },
   "outputs": [
    {
     "name": "stdout",
     "output_type": "stream",
     "text": [
      "[[[7 7 7 7 7 7 3 7 7 7]\n",
      "  [0 0 0 3 3 0 3 0 0 0]\n",
      "  [0 0 0 3 3 0 3 0 0 0]\n",
      "  [0 0 0 0 0 0 3 0 5 0]\n",
      "  [0 0 0 0 0 0 3 0 0 0]\n",
      "  [0 0 0 0 0 0 3 0 0 0]]\n",
      "\n",
      " [[8 8 8 8 8 8 4 8 8 8]\n",
      "  [1 1 1 4 4 1 4 1 1 1]\n",
      "  [1 1 1 4 4 1 4 1 1 1]\n",
      "  [1 1 1 1 1 1 4 1 6 1]\n",
      "  [1 1 1 1 1 1 4 1 1 1]\n",
      "  [1 1 1 1 1 1 4 1 1 1]]]\n"
     ]
    }
   ],
   "source": [
    "# attach frame and frame2 into a 3-d matrix with depth of 2, call it frames\n",
    "# print frames\n",
    "\n",
    "frames = np.array([frame, frame2])\n",
    "print frames"
   ]
  },
  {
   "cell_type": "code",
   "execution_count": 19,
   "metadata": {
    "collapsed": false
   },
   "outputs": [
    {
     "name": "stdout",
     "output_type": "stream",
     "text": [
      "(2L, 6L, 10L)\n"
     ]
    }
   ],
   "source": [
    "# print the shape of frames\n",
    "print frames.shape"
   ]
  },
  {
   "cell_type": "markdown",
   "metadata": {},
   "source": [
    "# exercise 3"
   ]
  },
  {
   "cell_type": "code",
   "execution_count": 20,
   "metadata": {
    "collapsed": true
   },
   "outputs": [],
   "source": [
    "# import matplotlib.pyplot as plt\n",
    "import matplotlib.pyplot as plt\n",
    "\n",
    "%matplotlib inline"
   ]
  },
  {
   "cell_type": "code",
   "execution_count": 21,
   "metadata": {
    "collapsed": false
   },
   "outputs": [
    {
     "name": "stdout",
     "output_type": "stream",
     "text": [
      "[ 0.    0.01  0.02  0.03  0.04  0.05  0.06  0.07  0.08  0.09]\n",
      "[ 2.9   2.91  2.92  2.93  2.94  2.95  2.96  2.97  2.98  2.99]\n",
      "300\n"
     ]
    }
   ],
   "source": [
    "# create a 1-d numpy array (call it t for time), with increasing 64-bit floating point number from 0 \n",
    "# to 3 (including 0 but not 3) with increment of 0.001\n",
    "# print the first 10 elements of t\n",
    "# print the last 10 elements of t\n",
    "# print the length of t\n",
    "\n",
    "t = np.arange(0, 3, 0.01, dtype=np.float64)\n",
    "print t[0:10]\n",
    "print t[-10:]\n",
    "print len(t)"
   ]
  },
  {
   "cell_type": "code",
   "execution_count": 22,
   "metadata": {
    "collapsed": false
   },
   "outputs": [
    {
     "name": "stdout",
     "output_type": "stream",
     "text": [
      "100.0\n"
     ]
    }
   ],
   "source": [
    "# lets say t is a 3-second time axis, calculate the sampling rate of t, call it fs\n",
    "# print fs\n",
    "\n",
    "fs = 1. / np.mean(np.diff(t))\n",
    "print fs"
   ]
  },
  {
   "cell_type": "code",
   "execution_count": 23,
   "metadata": {
    "collapsed": false
   },
   "outputs": [
    {
     "data": {
      "text/plain": [
       "[<matplotlib.lines.Line2D at 0x735ba90>]"
      ]
     },
     "execution_count": 23,
     "metadata": {},
     "output_type": "execute_result"
    },
    {
     "data": {
      "image/png": "[encoded data removed]",
      "text/plain": [
       "<matplotlib.figure.Figure at 0x736a6d8>"
      ]
     },
     "metadata": {},
     "output_type": "display_data"
    }
   ],
   "source": [
    "# create a 1-d array representing a sinusoid wave with amplitude of 2, frequenc of 1 Hz and phase of 0\n",
    "# on t axis, call it sin1\n",
    "# plot sin1 against t\n",
    "\n",
    "sin1 = 2 * np.sin(t *(2 * np.pi))\n",
    "plt.plot(t, sin1)"
   ]
  },
  {
   "cell_type": "code",
   "execution_count": 24,
   "metadata": {
    "collapsed": true
   },
   "outputs": [],
   "source": [
    "# creat a function to generate a customized sinusoid wave on any arbituary time axis with unit of second\n",
    "# call the function: sinusoid\n",
    "# the input of the function should be:\n",
    "# t: time axis (in second)\n",
    "# freq: frequency (default 1)\n",
    "# amp: amplitude (default 1)\n",
    "# phase: phase (in degree, default 0)\n",
    "# dc: DC component, default 0\n",
    "\n",
    "def sinusoid(t, freq=1, amp=1, phase=0, dc=0):\n",
    "    \n",
    "    t = t.astype(np.float)\n",
    "    return dc + amp * np.sin(t * freq * (2 * np.pi) + (phase * np.pi) / 180)\n"
   ]
  },
  {
   "cell_type": "code",
   "execution_count": 25,
   "metadata": {
    "collapsed": false
   },
   "outputs": [
    {
     "data": {
      "text/plain": [
       "[<matplotlib.lines.Line2D at 0x7752a90>]"
      ]
     },
     "execution_count": 25,
     "metadata": {},
     "output_type": "execute_result"
    },
    {
     "data": {
      "image/png": "[encoded data removed]",
      "text/plain": [
       "<matplotlib.figure.Figure at 0x7656b70>"
      ]
     },
     "metadata": {},
     "output_type": "display_data"
    }
   ],
   "source": [
    "# use sinusoid function to generate a sinusoid wave (frequency 3 Hz, amplitude 3, phase 90 degree,\n",
    "# dc 0) on time axis t, call it sin2\n",
    "# plot sin2 against t\n",
    "\n",
    "sin2 = sinusoid(t, freq=3, amp=3, phase=90, dc=0)\n",
    "plt.plot(t, sin2)"
   ]
  },
  {
   "cell_type": "code",
   "execution_count": 26,
   "metadata": {
    "collapsed": false
   },
   "outputs": [
    {
     "data": {
      "text/plain": [
       "[<matplotlib.lines.Line2D at 0x7a41d68>]"
      ]
     },
     "execution_count": 26,
     "metadata": {},
     "output_type": "execute_result"
    },
    {
     "data": {
      "image/png": "[encoded data removed]",
      "text/plain": [
       "<matplotlib.figure.Figure at 0x78fc8d0>"
      ]
     },
     "metadata": {},
     "output_type": "display_data"
    }
   ],
   "source": [
    "# use sinusoid function to generate a sinusoid wave (frequency 5 Hz, amplitude 0.5, phase 180 degree,\n",
    "# dc 0) on time axis t, call it sin3\n",
    "# plot sin3 against t\n",
    "\n",
    "sin3 = sinusoid(t, freq=5, amp=0.5, phase=180, dc=0)\n",
    "plt.plot(t, sin3)"
   ]
  },
  {
   "cell_type": "code",
   "execution_count": 27,
   "metadata": {
    "collapsed": false
   },
   "outputs": [
    {
     "data": {
      "text/plain": [
       "[<matplotlib.lines.Line2D at 0x7ca38d0>]"
      ]
     },
     "execution_count": 27,
     "metadata": {},
     "output_type": "execute_result"
    },
    {
     "data": {
      "image/png": "[encoded data removed]",
      "text/plain": [
       "<matplotlib.figure.Figure at 0x7a81a58>"
      ]
     },
     "metadata": {},
     "output_type": "display_data"
    }
   ],
   "source": [
    "# create a 1-d array (call it noise) with same dimension of t and random number following a flat \n",
    "# distribution from -0.5 to 0.5, call it noise\n",
    "# plot noise against t\n",
    "\n",
    "noise = np.random.rand(len(t)) * 1 - 0.5\n",
    "plt.plot(t, noise)"
   ]
  },
  {
   "cell_type": "code",
   "execution_count": 28,
   "metadata": {
    "collapsed": false
   },
   "outputs": [
    {
     "data": {
      "text/plain": [
       "[<matplotlib.lines.Line2D at 0x87b6128>]"
      ]
     },
     "execution_count": 28,
     "metadata": {},
     "output_type": "execute_result"
    },
    {
     "data": {
      "image/png": "[encoded data removed]",
      "text/plain": [
       "<matplotlib.figure.Figure at 0x7d019e8>"
      ]
     },
     "metadata": {},
     "output_type": "display_data"
    }
   ],
   "source": [
    "# generate a 1-d array (call it signal) by adding sin1, sin2, sin3 and noise together\n",
    "# plot signal against t\n",
    "\n",
    "signal = sin1 + sin2 + sin3 + noise\n",
    "plt.plot(t, signal)"
   ]
  },
  {
   "cell_type": "code",
   "execution_count": 29,
   "metadata": {
    "collapsed": false
   },
   "outputs": [
    {
     "data": {
      "text/plain": [
       "[<matplotlib.lines.Line2D at 0x89bb908>]"
      ]
     },
     "execution_count": 29,
     "metadata": {},
     "output_type": "execute_result"
    },
    {
     "data": {
      "image/png": "[encoded data removed]",
      "text/plain": [
       "<matplotlib.figure.Figure at 0x7d21ba8>"
      ]
     },
     "metadata": {},
     "output_type": "display_data"
    }
   ],
   "source": [
    "# plot fist 0.5 second of the signal\n",
    "\n",
    "plt.plot(t[t<0.5], signal[t<0.5])"
   ]
  },
  {
   "cell_type": "code",
   "execution_count": 30,
   "metadata": {
    "collapsed": false
   },
   "outputs": [
    {
     "data": {
      "text/plain": [
       "[<matplotlib.lines.Line2D at 0x8bc0cf8>]"
      ]
     },
     "execution_count": 30,
     "metadata": {},
     "output_type": "execute_result"
    },
    {
     "data": {
      "image/png": "[encoded data removed]",
      "text/plain": [
       "<matplotlib.figure.Figure at 0x896ce80>"
      ]
     },
     "metadata": {},
     "output_type": "display_data"
    }
   ],
   "source": [
    "# plot fft of the signal in the frequency range [0, 10] Hz\n",
    "# you should see three peaks at 1, 3 and 5 Hz.\n",
    "\n",
    "fft = 2 * np.abs(np.fft.fft(signal)) / len(t)\n",
    "fftfreq = np.fft.fftfreq(len(t), d=1./fs)\n",
    "\n",
    "plot_ind = np.logical_and(fftfreq>=0, fftfreq<=10)\n",
    "\n",
    "plt.plot(fftfreq[plot_ind], fft[plot_ind])"
   ]
  }
 ],
 "metadata": {
  "kernelspec": {
   "display_name": "Python 2",
   "language": "python",
   "name": "python2"
  },
  "language_info": {
   "codemirror_mode": {
    "name": "ipython",
    "version": 2
   },
   "file_extension": ".py",
   "mimetype": "text/x-python",
   "name": "python",
   "nbconvert_exporter": "python",
   "pygments_lexer": "ipython2",
   "version": "2.7.11"
  }
 },
 "nbformat": 4,
 "nbformat_minor": 0
}
