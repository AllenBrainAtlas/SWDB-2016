{
 "cells": [
  {
   "cell_type": "code",
   "execution_count": null,
   "metadata": {
    "collapsed": true
   },
   "outputs": [],
   "source": [
    "def get_group_tuning(area=None,cre_lines=None,depths=None):\n",
    "    '''this function returns the group means and standard deviations for tuning properties'''\n",
    "    #import necessary modules\n",
    "    drive_path = '/Volumes/Brain2016'\n",
    "    import numpy as np\n",
    "    import pandas as pd\n",
    "    import os\n",
    "    import sys\n",
    "    import matplotlib.pyplot as plt\n",
    "    from allensdk.core.brain_observatory_cache import BrainObservatoryCache\n",
    "    manifest_path = os.path.join(drive_path,'BrainObservatory','manifest.json')\n",
    "    boc = BrainObservatoryCache(manifest_file=manifest_path)\n",
    "    \n",
    "    cell_df = pd.DataFrame(boc.get_cell_specimens())\n",
    "    print(\"There are %d cells in this container\"%len(cell_df))\n",
    "    cell_df = cell_df[(cell_df.p_dg<0.05)&(cell_df.p_sg<0.05)]\n",
    "    print(\"There are %d cells with good responses\"%len(cell_df))\n",
    "\n",
    "    columns = cell_df.mean().index\n",
    "#     depths = cell_df.imaging_depth.unique()\n",
    "    depths.sort()\n",
    "    mean_vals = pd.DataFrame(columns=columns)\n",
    "    std_vals = pd.DataFrame(columns=columns)\n",
    "    for line in cre_lines:\n",
    "        for depth in depths:\n",
    "            if np.isnan(cell_df[(cell_df.area==area)&(cell_df.tld1_name==line)&(cell_df.imaging_depth==depth)].mean().values[0]):\n",
    "                continue\n",
    "            else:\n",
    "                a = cell_df[(cell_df.area==area)&(cell_df.tld1_name==line)&(cell_df.imaging_depth==depth)].mean()\n",
    "                b = cell_df[(cell_df.area==area)&(cell_df.tld1_name==line)&(cell_df.imaging_depth==depth)].std()/\\\n",
    "                len(cell_df[(cell_df.area==area)&(cell_df.tld1_name==line)&(cell_df.imaging_depth==depth)])\n",
    "                avals = pd.DataFrame(data=[a.values],columns=columns,index=[line])\n",
    "                bvals = pd.DataFrame(data=[b.values],columns=columns,index=[line])\n",
    "                mean_vals = mean_vals.append(avals)\n",
    "                std_vals = std_vals.append(bvals)\n",
    "                \n",
    "    return mean_vals,std_vals"
   ]
  }
 ],
 "metadata": {
  "kernelspec": {
   "display_name": "Python [Root]",
   "language": "python",
   "name": "Python [Root]"
  },
  "language_info": {
   "codemirror_mode": {
    "name": "ipython",
    "version": 2
   },
   "file_extension": ".py",
   "mimetype": "text/x-python",
   "name": "python",
   "nbconvert_exporter": "python",
   "pygments_lexer": "ipython2",
   "version": "2.7.12"
  }
 },
 "nbformat": 4,
 "nbformat_minor": 0
}
