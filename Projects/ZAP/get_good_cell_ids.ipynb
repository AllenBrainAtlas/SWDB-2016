{
 "cells": [
  {
   "cell_type": "code",
   "execution_count": 1,
   "metadata": {
    "collapsed": false
   },
   "outputs": [],
   "source": [
    "#Run this cell to load dependencies\n",
    "drive_path = '/Volumes/Brain2016'\n",
    "import numpy as np\n",
    "import pandas as pd\n",
    "import os\n",
    "import h5py\n",
    "import glob\n",
    "from allensdk.core.brain_observatory_cache import BrainObservatoryCache\n",
    "manifest_path = os.path.join(drive_path,'BrainObservatory','manifest.json')\n",
    "boc = BrainObservatoryCache(manifest_file=manifest_path)"
   ]
  },
  {
   "cell_type": "code",
   "execution_count": 9,
   "metadata": {
    "collapsed": false
   },
   "outputs": [],
   "source": [
    "#Run this cell to define the function for use, YOU MUST have Saskia's analysis files are in the file_path below\n",
    "def get_good_cell_ids(A=True,B=True,C=True,andor='and',cutoff=1.):\n",
    "    '''\n",
    "    This function goes through the analysis output data provided by Saskia and selects cells with mean responses\n",
    "    to drifting/static gratings > cutoff%, removes suppressed by contrast cells, then takes the union or intersection\n",
    "    of the cell & experiment ids depending on andor input\n",
    "    \n",
    "    '''\n",
    "    file_path = r'/Volumes/Brain2016/BrainObservatory/ophys_analysis/*.h5'\n",
    "    file_list = glob.glob(file_path)\n",
    "    good_A = []\n",
    "    good_B = []\n",
    "    good_C = []\n",
    "    exp_id_list = []\n",
    "    cnt=0\n",
    "    for file in file_list:\n",
    "        f = h5py.File(file)\n",
    "        exp_id = file[-37:-28]\n",
    "        data_set = boc.get_ophys_experiment_data(int(exp_id))\n",
    "        csids = data_set.get_cell_specimen_ids()\n",
    "        exp_id_list = np.hstack((exp_id_list,exp_id))\n",
    "        if 'session_A' in file:\n",
    "            response = f[\"analysis/response_dg\"].value\n",
    "            f.close()\n",
    "            cells = csids[(response[:,1:,:-1,0].max(axis=(0,1))>cutoff)>response[0,0,:-1,0]]\n",
    "            good_A = np.hstack((good_A,cells))\n",
    "        elif 'session_B' in file:\n",
    "            peak = pd.read_hdf(file, 'analysis/peak')\n",
    "            cells = csids[(peak.peak_dff_sg>cutoff).values]\n",
    "            good_B = np.hstack((good_B,cells))\n",
    "            f.close()\n",
    "        else:\n",
    "            f.close()\n",
    "            cells = csids\n",
    "            good_C = np.hstack((good_C,cells))\n",
    "\n",
    "    if andor=='and':\n",
    "        if A and B and not C:\n",
    "            good_cell_ids = np.intersect1d(good_A,good_B)\n",
    "            return good_cell_ids,exp_id_list\n",
    "        elif A and not B and C:\n",
    "            good_cell_ids = np.intersect1d(good_A,good_C)\n",
    "            return good_cell_ids,exp_id_list\n",
    "        elif not A and B and C:\n",
    "            good_cell_ids = np.intersect1d(good_B,good_C)\n",
    "            return good_cell_ids,exp_id_list\n",
    "        elif A and B and C:\n",
    "            good_cell_ids = np.intersect1d(good_A,np.intersect1d(good_B,good_C))\n",
    "            return good_cell_ids,exp_id_list\n",
    "        elif A and not B and not C:\n",
    "            good_cell_ids = good_A\n",
    "            return good_cell_ids,exp_id_list\n",
    "        elif B and not A and not C:\n",
    "            good_cell_ids = good_A\n",
    "            return good_cell_ids,exp_id_list\n",
    "        elif C and not A and not B:\n",
    "            good_cell_ids = good_A\n",
    "            return good_cell_ids,exp_id_list\n",
    "        else:\n",
    "            raise NameError('You need to choose True for at least one session')\n",
    "    elif andor=='or':\n",
    "        if A and B and not C:\n",
    "            good_cell_ids = np.union1d(good_A,good_B)\n",
    "            return good_cell_ids,exp_id_list\n",
    "        elif A and not B and C:\n",
    "            good_cell_ids = np.union1d(good_A,good_C)\n",
    "            return good_cell_ids,exp_id_list\n",
    "        elif not A and B and C:\n",
    "            good_cell_ids = np.union1d(good_B,good_C)\n",
    "            return good_cell_ids,exp_id_list\n",
    "        elif A and B and C:\n",
    "            good_cell_ids = np.union1d(good_A,np.union1d(good_B,good_C))\n",
    "            return good_cell_ids,exp_id_list\n",
    "        elif A and not B and not C:\n",
    "            good_cell_ids = good_A\n",
    "            return good_cell_ids,exp_id_list\n",
    "        elif B and not A and not C:\n",
    "            good_cell_ids = good_A\n",
    "            return good_cell_ids,exp_id_list\n",
    "        elif C and not A and not B:\n",
    "            good_cell_ids = good_A\n",
    "            return good_cell_ids,exp_id_list\n",
    "        else:\n",
    "            raise NameError('You need to choose True for at least one session')\n",
    "        \n",
    "\n",
    "    print(\"%d good drifting gratings cells\"%len(good_dgs))\n",
    "    print(\"%d good static gratings cells\"%len(good_sgs))\n",
    "    print(\"%d good cells for both stimuli\"%len(good_cell_ids))"
   ]
  },
  {
   "cell_type": "code",
   "execution_count": 10,
   "metadata": {
    "collapsed": false
   },
   "outputs": [
    {
     "name": "stdout",
     "output_type": "stream",
     "text": [
      "5716 cells in 237 experiments\n"
     ]
    }
   ],
   "source": [
    "#Pull out the cells IDs and experiment IDs based on your criteria!\n",
    "'''\n",
    "Set each session markers (A, B, and C) to True/False to get cell ids from those sessions\n",
    "Set andor to 'and' to get cells with data in all selected sessions, 'or' to get any cells from selected sessions\n",
    "Set cutoff to the percent dfof value for thresholding (e.g. use 1. for 1% dfof)\n",
    "\n",
    "example: get_good_cell_ids(A=True,B=True,C=True,andor='or',cutoff=1.)\n",
    "    gives you cell and experiment ids for cells with data in all three sessions\n",
    "    that have >1% dfof response to preferred stimulus\n",
    "\n",
    "'''\n",
    "ids,exps = get_good_cell_ids(A=True,B=True,C=False,andor='and',cutoff=-1000)\n",
    "print('%d cells in %d experiments'%(len(ids),len(exps)))"
   ]
  },
  {
   "cell_type": "code",
   "execution_count": 11,
   "metadata": {
    "collapsed": false
   },
   "outputs": [],
   "source": [
    "np.save('noSBC_cell_ids.npy',ids)"
   ]
  },
  {
   "cell_type": "code",
   "execution_count": null,
   "metadata": {
    "collapsed": true
   },
   "outputs": [],
   "source": []
  }
 ],
 "metadata": {
  "anaconda-cloud": {},
  "kernelspec": {
   "display_name": "Python [Root]",
   "language": "python",
   "name": "Python [Root]"
  },
  "language_info": {
   "codemirror_mode": {
    "name": "ipython",
    "version": 2
   },
   "file_extension": ".py",
   "mimetype": "text/x-python",
   "name": "python",
   "nbconvert_exporter": "python",
   "pygments_lexer": "ipython2",
   "version": "2.7.12"
  }
 },
 "nbformat": 4,
 "nbformat_minor": 0
}
