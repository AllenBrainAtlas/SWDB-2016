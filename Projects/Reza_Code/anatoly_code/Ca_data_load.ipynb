{
 "cells": [
  {
   "cell_type": "code",
   "execution_count": 1,
   "metadata": {
    "collapsed": false
   },
   "outputs": [
    {
     "name": "stdout",
     "output_type": "stream",
     "text": [
      "25\n",
      "21\n",
      "16\n",
      "17\n"
     ]
    },
    {
     "name": "stderr",
     "output_type": "stream",
     "text": [
      "C:\\Users\\RezaEghbali\\Anaconda2\\lib\\site-packages\\allensdk\\brain_observatory\\stimulus_analysis.py:327: VisibleDeprecationWarning: using a non-integer number instead of an integer will result in an error in the future\n",
      "  temp = self.celltraces[nc, start:end]\n",
      "C:\\Users\\RezaEghbali\\Anaconda2\\lib\\site-packages\\allensdk\\brain_observatory\\stimulus_analysis.py:330: VisibleDeprecationWarning: using a non-integer number instead of an integer will result in an error in the future\n",
      "  sweep_response['dx'][index] = self.dxcm[start:end]\n"
     ]
    }
   ],
   "source": [
    "# We need to import these modules to get started\n",
    "drive_path = 'e:/'\n",
    "import numpy as np\n",
    "import pandas as pd\n",
    "import os\n",
    "import sys\n",
    "import matplotlib.pyplot as plt\n",
    "from allensdk.core.brain_observatory_cache import BrainObservatoryCache\n",
    "from allensdk.brain_observatory.static_gratings import StaticGratings\n",
    "manifest_path = os.path.join(drive_path,'BrainObservatory/manifest.json')\n",
    "boc = BrainObservatoryCache(manifest_file=manifest_path)\n",
    "experiment_container_v1 = boc.get_experiment_containers(targeted_structures=['VISp'])\n",
    "print(len(experiment_container_v1))\n",
    "experiment_container_pm = boc.get_experiment_containers(targeted_structures=['VISpm'])\n",
    "print(len(experiment_container_pm))\n",
    "experiment_container_l = boc.get_experiment_containers(targeted_structures=['VISl'])\n",
    "print(len(experiment_container_l))\n",
    "experiment_container_al = boc.get_experiment_containers(targeted_structures=['VISal'])\n",
    "print(len(experiment_container_al))\n",
    "experiment_container_v1_cux2 = boc.get_experiment_containers(targeted_structures=['VISp'],cre_lines=['Cux2-CreERT2']);\n",
    "number=0;\n",
    "experiment_container_id = experiment_container_v1_cux2[number]['id'];\n",
    "experiment_information = boc.get_ophys_experiments(experiment_container_ids=[experiment_container_id]);\n",
    "#session A\n",
    "\n",
    "session_id = experiment_information[1]['id']\n",
    "data_set = boc.get_ophys_experiment_data(ophys_experiment_id= session_id)\n",
    "sg = StaticGratings(data_set=data_set)\n"
   ]
  },
  {
   "cell_type": "code",
   "execution_count": null,
   "metadata": {
    "collapsed": false
   },
   "outputs": [],
   "source": [
    "#sg.stim_table;\n",
    "dg.sweep_response.head()"
   ]
  },
  {
   "cell_type": "code",
   "execution_count": null,
   "metadata": {
    "collapsed": true
   },
   "outputs": [],
   "source": []
  }
 ],
 "metadata": {
  "kernelspec": {
   "display_name": "Python [Root]",
   "language": "python",
   "name": "Python [Root]"
  },
  "language_info": {
   "codemirror_mode": {
    "name": "ipython",
    "version": 2
   },
   "file_extension": ".py",
   "mimetype": "text/x-python",
   "name": "python",
   "nbconvert_exporter": "python",
   "pygments_lexer": "ipython2",
   "version": "2.7.12"
  }
 },
 "nbformat": 4,
 "nbformat_minor": 0
}
