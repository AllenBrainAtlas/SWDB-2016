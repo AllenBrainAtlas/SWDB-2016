{
 "cells": [
  {
   "cell_type": "code",
   "execution_count": null,
   "metadata": {
    "collapsed": false
   },
   "outputs": [
    {
     "name": "stdout",
     "output_type": "stream",
     "text": [
      "('length of VIal cux is', 4)\n"
     ]
    }
   ],
   "source": [
    "# We need to import these modules to get started\n",
    "# For Mac\n",
    "# drive_path = '/Volumes/Brain2016'\n",
    "\n",
    "# For windows\n",
    "drive_path = 'e:/'\n",
    "\n",
    "import numpy as np\n",
    "import pandas as pd\n",
    "import os\n",
    "import sys\n",
    "import matplotlib.pyplot as plt\n",
    "%matplotlib notebook\n",
    "\n",
    "from allensdk.core.brain_observatory_cache import BrainObservatoryCache\n",
    "manifest_path = os.path.join(drive_path,'BrainObservatory/manifest.json')\n",
    "boc = BrainObservatoryCache(manifest_file=manifest_path)\n",
    "\n",
    "#Particular experiment with the particular imaging depth\n",
    "\n",
    "experiment_container = boc.get_experiment_containers(targeted_structures=['VISp'],cre_lines=['Cux2-CreERT2'],imaging_depths=[275]);\n",
    "print('length of VIal cux is', len(experiment_container))\n",
    "\n",
    "# Number of the animal\n",
    "animal_number=0;\n",
    "\n",
    "container_id = experiment_container[animal_number]['id'];\n",
    "experiment_information = boc.get_ophys_experiments(experiment_container_ids=[container_id]);\n",
    "\n",
    "# session id and experiment\n",
    "session_id = experiment_information[1]['id']\n",
    "data_set = boc.get_ophys_experiment_data(ophys_experiment_id= session_id)\n",
    "\n",
    "print ('Here is the experimental info for this session \\n')\n",
    "experiment_information"
   ]
  },
  {
   "cell_type": "code",
   "execution_count": null,
   "metadata": {
    "collapsed": false
   },
   "outputs": [],
   "source": [
    "#sg.stim_table;\n",
    "from allensdk.brain_observatory.drifting_gratings import DriftingGratings\n",
    "#dg = DriftingGratings(data_set=data_set)"
   ]
  },
  {
   "cell_type": "code",
   "execution_count": null,
   "metadata": {
    "collapsed": false
   },
   "outputs": [],
   "source": [
    "# show all stimuli showed during this session\n",
    "\n",
    "boc.get_all_stimuli()"
   ]
  },
  {
   "cell_type": "code",
   "execution_count": null,
   "metadata": {
    "collapsed": false
   },
   "outputs": [],
   "source": [
    "# show the drifting gratings\n",
    "\n",
    "stim_table_gratings = data_set.get_stimulus_table('drifting_gratings')\n",
    "\n",
    "# stimuli with particular temporal frequency\n",
    "stim_table_gratings[(stim_table_gratings.temporal_frequency==2.0)]"
   ]
  },
  {
   "cell_type": "code",
   "execution_count": null,
   "metadata": {
    "collapsed": false
   },
   "outputs": [],
   "source": [
    "# show the movie\n",
    "\n",
    "stim_table_movie = data_set.get_stimulus_table('natural_movie_one')\n",
    "\n",
    "# stimuli with particular temporal frequency\n",
    "stim_table_movie"
   ]
  },
  {
   "cell_type": "code",
   "execution_count": null,
   "metadata": {
    "collapsed": false
   },
   "outputs": [],
   "source": [
    "# get corrected fluorescence traces\n",
    "\n",
    "my_traces=data_set.get_corrected_fluorescence_traces()\n",
    "# get only Ca traces, without time\n",
    "my_traces_ca=my_traces[1]\n",
    "time=my_traces[0]\n",
    "\n",
    "#type(my_traces_ca)"
   ]
  },
  {
   "cell_type": "code",
   "execution_count": null,
   "metadata": {
    "collapsed": false
   },
   "outputs": [],
   "source": [
    "# Plot characteristic traces\n",
    "\n",
    "plt.figure\n",
    "plt.plot(time,my_traces_ca[0])\n",
    "plt.title('Neuron 0 ca corrected')"
   ]
  },
  {
   "cell_type": "code",
   "execution_count": null,
   "metadata": {
    "collapsed": false
   },
   "outputs": [],
   "source": [
    "# transpose the array and check its shape\n",
    "\n",
    "my_traces_ca_transposed=np.transpose(my_traces_ca)\n",
    "my_traces_ca_transposed.shape"
   ]
  },
  {
   "cell_type": "code",
   "execution_count": null,
   "metadata": {
    "collapsed": false
   },
   "outputs": [],
   "source": [
    "df_traces = pd.DataFrame(my_traces_ca_transposed)\n",
    "\n",
    "df_traces"
   ]
  },
  {
   "cell_type": "code",
   "execution_count": null,
   "metadata": {
    "collapsed": true
   },
   "outputs": [],
   "source": [
    "# Export corrected traces to csv\n",
    "\n",
    "df_traces.to_csv('ca_corr_expID_511510667.csv')"
   ]
  },
  {
   "cell_type": "code",
   "execution_count": null,
   "metadata": {
    "collapsed": false
   },
   "outputs": [],
   "source": [
    "# load the best cells, with the highest dF/F\n",
    "\n",
    "best_ca_cells=np.load('ALL_GOOD_CELLS.npy')\n",
    "len(best_ca_cells)"
   ]
  },
  {
   "cell_type": "code",
   "execution_count": null,
   "metadata": {
    "collapsed": false
   },
   "outputs": [],
   "source": [
    "# get the cells IDs from this session\n",
    "\n",
    "my_cell_ids=data_set.get_cell_specimen_ids()\n",
    "\n",
    "len(my_cell_ids)\n",
    "\n",
    "# save cell ids into array\n",
    "#from tempfile import TemporaryFile\n",
    "\n",
    "#cell_ids=TemporaryFile()\n",
    "np.save('cell_ids.npy',my_cell_ids)"
   ]
  },
  {
   "cell_type": "code",
   "execution_count": null,
   "metadata": {
    "collapsed": true
   },
   "outputs": [],
   "source": [
    "# Make an array of good cells, are there any in our session?\n",
    "\n",
    "good_cells=[]\n",
    "\n",
    "for i in range(len(my_cell_ids)):\n",
    "    for j in range(len(best_ca_cells)):\n",
    "        if my_cell_ids[i]==best_ca_cells[j]:\n",
    "            good_cells.append(my_cell_ids[i])"
   ]
  },
  {
   "cell_type": "code",
   "execution_count": null,
   "metadata": {
    "collapsed": false
   },
   "outputs": [],
   "source": [
    "len(good_cells)"
   ]
  },
  {
   "cell_type": "code",
   "execution_count": null,
   "metadata": {
    "collapsed": false
   },
   "outputs": [],
   "source": [
    "good_cells"
   ]
  }
 ],
 "metadata": {
  "anaconda-cloud": {},
  "kernelspec": {
   "display_name": "Python [Root]",
   "language": "python",
   "name": "Python [Root]"
  },
  "language_info": {
   "codemirror_mode": {
    "name": "ipython",
    "version": 2
   },
   "file_extension": ".py",
   "mimetype": "text/x-python",
   "name": "python",
   "nbconvert_exporter": "python",
   "pygments_lexer": "ipython2",
   "version": "2.7.12"
  }
 },
 "nbformat": 4,
 "nbformat_minor": 0
}
