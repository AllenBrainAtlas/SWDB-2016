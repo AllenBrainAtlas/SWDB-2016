{
 "cells": [
  {
   "cell_type": "code",
   "execution_count": 258,
   "metadata": {
    "collapsed": false
   },
   "outputs": [
    {
     "name": "stdout",
     "output_type": "stream",
     "text": [
      "Using matplotlib backend: MacOSX\n"
     ]
    }
   ],
   "source": [
    "drive_path = '/Volumes/Brain2016'\n",
    "# We need to import these modules to get started\n",
    "import numpy as np\n",
    "import pandas as pd\n",
    "import os\n",
    "import sys\n",
    "from scipy.stats.stats import pearsonr\n",
    "from scipy.stats import ttest_rel\n",
    "from scipy import signal\n",
    "import matplotlib.pyplot as plt\n",
    "%matplotlib\n",
    "from allensdk.core.brain_observatory_cache import BrainObservatoryCache\n",
    "from allensdk.brain_observatory.drifting_gratings import DriftingGratings\n",
    "import seaborn\n",
    "import h5py\n",
    "# import glob\n",
    "# import time as tm\n",
    "\n",
    "manifest_path = os.path.join(drive_path,'BrainObservatory','manifest.json')\n",
    "boc = BrainObservatoryCache(manifest_file=manifest_path)"
   ]
  },
  {
   "cell_type": "markdown",
   "metadata": {},
   "source": [
    "### Import Drifting Gratings Data and Convert to Mean"
   ]
  },
  {
   "cell_type": "code",
   "execution_count": 2,
   "metadata": {
    "collapsed": false
   },
   "outputs": [],
   "source": [
    "expMetaData = pd.DataFrame(boc.get_ophys_experiments())\n",
    "# expMetaData = expMetaData[expMetaData.session_type == 'three_session_A']"
   ]
  },
  {
   "cell_type": "code",
   "execution_count": 3,
   "metadata": {
    "collapsed": false
   },
   "outputs": [
    {
     "data": {
      "text/plain": [
       "Index([u'area', u'cell_specimen_id', u'dsi_dg', u'experiment_container_id',\n",
       "       u'imaging_depth', u'osi_dg', u'osi_sg', u'p_dg', u'p_ns', u'p_sg',\n",
       "       u'pref_dir_dg', u'pref_image_ns', u'pref_ori_sg', u'pref_phase_sg',\n",
       "       u'pref_sf_sg', u'pref_tf_dg', u'time_to_peak_ns', u'time_to_peak_sg',\n",
       "       u'tld1_id', u'tld1_name', u'tld2_id', u'tld2_name', u'tlr1_id',\n",
       "       u'tlr1_name'],\n",
       "      dtype='object')"
      ]
     },
     "execution_count": 3,
     "metadata": {},
     "output_type": "execute_result"
    }
   ],
   "source": [
    "cells = pd.DataFrame.from_records(boc.get_cell_specimens())\n",
    "cells.columns"
   ]
  },
  {
   "cell_type": "code",
   "execution_count": null,
   "metadata": {
    "collapsed": false
   },
   "outputs": [],
   "source": [
    "expContainerID = expMetaData.id[8]\n",
    "print(expContainerID)\n",
    "exp = boc.get_ophys_experiment_data(ophys_experiment_id = expContainerID)\n",
    "allCellIDs = exp.get_cell_specimen_ids()\n",
    "rSpd, t_rSpd = exp.get_running_speed()\n",
    "\n",
    "dg = DriftingGratings(exp)"
   ]
  },
  {
   "cell_type": "code",
   "execution_count": null,
   "metadata": {
    "collapsed": false
   },
   "outputs": [],
   "source": [
    "sResp = dg.sweep_response\n",
    "sResp_mean = sResp.copy()\n",
    "for i in range(sResp.shape[0]):\n",
    "    if i%100 == 0:\n",
    "        print(100*float(i)/sResp.shape[0], '% finished')\n",
    "    for j in range(sResp.shape[1]):\n",
    "        sResp_mean.iloc[i,j] = sResp_mean.iloc[i,j].mean()\n",
    "print(\"100 % finished\")"
   ]
  },
  {
   "cell_type": "code",
   "execution_count": null,
   "metadata": {
    "collapsed": false
   },
   "outputs": [],
   "source": [
    "fig,ax = plt.subplots(nrows=2,ncols=4,figsize=(15, 10))\n",
    "\n",
    "dirName = 'exp%s' % (expContainerID)\n",
    "if not os.path.isdir(dirName):\n",
    "    os.makedirs(dirName)\n",
    "\n",
    "sTabl = dg.stim_table\n",
    "allTF = np.sort(sTabl.temporal_frequency.unique())\n",
    "allOr = np.sort(sTabl.orientation.unique())\n",
    "for cell in range(sResp_mean.shape[1]-1):\n",
    "    for currTF in allTF:\n",
    "        for currOr in allOr:\n",
    "            tmpResp = []\n",
    "            tmpRun = []\n",
    "            for currSweep in sTabl[(sTabl.temporal_frequency == currTF) & (sTabl.orientation == currOr)].index:\n",
    "                tmpResp.append(sResp_mean[str(cell)][currSweep])\n",
    "                tmpRun.append(abs(sResp_mean['dx'][currSweep]))\n",
    "            axInd = np.where(allOr==currOr)[0][0]/4,np.where(allOr == currOr)[0][0]%4\n",
    "            ax[axInd].scatter(tmpRun,tmpResp)\n",
    "            ax[axInd].annotate(\"TF: %s\\n\"\n",
    "                               \"Or: %s\\n\" % (currTF, currOr),\n",
    "                               xy=(0.8,0.9),xycoords='axes fraction',fontsize=12)\n",
    "            fig.suptitle('Cell: %s\\nCell ID: %s' % (cell,allCellIDs[cell]),fontsize=18)\n",
    "            if axInd == (1,0):\n",
    "                ax[axInd].set_xlabel('Run Speed (cm/s)')\n",
    "                ax[axInd].set_ylabel('$\\Delta$F/F$_0$')\n",
    "            ax[axInd].set_xlim(right=1.0)\n",
    "            if (np.size(tmpRun) !=0) and (max(tmpRun) > 1.0):\n",
    "                ax[axInd].set_xlim(right = max(tmpRun) + 1.5)\n",
    "        filename = 'cell%d_cellid%d_tf%d_or%d.pdf' % (cell, allCellIDs[cell],currTF, currOr)\n",
    "        plt.pause(0.5)\n",
    "        plt.savefig(dirName + '/' + filename)\n",
    "        for thisAx1 in ax:\n",
    "            for thisAx2 in thisAx1:\n",
    "                thisAx2.cla()\n",
    "        "
   ]
  },
  {
   "cell_type": "markdown",
   "metadata": {},
   "source": [
    "## Import data from all DG sessions and analyze"
   ]
  },
  {
   "cell_type": "code",
   "execution_count": 7,
   "metadata": {
    "collapsed": false,
    "scrolled": true
   },
   "outputs": [
    {
     "name": "stdout",
     "output_type": "stream",
     "text": [
      "508366303\n",
      "(0.0, '% finished')\n",
      "(15.92356687898089, '% finished')\n",
      "(31.84713375796178, '% finished')\n",
      "(47.77070063694268, '% finished')\n",
      "(63.69426751592356, '% finished')\n",
      "(79.61783439490446, '% finished')\n",
      "(95.54140127388536, '% finished')\n",
      "100 % finished\n"
     ]
    }
   ],
   "source": [
    "fig,ax = plt.subplots(nrows=2,ncols=4,figsize=(15, 10))\n",
    "for expContainerID in expMetaData.id[2:3]:\n",
    "    print(expContainerID)\n",
    "    exp = boc.get_ophys_experiment_data(ophys_experiment_id = expContainerID)\n",
    "    allCellIDs = exp.get_cell_specimen_ids()\n",
    "    rSpd, t_rSpd = exp.get_running_speed()\n",
    "\n",
    "    dg = DriftingGratings(exp)\n",
    "\n",
    "    sResp = dg.sweep_response\n",
    "    sResp_mean = sResp.copy()\n",
    "    for i in range(sResp.shape[0]):\n",
    "        if i%100 == 0:\n",
    "            print(100*float(i)/sResp.shape[0], '% finished')\n",
    "        for j in range(sResp.shape[1]):\n",
    "            sResp_mean.iloc[i,j] = sResp_mean.iloc[i,j].mean()\n",
    "    print(\"100 % finished\")\n",
    "\n",
    "    dirName = 'driftingGratings/exp%s' % (expContainerID)\n",
    "    if not os.path.isdir(dirName):\n",
    "        os.makedirs(dirName)\n",
    "\n",
    "    sTabl = dg.stim_table\n",
    "    allTF = np.sort(sTabl.temporal_frequency.unique())\n",
    "    allOr = np.sort(sTabl.orientation.unique())\n",
    "    for cell in range(sResp_mean.shape[1]-1):\n",
    "        for currTF in allTF:\n",
    "            for currOr in allOr:\n",
    "                tmpResp = []\n",
    "                tmpRun = []\n",
    "                for currSweep in sTabl[(sTabl.temporal_frequency == currTF) & (sTabl.orientation == currOr)].index:\n",
    "                    tmpResp.append(sResp_mean[str(cell)][currSweep])\n",
    "                    tmpRun.append(abs(sResp_mean['dx'][currSweep]))\n",
    "                axInd = np.where(allOr==currOr)[0][0]/4,np.where(allOr == currOr)[0][0]%4\n",
    "                ax[axInd].scatter(tmpRun,tmpResp)\n",
    "                ax[axInd].annotate(\"TF: %s\\n\"\n",
    "                                   \"Or: %s\\n\" % (currTF, currOr),\n",
    "                                   xy=(0.8,0.9),xycoords='axes fraction',fontsize=12)\n",
    "                fig.suptitle('Cell: %s\\nCell ID: %s' % (cell,allCellIDs[cell]),fontsize=18)\n",
    "                if axInd == (1,0):\n",
    "                    ax[axInd].set_xlabel('Run Speed (cm/s)')\n",
    "                    ax[axInd].set_ylabel('$\\Delta$F/F$_0$')\n",
    "                ax[axInd].set_xlim(right=1.0)\n",
    "                if (np.size(tmpRun) !=0) and (max(tmpRun) > 1.0):\n",
    "                    ax[axInd].set_xlim(right = max(tmpRun) + 1.5)\n",
    "            filename = 'cell%d_cellid%d_tf%d_or%d.pdf' % (cell, allCellIDs[cell],currTF, currOr)\n",
    "#             plt.pause(0.5)\n",
    "            plt.savefig(dirName + '/' + filename)\n",
    "            for thisAx1 in ax:\n",
    "                for thisAx2 in thisAx1:\n",
    "                    thisAx2.cla()"
   ]
  },
  {
   "cell_type": "markdown",
   "metadata": {},
   "source": [
    "## Run Histograms Across All Sessions"
   ]
  },
  {
   "cell_type": "code",
   "execution_count": 110,
   "metadata": {
    "collapsed": false
   },
   "outputs": [
    {
     "data": {
      "text/plain": [
       "0"
      ]
     },
     "execution_count": 110,
     "metadata": {},
     "output_type": "execute_result"
    }
   ],
   "source": [
    "expMetaData.index"
   ]
  },
  {
   "cell_type": "code",
   "execution_count": 117,
   "metadata": {
    "collapsed": false
   },
   "outputs": [],
   "source": [
    "expMetaData = pd.DataFrame(boc.get_ophys_experiments())\n",
    "runLen_DF = pd.DataFrame(columns=['expID','run_hist','percent_running','session_type','targeted_structure','cre_line'], index = np.arange(expMetaData.shape[0]))\n",
    "\n",
    "dirName = 'runHistograms'\n",
    "if not os.path.isdir(dirName):\n",
    "    os.makedirs(dirName)\n",
    "\n",
    "fig, ax = plt.subplots(nrows = 2)\n",
    "currInd = 0\n",
    "for currExpInd in expMetaData.index:\n",
    "    expContainerID = expMetaData.id[currExpInd]\n",
    "    \n",
    "    exp = boc.get_ophys_experiment_data(ophys_experiment_id = expContainerID)\n",
    "    rSpd, t_rSpd = exp.get_running_speed()\n",
    "    nanMask = ~np.isnan(rSpd)\n",
    "    rSpd = rSpd[nanMask]\n",
    "    tmp = ax[0].hist(rSpd,bins=np.arange(-10,80),weights=np.zeros_like(rSpd) + 1. / rSpd.size)\n",
    "    ax[1].hist(rSpd,bins=np.arange(-10,80),weights=np.zeros_like(rSpd) + 1. / rSpd.size)\n",
    "    ax[1].set_ylim(0, max(tmp[0][20:])+.0005)\n",
    "    ax[1].set_xlabel('Run Speed (cm/s)')\n",
    "    percentRunning = 100*len(rSpd[rSpd>1.0])/float(len(rSpd))\n",
    "    fig.suptitle('Experiment %s\\n'\n",
    "                 'Running >1cm/s: %d%%' % (expContainerID, percentRunning),fontsize=14)\n",
    "    \n",
    "    filename = 'expID%d.pdf' %(expContainerID)\n",
    "#     plt.pause(0.2)\n",
    "    plt.savefig(dirName + '/' + filename)\n",
    "    for currAx in ax:\n",
    "        currAx.cla()\n",
    "    \n",
    "    runLen_DF.expID[currInd] = expContainerID\n",
    "    runLen_DF.run_hist[currInd] = rSpd\n",
    "    runLen_DF.percent_running[currInd] = percentRunning\n",
    "    runLen_DF.session_type[currInd] = expMetaData.session_type[currExpInd]\n",
    "    runLen_DF.targeted_structure[currInd] = expMetaData.targeted_structure[currExpInd]\n",
    "    runLen_DF.cre_line[currInd] = expMetaData.cre_line[currExpInd]\n",
    "    \n",
    "    'session_type','targeted_structure','cre_line'\n",
    "    \n",
    "    currInd += 1\n",
    "    \n",
    "runLen_DF.to_csv('%s/runLen_DF' %dirName, sep='\\t')"
   ]
  },
  {
   "cell_type": "markdown",
   "metadata": {},
   "source": [
    "## Import run histogram CSV file and use to select cells"
   ]
  },
  {
   "cell_type": "code",
   "execution_count": 4,
   "metadata": {
    "collapsed": false
   },
   "outputs": [],
   "source": [
    "runLen_DF = pd.read_csv('runHistograms/runLen_DF', delimiter='\\t')\n",
    "runLen_DF.drop('Unnamed: 0',1,inplace=True)"
   ]
  },
  {
   "cell_type": "markdown",
   "metadata": {},
   "source": [
    "### Exclude low and high run time sessions; only look at three_session_A"
   ]
  },
  {
   "cell_type": "code",
   "execution_count": 5,
   "metadata": {
    "collapsed": false
   },
   "outputs": [
    {
     "data": {
      "text/html": [
       "<div>\n",
       "<table border=\"1\" class=\"dataframe\">\n",
       "  <thead>\n",
       "    <tr style=\"text-align: right;\">\n",
       "      <th></th>\n",
       "      <th>expID</th>\n",
       "      <th>run_hist</th>\n",
       "      <th>percent_running</th>\n",
       "      <th>session_type</th>\n",
       "      <th>targeted_structure</th>\n",
       "      <th>cre_line</th>\n",
       "    </tr>\n",
       "  </thead>\n",
       "  <tbody>\n",
       "    <tr>\n",
       "      <th>4</th>\n",
       "      <td>501724959</td>\n",
       "      <td>[-0.55685878 -0.93435436  1.56362295 ..., -0.0...</td>\n",
       "      <td>46.728607</td>\n",
       "      <td>three_session_A</td>\n",
       "      <td>VISp</td>\n",
       "      <td>Rorb-IRES2-Cre</td>\n",
       "    </tr>\n",
       "    <tr>\n",
       "      <th>8</th>\n",
       "      <td>507990552</td>\n",
       "      <td>[-33.40323639   6.57465219   9.38182068 ...,  ...</td>\n",
       "      <td>35.979543</td>\n",
       "      <td>three_session_A</td>\n",
       "      <td>VISl</td>\n",
       "      <td>Cux2-CreERT2</td>\n",
       "    </tr>\n",
       "    <tr>\n",
       "      <th>10</th>\n",
       "      <td>507464107</td>\n",
       "      <td>[ 379.40560913   42.41534042   43.07914734 ......</td>\n",
       "      <td>50.602629</td>\n",
       "      <td>three_session_A</td>\n",
       "      <td>VISal</td>\n",
       "      <td>Cux2-CreERT2</td>\n",
       "    </tr>\n",
       "    <tr>\n",
       "      <th>13</th>\n",
       "      <td>507881529</td>\n",
       "      <td>[  9.88432217e+00  -7.09460318e-01   1.0165131...</td>\n",
       "      <td>52.905786</td>\n",
       "      <td>three_session_A</td>\n",
       "      <td>VISpm</td>\n",
       "      <td>Cux2-CreERT2</td>\n",
       "    </tr>\n",
       "    <tr>\n",
       "      <th>15</th>\n",
       "      <td>507945410</td>\n",
       "      <td>[-0.37330681  0.16304976 -0.32720569 ...,  0.4...</td>\n",
       "      <td>32.949329</td>\n",
       "      <td>three_session_A</td>\n",
       "      <td>VISl</td>\n",
       "      <td>Rbp4-Cre</td>\n",
       "    </tr>\n",
       "  </tbody>\n",
       "</table>\n",
       "</div>"
      ],
      "text/plain": [
       "        expID                                           run_hist  \\\n",
       "4   501724959  [-0.55685878 -0.93435436  1.56362295 ..., -0.0...   \n",
       "8   507990552  [-33.40323639   6.57465219   9.38182068 ...,  ...   \n",
       "10  507464107  [ 379.40560913   42.41534042   43.07914734 ......   \n",
       "13  507881529  [  9.88432217e+00  -7.09460318e-01   1.0165131...   \n",
       "15  507945410  [-0.37330681  0.16304976 -0.32720569 ...,  0.4...   \n",
       "\n",
       "    percent_running     session_type targeted_structure        cre_line  \n",
       "4         46.728607  three_session_A               VISp  Rorb-IRES2-Cre  \n",
       "8         35.979543  three_session_A               VISl    Cux2-CreERT2  \n",
       "10        50.602629  three_session_A              VISal    Cux2-CreERT2  \n",
       "13        52.905786  three_session_A              VISpm    Cux2-CreERT2  \n",
       "15        32.949329  three_session_A               VISl        Rbp4-Cre  "
      ]
     },
     "execution_count": 5,
     "metadata": {},
     "output_type": "execute_result"
    }
   ],
   "source": [
    "lowLim = 30 #exclude <30% run time\n",
    "upLim = 70 #exclude >70% run time\n",
    "runLen_DF = runLen_DF[np.greater_equal(runLen_DF.percent_running,lowLim) & np.less_equal(runLen_DF.percent_running,upLim)]\n",
    "runLen_DF = runLen_DF[runLen_DF.session_type == 'three_session_A']\n",
    "runLen_DF.head()"
   ]
  },
  {
   "cell_type": "code",
   "execution_count": 6,
   "metadata": {
    "collapsed": false
   },
   "outputs": [
    {
     "name": "stderr",
     "output_type": "stream",
     "text": [
      "/Users/bilalbari/anaconda/lib/python2.7/site-packages/allensdk/brain_observatory/stimulus_analysis.py:327: VisibleDeprecationWarning: using a non-integer number instead of an integer will result in an error in the future\n",
      "  temp = self.celltraces[nc, start:end]\n",
      "/Users/bilalbari/anaconda/lib/python2.7/site-packages/allensdk/brain_observatory/stimulus_analysis.py:330: VisibleDeprecationWarning: using a non-integer number instead of an integer will result in an error in the future\n",
      "  sweep_response['dx'][index] = self.dxcm[start:end]\n"
     ]
    }
   ],
   "source": [
    "expID = runLen_DF.expID.iloc[0]\n",
    "expContainerID = expMetaData[expMetaData.id == expID].experiment_container_id\n",
    "relevCells = cells[cells.experiment_container_id == int(expContainerID)]\n",
    "exp = boc.get_ophys_experiment_data(ophys_experiment_id = expID)\n",
    "dg = DriftingGratings(exp)\n",
    "sResp = dg.sweep_response\n",
    "sTabl = dg.stim_table\n",
    "cellIDs = dg.cell_id\n",
    "sResp_mean = sResp.copy()\n",
    "for i in range(sResp.shape[0]):\n",
    "    if i%100 == 0:\n",
    "        print(100*float(i)/sResp.shape[0], '% finished')\n",
    "    for j in range(sResp.shape[1]):\n",
    "        sResp_mean.iloc[i,j] = sResp_mean.iloc[i,j].mean()\n",
    "print(\"100 % finished\")"
   ]
  },
  {
   "cell_type": "code",
   "execution_count": 17,
   "metadata": {
    "collapsed": false
   },
   "outputs": [
    {
     "data": {
      "text/html": [
       "<div>\n",
       "<table border=\"1\" class=\"dataframe\">\n",
       "  <thead>\n",
       "    <tr style=\"text-align: right;\">\n",
       "      <th></th>\n",
       "      <th>area</th>\n",
       "      <th>cell_specimen_id</th>\n",
       "      <th>dsi_dg</th>\n",
       "      <th>experiment_container_id</th>\n",
       "      <th>imaging_depth</th>\n",
       "      <th>osi_dg</th>\n",
       "      <th>osi_sg</th>\n",
       "      <th>p_dg</th>\n",
       "      <th>p_ns</th>\n",
       "      <th>p_sg</th>\n",
       "      <th>...</th>\n",
       "      <th>pref_sf_sg</th>\n",
       "      <th>pref_tf_dg</th>\n",
       "      <th>time_to_peak_ns</th>\n",
       "      <th>time_to_peak_sg</th>\n",
       "      <th>tld1_id</th>\n",
       "      <th>tld1_name</th>\n",
       "      <th>tld2_id</th>\n",
       "      <th>tld2_name</th>\n",
       "      <th>tlr1_id</th>\n",
       "      <th>tlr1_name</th>\n",
       "    </tr>\n",
       "  </thead>\n",
       "  <tbody>\n",
       "    <tr>\n",
       "      <th>1170</th>\n",
       "      <td>VISp</td>\n",
       "      <td>517404523</td>\n",
       "      <td>0.749456</td>\n",
       "      <td>511507144</td>\n",
       "      <td>275</td>\n",
       "      <td>0.575732</td>\n",
       "      <td>1.028486</td>\n",
       "      <td>2.344408e-06</td>\n",
       "      <td>1.481200e-157</td>\n",
       "      <td>6.483686e-57</td>\n",
       "      <td>...</td>\n",
       "      <td>0.04</td>\n",
       "      <td>1.0</td>\n",
       "      <td>0.29925</td>\n",
       "      <td>0.29925</td>\n",
       "      <td>179697864</td>\n",
       "      <td>Rorb-IRES2-Cre</td>\n",
       "      <td>177837320</td>\n",
       "      <td>Camk2a-tTA</td>\n",
       "      <td>265943423</td>\n",
       "      <td>Ai93(TITL-GCaMP6f)</td>\n",
       "    </tr>\n",
       "    <tr>\n",
       "      <th>1171</th>\n",
       "      <td>VISp</td>\n",
       "      <td>517404528</td>\n",
       "      <td>0.877868</td>\n",
       "      <td>511507144</td>\n",
       "      <td>275</td>\n",
       "      <td>1.095895</td>\n",
       "      <td>0.793717</td>\n",
       "      <td>2.888349e-19</td>\n",
       "      <td>4.573624e-29</td>\n",
       "      <td>3.547945e-04</td>\n",
       "      <td>...</td>\n",
       "      <td>0.04</td>\n",
       "      <td>4.0</td>\n",
       "      <td>0.23275</td>\n",
       "      <td>0.09975</td>\n",
       "      <td>179697864</td>\n",
       "      <td>Rorb-IRES2-Cre</td>\n",
       "      <td>177837320</td>\n",
       "      <td>Camk2a-tTA</td>\n",
       "      <td>265943423</td>\n",
       "      <td>Ai93(TITL-GCaMP6f)</td>\n",
       "    </tr>\n",
       "    <tr>\n",
       "      <th>1175</th>\n",
       "      <td>VISp</td>\n",
       "      <td>517404546</td>\n",
       "      <td>0.499914</td>\n",
       "      <td>511507144</td>\n",
       "      <td>275</td>\n",
       "      <td>1.039795</td>\n",
       "      <td>NaN</td>\n",
       "      <td>2.199373e-88</td>\n",
       "      <td>NaN</td>\n",
       "      <td>NaN</td>\n",
       "      <td>...</td>\n",
       "      <td>NaN</td>\n",
       "      <td>15.0</td>\n",
       "      <td>NaN</td>\n",
       "      <td>NaN</td>\n",
       "      <td>179697864</td>\n",
       "      <td>Rorb-IRES2-Cre</td>\n",
       "      <td>177837320</td>\n",
       "      <td>Camk2a-tTA</td>\n",
       "      <td>265943423</td>\n",
       "      <td>Ai93(TITL-GCaMP6f)</td>\n",
       "    </tr>\n",
       "    <tr>\n",
       "      <th>1176</th>\n",
       "      <td>VISp</td>\n",
       "      <td>517404552</td>\n",
       "      <td>0.792300</td>\n",
       "      <td>511507144</td>\n",
       "      <td>275</td>\n",
       "      <td>0.412933</td>\n",
       "      <td>NaN</td>\n",
       "      <td>4.875407e-15</td>\n",
       "      <td>NaN</td>\n",
       "      <td>NaN</td>\n",
       "      <td>...</td>\n",
       "      <td>NaN</td>\n",
       "      <td>1.0</td>\n",
       "      <td>NaN</td>\n",
       "      <td>NaN</td>\n",
       "      <td>179697864</td>\n",
       "      <td>Rorb-IRES2-Cre</td>\n",
       "      <td>177837320</td>\n",
       "      <td>Camk2a-tTA</td>\n",
       "      <td>265943423</td>\n",
       "      <td>Ai93(TITL-GCaMP6f)</td>\n",
       "    </tr>\n",
       "    <tr>\n",
       "      <th>1179</th>\n",
       "      <td>VISp</td>\n",
       "      <td>517404565</td>\n",
       "      <td>1.083675</td>\n",
       "      <td>511507144</td>\n",
       "      <td>275</td>\n",
       "      <td>1.127560</td>\n",
       "      <td>0.918176</td>\n",
       "      <td>1.293589e-15</td>\n",
       "      <td>1.130472e-17</td>\n",
       "      <td>5.030357e-07</td>\n",
       "      <td>...</td>\n",
       "      <td>0.08</td>\n",
       "      <td>4.0</td>\n",
       "      <td>0.19950</td>\n",
       "      <td>0.13300</td>\n",
       "      <td>179697864</td>\n",
       "      <td>Rorb-IRES2-Cre</td>\n",
       "      <td>177837320</td>\n",
       "      <td>Camk2a-tTA</td>\n",
       "      <td>265943423</td>\n",
       "      <td>Ai93(TITL-GCaMP6f)</td>\n",
       "    </tr>\n",
       "  </tbody>\n",
       "</table>\n",
       "<p>5 rows × 24 columns</p>\n",
       "</div>"
      ],
      "text/plain": [
       "      area  cell_specimen_id    dsi_dg  experiment_container_id  \\\n",
       "1170  VISp         517404523  0.749456                511507144   \n",
       "1171  VISp         517404528  0.877868                511507144   \n",
       "1175  VISp         517404546  0.499914                511507144   \n",
       "1176  VISp         517404552  0.792300                511507144   \n",
       "1179  VISp         517404565  1.083675                511507144   \n",
       "\n",
       "      imaging_depth    osi_dg    osi_sg          p_dg           p_ns  \\\n",
       "1170            275  0.575732  1.028486  2.344408e-06  1.481200e-157   \n",
       "1171            275  1.095895  0.793717  2.888349e-19   4.573624e-29   \n",
       "1175            275  1.039795       NaN  2.199373e-88            NaN   \n",
       "1176            275  0.412933       NaN  4.875407e-15            NaN   \n",
       "1179            275  1.127560  0.918176  1.293589e-15   1.130472e-17   \n",
       "\n",
       "              p_sg         ...          pref_sf_sg  pref_tf_dg  \\\n",
       "1170  6.483686e-57         ...                0.04         1.0   \n",
       "1171  3.547945e-04         ...                0.04         4.0   \n",
       "1175           NaN         ...                 NaN        15.0   \n",
       "1176           NaN         ...                 NaN         1.0   \n",
       "1179  5.030357e-07         ...                0.08         4.0   \n",
       "\n",
       "      time_to_peak_ns  time_to_peak_sg    tld1_id       tld1_name    tld2_id  \\\n",
       "1170          0.29925          0.29925  179697864  Rorb-IRES2-Cre  177837320   \n",
       "1171          0.23275          0.09975  179697864  Rorb-IRES2-Cre  177837320   \n",
       "1175              NaN              NaN  179697864  Rorb-IRES2-Cre  177837320   \n",
       "1176              NaN              NaN  179697864  Rorb-IRES2-Cre  177837320   \n",
       "1179          0.19950          0.13300  179697864  Rorb-IRES2-Cre  177837320   \n",
       "\n",
       "       tld2_name    tlr1_id           tlr1_name  \n",
       "1170  Camk2a-tTA  265943423  Ai93(TITL-GCaMP6f)  \n",
       "1171  Camk2a-tTA  265943423  Ai93(TITL-GCaMP6f)  \n",
       "1175  Camk2a-tTA  265943423  Ai93(TITL-GCaMP6f)  \n",
       "1176  Camk2a-tTA  265943423  Ai93(TITL-GCaMP6f)  \n",
       "1179  Camk2a-tTA  265943423  Ai93(TITL-GCaMP6f)  \n",
       "\n",
       "[5 rows x 24 columns]"
      ]
     },
     "execution_count": 17,
     "metadata": {},
     "output_type": "execute_result"
    }
   ],
   "source": [
    "relevCells = relevCells[~np.isnan(relevCells.osi_dg) & \\\n",
    "                           np.less_equal(relevCells.osi_dg,1.5) & \\\n",
    "                           np.greater_equal(relevCells.osi_dg,0)]\n",
    "relevCells.head()"
   ]
  },
  {
   "cell_type": "code",
   "execution_count": 150,
   "metadata": {
    "collapsed": true
   },
   "outputs": [],
   "source": [
    "# fig,ax = plt.subplots(nrows = 2)\n",
    "\n",
    "walkMeans = []\n",
    "runMeans = []\n",
    "\n",
    "for currCell in relevCells.index:\n",
    "    cellInd = np.where(relevCells.cell_specimen_id[currCell] == cellIDs)[0][0]\n",
    "    prefDir = relevCells.pref_dir_dg[currCell]\n",
    "    prefTF = relevCells.pref_tf_dg[currCell]\n",
    "    \n",
    "    allRun = []\n",
    "    prefTF_mask = sTabl.temporal_frequency == prefTF\n",
    "    prefDir_mask = sTabl.orientation == prefDir\n",
    "    for currSweep in sTabl[prefTF_mask & prefDir_mask].index:\n",
    "        allRun.append(sResp['dx'][currSweep].mean())\n",
    "    if (sum(np.greater_equal(allRun,1)) >= 5) and (sum(np.less(allRun,1)) >= 5): # if <5 trials running or stationary\n",
    "        runMask = np.greater_equal(allRun,1)\n",
    "        stillMask = np.less(allRun,1)\n",
    "        \n",
    "        walkVals = sResp_mean[str(cellInd)][prefTF_mask & prefDir_mask][stillMask]\n",
    "        runVals = sResp_mean[str(cellInd)][prefTF_mask & prefDir_mask][runMask]\n",
    "#         ax[0].scatter(np.zeros_like(walkVals),walkVals)\n",
    "#         ax[0].scatter(np.ones_like(runVals),runVals)\n",
    "#         ax[1].scatter(sResp_mean[str(cellInd)][prefTF_mask & prefDir_mask], allRun)\n",
    "#         ax[1].set_xlabel('Cell Response')\n",
    "#         ax[1].set_ylabel('Run Speed')\n",
    "#         plt.pause(1.0)\n",
    "        \n",
    "        walkMeans.append(walkVals.mean())\n",
    "        runMeans.append(runVals.mean())\n",
    "#         for currAx in ax:\n",
    "#             currAx.cla()\n",
    "#     else:\n",
    "#         print 'sad'"
   ]
  },
  {
   "cell_type": "code",
   "execution_count": 190,
   "metadata": {
    "collapsed": false
   },
   "outputs": [],
   "source": [
    "#this loads the response array and the peak dataframe from the analysis file\n",
    "path = r'/Volumes/Brain2016/BrainObservatory/ophys_analysis/496908818_three_session_B_analysis.h5'\n",
    "\n",
    "#use this to load pandas dataframes\n",
    "sweep_response = pd.read_hdf(path, 'analysis/sweep_response_ns')\n",
    "mean_sweep_response = pd.read_hdf(path, 'analysis/mean_sweep_response_ns')"
   ]
  },
  {
   "cell_type": "markdown",
   "metadata": {},
   "source": [
    "# Full DG Comparison Across All Cells"
   ]
  },
  {
   "cell_type": "code",
   "execution_count": 1,
   "metadata": {
    "collapsed": false
   },
   "outputs": [
    {
     "name": "stdout",
     "output_type": "stream",
     "text": [
      "Using matplotlib backend: MacOSX\n"
     ]
    }
   ],
   "source": [
    "drive_path = '/Volumes/Brain2016'\n",
    "# We need to import these modules to get started\n",
    "import numpy as np\n",
    "import pandas as pd\n",
    "import os\n",
    "import sys\n",
    "from scipy.stats.stats import pearsonr\n",
    "from scipy.stats import ttest_rel\n",
    "from scipy import signal\n",
    "import matplotlib.pyplot as plt\n",
    "%matplotlib\n",
    "from allensdk.core.brain_observatory_cache import BrainObservatoryCache\n",
    "from allensdk.brain_observatory.drifting_gratings import DriftingGratings\n",
    "import seaborn\n",
    "import h5py\n",
    "# import glob\n",
    "# import time as tm\n",
    "\n",
    "manifest_path = os.path.join(drive_path,'BrainObservatory','manifest.json')\n",
    "boc = BrainObservatoryCache(manifest_file=manifest_path)\n",
    "expMetaData = pd.DataFrame(boc.get_ophys_experiments())\n",
    "cells = pd.DataFrame.from_records(boc.get_cell_specimens())"
   ]
  },
  {
   "cell_type": "code",
   "execution_count": 379,
   "metadata": {
    "collapsed": false
   },
   "outputs": [
    {
     "data": {
      "text/html": [
       "<div>\n",
       "<table border=\"1\" class=\"dataframe\">\n",
       "  <thead>\n",
       "    <tr style=\"text-align: right;\">\n",
       "      <th></th>\n",
       "      <th>age_days</th>\n",
       "      <th>cre_line</th>\n",
       "      <th>experiment_container_id</th>\n",
       "      <th>id</th>\n",
       "      <th>imaging_depth</th>\n",
       "      <th>session_type</th>\n",
       "      <th>targeted_structure</th>\n",
       "    </tr>\n",
       "  </thead>\n",
       "  <tbody>\n",
       "    <tr>\n",
       "      <th>0</th>\n",
       "      <td>132.0</td>\n",
       "      <td>Cux2-CreERT2</td>\n",
       "      <td>511510753</td>\n",
       "      <td>502066273</td>\n",
       "      <td>175</td>\n",
       "      <td>three_session_C</td>\n",
       "      <td>VISpm</td>\n",
       "    </tr>\n",
       "    <tr>\n",
       "      <th>1</th>\n",
       "      <td>116.0</td>\n",
       "      <td>Rorb-IRES2-Cre</td>\n",
       "      <td>511511001</td>\n",
       "      <td>506278598</td>\n",
       "      <td>275</td>\n",
       "      <td>three_session_B</td>\n",
       "      <td>VISpm</td>\n",
       "    </tr>\n",
       "    <tr>\n",
       "      <th>2</th>\n",
       "      <td>97.0</td>\n",
       "      <td>Rbp4-Cre</td>\n",
       "      <td>511510653</td>\n",
       "      <td>510529677</td>\n",
       "      <td>375</td>\n",
       "      <td>three_session_A</td>\n",
       "      <td>VISpm</td>\n",
       "    </tr>\n",
       "    <tr>\n",
       "      <th>3</th>\n",
       "      <td>116.0</td>\n",
       "      <td>Rorb-IRES2-Cre</td>\n",
       "      <td>511510729</td>\n",
       "      <td>504614224</td>\n",
       "      <td>275</td>\n",
       "      <td>three_session_C</td>\n",
       "      <td>VISl</td>\n",
       "    </tr>\n",
       "    <tr>\n",
       "      <th>4</th>\n",
       "      <td>123.0</td>\n",
       "      <td>Rorb-IRES2-Cre</td>\n",
       "      <td>511507144</td>\n",
       "      <td>501724959</td>\n",
       "      <td>275</td>\n",
       "      <td>three_session_A</td>\n",
       "      <td>VISp</td>\n",
       "    </tr>\n",
       "  </tbody>\n",
       "</table>\n",
       "</div>"
      ],
      "text/plain": [
       "   age_days        cre_line  experiment_container_id         id  \\\n",
       "0     132.0    Cux2-CreERT2                511510753  502066273   \n",
       "1     116.0  Rorb-IRES2-Cre                511511001  506278598   \n",
       "2      97.0        Rbp4-Cre                511510653  510529677   \n",
       "3     116.0  Rorb-IRES2-Cre                511510729  504614224   \n",
       "4     123.0  Rorb-IRES2-Cre                511507144  501724959   \n",
       "\n",
       "   imaging_depth     session_type targeted_structure  \n",
       "0            175  three_session_C              VISpm  \n",
       "1            275  three_session_B              VISpm  \n",
       "2            375  three_session_A              VISpm  \n",
       "3            275  three_session_C               VISl  \n",
       "4            275  three_session_A               VISp  "
      ]
     },
     "execution_count": 379,
     "metadata": {},
     "output_type": "execute_result"
    }
   ],
   "source": [
    "expMetaData.head()"
   ]
  },
  {
   "cell_type": "code",
   "execution_count": 86,
   "metadata": {
    "collapsed": false
   },
   "outputs": [],
   "source": [
    "# fig,ax = plt.subplots(nrows = 2)\n",
    "\n",
    "walkMeans = []\n",
    "runMeans = []\n",
    "\n",
    "sessionA_metaData = expMetaData[(expMetaData.session_type == 'three_session_A') & (expMetaData.cre_line == 'Scnn1a-Tg3-Cre')]\n",
    "\n",
    "for expInd in sessionA_metaData.index:\n",
    "    expContainerID = sessionA_metaData.experiment_container_id[expInd]\n",
    "    expID = sessionA_metaData.id[expInd]\n",
    "    exp = boc.get_ophys_experiment_data(ophys_experiment_id = expID)\n",
    "    _, dF = exp.get_dff_traces()\n",
    "    \n",
    "    \n",
    "    path = r'/Volumes/Brain2016/BrainObservatory/ophys_analysis/%d_%s_analysis.h5' % (expID, sessionA_metaData.session_type[expInd])\n",
    "    sResp = pd.read_hdf(path, 'analysis/sweep_response_dg')\n",
    "    sResp_mean = pd.read_hdf(path, 'analysis/mean_sweep_response_dg')\n",
    "    sTabl = pd.read_hdf(path, 'analysis/stim_table_dg')\n",
    "    cellIDs = exp.get_cell_specimen_ids()\n",
    "\n",
    "    relevCells = cells[cells.experiment_container_id == int(expContainerID)]\n",
    "    relevCells = relevCells[~np.isnan(relevCells.osi_dg) & \\\n",
    "                               np.less_equal(relevCells.osi_dg,1.5) & \\\n",
    "                               np.greater_equal(relevCells.osi_dg,0)]\n",
    "\n",
    "    for currCell in relevCells.index:\n",
    "        cellInd = np.where(relevCells.cell_specimen_id[currCell] == cellIDs)[0][0]\n",
    "        prefDir = relevCells.pref_dir_dg[currCell]\n",
    "        prefTF = relevCells.pref_tf_dg[currCell]\n",
    "\n",
    "        allRun = []\n",
    "        prefTF_mask = sTabl.temporal_frequency == prefTF\n",
    "        prefDir_mask = sTabl.orientation == prefDir\n",
    "        for currSweep in sTabl[prefTF_mask & prefDir_mask].index:\n",
    "            allRun.append(sResp['dx'][currSweep].mean())\n",
    "        if (sum(np.greater_equal(allRun,5)) >= 5) and (sum(np.less(allRun,1)) >= 5): # if <5 trials running or stationary\n",
    "            runMask = np.greater_equal(allRun,5)\n",
    "            stillMask = np.less(allRun,1)\n",
    "\n",
    "            walkVals = sResp_mean[str(cellInd)][prefTF_mask & prefDir_mask][stillMask]\n",
    "            runVals = sResp_mean[str(cellInd)][prefTF_mask & prefDir_mask][runMask]\n",
    "            \n",
    "#             walkVals_fullTrace = sResp[str(cellInd)][prefTF_mask & prefDir_mask][stillMask]\n",
    "#             runVals_fullTrace = sResp[str(cellInd)][prefTF_mask & prefDir_mask][runMask]\n",
    "\n",
    "            meanFlag = False\n",
    "            for tmp in walkVals:\n",
    "                if np.greater_equal(tmp,50):\n",
    "                    meanFlag = True\n",
    "            for tmp in runVals:\n",
    "                if np.greater_equal(tmp,50):\n",
    "                    meanFlag = True\n",
    "                    \n",
    "#             for tmp in walkVals_fullTrace:\n",
    "#                 if np.any(np.greater_equal(tmp,50)):\n",
    "#                     meanFlag = True\n",
    "#             for tmp in runVals_fullTrace:\n",
    "#                 if np.any(np.greater_equal(tmp,50)):\n",
    "#                     meanFlag = True\n",
    "                    \n",
    "            if meanFlag == True:\n",
    "                walkMeans.append(walkVals.mean())\n",
    "                runMeans.append(runVals.mean())\n",
    "                \n",
    "#             tmpResp = []\n",
    "#             currInd = 0\n",
    "#             for currSweep in sTabl[prefTF_mask & prefDir_mask].index:\n",
    "#                 if stillMask[currInd] == True:\n",
    "#                     ax[0].plot(dF[cellInd][sTabl.start[currSweep]:sTabl.start[currSweep]+120],c='black',alpha=0.6)\n",
    "#                 else:\n",
    "#                     ax[0].plot(dF[cellInd][sTabl.start[currSweep]:sTabl.start[currSweep]+120],c='red',alpha=0.6)\n",
    "#                 currInd += 1\n",
    "            \n",
    "#             for currLine in sResp[str(cellInd)][prefTF_mask & prefDir_mask][stillMask]:\n",
    "#                 ax[1].plot(currLine,c='black',alpha=0.6)\n",
    "#             for currLine in sResp[str(cellInd)][prefTF_mask & prefDir_mask][runMask]:\n",
    "#                 ax[1].plot(currLine,c='red',alpha=0.6)\n",
    "# #             ax[0].scatter(np.zeros_like(walkVals),walkVals)\n",
    "# #             ax[0].scatter(np.ones_like(runVals),runVals)\n",
    "# #             ax[1].scatter(allRun,sResp_mean[str(cellInd)][prefTF_mask & prefDir_mask])\n",
    "# #             ax[1].set_xlabel('Run Speed')\n",
    "# #             ax[1].set_ylabel('$\\Delta$F/F$_0$')\n",
    "#             plt.pause(1.5)\n",
    "#             for currAx in ax:\n",
    "#                 currAx.cla()\n",
    "            "
   ]
  },
  {
   "cell_type": "code",
   "execution_count": 87,
   "metadata": {
    "collapsed": false
   },
   "outputs": [],
   "source": [
    "w_Scnn1a = np.asarray(walkMeans)\n",
    "r_Scnn1a = np.asarray(runMeans)"
   ]
  },
  {
   "cell_type": "code",
   "execution_count": 109,
   "metadata": {
    "collapsed": false
   },
   "outputs": [
    {
     "data": {
      "text/plain": [
       "(array([   0.,    0.,    1.,    0.,    2.,    7.,   35.,  198.,  313.,\n",
       "         152.,   33.,   19.,    8.,    2.,    2.]),\n",
       " array([-200, -175, -150, -125, -100,  -75,  -50,  -25,    0,   25,   50,\n",
       "          75,  100,  125,  150,  175]),\n",
       " <a list of 15 Patch objects>)"
      ]
     },
     "execution_count": 109,
     "metadata": {},
     "output_type": "execute_result"
    },
    {
     "data": {
      "image/png": "[encoded data removed]",
      "text/plain": [
       "<matplotlib.figure.Figure at 0x12960f890>"
      ]
     },
     "metadata": {},
     "output_type": "display_data"
    }
   ],
   "source": [
    "plt.hist(r_all - w_all,bins=np.arange(-200,200,25))"
   ]
  },
  {
   "cell_type": "code",
   "execution_count": 105,
   "metadata": {
    "collapsed": false
   },
   "outputs": [
    {
     "data": {
      "text/plain": [
       "<matplotlib.text.Text at 0x123962650>"
      ]
     },
     "execution_count": 105,
     "metadata": {},
     "output_type": "execute_result"
    },
    {
     "data": {
      "image/png": "[encoded data removed]",
      "text/plain": [
       "<matplotlib.figure.Figure at 0x138b6c390>"
      ]
     },
     "metadata": {},
     "output_type": "display_data"
    }
   ],
   "source": [
    "fig, ax = plt.subplots(figsize=(8,8))\n",
    "ax.boxplot([w_all, r_all, w_VISp, r_VISp, w_VISpm, r_VISpm, w_VISl, r_VISl, w_VISal, r_VISal],\n",
    "   labels=['w_all','r_all','w_VISp','r_VISp','w_VISpm','r_VISpm','w_VISl','r_VISl','w_VISal','r_VISal'])\n",
    "ax.set_ylim(-20,90)\n",
    "ax.set_ylabel('$\\Delta$F/F$_0$ to DG at Optimal TF and Ori')"
   ]
  },
  {
   "cell_type": "code",
   "execution_count": 52,
   "metadata": {
    "collapsed": false
   },
   "outputs": [
    {
     "name": "stdout",
     "output_type": "stream",
     "text": [
      "18.8986536631\n",
      "27.377453922\n",
      "Ttest_relResult(statistic=-3.4573673632710964, pvalue=0.00072004691897799115)\n"
     ]
    }
   ],
   "source": [
    "currW = w_VISal\n",
    "currR = r_VISal\n",
    "print(currW.mean())\n",
    "print(currR.mean())\n",
    "print(ttest_rel(currW,currR))"
   ]
  },
  {
   "cell_type": "code",
   "execution_count": 78,
   "metadata": {
    "collapsed": true
   },
   "outputs": [
    {
     "ename": "ValueError",
     "evalue": "all the input arrays must have same number of dimensions",
     "output_type": "error",
     "traceback": [
      "\u001b[0;31m---------------------------------------------------------------------------\u001b[0m",
      "\u001b[0;31mValueError\u001b[0m                                Traceback (most recent call last)",
      "\u001b[0;32m<ipython-input-78-aa28041eb810>\u001b[0m in \u001b[0;36m<module>\u001b[0;34m()\u001b[0m\n\u001b[0;32m----> 1\u001b[0;31m \u001b[0mseaborn\u001b[0m\u001b[0;34m.\u001b[0m\u001b[0mviolinplot\u001b[0m\u001b[0;34m(\u001b[0m\u001b[0my\u001b[0m \u001b[0;34m=\u001b[0m \u001b[0;34m[\u001b[0m\u001b[0mw_all\u001b[0m\u001b[0;34m,\u001b[0m \u001b[0mr_all\u001b[0m\u001b[0;34m,\u001b[0m \u001b[0mw_VISp\u001b[0m\u001b[0;34m,\u001b[0m \u001b[0mr_VISp\u001b[0m\u001b[0;34m,\u001b[0m \u001b[0mw_VISpm\u001b[0m\u001b[0;34m,\u001b[0m \u001b[0mr_VISpm\u001b[0m\u001b[0;34m,\u001b[0m \u001b[0mw_VISl\u001b[0m\u001b[0;34m,\u001b[0m \u001b[0mr_VISl\u001b[0m\u001b[0;34m,\u001b[0m \u001b[0mw_VISal\u001b[0m\u001b[0;34m,\u001b[0m \u001b[0mr_VISal\u001b[0m\u001b[0;34m]\u001b[0m\u001b[0;34m)\u001b[0m\u001b[0;34m\u001b[0m\u001b[0m\n\u001b[0m\u001b[1;32m      2\u001b[0m \u001b[0max\u001b[0m\u001b[0;34m.\u001b[0m\u001b[0mset_ylim\u001b[0m\u001b[0;34m(\u001b[0m\u001b[0;34m-\u001b[0m\u001b[0;36m20\u001b[0m\u001b[0;34m,\u001b[0m\u001b[0;36m90\u001b[0m\u001b[0;34m)\u001b[0m\u001b[0;34m\u001b[0m\u001b[0m\n\u001b[1;32m      3\u001b[0m \u001b[0;31m# ax = seaborn.violinplot(meanResp_DF)\u001b[0m\u001b[0;34m\u001b[0m\u001b[0;34m\u001b[0m\u001b[0m\n\u001b[1;32m      4\u001b[0m \u001b[0;31m# ax.set_ylim(-20,90)\u001b[0m\u001b[0;34m\u001b[0m\u001b[0;34m\u001b[0m\u001b[0m\n",
      "\u001b[0;32m/Users/bilalbari/anaconda/lib/python2.7/site-packages/seaborn/categorical.pyc\u001b[0m in \u001b[0;36mviolinplot\u001b[0;34m(x, y, hue, data, order, hue_order, bw, cut, scale, scale_hue, gridsize, width, inner, split, orient, linewidth, color, palette, saturation, ax, **kwargs)\u001b[0m\n\u001b[1;32m   2345\u001b[0m                              \u001b[0mbw\u001b[0m\u001b[0;34m,\u001b[0m \u001b[0mcut\u001b[0m\u001b[0;34m,\u001b[0m \u001b[0mscale\u001b[0m\u001b[0;34m,\u001b[0m \u001b[0mscale_hue\u001b[0m\u001b[0;34m,\u001b[0m \u001b[0mgridsize\u001b[0m\u001b[0;34m,\u001b[0m\u001b[0;34m\u001b[0m\u001b[0m\n\u001b[1;32m   2346\u001b[0m                              \u001b[0mwidth\u001b[0m\u001b[0;34m,\u001b[0m \u001b[0minner\u001b[0m\u001b[0;34m,\u001b[0m \u001b[0msplit\u001b[0m\u001b[0;34m,\u001b[0m \u001b[0morient\u001b[0m\u001b[0;34m,\u001b[0m \u001b[0mlinewidth\u001b[0m\u001b[0;34m,\u001b[0m\u001b[0;34m\u001b[0m\u001b[0m\n\u001b[0;32m-> 2347\u001b[0;31m                              color, palette, saturation)\n\u001b[0m\u001b[1;32m   2348\u001b[0m \u001b[0;34m\u001b[0m\u001b[0m\n\u001b[1;32m   2349\u001b[0m     \u001b[0;32mif\u001b[0m \u001b[0max\u001b[0m \u001b[0;32mis\u001b[0m \u001b[0mNone\u001b[0m\u001b[0;34m:\u001b[0m\u001b[0;34m\u001b[0m\u001b[0m\n",
      "\u001b[0;32m/Users/bilalbari/anaconda/lib/python2.7/site-packages/seaborn/categorical.pyc\u001b[0m in \u001b[0;36m__init__\u001b[0;34m(self, x, y, hue, data, order, hue_order, bw, cut, scale, scale_hue, gridsize, width, inner, split, orient, linewidth, color, palette, saturation)\u001b[0m\n\u001b[1;32m    541\u001b[0m         \u001b[0mself\u001b[0m\u001b[0;34m.\u001b[0m\u001b[0mestablish_variables\u001b[0m\u001b[0;34m(\u001b[0m\u001b[0mx\u001b[0m\u001b[0;34m,\u001b[0m \u001b[0my\u001b[0m\u001b[0;34m,\u001b[0m \u001b[0mhue\u001b[0m\u001b[0;34m,\u001b[0m \u001b[0mdata\u001b[0m\u001b[0;34m,\u001b[0m \u001b[0morient\u001b[0m\u001b[0;34m,\u001b[0m \u001b[0morder\u001b[0m\u001b[0;34m,\u001b[0m \u001b[0mhue_order\u001b[0m\u001b[0;34m)\u001b[0m\u001b[0;34m\u001b[0m\u001b[0m\n\u001b[1;32m    542\u001b[0m         \u001b[0mself\u001b[0m\u001b[0;34m.\u001b[0m\u001b[0mestablish_colors\u001b[0m\u001b[0;34m(\u001b[0m\u001b[0mcolor\u001b[0m\u001b[0;34m,\u001b[0m \u001b[0mpalette\u001b[0m\u001b[0;34m,\u001b[0m \u001b[0msaturation\u001b[0m\u001b[0;34m)\u001b[0m\u001b[0;34m\u001b[0m\u001b[0m\n\u001b[0;32m--> 543\u001b[0;31m         \u001b[0mself\u001b[0m\u001b[0;34m.\u001b[0m\u001b[0mestimate_densities\u001b[0m\u001b[0;34m(\u001b[0m\u001b[0mbw\u001b[0m\u001b[0;34m,\u001b[0m \u001b[0mcut\u001b[0m\u001b[0;34m,\u001b[0m \u001b[0mscale\u001b[0m\u001b[0;34m,\u001b[0m \u001b[0mscale_hue\u001b[0m\u001b[0;34m,\u001b[0m \u001b[0mgridsize\u001b[0m\u001b[0;34m)\u001b[0m\u001b[0;34m\u001b[0m\u001b[0m\n\u001b[0m\u001b[1;32m    544\u001b[0m \u001b[0;34m\u001b[0m\u001b[0m\n\u001b[1;32m    545\u001b[0m         \u001b[0mself\u001b[0m\u001b[0;34m.\u001b[0m\u001b[0mgridsize\u001b[0m \u001b[0;34m=\u001b[0m \u001b[0mgridsize\u001b[0m\u001b[0;34m\u001b[0m\u001b[0m\n",
      "\u001b[0;32m/Users/bilalbari/anaconda/lib/python2.7/site-packages/seaborn/categorical.pyc\u001b[0m in \u001b[0;36mestimate_densities\u001b[0;34m(self, bw, cut, scale, scale_hue, gridsize)\u001b[0m\n\u001b[1;32m    597\u001b[0m \u001b[0;34m\u001b[0m\u001b[0m\n\u001b[1;32m    598\u001b[0m                 \u001b[0;31m# Handle special case of a single unique datapoint\u001b[0m\u001b[0;34m\u001b[0m\u001b[0;34m\u001b[0m\u001b[0m\n\u001b[0;32m--> 599\u001b[0;31m                 \u001b[0;32melif\u001b[0m \u001b[0mnp\u001b[0m\u001b[0;34m.\u001b[0m\u001b[0munique\u001b[0m\u001b[0;34m(\u001b[0m\u001b[0mkde_data\u001b[0m\u001b[0;34m)\u001b[0m\u001b[0;34m.\u001b[0m\u001b[0msize\u001b[0m \u001b[0;34m==\u001b[0m \u001b[0;36m1\u001b[0m\u001b[0;34m:\u001b[0m\u001b[0;34m\u001b[0m\u001b[0m\n\u001b[0m\u001b[1;32m    600\u001b[0m                     \u001b[0msupport\u001b[0m\u001b[0;34m.\u001b[0m\u001b[0mappend\u001b[0m\u001b[0;34m(\u001b[0m\u001b[0mnp\u001b[0m\u001b[0;34m.\u001b[0m\u001b[0munique\u001b[0m\u001b[0;34m(\u001b[0m\u001b[0mkde_data\u001b[0m\u001b[0;34m)\u001b[0m\u001b[0;34m)\u001b[0m\u001b[0;34m\u001b[0m\u001b[0m\n\u001b[1;32m    601\u001b[0m                     \u001b[0mdensity\u001b[0m\u001b[0;34m.\u001b[0m\u001b[0mappend\u001b[0m\u001b[0;34m(\u001b[0m\u001b[0mnp\u001b[0m\u001b[0;34m.\u001b[0m\u001b[0marray\u001b[0m\u001b[0;34m(\u001b[0m\u001b[0;34m[\u001b[0m\u001b[0;36m1.\u001b[0m\u001b[0;34m]\u001b[0m\u001b[0;34m)\u001b[0m\u001b[0;34m)\u001b[0m\u001b[0;34m\u001b[0m\u001b[0m\n",
      "\u001b[0;32m/Users/bilalbari/anaconda/lib/python2.7/site-packages/numpy/lib/arraysetops.pyc\u001b[0m in \u001b[0;36munique\u001b[0;34m(ar, return_index, return_inverse, return_counts)\u001b[0m\n\u001b[1;32m    198\u001b[0m         \u001b[0mar\u001b[0m\u001b[0;34m.\u001b[0m\u001b[0msort\u001b[0m\u001b[0;34m(\u001b[0m\u001b[0;34m)\u001b[0m\u001b[0;34m\u001b[0m\u001b[0m\n\u001b[1;32m    199\u001b[0m         \u001b[0maux\u001b[0m \u001b[0;34m=\u001b[0m \u001b[0mar\u001b[0m\u001b[0;34m\u001b[0m\u001b[0m\n\u001b[0;32m--> 200\u001b[0;31m     \u001b[0mflag\u001b[0m \u001b[0;34m=\u001b[0m \u001b[0mnp\u001b[0m\u001b[0;34m.\u001b[0m\u001b[0mconcatenate\u001b[0m\u001b[0;34m(\u001b[0m\u001b[0;34m(\u001b[0m\u001b[0;34m[\u001b[0m\u001b[0mTrue\u001b[0m\u001b[0;34m]\u001b[0m\u001b[0;34m,\u001b[0m \u001b[0maux\u001b[0m\u001b[0;34m[\u001b[0m\u001b[0;36m1\u001b[0m\u001b[0;34m:\u001b[0m\u001b[0;34m]\u001b[0m \u001b[0;34m!=\u001b[0m \u001b[0maux\u001b[0m\u001b[0;34m[\u001b[0m\u001b[0;34m:\u001b[0m\u001b[0;34m-\u001b[0m\u001b[0;36m1\u001b[0m\u001b[0;34m]\u001b[0m\u001b[0;34m)\u001b[0m\u001b[0;34m)\u001b[0m\u001b[0;34m\u001b[0m\u001b[0m\n\u001b[0m\u001b[1;32m    201\u001b[0m \u001b[0;34m\u001b[0m\u001b[0m\n\u001b[1;32m    202\u001b[0m     \u001b[0;32mif\u001b[0m \u001b[0;32mnot\u001b[0m \u001b[0moptional_returns\u001b[0m\u001b[0;34m:\u001b[0m\u001b[0;34m\u001b[0m\u001b[0m\n",
      "\u001b[0;31mValueError\u001b[0m: all the input arrays must have same number of dimensions"
     ]
    }
   ],
   "source": [
    "meanResp_DF = pd.DataFrame(data = [w_all, r_all, w_VISp, r_VISp, w_VISpm, r_VISpm, w_VISl, r_VISl, w_VISal, r_VISal],index=['w_all','r_all','w_VISp','r_VISp','w_VISpm','r_VISpm','w_VISl','r_VISl','w_VISal','r_VISal'])\n",
    "meanResp_DF = meanResp_DF.T\n",
    "ax = seaborn.violinplot(meanResp_DF)\n",
    "ax.set_ylim(-20,90)"
   ]
  },
  {
   "cell_type": "code",
   "execution_count": 106,
   "metadata": {
    "collapsed": false
   },
   "outputs": [
    {
     "name": "stdout",
     "output_type": "stream",
     "text": [
      "Ttest_relResult(statistic=-5.9309910253156968, pvalue=6.1550918087602181e-09)\n",
      "Ttest_relResult(statistic=-3.876274222038087, pvalue=0.00053587221916048312)\n",
      "Ttest_relResult(statistic=-10.339398851495245, pvalue=1.093471784083036e-21)\n",
      "Ttest_relResult(statistic=-2.1710657657241121, pvalue=0.16208951753095432)\n"
     ]
    },
    {
     "data": {
      "text/plain": [
       "<matplotlib.text.Text at 0x13aa6d3d0>"
      ]
     },
     "execution_count": 106,
     "metadata": {},
     "output_type": "execute_result"
    },
    {
     "data": {
      "image/png": "[encoded data removed]",
      "text/plain": [
       "<matplotlib.figure.Figure at 0x1226e9250>"
      ]
     },
     "metadata": {},
     "output_type": "display_data"
    }
   ],
   "source": [
    "print(ttest_rel(w_Cux,r_Cux))\n",
    "print(ttest_rel(w_Rorb,r_Rorb))\n",
    "print(ttest_rel(w_Rbp4,r_Rbp4))\n",
    "print(ttest_rel(w_Scnn1a,r_Scnn1a))\n",
    "\n",
    "fig,ax = plt.subplots(figsize=(8,8))\n",
    "ax.boxplot([w_Cux,r_Cux,w_Rorb,r_Rorb,w_Rbp4,r_Rbp4,w_Scnn1a,r_Scnn1a], \n",
    "    labels=['w_Cux','r_Cux','w_Rorb','r_Rorb','w_Rbp4','r_Rbp4','wScnn1a','r_Scnn1a'])\n",
    "ax.set_ylim(-20,90)\n",
    "ax.set_ylabel('$\\Delta$F/F$_0$ to DG at Optimal TF and Ori')"
   ]
  },
  {
   "cell_type": "code",
   "execution_count": 293,
   "metadata": {
    "collapsed": false
   },
   "outputs": [
    {
     "name": "stdout",
     "output_type": "stream",
     "text": [
      "                            OLS Regression Results                            \n",
      "==============================================================================\n",
      "Dep. Variable:                      y   R-squared:                       0.535\n",
      "Model:                            OLS   Adj. R-squared:                  0.461\n",
      "Method:                 Least Squares   F-statistic:                     7.281\n",
      "Date:                Wed, 31 Aug 2016   Prob (F-statistic):            0.00191\n",
      "Time:                        13:33:34   Log-Likelihood:                -26.025\n",
      "No. Observations:                  23   AIC:                             60.05\n",
      "Df Residuals:                      19   BIC:                             64.59\n",
      "Df Model:                           3                                         \n",
      "Covariance Type:            nonrobust                                         \n",
      "==============================================================================\n",
      "                 coef    std err          t      P>|t|      [95.0% Conf. Int.]\n",
      "------------------------------------------------------------------------------\n",
      "x1             0.2424      0.139      1.739      0.098        -0.049     0.534\n",
      "x2             0.2360      0.149      1.587      0.129        -0.075     0.547\n",
      "x3            -0.0618      0.145     -0.427      0.674        -0.365     0.241\n",
      "const          1.5704      0.633      2.481      0.023         0.245     2.895\n",
      "==============================================================================\n",
      "Omnibus:                        6.904   Durbin-Watson:                   1.905\n",
      "Prob(Omnibus):                  0.032   Jarque-Bera (JB):                4.708\n",
      "Skew:                          -0.849   Prob(JB):                       0.0950\n",
      "Kurtosis:                       4.426   Cond. No.                         38.6\n",
      "==============================================================================\n",
      "\n",
      "Warnings:\n",
      "[1] Standard Errors assume that the covariance matrix of the errors is correctly specified.\n"
     ]
    }
   ],
   "source": [
    "from sklearn import linear_model\n",
    "clf = linear_model.LinearRegression()\n",
    "# clf.fit([[getattr(t, 'x%d' % i) for i in range(1, 8)] for t in texts],\n",
    "#         [t.y for t in texts])\n",
    "\n",
    "y = [1,2,34,5]\n",
    "x = [[1,1,2,1]]\n",
    "# clf.fit([x],[y])\n",
    "# clf.coef_\n",
    "\n",
    "\n",
    "import statsmodels.api as sm\n",
    "\n",
    "y = [1,2,3,4,3,4,5,4,5,5,4,5,4,5,4,5,6,5,4,5,4,3,4]\n",
    "\n",
    "x = [\n",
    "     [4,2,3,4,5,4,5,6,7,4,8,9,8,8,6,6,5,5,5,5,5,5,5],\n",
    "     [4,1,2,3,4,5,6,7,5,8,7,8,7,8,7,8,7,7,7,7,7,6,5],\n",
    "     [4,1,2,5,6,7,8,9,7,8,7,8,7,7,7,7,7,7,6,6,4,4,4]\n",
    "     ]\n",
    "\n",
    "def reg_m(y, x):\n",
    "    ones = np.ones(len(x[0]))\n",
    "    X = sm.add_constant(np.column_stack((x[0], ones)))\n",
    "    for ele in x[1:]:\n",
    "        X = sm.add_constant(np.column_stack((ele, X)))\n",
    "    results = sm.OLS(y, X).fit()\n",
    "    return results\n",
    "\n",
    "print reg_m(y, x).summary()"
   ]
  },
  {
   "cell_type": "code",
   "execution_count": 278,
   "metadata": {
    "collapsed": false
   },
   "outputs": [
    {
     "name": "stdout",
     "output_type": "stream",
     "text": [
      "wtf\n"
     ]
    },
    {
     "name": "stderr",
     "output_type": "stream",
     "text": [
      "/Users/bilalbari/anaconda/lib/python2.7/site-packages/ipykernel/__main__.py:6: VisibleDeprecationWarning: boolean index did not match indexed array along dimension 1; dimension is 115476 but corresponding boolean dimension is 115477\n"
     ]
    }
   ],
   "source": [
    "# print reg_m(dF[0], rSpd)\n",
    "rSpd, _ = exp.get_running_speed()\n",
    "_, dF = exp.get_dff_traces()\n",
    "nanMask = ~np.isnan(rSpd)\n",
    "rSpd = rSpd[nanMask]\n",
    "dF = dF[:,nanMask]"
   ]
  },
  {
   "cell_type": "code",
   "execution_count": 314,
   "metadata": {
    "collapsed": false
   },
   "outputs": [
    {
     "name": "stdout",
     "output_type": "stream",
     "text": [
      "                            OLS Regression Results                            \n",
      "==============================================================================\n",
      "Dep. Variable:                      y   R-squared:                       0.000\n",
      "Model:                            OLS   Adj. R-squared:                 -0.000\n",
      "Method:                 Least Squares   F-statistic:                    0.5573\n",
      "Date:                Wed, 31 Aug 2016   Prob (F-statistic):              0.455\n",
      "Time:                        13:47:58   Log-Likelihood:             1.4178e+05\n",
      "No. Observations:              115168   AIC:                        -2.836e+05\n",
      "Df Residuals:                  115166   BIC:                        -2.835e+05\n",
      "Df Model:                           1                                         \n",
      "Covariance Type:            nonrobust                                         \n",
      "==============================================================================\n",
      "                 coef    std err          t      P>|t|      [95.0% Conf. Int.]\n",
      "------------------------------------------------------------------------------\n",
      "x1         -7.854e-05      0.000     -0.746      0.455        -0.000     0.000\n",
      "const          0.0085      0.000     40.686      0.000         0.008     0.009\n",
      "==============================================================================\n",
      "Omnibus:                    84606.906   Durbin-Watson:                   0.775\n",
      "Prob(Omnibus):                  0.000   Jarque-Bera (JB):          4244671.278\n",
      "Skew:                           3.033   Prob(JB):                         0.00\n",
      "Kurtosis:                      32.116   Cond. No.                         1.98\n",
      "==============================================================================\n",
      "\n",
      "Warnings:\n",
      "[1] Standard Errors assume that the covariance matrix of the errors is correctly specified.\n"
     ]
    }
   ],
   "source": [
    "print reg_m(dF[0],[rSpd_Matx[30]]).summary()\n",
    "# print len(rSpd_Matx[1]), len(dF[0])"
   ]
  },
  {
   "cell_type": "code",
   "execution_count": 349,
   "metadata": {
    "collapsed": false,
    "scrolled": false
   },
   "outputs": [
    {
     "name": "stdout",
     "output_type": "stream",
     "text": [
      "-0.00046\n",
      "0.00031\n",
      "-0.00013\n",
      "-0.00021\n",
      "-0.00008\n",
      "0.00012\n",
      "-0.00028\n",
      "-0.00031\n",
      "0.00021\n",
      "0.00323\n",
      "0.00004\n",
      "0.00095\n",
      "0.00054\n",
      "0.00117\n",
      "0.00002\n",
      "0.00736\n",
      "-0.00008\n",
      "0.00037\n"
     ]
    },
    {
     "ename": "KeyboardInterrupt",
     "evalue": "",
     "output_type": "error",
     "traceback": [
      "\u001b[0;31m---------------------------------------------------------------------------\u001b[0m",
      "\u001b[0;31mKeyboardInterrupt\u001b[0m                         Traceback (most recent call last)",
      "\u001b[0;32m<ipython-input-349-9ee7f8b8a4a2>\u001b[0m in \u001b[0;36m<module>\u001b[0;34m()\u001b[0m\n\u001b[1;32m     29\u001b[0m                         \u001b[0;34m\"x16 + x17 + x18 + x19 + x20 + x21 + x22 + x23 + x24 + x25 + x26 + x28 + x29 + x30 + x31 + \"\u001b[0m\u001b[0;34m\u001b[0m\u001b[0m\n\u001b[1;32m     30\u001b[0m                         \u001b[0;34m\"x32 + x33 + x34 + x35 + x36 + x37 + x38 + x39 + x40 + x41 + x42 + x43 + x44 + x45 + x46 + \"\u001b[0m\u001b[0;34m\u001b[0m\u001b[0m\n\u001b[0;32m---> 31\u001b[0;31m                         \"x47 + x48 + x49 + x50 + x51 + x52 + x53 + x54 + x55 + x56 + x57 + x58 + x59\", data).fit()\n\u001b[0m\u001b[1;32m     32\u001b[0m     \u001b[0;32mprint\u001b[0m\u001b[0;34m(\u001b[0m\u001b[0;34m\"%.5f\"\u001b[0m \u001b[0;34m%\u001b[0m\u001b[0;34m(\u001b[0m\u001b[0mmodel\u001b[0m\u001b[0;34m.\u001b[0m\u001b[0mrsquared_adj\u001b[0m\u001b[0;34m)\u001b[0m\u001b[0;34m)\u001b[0m\u001b[0;34m\u001b[0m\u001b[0m\n",
      "\u001b[0;32m/Users/bilalbari/anaconda/lib/python2.7/site-packages/statsmodels/regression/linear_model.py\u001b[0m in \u001b[0;36mfit\u001b[0;34m(self, method, cov_type, cov_kwds, use_t, **kwargs)\u001b[0m\n\u001b[1;32m    172\u001b[0m                 (not hasattr(self, 'rank'))):\n\u001b[1;32m    173\u001b[0m \u001b[0;34m\u001b[0m\u001b[0m\n\u001b[0;32m--> 174\u001b[0;31m                 \u001b[0mself\u001b[0m\u001b[0;34m.\u001b[0m\u001b[0mpinv_wexog\u001b[0m\u001b[0;34m,\u001b[0m \u001b[0msingular_values\u001b[0m \u001b[0;34m=\u001b[0m \u001b[0mpinv_extended\u001b[0m\u001b[0;34m(\u001b[0m\u001b[0mself\u001b[0m\u001b[0;34m.\u001b[0m\u001b[0mwexog\u001b[0m\u001b[0;34m)\u001b[0m\u001b[0;34m\u001b[0m\u001b[0m\n\u001b[0m\u001b[1;32m    175\u001b[0m                 self.normalized_cov_params = np.dot(self.pinv_wexog,\n\u001b[1;32m    176\u001b[0m                                         np.transpose(self.pinv_wexog))\n",
      "\u001b[0;32m/Users/bilalbari/anaconda/lib/python2.7/site-packages/statsmodels/tools/tools.pyc\u001b[0m in \u001b[0;36mpinv_extended\u001b[0;34m(X, rcond)\u001b[0m\n\u001b[1;32m    390\u001b[0m     \u001b[0mX\u001b[0m \u001b[0;34m=\u001b[0m \u001b[0mnp\u001b[0m\u001b[0;34m.\u001b[0m\u001b[0masarray\u001b[0m\u001b[0;34m(\u001b[0m\u001b[0mX\u001b[0m\u001b[0;34m)\u001b[0m\u001b[0;34m\u001b[0m\u001b[0m\n\u001b[1;32m    391\u001b[0m     \u001b[0mX\u001b[0m \u001b[0;34m=\u001b[0m \u001b[0mX\u001b[0m\u001b[0;34m.\u001b[0m\u001b[0mconjugate\u001b[0m\u001b[0;34m(\u001b[0m\u001b[0;34m)\u001b[0m\u001b[0;34m\u001b[0m\u001b[0m\n\u001b[0;32m--> 392\u001b[0;31m     \u001b[0mu\u001b[0m\u001b[0;34m,\u001b[0m \u001b[0ms\u001b[0m\u001b[0;34m,\u001b[0m \u001b[0mvt\u001b[0m \u001b[0;34m=\u001b[0m \u001b[0mnp\u001b[0m\u001b[0;34m.\u001b[0m\u001b[0mlinalg\u001b[0m\u001b[0;34m.\u001b[0m\u001b[0msvd\u001b[0m\u001b[0;34m(\u001b[0m\u001b[0mX\u001b[0m\u001b[0;34m,\u001b[0m \u001b[0;36m0\u001b[0m\u001b[0;34m)\u001b[0m\u001b[0;34m\u001b[0m\u001b[0m\n\u001b[0m\u001b[1;32m    393\u001b[0m     \u001b[0ms_orig\u001b[0m \u001b[0;34m=\u001b[0m \u001b[0mnp\u001b[0m\u001b[0;34m.\u001b[0m\u001b[0mcopy\u001b[0m\u001b[0;34m(\u001b[0m\u001b[0ms\u001b[0m\u001b[0;34m)\u001b[0m\u001b[0;34m\u001b[0m\u001b[0m\n\u001b[1;32m    394\u001b[0m     \u001b[0mm\u001b[0m \u001b[0;34m=\u001b[0m \u001b[0mu\u001b[0m\u001b[0;34m.\u001b[0m\u001b[0mshape\u001b[0m\u001b[0;34m[\u001b[0m\u001b[0;36m0\u001b[0m\u001b[0;34m]\u001b[0m\u001b[0;34m\u001b[0m\u001b[0m\n",
      "\u001b[0;32m/Users/bilalbari/anaconda/lib/python2.7/site-packages/numpy/linalg/linalg.pyc\u001b[0m in \u001b[0;36msvd\u001b[0;34m(a, full_matrices, compute_uv)\u001b[0m\n\u001b[1;32m   1357\u001b[0m \u001b[0;34m\u001b[0m\u001b[0m\n\u001b[1;32m   1358\u001b[0m         \u001b[0msignature\u001b[0m \u001b[0;34m=\u001b[0m \u001b[0;34m'D->DdD'\u001b[0m \u001b[0;32mif\u001b[0m \u001b[0misComplexType\u001b[0m\u001b[0;34m(\u001b[0m\u001b[0mt\u001b[0m\u001b[0;34m)\u001b[0m \u001b[0;32melse\u001b[0m \u001b[0;34m'd->ddd'\u001b[0m\u001b[0;34m\u001b[0m\u001b[0m\n\u001b[0;32m-> 1359\u001b[0;31m         \u001b[0mu\u001b[0m\u001b[0;34m,\u001b[0m \u001b[0ms\u001b[0m\u001b[0;34m,\u001b[0m \u001b[0mvt\u001b[0m \u001b[0;34m=\u001b[0m \u001b[0mgufunc\u001b[0m\u001b[0;34m(\u001b[0m\u001b[0ma\u001b[0m\u001b[0;34m,\u001b[0m \u001b[0msignature\u001b[0m\u001b[0;34m=\u001b[0m\u001b[0msignature\u001b[0m\u001b[0;34m,\u001b[0m \u001b[0mextobj\u001b[0m\u001b[0;34m=\u001b[0m\u001b[0mextobj\u001b[0m\u001b[0;34m)\u001b[0m\u001b[0;34m\u001b[0m\u001b[0m\n\u001b[0m\u001b[1;32m   1360\u001b[0m         \u001b[0mu\u001b[0m \u001b[0;34m=\u001b[0m \u001b[0mu\u001b[0m\u001b[0;34m.\u001b[0m\u001b[0mastype\u001b[0m\u001b[0;34m(\u001b[0m\u001b[0mresult_t\u001b[0m\u001b[0;34m,\u001b[0m \u001b[0mcopy\u001b[0m\u001b[0;34m=\u001b[0m\u001b[0mFalse\u001b[0m\u001b[0;34m)\u001b[0m\u001b[0;34m\u001b[0m\u001b[0m\n\u001b[1;32m   1361\u001b[0m         \u001b[0ms\u001b[0m \u001b[0;34m=\u001b[0m \u001b[0ms\u001b[0m\u001b[0;34m.\u001b[0m\u001b[0mastype\u001b[0m\u001b[0;34m(\u001b[0m\u001b[0m_realType\u001b[0m\u001b[0;34m(\u001b[0m\u001b[0mresult_t\u001b[0m\u001b[0;34m)\u001b[0m\u001b[0;34m,\u001b[0m \u001b[0mcopy\u001b[0m\u001b[0;34m=\u001b[0m\u001b[0mFalse\u001b[0m\u001b[0;34m)\u001b[0m\u001b[0;34m\u001b[0m\u001b[0m\n",
      "\u001b[0;31mKeyboardInterrupt\u001b[0m: "
     ]
    }
   ],
   "source": [
    "from statsmodels.formula.api import ols\n",
    "\n",
    "rSpd_Matx = []\n",
    "for i in np.arange(-30,30):\n",
    "    if i < 0:\n",
    "        rSpd_Matx.append(np.append(np.empty(abs(i))*np.nan,rSpd[:i]))\n",
    "    elif i == 0:\n",
    "        rSpd_Matx.append(rSpd)\n",
    "    elif i > 0:\n",
    "        rSpd_Matx.append(np.append(rSpd[i:],np.empty(i)*np.nan))\n",
    "\n",
    "for i in range(50,100):\n",
    "    data = pd.DataFrame({'x0':  rSpd_Matx[ 0],  'x1': rSpd_Matx[ 1],  'x2': rSpd_Matx[ 2],  'x3': rSpd_Matx[ 3],  'x4': rSpd_Matx[ 4], \n",
    "                         'x5':  rSpd_Matx[ 5],  'x6': rSpd_Matx[ 6],  'x7': rSpd_Matx[ 7],  'x8': rSpd_Matx[ 8],  'x9': rSpd_Matx[ 9], \n",
    "                         'x10': rSpd_Matx[10], 'x11': rSpd_Matx[11], 'x12': rSpd_Matx[12], 'x13': rSpd_Matx[13], 'x14': rSpd_Matx[14], \n",
    "                         'x15': rSpd_Matx[15], 'x16': rSpd_Matx[16], 'x17': rSpd_Matx[17], 'x18': rSpd_Matx[18], 'x19': rSpd_Matx[19], \n",
    "                         'x20': rSpd_Matx[20], 'x21': rSpd_Matx[21], 'x22': rSpd_Matx[22], 'x23': rSpd_Matx[23], 'x24': rSpd_Matx[24], \n",
    "                         'x25': rSpd_Matx[25], 'x26': rSpd_Matx[26], 'x27': rSpd_Matx[27], 'x28': rSpd_Matx[28], 'x29': rSpd_Matx[29], \n",
    "                         'x30': rSpd_Matx[30], 'x31': rSpd_Matx[31], 'x32': rSpd_Matx[32], 'x33': rSpd_Matx[33], 'x34': rSpd_Matx[34], \n",
    "                         'x35': rSpd_Matx[35], 'x36': rSpd_Matx[36], 'x37': rSpd_Matx[37], 'x38': rSpd_Matx[38], 'x39': rSpd_Matx[39], \n",
    "                         'x40': rSpd_Matx[40], 'x41': rSpd_Matx[41], 'x42': rSpd_Matx[42], 'x43': rSpd_Matx[43], 'x44': rSpd_Matx[44], \n",
    "                         'x45': rSpd_Matx[45], 'x46': rSpd_Matx[46], 'x47': rSpd_Matx[47], 'x48': rSpd_Matx[48], 'x49': rSpd_Matx[49], \n",
    "                         'x50': rSpd_Matx[50], 'x51': rSpd_Matx[51], 'x52': rSpd_Matx[52], 'x53': rSpd_Matx[53], 'x54': rSpd_Matx[54], \n",
    "                         'x55': rSpd_Matx[55], 'x56': rSpd_Matx[56], 'x57': rSpd_Matx[57], 'x58': rSpd_Matx[58], 'x59': rSpd_Matx[59],\n",
    "                           'y': dF[i]})                   \n",
    "\n",
    "    # data = pd.DataFrame({'x1': rSpd, 'x2': rSpd_Matx[1], 'y': dF[0]})\n",
    "    model = model = ols(\"y ~ x0 + x1 + x2 + x3 + x4 + x5 + x6 + x7 + x8 + x9 + x10 + x11 + x12 + x13 + x14 + x15 + \"\n",
    "                        \"x16 + x17 + x18 + x19 + x20 + x21 + x22 + x23 + x24 + x25 + x26 + x28 + x29 + x30 + x31 + \"\n",
    "                        \"x32 + x33 + x34 + x35 + x36 + x37 + x38 + x39 + x40 + x41 + x42 + x43 + x44 + x45 + x46 + \"\n",
    "                        \"x47 + x48 + x49 + x50 + x51 + x52 + x53 + x54 + x55 + x56 + x57 + x58 + x59\", data).fit()\n",
    "    print(\"%.5f\" %(model.rsquared_adj))"
   ]
  },
  {
   "cell_type": "code",
   "execution_count": 324,
   "metadata": {
    "collapsed": false
   },
   "outputs": [
    {
     "ename": "IndexError",
     "evalue": "list index out of range",
     "output_type": "error",
     "traceback": [
      "\u001b[0;31m---------------------------------------------------------------------------\u001b[0m",
      "\u001b[0;31mIndexError\u001b[0m                                Traceback (most recent call last)",
      "\u001b[0;32m<ipython-input-324-ad821870f6f5>\u001b[0m in \u001b[0;36m<module>\u001b[0;34m()\u001b[0m\n\u001b[0;32m----> 1\u001b[0;31m \u001b[0mrSpd_Matx\u001b[0m\u001b[0;34m[\u001b[0m\u001b[0;36m60\u001b[0m\u001b[0;34m]\u001b[0m\u001b[0;34m\u001b[0m\u001b[0m\n\u001b[0m",
      "\u001b[0;31mIndexError\u001b[0m: list index out of range"
     ]
    }
   ],
   "source": []
  },
  {
   "cell_type": "code",
   "execution_count": null,
   "metadata": {
    "collapsed": true
   },
   "outputs": [],
   "source": []
  }
 ],
 "metadata": {
  "anaconda-cloud": {},
  "kernelspec": {
   "display_name": "Python [Root]",
   "language": "python",
   "name": "Python [Root]"
  },
  "language_info": {
   "codemirror_mode": {
    "name": "ipython",
    "version": 2
   },
   "file_extension": ".py",
   "mimetype": "text/x-python",
   "name": "python",
   "nbconvert_exporter": "python",
   "pygments_lexer": "ipython2",
   "version": "2.7.12"
  }
 },
 "nbformat": 4,
 "nbformat_minor": 0
}
