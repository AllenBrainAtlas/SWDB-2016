{
 "cells": [
  {
   "cell_type": "code",
   "execution_count": null,
   "metadata": {
    "collapsed": true
   },
   "outputs": [],
   "source": [
    "import h5py\n",
    "import pandas as pd\n",
    "\n",
    "#this loads the response array and the peak dataframe from the analysis file\n",
    "path = r'/Volumes/Brain2016/BrainObservatory/ophys_analysis/496908818_three_session_B_analysis.h5'\n",
    "\n",
    "#use this to load numpy arrays\n",
    "f = h5py.File(path, 'r')\n",
    "response = f['analysis']['response_ns'].value\n",
    "f.close()\n",
    "\n",
    "#use this to load pandas dataframes\n",
    "sweep_response = pd.read_hdf(path, 'analysis/sweep_response_ns')\n",
    "mean_sweep_response = pd.read_hdf(path, 'analysis/mean_sweep_response_ns')"
   ]
  }
 ],
 "metadata": {
  "anaconda-cloud": {},
  "kernelspec": {
   "display_name": "Python [Root]",
   "language": "python",
   "name": "Python [Root]"
  },
  "language_info": {
   "codemirror_mode": {
    "name": "ipython",
    "version": 2
   },
   "file_extension": ".py",
   "mimetype": "text/x-python",
   "name": "python",
   "nbconvert_exporter": "python",
   "pygments_lexer": "ipython2",
   "version": "2.7.12"
  }
 },
 "nbformat": 4,
 "nbformat_minor": 0
}
