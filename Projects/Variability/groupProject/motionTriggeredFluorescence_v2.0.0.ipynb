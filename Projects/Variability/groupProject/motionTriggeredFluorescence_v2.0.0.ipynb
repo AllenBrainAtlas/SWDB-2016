{
 "cells": [
  {
   "cell_type": "code",
   "execution_count": 159,
   "metadata": {
    "collapsed": false
   },
   "outputs": [
    {
     "name": "stdout",
     "output_type": "stream",
     "text": [
      "Using matplotlib backend: MacOSX\n"
     ]
    }
   ],
   "source": [
    "drive_path = '/Volumes/Brain2016'\n",
    "# We need to import these modules to get started\n",
    "import numpy as np\n",
    "import pandas as pd\n",
    "import os\n",
    "import sys\n",
    "from scipy.stats.stats import pearsonr\n",
    "from scipy.stats import ttest_rel\n",
    "# from scipy import signal\n",
    "from statsmodels.formula.api import ols\n",
    "import matplotlib.pyplot as plt\n",
    "%matplotlib\n",
    "from allensdk.core.brain_observatory_cache import BrainObservatoryCache\n",
    "# from allensdk.brain_observatory.drifting_gratings import DriftingGratings\n",
    "import seaborn\n",
    "import h5py\n",
    "\n",
    "manifest_path = os.path.join(drive_path,'BrainObservatory','manifest.json')\n",
    "boc = BrainObservatoryCache(manifest_file=manifest_path)\n",
    "expMetaData = pd.DataFrame(boc.get_ophys_experiments())\n",
    "cells = pd.DataFrame.from_records(boc.get_cell_specimens())\n",
    "pearCor_DF = pd.DataFrame.from_csv('pearCor_DF.csv',sep=',')\n",
    "runLen_DF = pd.read_csv('runHistograms/runLen_DF', delimiter='\\t')\n",
    "runLen_DF.drop('Unnamed: 0',1,inplace=True)\n",
    "\n",
    "runCor_DF = pd.concat([pearCor_DF, runLen_DF], axis=1, join_axes=[runLen_DF.expID.index])\n",
    "runCor_DF = pd.DataFrame.drop_duplicates(runCor_DF.T).T\n",
    "runCor_DF.head()\n",
    "\n",
    "for ind in runCor_DF.index:\n",
    "    tmp = runCor_DF.iloc[ind].cell_pear_r\n",
    "    runCor_DF.iloc[ind].cell_pear_r = [float(i.translate(None,'[]')) for i in tmp.split(',')]"
   ]
  },
  {
   "cell_type": "code",
   "execution_count": 247,
   "metadata": {
    "collapsed": false
   },
   "outputs": [
    {
     "data": {
      "text/plain": [
       "286"
      ]
     },
     "execution_count": 247,
     "metadata": {},
     "output_type": "execute_result"
    }
   ],
   "source": [
    "np.sum(np.asarray(np.hstack(runCor_DF.cell_pear_r)) > .2)"
   ]
  },
  {
   "cell_type": "code",
   "execution_count": 139,
   "metadata": {
    "collapsed": false
   },
   "outputs": [
    {
     "data": {
      "text/plain": [
       "(237,)"
      ]
     },
     "execution_count": 139,
     "metadata": {},
     "output_type": "execute_result"
    }
   ],
   "source": []
  },
  {
   "cell_type": "markdown",
   "metadata": {},
   "source": [
    "# Load Data"
   ]
  },
  {
   "cell_type": "code",
   "execution_count": 117,
   "metadata": {
    "collapsed": false
   },
   "outputs": [
    {
     "name": "stderr",
     "output_type": "stream",
     "text": [
      "/Users/bilalbari/anaconda/lib/python2.7/site-packages/ipykernel/__main__.py:10: VisibleDeprecationWarning: boolean index did not match indexed array along dimension 1; dimension is 115732 but corresponding boolean dimension is 115733\n"
     ]
    }
   ],
   "source": [
    "expContainerID = expMetaData.id[6]\n",
    "# expContainerID = 501940850\n",
    "exp = boc.get_ophys_experiment_data(ophys_experiment_id = expContainerID)\n",
    "rSpd, _ = exp.get_running_speed()\n",
    "_, dF = exp.get_dff_traces()\n",
    "\n",
    "nanMask = ~np.isnan(rSpd)\n",
    "rSpd = rSpd[nanMask]\n",
    "rSpd = abs(rSpd)\n",
    "dF = dF[:,nanMask]"
   ]
  },
  {
   "cell_type": "markdown",
   "metadata": {},
   "source": [
    "# Motion-Triggered Fluorescence"
   ]
  },
  {
   "cell_type": "code",
   "execution_count": 229,
   "metadata": {
    "collapsed": false
   },
   "outputs": [],
   "source": [
    "tmp = np.hstack(runCor_DF.cell_pear_r)\n",
    "i = 5\n",
    "while np.size(np.where(np.greater(runCor_DF.cell_pear_r[i],0.4))) == 0:\n",
    "    i += 1\n",
    "cell = np.where(np.greater(runCor_DF.cell_pear_r[i],0.4))[0][0]\n",
    "\n",
    "expContainerID = runCor_DF.iloc[i].expID\n",
    "\n",
    "exp = boc.get_ophys_experiment_data(ophys_experiment_id = expContainerID)\n",
    "rSpd, t_rSpd = exp.get_running_speed()\n",
    "t_dF, dF = exp.get_dff_traces()\n",
    "\n",
    "nanMask = ~np.isnan(rSpd)\n",
    "rSpd = rSpd[nanMask]\n",
    "rSpd = abs(rSpd)\n",
    "dF = dF[:,nanMask]"
   ]
  },
  {
   "cell_type": "code",
   "execution_count": 233,
   "metadata": {
    "collapsed": false
   },
   "outputs": [
    {
     "data": {
      "text/plain": [
       "149"
      ]
     },
     "execution_count": 233,
     "metadata": {},
     "output_type": "execute_result"
    }
   ],
   "source": [
    "cell"
   ]
  },
  {
   "cell_type": "markdown",
   "metadata": {},
   "source": [
    "## Motion Detection Algorithm"
   ]
  },
  {
   "cell_type": "code",
   "execution_count": 234,
   "metadata": {
    "collapsed": false
   },
   "outputs": [],
   "source": [
    "rThresh = 10\n",
    "runStart = np.where(rSpd > rThresh); runStart = runStart[0];\n",
    "\n",
    "firstInd = 0\n",
    "secondInd = 1\n",
    "runBouts = []\n",
    "while secondInd < len(runStart):\n",
    "    runEndFound = False\n",
    "    if (runStart[secondInd] - runStart[firstInd]) <= 30: # run lengths < 1s long\n",
    "        secondInd += 1\n",
    "    elif (runStart[secondInd] - runStart[firstInd]) <= 60: # an appropriately long run bout\n",
    "        iterInd1 = secondInd\n",
    "        iterInd2 = iterInd1 + 1\n",
    "        while ~runEndFound:\n",
    "            if iterInd2 == len(runStart):\n",
    "                runEndFound = True\n",
    "                secondInd = iterInd2 + 1\n",
    "                break\n",
    "            if (runStart[iterInd2] - runStart[iterInd1]) <= 30:\n",
    "                iterInd2 += 1\n",
    "            elif (runStart[iterInd2] - runStart[iterInd1]) <= 60:\n",
    "                iterInd1 = iterInd2 - 1\n",
    "                iterInd2 += 1\n",
    "            else:\n",
    "                runEndFound = True\n",
    "                runBouts.append(runStart[firstInd])\n",
    "                firstInd = iterInd2\n",
    "                secondInd = iterInd2 + 1\n",
    "                break\n",
    "    else:\n",
    "        firstInd = secondInd \n",
    "        secondInd += 1"
   ]
  },
  {
   "cell_type": "markdown",
   "metadata": {},
   "source": [
    "### Plot Motion Detection"
   ]
  },
  {
   "cell_type": "code",
   "execution_count": 235,
   "metadata": {
    "collapsed": false
   },
   "outputs": [
    {
     "name": "stdout",
     "output_type": "stream",
     "text": [
      "72\n"
     ]
    },
    {
     "data": {
      "text/plain": [
       "(0, 50)"
      ]
     },
     "execution_count": 235,
     "metadata": {},
     "output_type": "execute_result"
    }
   ],
   "source": [
    "fig,ax = plt.subplots()\n",
    "print(len(runBouts))\n",
    "ax.plot(rSpd,alpha = 0.7)\n",
    "ax.scatter(runBouts,np.ones(len(runBouts))*rThresh,s=50,c='red')\n",
    "ax.set_xlim(0, 50000)\n",
    "ax.set_ylim(0, 50)"
   ]
  },
  {
   "cell_type": "code",
   "execution_count": 236,
   "metadata": {
    "collapsed": false
   },
   "outputs": [],
   "source": [
    "locDF = pd.DataFrame(index=np.arange(len(runBouts)),columns=np.arange(dF.shape[0])) # runBouts, cellNum + 1 locomotion\n",
    "for cell in range(dF.shape[0]):\n",
    "    for locOnset in runBouts:\n",
    "        locDF.loc[np.where(runBouts == locOnset)[0][0],cell] = dF[cell][locOnset-90:locOnset+90]\n",
    "        \n",
    "locDF['dx'] = ''\n",
    "for locOnset in runBouts:\n",
    "    locDF.loc[np.where(runBouts == locOnset)[0][0],'dx'] = rSpd[locOnset-90:locOnset+90]"
   ]
  },
  {
   "cell_type": "code",
   "execution_count": 237,
   "metadata": {
    "collapsed": false
   },
   "outputs": [
    {
     "data": {
      "text/plain": [
       "(-0.5, 1.5)"
      ]
     },
     "execution_count": 237,
     "metadata": {},
     "output_type": "execute_result"
    }
   ],
   "source": [
    "fig,ax = plt.subplots(nrows = 3)\n",
    "ax[0].plot(locDF.loc[:,'dx'].mean(),label='Running Speed (cm/s)')\n",
    "ax[1].plot(locDF.loc[:,37].mean(),label='$\\Delta$F/F$_0$')\n",
    "ax[2].errorbar(x = 0, y = locDF.loc[:,37].mean()[:90].mean(), yerr = locDF.loc[:,37].mean()[:90].std()/np.sqrt(locDF.shape[0]),label=\"Mean Pre-Run $\\Delta$F/F$_0$\")\n",
    "ax[2].errorbar(x = 1, y = locDF.loc[:,37].mean()[90:].mean(), yerr = locDF.loc[:,37].mean()[90:].std()/np.sqrt(locDF.shape[0]),label=\"Mean Post-Run $\\Delta$F/F$_0$\")\n",
    "for currAx in ax:\n",
    "    currAx.legend(loc='best',fontsize=12)\n",
    "ax[2].set_xlim(-0.5, 1.5)"
   ]
  },
  {
   "cell_type": "markdown",
   "metadata": {},
   "source": [
    "# Analyse All Data"
   ]
  },
  {
   "cell_type": "code",
   "execution_count": null,
   "metadata": {
    "collapsed": false
   },
   "outputs": [],
   "source": []
  },
  {
   "cell_type": "code",
   "execution_count": 333,
   "metadata": {
    "collapsed": false
   },
   "outputs": [
    {
     "name": "stdout",
     "output_type": "stream",
     "text": [
      "expContainerID: 502066273\n",
      "expContainerID: 506278598\n",
      "expContainerID: 510529677\n",
      "expContainerID: 504614224\n",
      "expContainerID: 501724959\n",
      "expContainerID: 506156402\n",
      "expContainerID: 508366303\n",
      "expContainerID: 510093797\n",
      "expContainerID: 507990552\n",
      "expContainerID: 508596945\n",
      "expContainerID: 507464107\n",
      "expContainerID: 501929146\n",
      "expContainerID: 510536157\n",
      "expContainerID: 507881529\n",
      "expContainerID: 509729072\n",
      "expContainerID: 507945410\n",
      "expContainerID: 510221121\n",
      "expContainerID: 503019786\n",
      "expContainerID: 508753256\n",
      "expContainerID: 509799475\n",
      "expContainerID: 501254258\n",
      "expContainerID: 496934409\n",
      "expContainerID: 506773892\n",
      "expContainerID: 501794235\n",
      "expContainerID: 505696248\n",
      "expContainerID: 504101079\n",
      "expContainerID: 501940850\n",
      "expContainerID: 504508104\n",
      "expContainerID: 507691036\n",
      "expContainerID: 502741583\n",
      "expContainerID: 505695962\n",
      "expContainerID: 501729039\n",
      "expContainerID: 501498760\n",
      "expContainerID: 496935917\n",
      "expContainerID: 505198966\n",
      "expContainerID: 512149367\n",
      "expContainerID: 501474098\n",
      "expContainerID: 501021421\n",
      "expContainerID: 508605827\n",
      "expContainerID: 506353473\n"
     ]
    },
    {
     "name": "stderr",
     "output_type": "stream",
     "text": [
      "/Users/bilalbari/anaconda/lib/python2.7/site-packages/ipykernel/__main__.py:20: VisibleDeprecationWarning: boolean index did not match indexed array along dimension 1; dimension is 105734 but corresponding boolean dimension is 105735\n"
     ]
    },
    {
     "name": "stdout",
     "output_type": "stream",
     "text": [
      "expContainerID: 511856569\n",
      "expContainerID: 503820068\n",
      "expContainerID: 502115959\n",
      "expContainerID: 509295073\n",
      "expContainerID: 510518066\n",
      "expContainerID: 508408956\n",
      "expContainerID: 497060401\n",
      "expContainerID: 504115289\n",
      "expContainerID: 508378520\n",
      "expContainerID: 506074436\n",
      "expContainerID: 502667200\n",
      "expContainerID: 509737584\n",
      "expContainerID: 510517609\n"
     ]
    },
    {
     "name": "stderr",
     "output_type": "stream",
     "text": [
      "/Users/bilalbari/anaconda/lib/python2.7/site-packages/ipykernel/__main__.py:20: VisibleDeprecationWarning: boolean index did not match indexed array along dimension 1; dimension is 113862 but corresponding boolean dimension is 113863\n"
     ]
    },
    {
     "name": "stdout",
     "output_type": "stream",
     "text": [
      "expContainerID: 510705057\n",
      "expContainerID: 511573879\n",
      "expContainerID: 501490610\n",
      "expContainerID: 497256116\n",
      "expContainerID: 505407318\n",
      "expContainerID: 501933264\n",
      "expContainerID: 500947031\n",
      "expContainerID: 510917254\n",
      "expContainerID: 505693621\n",
      "expContainerID: 506954308\n",
      "expContainerID: 500860585\n",
      "expContainerID: 501567237\n",
      "expContainerID: 501717543\n",
      "expContainerID: 501484643\n",
      "expContainerID: 511440894\n",
      "expContainerID: 506356888\n",
      "expContainerID: 506539927\n",
      "expContainerID: 510938357\n",
      "expContainerID: 512176430\n",
      "expContainerID: 501886692\n",
      "expContainerID: 510524416\n",
      "expContainerID: 510699005\n",
      "expContainerID: 506248008\n",
      "expContainerID: 511434920\n",
      "expContainerID: 502810282\n",
      "expContainerID: 506030579\n",
      "expContainerID: 501132496\n",
      "expContainerID: 509881188\n",
      "expContainerID: 504642019\n",
      "expContainerID: 511305590\n",
      "expContainerID: 506809539\n",
      "expContainerID: 510532780\n",
      "expContainerID: 502526200\n",
      "expContainerID: 512311673\n",
      "expContainerID: 504639393\n",
      "expContainerID: 501567645\n",
      "expContainerID: 502205092\n",
      "expContainerID: 502382906\n",
      "expContainerID: 507691476\n",
      "expContainerID: 510933273\n",
      "expContainerID: 502665019\n",
      "expContainerID: 509594862\n",
      "expContainerID: 511458874\n",
      "expContainerID: 503526711\n",
      "expContainerID: 510536059\n",
      "expContainerID: 501337989\n",
      "expContainerID: 505801925\n",
      "expContainerID: 510656082\n",
      "expContainerID: 503866276\n",
      "expContainerID: 510698988\n",
      "expContainerID: 509958730\n",
      "expContainerID: 511242327\n",
      "expContainerID: 508220632\n",
      "expContainerID: 511976254\n",
      "expContainerID: 509879179\n",
      "expContainerID: 511194579\n",
      "expContainerID: 509580400\n",
      "expContainerID: 503412730\n",
      "expContainerID: 510345479\n",
      "expContainerID: 501847516\n"
     ]
    },
    {
     "name": "stderr",
     "output_type": "stream",
     "text": [
      "/Users/bilalbari/anaconda/lib/python2.7/site-packages/ipykernel/__main__.py:20: VisibleDeprecationWarning: boolean index did not match indexed array along dimension 1; dimension is 105720 but corresponding boolean dimension is 105721\n"
     ]
    },
    {
     "name": "stdout",
     "output_type": "stream",
     "text": [
      "expContainerID: 508262069\n",
      "expContainerID: 510234687\n",
      "expContainerID: 507552264\n",
      "expContainerID: 504646202\n",
      "expContainerID: 510021399\n",
      "expContainerID: 509336418\n",
      "expContainerID: 502352946\n",
      "expContainerID: 506441755\n",
      "expContainerID: 510514770\n",
      "expContainerID: 501574836\n",
      "expContainerID: 510514430\n",
      "expContainerID: 509600709\n",
      "expContainerID: 511596055\n"
     ]
    },
    {
     "name": "stderr",
     "output_type": "stream",
     "text": [
      "/Users/bilalbari/anaconda/lib/python2.7/site-packages/ipykernel/__main__.py:20: VisibleDeprecationWarning: boolean index did not match indexed array along dimension 1; dimension is 105960 but corresponding boolean dimension is 105961\n"
     ]
    },
    {
     "name": "stdout",
     "output_type": "stream",
     "text": [
      "expContainerID: 503864409\n",
      "expContainerID: 504914156\n",
      "expContainerID: 501788003\n",
      "expContainerID: 509339069\n",
      "expContainerID: 502254330\n",
      "expContainerID: 510706209\n",
      "expContainerID: 505845219\n",
      "expContainerID: 510214538\n",
      "expContainerID: 507304910\n",
      "expContainerID: 512124564\n",
      "expContainerID: 509630631\n",
      "expContainerID: 504108263\n",
      "expContainerID: 510514474\n",
      "expContainerID: 505687912\n",
      "expContainerID: 500855614\n",
      "expContainerID: 504593468\n",
      "expContainerID: 508615592\n",
      "expContainerID: 501839084\n",
      "expContainerID: 509841198\n",
      "expContainerID: 512164988\n",
      "expContainerID: 506540916\n",
      "expContainerID: 505811062\n",
      "expContainerID: 506520703\n",
      "expContainerID: 509522931\n",
      "expContainerID: 508396265\n",
      "expContainerID: 504637623\n",
      "expContainerID: 509523145\n",
      "expContainerID: 511595995\n",
      "expContainerID: 501271265\n",
      "expContainerID: 502383036\n",
      "expContainerID: 503538804\n",
      "expContainerID: 504625475\n",
      "expContainerID: 509962140\n",
      "expContainerID: 504568756\n",
      "expContainerID: 508563988\n",
      "expContainerID: 504809131\n",
      "expContainerID: 501773889\n",
      "expContainerID: 510814438\n",
      "expContainerID: 502793808\n",
      "expContainerID: 509959266\n",
      "expContainerID: 509292861\n",
      "expContainerID: 503823672\n",
      "expContainerID: 507691380\n",
      "expContainerID: 508356957\n",
      "expContainerID: 502608215\n",
      "expContainerID: 502974807\n",
      "expContainerID: 511976329\n",
      "expContainerID: 500964514\n",
      "expContainerID: 510416190\n",
      "expContainerID: 501929610\n",
      "expContainerID: 502634578\n",
      "expContainerID: 505017668\n",
      "expContainerID: 508278832\n",
      "expContainerID: 506699982\n",
      "expContainerID: 501876401\n",
      "expContainerID: 509904120\n",
      "expContainerID: 501560436\n",
      "expContainerID: 506694419\n",
      "expContainerID: 501559087\n",
      "expContainerID: 503109347\n",
      "expContainerID: 501889084\n",
      "expContainerID: 501704220\n",
      "expContainerID: 510166410\n",
      "expContainerID: 510174759\n",
      "expContainerID: 504808661\n",
      "expContainerID: 501879034\n",
      "expContainerID: 503324629\n",
      "expContainerID: 506520696\n",
      "expContainerID: 510712856\n",
      "expContainerID: 507691834\n",
      "expContainerID: 509469152\n",
      "expContainerID: 506823562\n",
      "expContainerID: 501836392\n",
      "expContainerID: 512270518\n",
      "expContainerID: 510417261\n",
      "expContainerID: 501317920\n",
      "expContainerID: 506456537\n",
      "expContainerID: 510859641\n",
      "expContainerID: 509517577\n",
      "expContainerID: 496908818\n",
      "expContainerID: 507691735\n",
      "expContainerID: 506773185\n",
      "expContainerID: 511458599\n",
      "expContainerID: 507691566\n",
      "expContainerID: 510517131\n",
      "expContainerID: 501800164\n",
      "expContainerID: 510390912\n",
      "expContainerID: 501004031\n",
      "expContainerID: 502368172\n",
      "expContainerID: 503772253\n",
      "expContainerID: 508546728\n",
      "expContainerID: 512145745\n",
      "expContainerID: 509521903\n",
      "expContainerID: 510535700\n",
      "expContainerID: 505314372\n",
      "expContainerID: 509644421\n",
      "expContainerID: 504853580\n",
      "expContainerID: 507373856\n",
      "expContainerID: 512326618\n",
      "expContainerID: 502666254\n",
      "expContainerID: 506144725\n",
      "expContainerID: 502199136\n",
      "expContainerID: 502962794\n",
      "expContainerID: 511434929\n",
      "expContainerID: 511977695\n",
      "expContainerID: 502376461\n",
      "expContainerID: 505143581\n",
      "expContainerID: 501343881\n",
      "expContainerID: 511534603\n",
      "expContainerID: 507129766\n",
      "expContainerID: 502483554\n"
     ]
    },
    {
     "name": "stderr",
     "output_type": "stream",
     "text": [
      "/Users/bilalbari/anaconda/lib/python2.7/site-packages/ipykernel/__main__.py:20: VisibleDeprecationWarning: boolean index did not match indexed array along dimension 1; dimension is 105738 but corresponding boolean dimension is 105739\n"
     ]
    }
   ],
   "source": [
    "fig,ax = plt.subplots(nrows = 3)\n",
    "\n",
    "pearR_Thresh = 0.4\n",
    "run_Thresh = 10\n",
    "\n",
    "allPreRun = []\n",
    "allPostRun = []\n",
    "\n",
    "for expContainerID in expMetaData.id:\n",
    "    print(\"expContainerID: %s\" % (expContainerID))\n",
    "    \n",
    "    motionCells = np.where(np.greater(runCor_DF.cell_pear_r[ \\\n",
    "                runCor_DF.expID == expContainerID].values[0],pearR_Thresh))[0]\n",
    "    if np.size(motionCells) != 0: # if any motion-sensitive cells here\n",
    "        exp = boc.get_ophys_experiment_data(ophys_experiment_id = expContainerID)\n",
    "        rSpd, _ = exp.get_running_speed()\n",
    "        _, dF = exp.get_dff_traces()\n",
    "\n",
    "        nanMask = ~np.isnan(rSpd)\n",
    "        rSpd = rSpd[nanMask]\n",
    "        dF = dF[:,nanMask]\n",
    "\n",
    "\n",
    "        runStart = np.where(rSpd > run_Thresh); runStart = runStart[0];\n",
    "\n",
    "        firstInd = 0\n",
    "        secondInd = 1\n",
    "        runBouts = []\n",
    "        while secondInd < len(runStart):\n",
    "            runEndFound = False\n",
    "            if (runStart[secondInd] - runStart[firstInd]) <= 30: # run lengths < 1s long\n",
    "                secondInd += 1\n",
    "            elif (runStart[secondInd] - runStart[firstInd]) <= 60: # an appropriately long run bout\n",
    "                iterInd1 = secondInd\n",
    "                iterInd2 = iterInd1 + 1\n",
    "                while ~runEndFound:\n",
    "                    if iterInd2 == len(runStart):\n",
    "                        runEndFound = True\n",
    "                        secondInd = iterInd2 + 1\n",
    "                        break\n",
    "                    if (runStart[iterInd2] - runStart[iterInd1]) <= 30:\n",
    "                        iterInd2 += 1\n",
    "                    elif (runStart[iterInd2] - runStart[iterInd1]) <= 60:\n",
    "                        iterInd1 = iterInd2 - 1\n",
    "                        iterInd2 += 1\n",
    "                    else:\n",
    "                        runEndFound = True\n",
    "                        runBouts.append(runStart[firstInd])\n",
    "                        firstInd = iterInd2\n",
    "                        secondInd = iterInd2 + 1\n",
    "                        break\n",
    "            else:\n",
    "                firstInd = secondInd \n",
    "                secondInd += 1\n",
    "\n",
    "        locDF = pd.DataFrame(index=np.arange(len(runBouts)),columns=np.arange(len(motionCells))) # runBouts, cellNum + 1 locomotion\n",
    "        for cell in range(len(motionCells)):\n",
    "            for locOnset in runBouts:\n",
    "                locDF.loc[np.where(runBouts == locOnset)[0][0],cell] = dF[cell][locOnset-90:locOnset+90]\n",
    "\n",
    "        locDF['dx'] = ''\n",
    "        for locOnset in runBouts:\n",
    "            locDF.loc[np.where(runBouts == locOnset)[0][0],'dx'] = rSpd[locOnset-90:locOnset+90]\n",
    "        \n",
    "        if locDF.loc[0].values[0].size == 0:\n",
    "            locDF = locDF.drop([0]);\n",
    "            \n",
    "        for cell in range(locDF.shape[1]-1):\n",
    "#             ax[0].plot(locDF.loc[:,'dx'].mean(),label='Running Speed (cm/s)')\n",
    "#             ax[1].plot(locDF.loc[:,cell].mean(),label='$\\Delta$F/F$_0$')\n",
    "#             ax[2].errorbar(x = 0, y = locDF.loc[:,cell].mean()[:90].mean(), yerr = locDF.loc[:,cell].mean()[:90].std()/np.sqrt(locDF.shape[0]),label=\"Mean Pre-Run $\\Delta$F/F$_0$\")\n",
    "#             ax[2].errorbar(x = 1, y = locDF.loc[:,cell].mean()[90:].mean(), yerr = locDF.loc[:,cell].mean()[90:].std()/np.sqrt(locDF.shape[0]),label=\"Mean Post-Run $\\Delta$F/F$_0$\")\n",
    "#             for currAx in ax:\n",
    "#                 currAx.legend(loc='best',fontsize=12)\n",
    "#             ax[2].set_xlim(-0.5, 1.5)\n",
    "#             plt.pause(1.0)\n",
    "#             for currAx in ax:\n",
    "#                 currAx.cla()\n",
    "                \n",
    "            allPreRun.append(locDF.loc[:,cell].mean()[:75].mean())\n",
    "            allPostRun.append(locDF.loc[:,cell].mean()[105:].mean())\n",
    "#             print(\"Cell Added\")"
   ]
  },
  {
   "cell_type": "code",
   "execution_count": 334,
   "metadata": {
    "collapsed": false
   },
   "outputs": [
    {
     "name": "stdout",
     "output_type": "stream",
     "text": [
      "0.0090507\n",
      "0.00777999\n"
     ]
    }
   ],
   "source": [
    "print(np.asarray(allPreRun).mean())\n",
    "print(np.asarray(allPostRun).mean())"
   ]
  },
  {
   "cell_type": "code",
   "execution_count": null,
   "metadata": {
    "collapsed": true
   },
   "outputs": [],
   "source": []
  }
 ],
 "metadata": {
  "anaconda-cloud": {},
  "kernelspec": {
   "display_name": "Python [Root]",
   "language": "python",
   "name": "Python [Root]"
  },
  "language_info": {
   "codemirror_mode": {
    "name": "ipython",
    "version": 2
   },
   "file_extension": ".py",
   "mimetype": "text/x-python",
   "name": "python",
   "nbconvert_exporter": "python",
   "pygments_lexer": "ipython2",
   "version": "2.7.12"
  }
 },
 "nbformat": 4,
 "nbformat_minor": 0
}
