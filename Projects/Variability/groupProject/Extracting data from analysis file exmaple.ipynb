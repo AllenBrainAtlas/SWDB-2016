{
 "cells": [
  {
   "cell_type": "code",
   "execution_count": 19,
   "metadata": {
    "collapsed": false
   },
   "outputs": [],
   "source": [
    "import h5py\n",
    "import pandas as pd\n",
    "\n",
    "#this loads the response array and the peak dataframe from the analysis file\n",
    "path = r'/Volumes/Brain2016/BrainObservatory/ophys_analysis/501484643_three_session_A_analysis.h5'\n",
    "\n",
    "#use this to load numpy arrays\n",
    "f = h5py.File(path, 'r')\n",
    "# response = f['analysis']['response_ns'].value\n",
    "# f.close()\n",
    "\n",
    "# #use this to load pandas dataframes\n",
    "# sweep_response = pd.read_hdf(path, 'analysis/sweep_response_ns')\n",
    "# mean_sweep_response = pd.read_hdf(path, 'analysis/mean_sweep_response_ns')"
   ]
  },
  {
   "cell_type": "code",
   "execution_count": 20,
   "metadata": {
    "collapsed": false
   },
   "outputs": [
    {
     "data": {
      "text/plain": [
       "[u'binned_cells_sp',\n",
       " u'binned_cells_vis',\n",
       " u'binned_dx_sp',\n",
       " u'binned_dx_vis',\n",
       " u'celltraces_dff',\n",
       " u'mean_sweep_response_dg',\n",
       " u'peak',\n",
       " u'response_dg',\n",
       " u'stim_table_dg',\n",
       " u'stim_table_nm1',\n",
       " u'sweep_response_dg',\n",
       " u'sweep_response_nm1',\n",
       " u'sweep_response_nm3']"
      ]
     },
     "execution_count": 20,
     "metadata": {},
     "output_type": "execute_result"
    }
   ],
   "source": [
    "f['analysis'].keys()"
   ]
  },
  {
   "cell_type": "code",
   "execution_count": null,
   "metadata": {
    "collapsed": true
   },
   "outputs": [],
   "source": []
  }
 ],
 "metadata": {
  "anaconda-cloud": {},
  "kernelspec": {
   "display_name": "Python [Root]",
   "language": "python",
   "name": "Python [Root]"
  },
  "language_info": {
   "codemirror_mode": {
    "name": "ipython",
    "version": 2
   },
   "file_extension": ".py",
   "mimetype": "text/x-python",
   "name": "python",
   "nbconvert_exporter": "python",
   "pygments_lexer": "ipython2",
   "version": "2.7.12"
  }
 },
 "nbformat": 4,
 "nbformat_minor": 0
}
