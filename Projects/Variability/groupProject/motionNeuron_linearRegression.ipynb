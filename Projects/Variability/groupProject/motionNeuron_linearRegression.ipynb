{
 "cells": [
  {
   "cell_type": "code",
   "execution_count": 1,
   "metadata": {
    "collapsed": true
   },
   "outputs": [],
   "source": [
    "drive_path = '/Volumes/Brain2016'\n",
    "import numpy as np\n",
    "import pandas as pd\n",
    "import os\n",
    "import sys\n",
    "from statsmodels.formula.api import ols\n",
    "import matplotlib.pyplot as plt\n",
    "%matplotlib inline\n",
    "\n",
    "from allensdk.core.brain_observatory_cache import BrainObservatoryCache\n",
    "import seaborn\n",
    "\n",
    "manifest_path = os.path.join(drive_path,'BrainObservatory','manifest.json')\n",
    "boc = BrainObservatoryCache(manifest_file=manifest_path)\n",
    "expMetaData = pd.DataFrame(boc.get_ophys_experiments())"
   ]
  },
  {
   "cell_type": "code",
   "execution_count": 2,
   "metadata": {
    "collapsed": false
   },
   "outputs": [
    {
     "ename": "NameError",
     "evalue": "name 'experimentID' is not defined",
     "output_type": "error",
     "traceback": [
      "\u001b[0;31m---------------------------------------------------------------------------\u001b[0m",
      "\u001b[0;31mNameError\u001b[0m                                 Traceback (most recent call last)",
      "\u001b[0;32m<ipython-input-2-7c087e503282>\u001b[0m in \u001b[0;36m<module>\u001b[0;34m()\u001b[0m\n\u001b[0;32m----> 1\u001b[0;31m \u001b[0;32mprint\u001b[0m\u001b[0;34m(\u001b[0m\u001b[0;34m\"%0.2f%% done\"\u001b[0m \u001b[0;34m%\u001b[0m \u001b[0;34m(\u001b[0m\u001b[0mnp\u001b[0m\u001b[0;34m.\u001b[0m\u001b[0mwhere\u001b[0m\u001b[0;34m(\u001b[0m\u001b[0mexpMetaData\u001b[0m\u001b[0;34m.\u001b[0m\u001b[0mid\u001b[0m \u001b[0;34m==\u001b[0m \u001b[0mexperimentID\u001b[0m\u001b[0;34m)\u001b[0m\u001b[0;34m[\u001b[0m\u001b[0;36m0\u001b[0m\u001b[0;34m]\u001b[0m\u001b[0;34m[\u001b[0m\u001b[0;36m0\u001b[0m\u001b[0;34m]\u001b[0m \u001b[0;34m/\u001b[0m \u001b[0mfloat\u001b[0m\u001b[0;34m(\u001b[0m\u001b[0mexpMetaData\u001b[0m\u001b[0;34m.\u001b[0m\u001b[0mshape\u001b[0m\u001b[0;34m[\u001b[0m\u001b[0;36m0\u001b[0m\u001b[0;34m]\u001b[0m\u001b[0;34m)\u001b[0m\u001b[0;34m)\u001b[0m\u001b[0;34m)\u001b[0m\u001b[0;34m\u001b[0m\u001b[0m\n\u001b[0m",
      "\u001b[0;31mNameError\u001b[0m: name 'experimentID' is not defined"
     ]
    }
   ],
   "source": [
    "print(\"%0.2f%% done\" % (np.where(expMetaData.id == experimentID)[0][0] / float(expMetaData.shape[0])))"
   ]
  },
  {
   "cell_type": "code",
   "execution_count": 31,
   "metadata": {
    "collapsed": true
   },
   "outputs": [
    {
     "name": "stdout",
     "output_type": "stream",
     "text": [
      "0.00% done\n",
      "0.00% done\n"
     ]
    },
    {
     "name": "stderr",
     "output_type": "stream",
     "text": [
      "/Users/bilalbari/anaconda/lib/python2.7/site-packages/ipykernel/__main__.py:16: VisibleDeprecationWarning: boolean index did not match indexed array along dimension 1; dimension is 114118 but corresponding boolean dimension is 114119\n"
     ]
    },
    {
     "name": "stdout",
     "output_type": "stream",
     "text": [
      "0.01% done\n"
     ]
    },
    {
     "name": "stderr",
     "output_type": "stream",
     "text": [
      "/Users/bilalbari/anaconda/lib/python2.7/site-packages/ipykernel/__main__.py:16: VisibleDeprecationWarning: boolean index did not match indexed array along dimension 1; dimension is 115732 but corresponding boolean dimension is 115733\n"
     ]
    },
    {
     "name": "stdout",
     "output_type": "stream",
     "text": [
      "0.01% done\n"
     ]
    },
    {
     "name": "stderr",
     "output_type": "stream",
     "text": [
      "/Users/bilalbari/anaconda/lib/python2.7/site-packages/ipykernel/__main__.py:16: VisibleDeprecationWarning: boolean index did not match indexed array along dimension 1; dimension is 105712 but corresponding boolean dimension is 105713\n"
     ]
    },
    {
     "name": "stdout",
     "output_type": "stream",
     "text": [
      "0.02% done\n",
      "0.02% done\n",
      "0.03% done\n",
      "0.03% done\n",
      "0.03% done\n"
     ]
    },
    {
     "name": "stderr",
     "output_type": "stream",
     "text": [
      "/Users/bilalbari/anaconda/lib/python2.7/site-packages/ipykernel/__main__.py:16: VisibleDeprecationWarning: boolean index did not match indexed array along dimension 1; dimension is 115480 but corresponding boolean dimension is 115481\n"
     ]
    },
    {
     "name": "stdout",
     "output_type": "stream",
     "text": [
      "0.04% done\n",
      "0.04% done\n"
     ]
    },
    {
     "name": "stderr",
     "output_type": "stream",
     "text": [
      "/Users/bilalbari/anaconda/lib/python2.7/site-packages/ipykernel/__main__.py:16: VisibleDeprecationWarning: boolean index did not match indexed array along dimension 1; dimension is 115468 but corresponding boolean dimension is 115469\n"
     ]
    },
    {
     "name": "stdout",
     "output_type": "stream",
     "text": [
      "0.05% done\n",
      "0.05% done\n"
     ]
    },
    {
     "name": "stderr",
     "output_type": "stream",
     "text": [
      "/Users/bilalbari/anaconda/lib/python2.7/site-packages/ipykernel/__main__.py:16: VisibleDeprecationWarning: boolean index did not match indexed array along dimension 1; dimension is 105950 but corresponding boolean dimension is 105951\n"
     ]
    },
    {
     "name": "stdout",
     "output_type": "stream",
     "text": [
      "0.05% done\n",
      "0.06% done\n",
      "0.06% done\n"
     ]
    },
    {
     "name": "stderr",
     "output_type": "stream",
     "text": [
      "/Users/bilalbari/anaconda/lib/python2.7/site-packages/ipykernel/__main__.py:16: VisibleDeprecationWarning: boolean index did not match indexed array along dimension 1; dimension is 115748 but corresponding boolean dimension is 115749\n"
     ]
    },
    {
     "name": "stdout",
     "output_type": "stream",
     "text": [
      "0.07% done\n",
      "0.07% done\n"
     ]
    },
    {
     "name": "stderr",
     "output_type": "stream",
     "text": [
      "/Users/bilalbari/anaconda/lib/python2.7/site-packages/ipykernel/__main__.py:16: VisibleDeprecationWarning: boolean index did not match indexed array along dimension 1; dimension is 113848 but corresponding boolean dimension is 113849\n"
     ]
    },
    {
     "name": "stdout",
     "output_type": "stream",
     "text": [
      "0.08% done\n"
     ]
    },
    {
     "name": "stderr",
     "output_type": "stream",
     "text": [
      "/Users/bilalbari/anaconda/lib/python2.7/site-packages/ipykernel/__main__.py:16: VisibleDeprecationWarning: boolean index did not match indexed array along dimension 1; dimension is 115502 but corresponding boolean dimension is 115503\n"
     ]
    },
    {
     "name": "stdout",
     "output_type": "stream",
     "text": [
      "0.08% done\n",
      "0.08% done\n",
      "0.09% done\n",
      "0.09% done\n",
      "0.10% done\n",
      "0.10% done\n",
      "0.11% done\n",
      "0.11% done\n",
      "0.11% done\n",
      "0.12% done\n"
     ]
    },
    {
     "name": "stderr",
     "output_type": "stream",
     "text": [
      "/Users/bilalbari/anaconda/lib/python2.7/site-packages/ipykernel/__main__.py:16: VisibleDeprecationWarning: boolean index did not match indexed array along dimension 1; dimension is 115490 but corresponding boolean dimension is 115491\n"
     ]
    },
    {
     "name": "stdout",
     "output_type": "stream",
     "text": [
      "0.12% done\n",
      "0.13% done\n",
      "0.13% done\n"
     ]
    },
    {
     "name": "stderr",
     "output_type": "stream",
     "text": [
      "/Users/bilalbari/anaconda/lib/python2.7/site-packages/ipykernel/__main__.py:16: VisibleDeprecationWarning: boolean index did not match indexed array along dimension 1; dimension is 115734 but corresponding boolean dimension is 115735\n"
     ]
    },
    {
     "name": "stdout",
     "output_type": "stream",
     "text": [
      "0.14% done\n"
     ]
    },
    {
     "name": "stderr",
     "output_type": "stream",
     "text": [
      "/Users/bilalbari/anaconda/lib/python2.7/site-packages/ipykernel/__main__.py:16: VisibleDeprecationWarning: boolean index did not match indexed array along dimension 1; dimension is 114110 but corresponding boolean dimension is 114111\n"
     ]
    },
    {
     "name": "stdout",
     "output_type": "stream",
     "text": [
      "0.14% done\n"
     ]
    },
    {
     "name": "stderr",
     "output_type": "stream",
     "text": [
      "/Users/bilalbari/anaconda/lib/python2.7/site-packages/ipykernel/__main__.py:16: VisibleDeprecationWarning: boolean index did not match indexed array along dimension 1; dimension is 105694 but corresponding boolean dimension is 105695\n"
     ]
    },
    {
     "name": "stdout",
     "output_type": "stream",
     "text": [
      "0.14% done\n"
     ]
    },
    {
     "name": "stderr",
     "output_type": "stream",
     "text": [
      "/Users/bilalbari/anaconda/lib/python2.7/site-packages/ipykernel/__main__.py:16: VisibleDeprecationWarning: boolean index did not match indexed array along dimension 1; dimension is 105726 but corresponding boolean dimension is 105727\n"
     ]
    },
    {
     "name": "stdout",
     "output_type": "stream",
     "text": [
      "0.15% done\n"
     ]
    },
    {
     "name": "stderr",
     "output_type": "stream",
     "text": [
      "/Users/bilalbari/anaconda/lib/python2.7/site-packages/ipykernel/__main__.py:16: VisibleDeprecationWarning: boolean index did not match indexed array along dimension 1; dimension is 113852 but corresponding boolean dimension is 113853\n"
     ]
    },
    {
     "name": "stdout",
     "output_type": "stream",
     "text": [
      "0.15% done\n"
     ]
    },
    {
     "name": "stderr",
     "output_type": "stream",
     "text": [
      "/Users/bilalbari/anaconda/lib/python2.7/site-packages/ipykernel/__main__.py:16: VisibleDeprecationWarning: boolean index did not match indexed array along dimension 1; dimension is 105742 but corresponding boolean dimension is 105743\n"
     ]
    },
    {
     "name": "stdout",
     "output_type": "stream",
     "text": [
      "0.16% done\n"
     ]
    },
    {
     "name": "stderr",
     "output_type": "stream",
     "text": [
      "/Users/bilalbari/anaconda/lib/python2.7/site-packages/ipykernel/__main__.py:16: VisibleDeprecationWarning: boolean index did not match indexed array along dimension 1; dimension is 115458 but corresponding boolean dimension is 115459\n"
     ]
    },
    {
     "name": "stdout",
     "output_type": "stream",
     "text": [
      "0.16% done\n",
      "0.16% done\n"
     ]
    },
    {
     "name": "stderr",
     "output_type": "stream",
     "text": [
      "/Users/bilalbari/anaconda/lib/python2.7/site-packages/ipykernel/__main__.py:16: VisibleDeprecationWarning: boolean index did not match indexed array along dimension 1; dimension is 105734 but corresponding boolean dimension is 105735\n"
     ]
    },
    {
     "name": "stdout",
     "output_type": "stream",
     "text": [
      "0.17% done\n",
      "0.17% done\n"
     ]
    },
    {
     "name": "stderr",
     "output_type": "stream",
     "text": [
      "/Users/bilalbari/anaconda/lib/python2.7/site-packages/ipykernel/__main__.py:16: VisibleDeprecationWarning: boolean index did not match indexed array along dimension 1; dimension is 114124 but corresponding boolean dimension is 114125\n"
     ]
    },
    {
     "name": "stdout",
     "output_type": "stream",
     "text": [
      "0.18% done\n",
      "0.18% done\n",
      "0.19% done\n",
      "0.19% done\n"
     ]
    },
    {
     "name": "stderr",
     "output_type": "stream",
     "text": [
      "/Users/bilalbari/anaconda/lib/python2.7/site-packages/ipykernel/__main__.py:16: VisibleDeprecationWarning: boolean index did not match indexed array along dimension 1; dimension is 105970 but corresponding boolean dimension is 105971\n"
     ]
    },
    {
     "name": "stdout",
     "output_type": "stream",
     "text": [
      "0.19% done\n"
     ]
    },
    {
     "name": "stderr",
     "output_type": "stream",
     "text": [
      "/Users/bilalbari/anaconda/lib/python2.7/site-packages/ipykernel/__main__.py:16: VisibleDeprecationWarning: boolean index did not match indexed array along dimension 1; dimension is 105942 but corresponding boolean dimension is 105943\n"
     ]
    },
    {
     "name": "stdout",
     "output_type": "stream",
     "text": [
      "0.20% done\n",
      "0.20% done\n"
     ]
    },
    {
     "name": "stderr",
     "output_type": "stream",
     "text": [
      "/Users/bilalbari/anaconda/lib/python2.7/site-packages/ipykernel/__main__.py:16: VisibleDeprecationWarning: boolean index did not match indexed array along dimension 1; dimension is 113856 but corresponding boolean dimension is 113857\n"
     ]
    },
    {
     "name": "stdout",
     "output_type": "stream",
     "text": [
      "0.21% done\n",
      "0.21% done\n",
      "0.22% done\n",
      "0.22% done\n"
     ]
    },
    {
     "name": "stderr",
     "output_type": "stream",
     "text": [
      "/Users/bilalbari/anaconda/lib/python2.7/site-packages/ipykernel/__main__.py:16: VisibleDeprecationWarning: boolean index did not match indexed array along dimension 1; dimension is 113862 but corresponding boolean dimension is 113863\n"
     ]
    },
    {
     "name": "stdout",
     "output_type": "stream",
     "text": [
      "0.22% done\n"
     ]
    },
    {
     "name": "stderr",
     "output_type": "stream",
     "text": [
      "/Users/bilalbari/anaconda/lib/python2.7/site-packages/ipykernel/__main__.py:16: VisibleDeprecationWarning: boolean index did not match indexed array along dimension 1; dimension is 114102 but corresponding boolean dimension is 114103\n"
     ]
    },
    {
     "name": "stdout",
     "output_type": "stream",
     "text": [
      "0.23% done\n"
     ]
    },
    {
     "name": "stderr",
     "output_type": "stream",
     "text": [
      "/Users/bilalbari/anaconda/lib/python2.7/site-packages/ipykernel/__main__.py:16: VisibleDeprecationWarning: boolean index did not match indexed array along dimension 1; dimension is 115750 but corresponding boolean dimension is 115751\n"
     ]
    },
    {
     "name": "stdout",
     "output_type": "stream",
     "text": [
      "0.23% done\n"
     ]
    },
    {
     "name": "stderr",
     "output_type": "stream",
     "text": [
      "/Users/bilalbari/anaconda/lib/python2.7/site-packages/ipykernel/__main__.py:16: VisibleDeprecationWarning: boolean index did not match indexed array along dimension 1; dimension is 113850 but corresponding boolean dimension is 113851\n"
     ]
    },
    {
     "name": "stdout",
     "output_type": "stream",
     "text": [
      "0.24% done\n"
     ]
    },
    {
     "name": "stderr",
     "output_type": "stream",
     "text": [
      "/Users/bilalbari/anaconda/lib/python2.7/site-packages/ipykernel/__main__.py:16: VisibleDeprecationWarning: boolean index did not match indexed array along dimension 1; dimension is 114104 but corresponding boolean dimension is 114105\n"
     ]
    },
    {
     "name": "stdout",
     "output_type": "stream",
     "text": [
      "0.24% done\n"
     ]
    },
    {
     "name": "stderr",
     "output_type": "stream",
     "text": [
      "/Users/bilalbari/anaconda/lib/python2.7/site-packages/ipykernel/__main__.py:16: VisibleDeprecationWarning: boolean index did not match indexed array along dimension 1; dimension is 115738 but corresponding boolean dimension is 115739\n"
     ]
    },
    {
     "name": "stdout",
     "output_type": "stream",
     "text": [
      "0.24% done\n",
      "0.25% done\n",
      "0.25% done\n"
     ]
    },
    {
     "name": "stderr",
     "output_type": "stream",
     "text": [
      "/Users/bilalbari/anaconda/lib/python2.7/site-packages/ipykernel/__main__.py:16: VisibleDeprecationWarning: boolean index did not match indexed array along dimension 1; dimension is 115466 but corresponding boolean dimension is 115467\n"
     ]
    },
    {
     "name": "stdout",
     "output_type": "stream",
     "text": [
      "0.26% done\n",
      "0.26% done\n"
     ]
    },
    {
     "name": "stderr",
     "output_type": "stream",
     "text": [
      "/Users/bilalbari/anaconda/lib/python2.7/site-packages/ipykernel/__main__.py:16: VisibleDeprecationWarning: boolean index did not match indexed array along dimension 1; dimension is 105718 but corresponding boolean dimension is 105719\n"
     ]
    },
    {
     "name": "stdout",
     "output_type": "stream",
     "text": [
      "0.27% done\n",
      "0.27% done\n",
      "0.27% done\n"
     ]
    },
    {
     "name": "stderr",
     "output_type": "stream",
     "text": [
      "/Users/bilalbari/anaconda/lib/python2.7/site-packages/ipykernel/__main__.py:16: VisibleDeprecationWarning: boolean index did not match indexed array along dimension 1; dimension is 105984 but corresponding boolean dimension is 105985\n"
     ]
    },
    {
     "name": "stdout",
     "output_type": "stream",
     "text": [
      "0.28% done\n",
      "0.28% done\n"
     ]
    },
    {
     "name": "stderr",
     "output_type": "stream",
     "text": [
      "/Users/bilalbari/anaconda/lib/python2.7/site-packages/ipykernel/__main__.py:16: VisibleDeprecationWarning: boolean index did not match indexed array along dimension 1; dimension is 115724 but corresponding boolean dimension is 115725\n"
     ]
    },
    {
     "name": "stdout",
     "output_type": "stream",
     "text": [
      "0.29% done\n",
      "0.29% done\n",
      "0.30% done\n"
     ]
    },
    {
     "name": "stderr",
     "output_type": "stream",
     "text": [
      "/Users/bilalbari/anaconda/lib/python2.7/site-packages/ipykernel/__main__.py:16: VisibleDeprecationWarning: boolean index did not match indexed array along dimension 1; dimension is 114108 but corresponding boolean dimension is 114109\n"
     ]
    },
    {
     "name": "stdout",
     "output_type": "stream",
     "text": [
      "0.30% done\n"
     ]
    },
    {
     "name": "stderr",
     "output_type": "stream",
     "text": [
      "/Users/bilalbari/anaconda/lib/python2.7/site-packages/ipykernel/__main__.py:16: VisibleDeprecationWarning: boolean index did not match indexed array along dimension 1; dimension is 105946 but corresponding boolean dimension is 105947\n"
     ]
    },
    {
     "name": "stdout",
     "output_type": "stream",
     "text": [
      "0.30% done\n",
      "0.31% done\n"
     ]
    },
    {
     "name": "stderr",
     "output_type": "stream",
     "text": [
      "/Users/bilalbari/anaconda/lib/python2.7/site-packages/ipykernel/__main__.py:16: VisibleDeprecationWarning: boolean index did not match indexed array along dimension 1; dimension is 105994 but corresponding boolean dimension is 105995\n"
     ]
    },
    {
     "name": "stdout",
     "output_type": "stream",
     "text": [
      "0.31% done\n"
     ]
    },
    {
     "name": "stderr",
     "output_type": "stream",
     "text": [
      "/Users/bilalbari/anaconda/lib/python2.7/site-packages/ipykernel/__main__.py:16: VisibleDeprecationWarning: boolean index did not match indexed array along dimension 1; dimension is 114100 but corresponding boolean dimension is 114101\n"
     ]
    },
    {
     "name": "stdout",
     "output_type": "stream",
     "text": [
      "0.32% done\n",
      "0.32% done\n",
      "0.32% done\n",
      "0.33% done\n"
     ]
    },
    {
     "name": "stderr",
     "output_type": "stream",
     "text": [
      "/Users/bilalbari/anaconda/lib/python2.7/site-packages/ipykernel/__main__.py:16: VisibleDeprecationWarning: boolean index did not match indexed array along dimension 1; dimension is 115770 but corresponding boolean dimension is 115771\n"
     ]
    },
    {
     "name": "stdout",
     "output_type": "stream",
     "text": [
      "0.33% done\n",
      "0.34% done\n",
      "0.34% done\n"
     ]
    },
    {
     "name": "stderr",
     "output_type": "stream",
     "text": [
      "/Users/bilalbari/anaconda/lib/python2.7/site-packages/ipykernel/__main__.py:16: VisibleDeprecationWarning: boolean index did not match indexed array along dimension 1; dimension is 105954 but corresponding boolean dimension is 105955\n"
     ]
    },
    {
     "name": "stdout",
     "output_type": "stream",
     "text": [
      "0.35% done\n"
     ]
    },
    {
     "name": "stderr",
     "output_type": "stream",
     "text": [
      "/Users/bilalbari/anaconda/lib/python2.7/site-packages/ipykernel/__main__.py:16: VisibleDeprecationWarning: boolean index did not match indexed array along dimension 1; dimension is 105728 but corresponding boolean dimension is 105729\n"
     ]
    },
    {
     "name": "stdout",
     "output_type": "stream",
     "text": [
      "0.35% done\n"
     ]
    },
    {
     "name": "stderr",
     "output_type": "stream",
     "text": [
      "/Users/bilalbari/anaconda/lib/python2.7/site-packages/ipykernel/__main__.py:16: VisibleDeprecationWarning: boolean index did not match indexed array along dimension 1; dimension is 115472 but corresponding boolean dimension is 115473\n"
     ]
    },
    {
     "name": "stdout",
     "output_type": "stream",
     "text": [
      "0.35% done\n",
      "0.36% done\n",
      "0.36% done\n"
     ]
    },
    {
     "name": "stderr",
     "output_type": "stream",
     "text": [
      "/Users/bilalbari/anaconda/lib/python2.7/site-packages/ipykernel/__main__.py:16: VisibleDeprecationWarning: boolean index did not match indexed array along dimension 1; dimension is 115740 but corresponding boolean dimension is 115741\n"
     ]
    },
    {
     "name": "stdout",
     "output_type": "stream",
     "text": [
      "0.37% done\n"
     ]
    },
    {
     "name": "stderr",
     "output_type": "stream",
     "text": [
      "/Users/bilalbari/anaconda/lib/python2.7/site-packages/ipykernel/__main__.py:16: VisibleDeprecationWarning: boolean index did not match indexed array along dimension 1; dimension is 105724 but corresponding boolean dimension is 105725\n"
     ]
    },
    {
     "name": "stdout",
     "output_type": "stream",
     "text": [
      "0.37% done\n",
      "0.38% done\n",
      "0.38% done\n"
     ]
    },
    {
     "name": "stderr",
     "output_type": "stream",
     "text": [
      "/Users/bilalbari/anaconda/lib/python2.7/site-packages/ipykernel/__main__.py:16: VisibleDeprecationWarning: boolean index did not match indexed array along dimension 1; dimension is 113858 but corresponding boolean dimension is 113859\n"
     ]
    },
    {
     "name": "stdout",
     "output_type": "stream",
     "text": [
      "0.38% done\n",
      "0.39% done\n",
      "0.39% done\n",
      "0.40% done\n",
      "0.40% done\n"
     ]
    },
    {
     "name": "stderr",
     "output_type": "stream",
     "text": [
      "/Users/bilalbari/anaconda/lib/python2.7/site-packages/ipykernel/__main__.py:16: VisibleDeprecationWarning: boolean index did not match indexed array along dimension 1; dimension is 113844 but corresponding boolean dimension is 113845\n"
     ]
    },
    {
     "name": "stdout",
     "output_type": "stream",
     "text": [
      "0.41% done\n",
      "0.41% done\n",
      "0.41% done\n",
      "0.42% done\n",
      "0.42% done\n",
      "0.43% done\n"
     ]
    },
    {
     "name": "stderr",
     "output_type": "stream",
     "text": [
      "/Users/bilalbari/anaconda/lib/python2.7/site-packages/ipykernel/__main__.py:16: VisibleDeprecationWarning: boolean index did not match indexed array along dimension 1; dimension is 113870 but corresponding boolean dimension is 113871\n"
     ]
    },
    {
     "name": "stdout",
     "output_type": "stream",
     "text": [
      "0.43% done\n"
     ]
    },
    {
     "name": "stderr",
     "output_type": "stream",
     "text": [
      "/Users/bilalbari/anaconda/lib/python2.7/site-packages/ipykernel/__main__.py:16: VisibleDeprecationWarning: boolean index did not match indexed array along dimension 1; dimension is 113874 but corresponding boolean dimension is 113875\n"
     ]
    },
    {
     "name": "stdout",
     "output_type": "stream",
     "text": [
      "0.43% done\n",
      "0.44% done\n",
      "0.44% done\n",
      "0.45% done\n",
      "0.45% done\n"
     ]
    },
    {
     "name": "stderr",
     "output_type": "stream",
     "text": [
      "/Users/bilalbari/anaconda/lib/python2.7/site-packages/ipykernel/__main__.py:16: VisibleDeprecationWarning: boolean index did not match indexed array along dimension 1; dimension is 115476 but corresponding boolean dimension is 115477\n"
     ]
    },
    {
     "name": "stdout",
     "output_type": "stream",
     "text": [
      "0.46% done\n",
      "0.46% done\n",
      "0.46% done\n",
      "0.47% done\n"
     ]
    },
    {
     "name": "stderr",
     "output_type": "stream",
     "text": [
      "/Users/bilalbari/anaconda/lib/python2.7/site-packages/ipykernel/__main__.py:16: VisibleDeprecationWarning: boolean index did not match indexed array along dimension 1; dimension is 113868 but corresponding boolean dimension is 113869\n"
     ]
    },
    {
     "name": "stdout",
     "output_type": "stream",
     "text": [
      "0.47% done\n"
     ]
    },
    {
     "name": "stderr",
     "output_type": "stream",
     "text": [
      "/Users/bilalbari/anaconda/lib/python2.7/site-packages/ipykernel/__main__.py:16: VisibleDeprecationWarning: boolean index did not match indexed array along dimension 1; dimension is 105720 but corresponding boolean dimension is 105721\n"
     ]
    },
    {
     "name": "stdout",
     "output_type": "stream",
     "text": [
      "0.48% done\n",
      "0.48% done\n"
     ]
    },
    {
     "name": "stderr",
     "output_type": "stream",
     "text": [
      "/Users/bilalbari/anaconda/lib/python2.7/site-packages/ipykernel/__main__.py:16: VisibleDeprecationWarning: boolean index did not match indexed array along dimension 1; dimension is 115730 but corresponding boolean dimension is 115731\n"
     ]
    },
    {
     "name": "stdout",
     "output_type": "stream",
     "text": [
      "0.49% done\n",
      "0.49% done\n"
     ]
    },
    {
     "name": "stderr",
     "output_type": "stream",
     "text": [
      "/Users/bilalbari/anaconda/lib/python2.7/site-packages/ipykernel/__main__.py:16: VisibleDeprecationWarning: boolean index did not match indexed array along dimension 1; dimension is 114096 but corresponding boolean dimension is 114097\n"
     ]
    },
    {
     "name": "stdout",
     "output_type": "stream",
     "text": [
      "0.49% done\n"
     ]
    },
    {
     "name": "stderr",
     "output_type": "stream",
     "text": [
      "/Users/bilalbari/anaconda/lib/python2.7/site-packages/ipykernel/__main__.py:16: VisibleDeprecationWarning: boolean index did not match indexed array along dimension 1; dimension is 105982 but corresponding boolean dimension is 105983\n"
     ]
    },
    {
     "name": "stdout",
     "output_type": "stream",
     "text": [
      "0.50% done\n"
     ]
    },
    {
     "name": "stderr",
     "output_type": "stream",
     "text": [
      "/Users/bilalbari/anaconda/lib/python2.7/site-packages/ipykernel/__main__.py:16: VisibleDeprecationWarning: boolean index did not match indexed array along dimension 1; dimension is 105980 but corresponding boolean dimension is 105981\n"
     ]
    },
    {
     "name": "stdout",
     "output_type": "stream",
     "text": [
      "0.50% done\n",
      "0.51% done\n",
      "0.51% done\n",
      "0.51% done\n",
      "0.52% done\n"
     ]
    },
    {
     "name": "stderr",
     "output_type": "stream",
     "text": [
      "/Users/bilalbari/anaconda/lib/python2.7/site-packages/ipykernel/__main__.py:16: VisibleDeprecationWarning: boolean index did not match indexed array along dimension 1; dimension is 105974 but corresponding boolean dimension is 105975\n"
     ]
    },
    {
     "name": "stdout",
     "output_type": "stream",
     "text": [
      "0.52% done\n",
      "0.53% done\n"
     ]
    },
    {
     "name": "stderr",
     "output_type": "stream",
     "text": [
      "/Users/bilalbari/anaconda/lib/python2.7/site-packages/ipykernel/__main__.py:16: VisibleDeprecationWarning: boolean index did not match indexed array along dimension 1; dimension is 105960 but corresponding boolean dimension is 105961\n"
     ]
    },
    {
     "name": "stdout",
     "output_type": "stream",
     "text": [
      "0.53% done\n"
     ]
    },
    {
     "name": "stderr",
     "output_type": "stream",
     "text": [
      "/Users/bilalbari/anaconda/lib/python2.7/site-packages/ipykernel/__main__.py:16: VisibleDeprecationWarning: boolean index did not match indexed array along dimension 1; dimension is 105958 but corresponding boolean dimension is 105959\n"
     ]
    },
    {
     "name": "stdout",
     "output_type": "stream",
     "text": [
      "0.54% done\n",
      "0.54% done\n",
      "0.54% done\n"
     ]
    },
    {
     "name": "stderr",
     "output_type": "stream",
     "text": [
      "/Users/bilalbari/anaconda/lib/python2.7/site-packages/ipykernel/__main__.py:16: VisibleDeprecationWarning: boolean index did not match indexed array along dimension 1; dimension is 115482 but corresponding boolean dimension is 115483\n"
     ]
    },
    {
     "name": "stdout",
     "output_type": "stream",
     "text": [
      "0.55% done\n",
      "0.55% done\n"
     ]
    },
    {
     "name": "stderr",
     "output_type": "stream",
     "text": [
      "/Users/bilalbari/anaconda/lib/python2.7/site-packages/ipykernel/__main__.py:16: VisibleDeprecationWarning: boolean index did not match indexed array along dimension 1; dimension is 113836 but corresponding boolean dimension is 113837\n"
     ]
    },
    {
     "name": "stdout",
     "output_type": "stream",
     "text": [
      "0.56% done\n",
      "0.56% done\n"
     ]
    },
    {
     "name": "stderr",
     "output_type": "stream",
     "text": [
      "/Users/bilalbari/anaconda/lib/python2.7/site-packages/ipykernel/__main__.py:16: VisibleDeprecationWarning: boolean index did not match indexed array along dimension 1; dimension is 115478 but corresponding boolean dimension is 115479\n"
     ]
    },
    {
     "name": "stdout",
     "output_type": "stream",
     "text": [
      "0.57% done\n"
     ]
    },
    {
     "name": "stderr",
     "output_type": "stream",
     "text": [
      "/Users/bilalbari/anaconda/lib/python2.7/site-packages/ipykernel/__main__.py:16: VisibleDeprecationWarning: boolean index did not match indexed array along dimension 1; dimension is 113866 but corresponding boolean dimension is 113867\n"
     ]
    },
    {
     "name": "stdout",
     "output_type": "stream",
     "text": [
      "0.57% done\n",
      "0.57% done\n",
      "0.58% done\n",
      "0.58% done\n"
     ]
    },
    {
     "name": "stderr",
     "output_type": "stream",
     "text": [
      "/Users/bilalbari/anaconda/lib/python2.7/site-packages/ipykernel/__main__.py:16: VisibleDeprecationWarning: boolean index did not match indexed array along dimension 1; dimension is 115498 but corresponding boolean dimension is 115499\n"
     ]
    },
    {
     "name": "stdout",
     "output_type": "stream",
     "text": [
      "0.59% done\n"
     ]
    },
    {
     "name": "stderr",
     "output_type": "stream",
     "text": [
      "/Users/bilalbari/anaconda/lib/python2.7/site-packages/ipykernel/__main__.py:16: VisibleDeprecationWarning: boolean index did not match indexed array along dimension 1; dimension is 113860 but corresponding boolean dimension is 113861\n"
     ]
    },
    {
     "name": "stdout",
     "output_type": "stream",
     "text": [
      "0.59% done\n",
      "0.59% done\n",
      "0.60% done\n",
      "0.60% done\n"
     ]
    },
    {
     "name": "stderr",
     "output_type": "stream",
     "text": [
      "/Users/bilalbari/anaconda/lib/python2.7/site-packages/ipykernel/__main__.py:16: VisibleDeprecationWarning: boolean index did not match indexed array along dimension 1; dimension is 105752 but corresponding boolean dimension is 105753\n"
     ]
    },
    {
     "name": "stdout",
     "output_type": "stream",
     "text": [
      "0.61% done\n"
     ]
    },
    {
     "name": "stderr",
     "output_type": "stream",
     "text": [
      "/Users/bilalbari/anaconda/lib/python2.7/site-packages/ipykernel/__main__.py:16: VisibleDeprecationWarning: boolean index did not match indexed array along dimension 1; dimension is 114120 but corresponding boolean dimension is 114121\n"
     ]
    },
    {
     "name": "stdout",
     "output_type": "stream",
     "text": [
      "0.61% done\n",
      "0.62% done\n",
      "0.62% done\n"
     ]
    },
    {
     "name": "stderr",
     "output_type": "stream",
     "text": [
      "/Users/bilalbari/anaconda/lib/python2.7/site-packages/ipykernel/__main__.py:16: VisibleDeprecationWarning: boolean index did not match indexed array along dimension 1; dimension is 105966 but corresponding boolean dimension is 105967\n"
     ]
    },
    {
     "name": "stdout",
     "output_type": "stream",
     "text": [
      "0.62% done\n"
     ]
    },
    {
     "name": "stderr",
     "output_type": "stream",
     "text": [
      "/Users/bilalbari/anaconda/lib/python2.7/site-packages/ipykernel/__main__.py:16: VisibleDeprecationWarning: boolean index did not match indexed array along dimension 1; dimension is 113864 but corresponding boolean dimension is 113865\n"
     ]
    },
    {
     "name": "stdout",
     "output_type": "stream",
     "text": [
      "0.63% done\n"
     ]
    },
    {
     "name": "stderr",
     "output_type": "stream",
     "text": [
      "/Users/bilalbari/anaconda/lib/python2.7/site-packages/ipykernel/__main__.py:16: VisibleDeprecationWarning: boolean index did not match indexed array along dimension 1; dimension is 105740 but corresponding boolean dimension is 105741\n"
     ]
    },
    {
     "name": "stdout",
     "output_type": "stream",
     "text": [
      "0.63% done\n",
      "0.64% done\n",
      "0.64% done\n",
      "0.65% done\n",
      "0.65% done\n"
     ]
    },
    {
     "name": "stderr",
     "output_type": "stream",
     "text": [
      "/Users/bilalbari/anaconda/lib/python2.7/site-packages/ipykernel/__main__.py:16: VisibleDeprecationWarning: boolean index did not match indexed array along dimension 1; dimension is 115754 but corresponding boolean dimension is 115755\n"
     ]
    },
    {
     "name": "stdout",
     "output_type": "stream",
     "text": [
      "0.65% done\n",
      "0.66% done\n",
      "0.66% done\n",
      "0.67% done\n"
     ]
    },
    {
     "name": "stderr",
     "output_type": "stream",
     "text": [
      "/Users/bilalbari/anaconda/lib/python2.7/site-packages/ipykernel/__main__.py:16: VisibleDeprecationWarning: boolean index did not match indexed array along dimension 1; dimension is 114094 but corresponding boolean dimension is 114095\n"
     ]
    },
    {
     "name": "stdout",
     "output_type": "stream",
     "text": [
      "0.67% done\n",
      "0.68% done\n",
      "0.68% done\n"
     ]
    },
    {
     "name": "stderr",
     "output_type": "stream",
     "text": [
      "/Users/bilalbari/anaconda/lib/python2.7/site-packages/ipykernel/__main__.py:16: VisibleDeprecationWarning: boolean index did not match indexed array along dimension 1; dimension is 105722 but corresponding boolean dimension is 105723\n"
     ]
    },
    {
     "name": "stdout",
     "output_type": "stream",
     "text": [
      "0.68% done\n",
      "0.69% done\n",
      "0.69% done\n",
      "0.70% done\n",
      "0.70% done\n",
      "0.70% done\n",
      "0.71% done\n",
      "0.71% done\n"
     ]
    },
    {
     "name": "stderr",
     "output_type": "stream",
     "text": [
      "/Users/bilalbari/anaconda/lib/python2.7/site-packages/ipykernel/__main__.py:16: VisibleDeprecationWarning: boolean index did not match indexed array along dimension 1; dimension is 115494 but corresponding boolean dimension is 115495\n"
     ]
    },
    {
     "name": "stdout",
     "output_type": "stream",
     "text": [
      "0.72% done\n",
      "0.72% done\n",
      "0.73% done\n",
      "0.73% done\n",
      "0.73% done\n",
      "0.74% done\n",
      "0.74% done\n",
      "0.75% done\n",
      "0.75% done\n",
      "0.76% done\n",
      "0.76% done\n",
      "0.76% done\n"
     ]
    },
    {
     "name": "stderr",
     "output_type": "stream",
     "text": [
      "/Users/bilalbari/anaconda/lib/python2.7/site-packages/ipykernel/__main__.py:16: VisibleDeprecationWarning: boolean index did not match indexed array along dimension 1; dimension is 115728 but corresponding boolean dimension is 115729\n"
     ]
    },
    {
     "name": "stdout",
     "output_type": "stream",
     "text": [
      "0.77% done\n",
      "0.77% done\n",
      "0.78% done\n",
      "0.78% done\n"
     ]
    },
    {
     "name": "stderr",
     "output_type": "stream",
     "text": [
      "/Users/bilalbari/anaconda/lib/python2.7/site-packages/ipykernel/__main__.py:16: VisibleDeprecationWarning: boolean index did not match indexed array along dimension 1; dimension is 115496 but corresponding boolean dimension is 115497\n"
     ]
    },
    {
     "name": "stdout",
     "output_type": "stream",
     "text": [
      "0.78% done\n",
      "0.79% done\n",
      "0.79% done\n",
      "0.80% done\n",
      "0.80% done\n",
      "0.81% done\n",
      "0.81% done\n",
      "0.81% done\n",
      "0.82% done\n",
      "0.82% done\n",
      "0.83% done\n"
     ]
    },
    {
     "name": "stderr",
     "output_type": "stream",
     "text": [
      "/Users/bilalbari/anaconda/lib/python2.7/site-packages/ipykernel/__main__.py:16: VisibleDeprecationWarning: boolean index did not match indexed array along dimension 1; dimension is 105738 but corresponding boolean dimension is 105739\n"
     ]
    },
    {
     "name": "stdout",
     "output_type": "stream",
     "text": [
      "0.83% done\n",
      "0.84% done\n",
      "0.84% done\n",
      "0.84% done\n",
      "0.85% done\n"
     ]
    },
    {
     "name": "stderr",
     "output_type": "stream",
     "text": [
      "/Users/bilalbari/anaconda/lib/python2.7/site-packages/ipykernel/__main__.py:16: VisibleDeprecationWarning: boolean index did not match indexed array along dimension 1; dimension is 114150 but corresponding boolean dimension is 114151\n"
     ]
    },
    {
     "name": "stdout",
     "output_type": "stream",
     "text": [
      "0.85% done\n",
      "0.86% done\n"
     ]
    },
    {
     "name": "stderr",
     "output_type": "stream",
     "text": [
      "/Users/bilalbari/anaconda/lib/python2.7/site-packages/ipykernel/__main__.py:16: VisibleDeprecationWarning: boolean index did not match indexed array along dimension 1; dimension is 115736 but corresponding boolean dimension is 115737\n"
     ]
    },
    {
     "name": "stdout",
     "output_type": "stream",
     "text": [
      "0.86% done\n",
      "0.86% done\n"
     ]
    },
    {
     "name": "stderr",
     "output_type": "stream",
     "text": [
      "/Users/bilalbari/anaconda/lib/python2.7/site-packages/ipykernel/__main__.py:16: VisibleDeprecationWarning: boolean index did not match indexed array along dimension 1; dimension is 113854 but corresponding boolean dimension is 113855\n"
     ]
    },
    {
     "name": "stdout",
     "output_type": "stream",
     "text": [
      "0.87% done\n",
      "0.87% done\n",
      "0.88% done\n",
      "0.88% done\n"
     ]
    },
    {
     "name": "stderr",
     "output_type": "stream",
     "text": [
      "/Users/bilalbari/anaconda/lib/python2.7/site-packages/ipykernel/__main__.py:16: VisibleDeprecationWarning: boolean index did not match indexed array along dimension 1; dimension is 105708 but corresponding boolean dimension is 105709\n"
     ]
    },
    {
     "name": "stdout",
     "output_type": "stream",
     "text": [
      "0.89% done\n"
     ]
    },
    {
     "name": "stderr",
     "output_type": "stream",
     "text": [
      "/Users/bilalbari/anaconda/lib/python2.7/site-packages/ipykernel/__main__.py:16: VisibleDeprecationWarning: boolean index did not match indexed array along dimension 1; dimension is 115474 but corresponding boolean dimension is 115475\n"
     ]
    },
    {
     "name": "stdout",
     "output_type": "stream",
     "text": [
      "0.89% done\n",
      "0.89% done\n",
      "0.90% done\n",
      "0.90% done\n"
     ]
    },
    {
     "name": "stderr",
     "output_type": "stream",
     "text": [
      "/Users/bilalbari/anaconda/lib/python2.7/site-packages/ipykernel/__main__.py:16: VisibleDeprecationWarning: boolean index did not match indexed array along dimension 1; dimension is 114098 but corresponding boolean dimension is 114099\n"
     ]
    },
    {
     "name": "stdout",
     "output_type": "stream",
     "text": [
      "0.91% done\n",
      "0.91% done\n",
      "0.92% done\n",
      "0.92% done\n",
      "0.92% done\n"
     ]
    },
    {
     "name": "stderr",
     "output_type": "stream",
     "text": [
      "/Users/bilalbari/anaconda/lib/python2.7/site-packages/ipykernel/__main__.py:16: VisibleDeprecationWarning: boolean index did not match indexed array along dimension 1; dimension is 105968 but corresponding boolean dimension is 105969\n"
     ]
    },
    {
     "name": "stdout",
     "output_type": "stream",
     "text": [
      "0.93% done\n",
      "0.93% done\n",
      "0.94% done\n",
      "0.94% done\n",
      "0.95% done\n",
      "0.95% done\n",
      "0.95% done\n",
      "0.96% done\n",
      "0.96% done\n",
      "0.97% done\n"
     ]
    },
    {
     "name": "stderr",
     "output_type": "stream",
     "text": [
      "/Users/bilalbari/anaconda/lib/python2.7/site-packages/ipykernel/__main__.py:16: VisibleDeprecationWarning: boolean index did not match indexed array along dimension 1; dimension is 115756 but corresponding boolean dimension is 115757\n"
     ]
    },
    {
     "name": "stdout",
     "output_type": "stream",
     "text": [
      "0.97% done\n",
      "0.97% done\n"
     ]
    },
    {
     "name": "stderr",
     "output_type": "stream",
     "text": [
      "/Users/bilalbari/anaconda/lib/python2.7/site-packages/ipykernel/__main__.py:16: VisibleDeprecationWarning: boolean index did not match indexed array along dimension 1; dimension is 115470 but corresponding boolean dimension is 115471\n"
     ]
    },
    {
     "name": "stdout",
     "output_type": "stream",
     "text": [
      "0.98% done\n",
      "0.98% done\n",
      "0.99% done\n",
      "0.99% done\n",
      "1.00% done\n"
     ]
    },
    {
     "name": "stderr",
     "output_type": "stream",
     "text": [
      "/Users/bilalbari/anaconda/lib/python2.7/site-packages/ipykernel/__main__.py:16: VisibleDeprecationWarning: boolean index did not match indexed array along dimension 1; dimension is 105988 but corresponding boolean dimension is 105989\n"
     ]
    }
   ],
   "source": [
    "rmCells_DF = pd.DataFrame(columns=['expID','cellNum','coef_full','coef_vel','coef_acc',\n",
    "                                  'r2_full','r2_vel','r2_acc'])\n",
    "\n",
    "minRunFraction = 0.25\n",
    "maxRunFraction = 0.75\n",
    "\n",
    "for experimentID in expMetaData.id:\n",
    "    print(\"%0.1f%% done\" % (100*(np.where(expMetaData.id == experimentID)[0][0] / float(expMetaData.shape[0]))))\n",
    "    exp = boc.get_ophys_experiment_data(ophys_experiment_id = experimentID)\n",
    "    rVel, t_rVel = exp.get_running_speed()\n",
    "    t_dF, dF = exp.get_dff_traces()\n",
    "    \n",
    "    nanMask = ~np.isnan(rVel)\n",
    "    rVel = rVel[nanMask]\n",
    "    rAcc = np.diff(rVel)\n",
    "    dF = dF[:,nanMask]\n",
    "    \n",
    "    rVel = rVel[1:]\n",
    "    dF = dF[:,1:]\n",
    "    \n",
    "    runFraction = np.sum(rVel>1) / float(len(rVel))\n",
    "    \n",
    "    if (runFraction > minRunFraction) and (runFraction < maxRunFraction):\n",
    "        excessFat_dF = dF.shape[1] % 30 #remove elements that will make it difficult to reshape\n",
    "        if excessFat_dF != 0:\n",
    "            dF = dF[:,:-excessFat_dF]\n",
    "        dF_resamp = dF.reshape(dF.shape[0],dF.shape[1]/30,30).mean(axis=2)\n",
    "        \n",
    "        excessFat_rVel = rVel.shape[0] % 30\n",
    "        if excessFat_rVel != 0:\n",
    "            rVel = rVel[:-excessFat_rVel]\n",
    "        rVel_resamp = rVel.reshape(rVel.shape[0]/30,30).mean(axis=1)\n",
    "        \n",
    "        excessFat_rAcc = rAcc.shape[0] % 30\n",
    "        if excessFat_rAcc != 0:\n",
    "            rAcc = rAcc[:-excessFat_rAcc]\n",
    "        rAcc_resamp = rAcc.reshape(rAcc.shape[0]/30,30).mean(axis=1)\n",
    "        \n",
    "        rVel_matx = []\n",
    "        rAcc_matx = []\n",
    "        for i in np.arange(-2,3): #look back and forward this many seconds\n",
    "            if i < 0:\n",
    "                rVel_matx.append(np.append(np.empty(abs(i))*np.nan,rVel_resamp[:i]))\n",
    "                rAcc_matx.append(np.append(np.empty(abs(i))*np.nan,rAcc_resamp[:i]))\n",
    "            elif i == 0:\n",
    "                rVel_matx.append(rVel_resamp)\n",
    "                rAcc_matx.append(rAcc_resamp)\n",
    "            elif i > 0:\n",
    "                rVel_matx.append(np.append(rVel_resamp[i:],np.empty(i)*np.nan))\n",
    "                rAcc_matx.append(np.append(rAcc_resamp[i:],np.empty(i)*np.nan))\n",
    "        rVel_matx = np.asarray(rVel_matx)\n",
    "        rAcc_matx = np.asarray(rAcc_matx)\n",
    "\n",
    "        for i in range(dF_resamp.shape[0]):\n",
    "            rMatx_full = pd.DataFrame({'r1': rVel_matx[0], 'r2': rVel_matx[1], 'r3': rVel_matx[2], 'r4': rVel_matx[3], 'r5': rVel_matx[4],\n",
    "                                       'a1': rAcc_matx[0], 'a2': rAcc_matx[1], 'a3': rAcc_matx[2], 'a4': rAcc_matx[3], 'a5': rAcc_matx[4],\n",
    "                                        'y': dF_resamp[i]})\n",
    "            rMatx_vel =  pd.DataFrame({'r1': rVel_matx[0], 'r2': rVel_matx[1], 'r3': rVel_matx[2], 'r4': rVel_matx[3], 'r5': rVel_matx[4],\n",
    "                                        'y': dF_resamp[i]})\n",
    "            rMatx_acc =  pd.DataFrame({'a1': rAcc_matx[0], 'a2': rAcc_matx[1], 'a3': rAcc_matx[2], 'a4': rAcc_matx[3], 'a5': rAcc_matx[4],\n",
    "                                        'y': dF_resamp[i]})\n",
    "\n",
    "            model_full = ols(\"y ~ r1 + r2 + r3 + r4 + r5 + a1 + a2 + a3 + a4 + a5\",rMatx_full).fit()\n",
    "            model_vel =  ols(\"y ~ r1 + r2 + r3 + r4 + r5\",rMatx_vel).fit()\n",
    "            model_acc =  ols(\"y ~ a1 + a2 + a3 + a4 + a5\",rMatx_acc).fit()\n",
    "            \n",
    "#             if model_full.rsquared > 0.1:\n",
    "#                 print(\"Full\\tr2: %.2f\\tr2_adj: %.2f\\t\\t\"\n",
    "#                        \"Vel\\tr2: %.2f\\tr2_adj: %.2f\\t\\t\"\n",
    "#                        \"Acc\\tr2: %.2f\\tr2_adj: %.2f\\r\\n\" % (model_full.rsquared, model_full.rsquared_adj,model_vel.rsquared, model_vel.rsquared_adj,model_acc.rsquared, model_acc.rsquared_adj))\n",
    "\n",
    "#             rmCells_DF = rmCells_DF.append({'expID':experimentID,'cellNum':i,\n",
    "#                                'model_full':model_full,'model_vel':model_vel,'model_acc':model_acc,\n",
    "#                                'r_full':model_full.rsquared,'r_vel':model_vel.rsquared,\n",
    "#                                'r_acc':model_acc.rsquared},ignore_index=True)\n",
    "            rmCells_DF = rmCells_DF.append({'expID':experimentID,'cellNum':i,'coef_full':model_full.params,\n",
    "                               'coef_vel':model_vel.params,'coef_acc':model_acc.params,\n",
    "                               'r2_full':model_full.rsquared,'r2_vel':model_vel.rsquared,\n",
    "                               'r2_acc':model_acc.rsquared},ignore_index=True)\n",
    "\n",
    "rmCells_DF.to_json('runModulatedCells_DF.json')"
   ]
  },
  {
   "cell_type": "code",
   "execution_count": 36,
   "metadata": {
    "collapsed": false
   },
   "outputs": [
    {
     "data": {
      "text/html": [
       "<div>\n",
       "<table border=\"1\" class=\"dataframe\">\n",
       "  <thead>\n",
       "    <tr style=\"text-align: right;\">\n",
       "      <th></th>\n",
       "      <th>expID</th>\n",
       "      <th>cellNum</th>\n",
       "      <th>coef_full</th>\n",
       "      <th>coef_vel</th>\n",
       "      <th>coef_acc</th>\n",
       "      <th>r2_full</th>\n",
       "      <th>r2_vel</th>\n",
       "      <th>r2_acc</th>\n",
       "    </tr>\n",
       "  </thead>\n",
       "  <tbody>\n",
       "    <tr>\n",
       "      <th>0</th>\n",
       "      <td>502066273.0</td>\n",
       "      <td>0.0</td>\n",
       "      <td>Intercept    0.007913\n",
       "r1          -0.000664\n",
       "r2...</td>\n",
       "      <td>Intercept    0.007913\n",
       "r1          -0.000659\n",
       "r2...</td>\n",
       "      <td>Intercept    0.007676\n",
       "a1          -0.002739\n",
       "a2...</td>\n",
       "      <td>0.005578</td>\n",
       "      <td>0.005232</td>\n",
       "      <td>0.000304</td>\n",
       "    </tr>\n",
       "    <tr>\n",
       "      <th>1</th>\n",
       "      <td>502066273.0</td>\n",
       "      <td>1.0</td>\n",
       "      <td>Intercept    0.007219\n",
       "r1          -0.001681\n",
       "r2...</td>\n",
       "      <td>Intercept    0.007220\n",
       "r1          -0.001444\n",
       "r2...</td>\n",
       "      <td>Intercept    0.006525\n",
       "a1          -0.014850\n",
       "a2...</td>\n",
       "      <td>0.020796</td>\n",
       "      <td>0.019078</td>\n",
       "      <td>0.001875</td>\n",
       "    </tr>\n",
       "    <tr>\n",
       "      <th>2</th>\n",
       "      <td>502066273.0</td>\n",
       "      <td>2.0</td>\n",
       "      <td>Intercept    0.007003\n",
       "r1           0.002102\n",
       "r2...</td>\n",
       "      <td>Intercept    0.007004\n",
       "r1           0.002193\n",
       "r2...</td>\n",
       "      <td>Intercept    0.007698\n",
       "a1          -0.015689\n",
       "a2...</td>\n",
       "      <td>0.008924</td>\n",
       "      <td>0.007493</td>\n",
       "      <td>0.001175</td>\n",
       "    </tr>\n",
       "    <tr>\n",
       "      <th>3</th>\n",
       "      <td>502066273.0</td>\n",
       "      <td>3.0</td>\n",
       "      <td>Intercept    0.003673\n",
       "r1           0.003243\n",
       "r2...</td>\n",
       "      <td>Intercept    0.003677\n",
       "r1           0.002993\n",
       "r2...</td>\n",
       "      <td>Intercept    0.004152\n",
       "a1          -0.009249\n",
       "a2...</td>\n",
       "      <td>0.021854</td>\n",
       "      <td>0.019903</td>\n",
       "      <td>0.001698</td>\n",
       "    </tr>\n",
       "    <tr>\n",
       "      <th>4</th>\n",
       "      <td>502066273.0</td>\n",
       "      <td>4.0</td>\n",
       "      <td>Intercept    0.004631\n",
       "r1          -0.001243\n",
       "r2...</td>\n",
       "      <td>Intercept    0.004634\n",
       "r1          -0.001434\n",
       "r2...</td>\n",
       "      <td>Intercept    0.004259\n",
       "a1          -0.000700\n",
       "a2...</td>\n",
       "      <td>0.017375</td>\n",
       "      <td>0.015857</td>\n",
       "      <td>0.001855</td>\n",
       "    </tr>\n",
       "  </tbody>\n",
       "</table>\n",
       "</div>"
      ],
      "text/plain": [
       "         expID  cellNum                                          coef_full  \\\n",
       "0  502066273.0      0.0  Intercept    0.007913\n",
       "r1          -0.000664\n",
       "r2...   \n",
       "1  502066273.0      1.0  Intercept    0.007219\n",
       "r1          -0.001681\n",
       "r2...   \n",
       "2  502066273.0      2.0  Intercept    0.007003\n",
       "r1           0.002102\n",
       "r2...   \n",
       "3  502066273.0      3.0  Intercept    0.003673\n",
       "r1           0.003243\n",
       "r2...   \n",
       "4  502066273.0      4.0  Intercept    0.004631\n",
       "r1          -0.001243\n",
       "r2...   \n",
       "\n",
       "                                            coef_vel  \\\n",
       "0  Intercept    0.007913\n",
       "r1          -0.000659\n",
       "r2...   \n",
       "1  Intercept    0.007220\n",
       "r1          -0.001444\n",
       "r2...   \n",
       "2  Intercept    0.007004\n",
       "r1           0.002193\n",
       "r2...   \n",
       "3  Intercept    0.003677\n",
       "r1           0.002993\n",
       "r2...   \n",
       "4  Intercept    0.004634\n",
       "r1          -0.001434\n",
       "r2...   \n",
       "\n",
       "                                            coef_acc   r2_full    r2_vel  \\\n",
       "0  Intercept    0.007676\n",
       "a1          -0.002739\n",
       "a2...  0.005578  0.005232   \n",
       "1  Intercept    0.006525\n",
       "a1          -0.014850\n",
       "a2...  0.020796  0.019078   \n",
       "2  Intercept    0.007698\n",
       "a1          -0.015689\n",
       "a2...  0.008924  0.007493   \n",
       "3  Intercept    0.004152\n",
       "a1          -0.009249\n",
       "a2...  0.021854  0.019903   \n",
       "4  Intercept    0.004259\n",
       "a1          -0.000700\n",
       "a2...  0.017375  0.015857   \n",
       "\n",
       "     r2_acc  \n",
       "0  0.000304  \n",
       "1  0.001875  \n",
       "2  0.001175  \n",
       "3  0.001698  \n",
       "4  0.001855  "
      ]
     },
     "execution_count": 36,
     "metadata": {},
     "output_type": "execute_result"
    }
   ],
   "source": [
    "rmCells_DF.head()"
   ]
  },
  {
   "cell_type": "code",
   "execution_count": 219,
   "metadata": {
    "collapsed": false
   },
   "outputs": [
    {
     "data": {
      "image/png": "[encoded data removed]",
      "text/plain": [
       "<matplotlib.figure.Figure at 0x15eccb790>"
      ]
     },
     "metadata": {},
     "output_type": "display_data"
    }
   ],
   "source": [
    "fig,ax = plt.subplots(nrows=2,figsize=(10,12))\n",
    "fig.subplots_adjust(left=0.20,right=0.95)\n",
    "\n",
    "binEdges = np.arange(0,0.6,0.025)\n",
    "ax[0].hist(rmCells_DF.r2_vel.values,bins=binEdges);\n",
    "ax[1].hist(rmCells_DF.r2_vel.values,bins=binEdges);\n",
    "\n",
    "ax[0].set_ylabel('Number of\\n Cells',rotation=0,fontsize=16)\n",
    "ax[0].yaxis.labelpad=50\n",
    "ax[1].set_ylabel('Number of\\n Cells',rotation=0,fontsize=16)\n",
    "ax[1].yaxis.labelpad=60\n",
    "ax[1].set_ylim(0,50)\n",
    "ax[1].set_xlabel('r$^2$',fontsize=16)\n",
    "\n",
    "plt.savefig('/Users/bilalbari/Dropbox/SWDB_BLAZEN_NEURONZZ/finalPresentation/runModulation_correlationHistogram.png')"
   ]
  },
  {
   "cell_type": "code",
   "execution_count": 206,
   "metadata": {
    "collapsed": false
   },
   "outputs": [
    {
     "name": "stdout",
     "output_type": "stream",
     "text": [
      "125\n",
      "20502\n",
      "1\n",
      "0.115274550008\n"
     ]
    }
   ],
   "source": [
    "print np.sum(rmCells_DF.r2_full > 0.2) \n",
    "print rmCells_DF.shape[0]\n",
    "print np.sum(rmCells_DF.r2_acc > 0.25)\n",
    "\n",
    "experimentID = rmCells_DF[rmCells_DF.r2_full > 0.6].expID\n",
    "cellNum = rmCells_DF[rmCells_DF.r2_full > 0.6].cellNum\n",
    "print rmCells_DF.r2_vel[rmCells_DF[rmCells_DF.r2_vel > 0.1].index[0]]\n",
    "\n",
    "# experimentID = rmCells_DF[rmCells_DF.r2_acc > 0.25].expID\n",
    "# cellNum = rmCells_DF[rmCells_DF.r2_acc > 0.25].cellNum\n",
    "# rmCells_DF.head()\n",
    "\n",
    "# rmCells_DF[rmCells_DF.r2_acc > 0.25].coef_full.values\n",
    "\n",
    "# experimentID = rmCells_DF[rmCells_DF.r2_vel > 0.1].expID[22]\n",
    "# cellNum = rmCells_DF[rmCells_DF.r2_vel > 0.1].cellNum[22]\n",
    "# r2_vel = rmCells_DF[rmCells_DF.r2_vel > 0.1].r2_vel[22]"
   ]
  },
  {
   "cell_type": "code",
   "execution_count": 186,
   "metadata": {
    "collapsed": false
   },
   "outputs": [
    {
     "name": "stderr",
     "output_type": "stream",
     "text": [
      "/Users/bilalbari/anaconda/lib/python2.7/site-packages/ipykernel/__main__.py:8: VisibleDeprecationWarning: boolean index did not match indexed array along dimension 1; dimension is 115472 but corresponding boolean dimension is 115473\n"
     ]
    }
   ],
   "source": [
    "exp = boc.get_ophys_experiment_data(ophys_experiment_id = experimentID)\n",
    "rVel, t_rVel = exp.get_running_speed()\n",
    "t_dF, dF = exp.get_dff_traces()\n",
    "\n",
    "nanMask = ~np.isnan(rVel)\n",
    "rVel = rVel[nanMask]\n",
    "rAcc = np.diff(rVel)\n",
    "dF = dF[:,nanMask]\n",
    "\n",
    "rVel = rVel[1:]\n",
    "dF = dF[:,1:]\n",
    "\n",
    "excessFat_dF = dF.shape[1] % 30 #remove elements that will make it difficult to reshape\n",
    "if excessFat_dF != 0:\n",
    "    dF = dF[:,:-excessFat_dF]\n",
    "dF_resamp = dF.reshape(dF.shape[0],dF.shape[1]/30,30).mean(axis=2)\n",
    "\n",
    "excessFat_rVel = rVel.shape[0] % 30\n",
    "if excessFat_rVel != 0:\n",
    "    rVel = rVel[:-excessFat_rVel]\n",
    "rVel_resamp = rVel.reshape(rVel.shape[0]/30,30).mean(axis=1)\n",
    "\n",
    "excessFat_rAcc = rAcc.shape[0] % 30\n",
    "if excessFat_rAcc != 0:\n",
    "    rAcc = rAcc[:-excessFat_rAcc]\n",
    "rAcc_resamp = rAcc.reshape(rAcc.shape[0]/30,30).mean(axis=1)"
   ]
  },
  {
   "cell_type": "code",
   "execution_count": 187,
   "metadata": {
    "collapsed": false
   },
   "outputs": [
    {
     "data": {
      "image/png": "[encoded data removed]",
      "text/plain": [
       "<matplotlib.figure.Figure at 0x14fefa350>"
      ]
     },
     "metadata": {},
     "output_type": "display_data"
    }
   ],
   "source": [
    "fig,ax = plt.subplots(nrows=2,sharex=True,figsize=(12,8))\n",
    "ax[0].plot(np.arange(rVel.size)/float(30)/60,rVel)\n",
    "ax[1].plot(np.arange(rVel.size)/float(30)/60,dF[int(cellNum)])\n",
    "\n",
    "fig.subplots_adjust(left=0.15,right=0.95)\n",
    "ax[0].set_xlim(0,5)\n",
    "ax[0].set_ylabel('Run Speed (cm/s)',fontsize=16,rotation=0)\n",
    "ax[0].yaxis.labelpad = 70\n",
    "ax[1].set_ylabel('$\\Delta$F/F$_0$',fontsize=16,rotation=0)\n",
    "ax[1].yaxis.labelpad = 30\n",
    "ax[1].set_xlabel('Time (s)', fontsize=16)\n",
    "# ax[1].set_ylim(0,0.2)\n",
    "\n",
    "# plt.savefig('/Users/bilalbari/Dropbox/SWDB_BLAZEN_NEURONZZ/finalPresentation/runModulation_highCorrelation.png')"
   ]
  },
  {
   "cell_type": "code",
   "execution_count": 139,
   "metadata": {
    "collapsed": false
   },
   "outputs": [],
   "source": [
    "# from mpl_toolkits.axes_grid1 import host_subplot\n",
    "# import mpl_toolkits.axisartist as AA\n",
    "\n",
    "# fig,ax = plt.subplots(figsize=(12,8))\n",
    "# host = host_subplot(111, axes_class=AA.Axes)\n",
    "# plt.subplots_adjust(right=0.75)\n",
    "\n",
    "# par1 = host.twinx()\n",
    "\n",
    "# offset = 60\n",
    "# new_fixed_axis = par1.get_grid_helper().new_fixed_axis\n",
    "# par1.axis[\"right\"] = new_fixed_axis(loc=\"right\",\n",
    "#                                     axes=par1,\n",
    "#                                     offset=(offset, 0))\n",
    "\n",
    "# par1.axis[\"right\"].toggle(all=True)\n",
    "\n",
    "\n",
    "# host.set_xlabel(\"Distance\")\n",
    "# host.set_ylabel(\"Density\")\n",
    "# par1.set_ylabel(\"Temperature\")\n",
    "\n",
    "# p1, = host.plot(np.arange(rVel.size)/float(30)/60, rVel, label=\"Density\")\n",
    "# p2, = par1.plot(np.arange(rVel.size)/float(30)/60, dF[int(cellNum)], label=\"Temperature\")\n",
    "\n",
    "# host.set_xlim(0, 5)\n",
    "# host.set_ylim(0, 100)\n",
    "# par1.set_ylim(0, 6)\n",
    "\n",
    "# host.legend()\n",
    "\n",
    "# host.axis[\"left\"].label.set_color(p1.get_color())\n",
    "# par1.axis[\"right\"].label.set_color(p2.get_color())\n",
    "\n",
    "# plt.draw()\n",
    "# plt.show()"
   ]
  },
  {
   "cell_type": "code",
   "execution_count": 130,
   "metadata": {
    "collapsed": false
   },
   "outputs": [
    {
     "data": {
      "text/plain": [
       "(0, 1000)"
      ]
     },
     "execution_count": 130,
     "metadata": {},
     "output_type": "execute_result"
    },
    {
     "data": {
      "image/png": "[encoded data removed]",
      "text/plain": [
       "<matplotlib.figure.Figure at 0x14fbef910>"
      ]
     },
     "metadata": {},
     "output_type": "display_data"
    }
   ],
   "source": []
  },
  {
   "cell_type": "code",
   "execution_count": null,
   "metadata": {
    "collapsed": true
   },
   "outputs": [],
   "source": []
  }
 ],
 "metadata": {
  "anaconda-cloud": {},
  "kernelspec": {
   "display_name": "Python [Root]",
   "language": "python",
   "name": "Python [Root]"
  },
  "language_info": {
   "codemirror_mode": {
    "name": "ipython",
    "version": 2
   },
   "file_extension": ".py",
   "mimetype": "text/x-python",
   "name": "python",
   "nbconvert_exporter": "python",
   "pygments_lexer": "ipython2",
   "version": "2.7.12"
  }
 },
 "nbformat": 4,
 "nbformat_minor": 0
}
