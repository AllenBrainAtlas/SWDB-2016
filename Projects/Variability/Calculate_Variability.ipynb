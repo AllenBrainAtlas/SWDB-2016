{
 "cells": [
  {
   "cell_type": "code",
   "execution_count": 182,
   "metadata": {
    "collapsed": false
   },
   "outputs": [],
   "source": [
    "drive_path = 'd:/'\n",
    "# We need to import these modules to get started\n",
    "import numpy as np\n",
    "import pandas as pd\n",
    "import os\n",
    "import sys\n",
    "from scipy.stats.stats import pearsonr\n",
    "from scipy.stats import ttest_rel\n",
    "from scipy.stats import variation\n",
    "from scipy import signal\n",
    "from scipy.stats import ks_2samp\n",
    "from scipy.stats import anderson_ksamp\n",
    "from scipy.stats import fligner\n",
    "import matplotlib.pyplot as plt\n",
    "%matplotlib inline\n",
    "from allensdk.core.brain_observatory_cache import BrainObservatoryCache\n",
    "from allensdk.brain_observatory.natural_scenes import NaturalScenes\n",
    "import seaborn\n",
    "import h5py\n",
    "# import glob\n",
    "# import time as tm\n",
    "\n",
    "manifest_path = os.path.join(drive_path,'BrainObservatory','manifest.json')\n",
    "boc = BrainObservatoryCache(manifest_file=manifest_path)\n",
    "expMetaData = pd.DataFrame(boc.get_ophys_experiments())\n",
    "cells = pd.DataFrame.from_records(boc.get_cell_specimens())"
   ]
  },
  {
   "cell_type": "code",
   "execution_count": 2,
   "metadata": {
    "collapsed": false
   },
   "outputs": [
    {
     "data": {
      "text/html": [
       "<div>\n",
       "<table border=\"1\" class=\"dataframe\">\n",
       "  <thead>\n",
       "    <tr style=\"text-align: right;\">\n",
       "      <th></th>\n",
       "      <th>age_days</th>\n",
       "      <th>cre_line</th>\n",
       "      <th>experiment_container_id</th>\n",
       "      <th>id</th>\n",
       "      <th>imaging_depth</th>\n",
       "      <th>session_type</th>\n",
       "      <th>targeted_structure</th>\n",
       "    </tr>\n",
       "  </thead>\n",
       "  <tbody>\n",
       "    <tr>\n",
       "      <th>0</th>\n",
       "      <td>132.0</td>\n",
       "      <td>Cux2-CreERT2</td>\n",
       "      <td>511510753</td>\n",
       "      <td>502066273</td>\n",
       "      <td>175</td>\n",
       "      <td>three_session_C</td>\n",
       "      <td>VISpm</td>\n",
       "    </tr>\n",
       "    <tr>\n",
       "      <th>1</th>\n",
       "      <td>116.0</td>\n",
       "      <td>Rorb-IRES2-Cre</td>\n",
       "      <td>511511001</td>\n",
       "      <td>506278598</td>\n",
       "      <td>275</td>\n",
       "      <td>three_session_B</td>\n",
       "      <td>VISpm</td>\n",
       "    </tr>\n",
       "    <tr>\n",
       "      <th>2</th>\n",
       "      <td>97.0</td>\n",
       "      <td>Rbp4-Cre</td>\n",
       "      <td>511510653</td>\n",
       "      <td>510529677</td>\n",
       "      <td>375</td>\n",
       "      <td>three_session_A</td>\n",
       "      <td>VISpm</td>\n",
       "    </tr>\n",
       "    <tr>\n",
       "      <th>3</th>\n",
       "      <td>116.0</td>\n",
       "      <td>Rorb-IRES2-Cre</td>\n",
       "      <td>511510729</td>\n",
       "      <td>504614224</td>\n",
       "      <td>275</td>\n",
       "      <td>three_session_C</td>\n",
       "      <td>VISl</td>\n",
       "    </tr>\n",
       "    <tr>\n",
       "      <th>4</th>\n",
       "      <td>123.0</td>\n",
       "      <td>Rorb-IRES2-Cre</td>\n",
       "      <td>511507144</td>\n",
       "      <td>501724959</td>\n",
       "      <td>275</td>\n",
       "      <td>three_session_A</td>\n",
       "      <td>VISp</td>\n",
       "    </tr>\n",
       "  </tbody>\n",
       "</table>\n",
       "</div>"
      ],
      "text/plain": [
       "   age_days        cre_line  experiment_container_id         id  \\\n",
       "0     132.0    Cux2-CreERT2                511510753  502066273   \n",
       "1     116.0  Rorb-IRES2-Cre                511511001  506278598   \n",
       "2      97.0        Rbp4-Cre                511510653  510529677   \n",
       "3     116.0  Rorb-IRES2-Cre                511510729  504614224   \n",
       "4     123.0  Rorb-IRES2-Cre                511507144  501724959   \n",
       "\n",
       "   imaging_depth     session_type targeted_structure  \n",
       "0            175  three_session_C              VISpm  \n",
       "1            275  three_session_B              VISpm  \n",
       "2            375  three_session_A              VISpm  \n",
       "3            275  three_session_C               VISl  \n",
       "4            275  three_session_A               VISp  "
      ]
     },
     "execution_count": 2,
     "metadata": {},
     "output_type": "execute_result"
    }
   ],
   "source": [
    "expMetaData.head()"
   ]
  },
  {
   "cell_type": "markdown",
   "metadata": {},
   "source": [
    "## Variability (Annie)"
   ]
  },
  {
   "cell_type": "code",
   "execution_count": 364,
   "metadata": {
    "collapsed": true
   },
   "outputs": [],
   "source": [
    "# relevCells.head()"
   ]
  },
  {
   "cell_type": "code",
   "execution_count": 365,
   "metadata": {
    "collapsed": false
   },
   "outputs": [],
   "source": [
    "# sTabl.shape"
   ]
  },
  {
   "cell_type": "code",
   "execution_count": 9,
   "metadata": {
    "collapsed": true
   },
   "outputs": [
    {
     "name": "stdout",
     "output_type": "stream",
     "text": [
      "three_session_B\n",
      "\t79 sessions to sort through\n",
      "three_session_B and VISp\n",
      "\t25 sessions to sort through\n",
      "three_session_B and VISpm\n",
      "\t21 sessions to sort through\n",
      "three_session_B and VISl\n",
      "\t16 sessions to sort through\n",
      "three_session_B and VISal\n",
      "\t17 sessions to sort through\n",
      "three_session_B and Cux2\n",
      "\t42 sessions to sort through\n",
      "three_session_B and Rorb\n",
      "\t17 sessions to sort through\n",
      "three_session_B and Rbp4\n",
      "\t16 sessions to sort through\n",
      "three_session_B and Scnn1a\n",
      "\t4 sessions to sort through\n",
      "Done\n"
     ]
    }
   ],
   "source": [
    "# variability_NS = pd.DataFrame(columns = ['std_all','std_VISp','std_VISpm','std_VISl','std_VISal','std_Cux2',\n",
    "                                            'std_Rorb','std_Rbp4','std_Scnn1a'],\n",
    "                         index = ['std'])\n",
    "\n",
    "for expType in range(9):\n",
    "    stim_STDs = []\n",
    "    if expType == 0:\n",
    "        currSess_metaData = expMetaData[(expMetaData.session_type == 'three_session_B')]\n",
    "        print(\"three_session_B\")\n",
    "        print(\"\\t%d sessions to sort through\" % currSess_metaData.shape[0])\n",
    "    elif expType == 1:\n",
    "        currSess_metaData = expMetaData[(expMetaData.session_type == 'three_session_B') & (expMetaData.targeted_structure == 'VISp')]\n",
    "        print(\"three_session_B and VISp\")\n",
    "        print(\"\\t%d sessions to sort through\" % currSess_metaData.shape[0])\n",
    "    elif expType == 2:\n",
    "        currSess_metaData = expMetaData[(expMetaData.session_type == 'three_session_B') & (expMetaData.targeted_structure == 'VISpm')]\n",
    "        print(\"three_session_B and VISpm\")\n",
    "        print(\"\\t%d sessions to sort through\" % currSess_metaData.shape[0])\n",
    "    elif expType == 3:\n",
    "        currSess_metaData = expMetaData[(expMetaData.session_type == 'three_session_B') & (expMetaData.targeted_structure == 'VISl')]\n",
    "        print(\"three_session_B and VISl\")\n",
    "        print(\"\\t%d sessions to sort through\" % currSess_metaData.shape[0])\n",
    "    elif expType == 4:\n",
    "        currSess_metaData = expMetaData[(expMetaData.session_type == 'three_session_B') & (expMetaData.targeted_structure == 'VISal')]\n",
    "        print(\"three_session_B and VISal\")\n",
    "        print(\"\\t%d sessions to sort through\" % currSess_metaData.shape[0])\n",
    "    elif expType == 5:\n",
    "        currSess_metaData = expMetaData[(expMetaData.session_type == 'three_session_B') & (expMetaData.cre_line == 'Cux2-CreERT2')]\n",
    "        print(\"three_session_B and Cux2\")\n",
    "        print(\"\\t%d sessions to sort through\" % currSess_metaData.shape[0])\n",
    "    elif expType == 6:\n",
    "        currSess_metaData = expMetaData[(expMetaData.session_type == 'three_session_B') & (expMetaData.cre_line == 'Rorb-IRES2-Cre')]\n",
    "        print(\"three_session_B and Rorb\")\n",
    "        print(\"\\t%d sessions to sort through\" % currSess_metaData.shape[0])\n",
    "    elif expType == 7:\n",
    "        currSess_metaData = expMetaData[(expMetaData.session_type == 'three_session_B') & (expMetaData.cre_line == 'Rbp4-Cre')]\n",
    "        print(\"three_session_B and Rbp4\")\n",
    "        print(\"\\t%d sessions to sort through\" % currSess_metaData.shape[0])\n",
    "    elif expType == 8:\n",
    "        currSess_metaData = expMetaData[(expMetaData.session_type == 'three_session_B') & (expMetaData.cre_line == 'Scnn1a-Tg3-Cre')]\n",
    "        print(\"three_session_B and Scnn1a\")\n",
    "        print(\"\\t%d sessions to sort through\" % currSess_metaData.shape[0])\n",
    "\n",
    "    for expInd in currSess_metaData.index:\n",
    "        expContainerID = currSess_metaData.experiment_container_id[expInd]\n",
    "        expID = currSess_metaData.id[expInd]\n",
    "        exp = boc.get_ophys_experiment_data(ophys_experiment_id = expID)\n",
    "        _, dF = exp.get_dff_traces()\n",
    "        path = r'D:\\BrainObservatory\\ophys_analysis\\%d_%s_analysis.h5' % (expID, currSess_metaData.session_type[expInd])\n",
    "        sResp = pd.read_hdf(path, 'analysis/sweep_response_ns')\n",
    "        sResp_mean = pd.read_hdf(path, 'analysis/mean_sweep_response_ns')\n",
    "        sTabl = pd.read_hdf(path, 'analysis/stim_table_ns')\n",
    "        cellIDs = exp.get_cell_specimen_ids()\n",
    "\n",
    "        relevCells = cells[cells.experiment_container_id == int(expContainerID)]\n",
    "        relevCells = relevCells[~np.isnan(relevCells.pref_image_ns)]\n",
    "\n",
    "        for currCell in relevCells.index:\n",
    "            cellInd = np.where(relevCells.cell_specimen_id[currCell] == cellIDs)[0][0]\n",
    "            prefNS = relevCells.pref_image_ns[currCell]\n",
    "#             prefDir = relevCells.pref_dir_dg[currCell]\n",
    "#             prefTF = relevCells.pref_tf_dg[currCell]\n",
    "            \n",
    "            prefNS_mask = sTabl.frame == prefNS\n",
    "\n",
    "# #             prefTF_mask = sTabl.temporal_frequency == prefTF\n",
    "# #\n",
    "            cellResponses = sResp_mean[str(cellInd)][prefNS_mask]# & prefDir_mask]\n",
    "            stim_STDs.append(np.std(cellResponses))\n",
    "\n",
    "    if expType == 0:\n",
    "        variability_NS.std_all.std = stim_STDs\n",
    "    elif expType == 1:\n",
    "        variability_NS.std_VISp.std = stim_STDs\n",
    "    elif expType == 2:\n",
    "        variability_NS.std_VISpm.std = stim_STDs\n",
    "    elif expType == 3:\n",
    "        variability_NS.std_VISl.std = stim_STDs\n",
    "    elif expType == 4:\n",
    "        variability_NS.std_VISal.std = stim_STDs\n",
    "    elif expType == 5:\n",
    "        variability_NS.std_Cux2.std = stim_STDs\n",
    "    elif expType == 6:\n",
    "        variability_NS.std_Rorb.std = stim_STDs\n",
    "    elif expType == 7:\n",
    "        variability_NS.std_Rbp4.std = stim_STDs\n",
    "    elif expType == 8:\n",
    "        variability_NS.std_Scnn1a.std = stim_STDs\n",
    "print(\"Done\")"
   ]
  },
  {
   "cell_type": "code",
   "execution_count": 141,
   "metadata": {
    "collapsed": false
   },
   "outputs": [],
   "source": [
    "# import pickle\n",
    "# vNSall=pd.DataFrame({\"NS_all\":variability_NS.std_all.std})\n",
    "# vNSall.to_pickle(\"vNSall.pkl\")\n",
    "\n",
    "# vNSVISp=pd.DataFrame({\"NS_VISp\":variability_NS.std_VISp.std})\n",
    "# vNSVISp.to_pickle(\"vNSVISp.pkl\")\n",
    "\n",
    "# vNSVISpm=pd.DataFrame({\"NS_VISpm\":variability_NS.std_VISpm.std})\n",
    "# vNSVISpm.to_pickle(\"vNSVISpm.pkl\")\n",
    "\n",
    "# vNSVISl=pd.DataFrame({\"NS_VISl\":variability_NS.std_VISl.std})\n",
    "# vNSVISl.to_pickle(\"vNSVISl.pkl\")\n",
    "\n",
    "# vNSVISal=pd.DataFrame({\"NS_VISal\":variability_NS.std_VISal.std})\n",
    "# vNSVISal.to_pickle(\"vNSVISal.pkl\")\n",
    "\n",
    "# vNSCux2=pd.DataFrame({\"NS_Cux2\":variability_NS.std_Cux2.std})\n",
    "# vNSCux2.to_pickle(\"vNSCux2.pkl\")\n",
    "\n",
    "# vNSRorb=pd.DataFrame({\"NS_Rorb\":variability_NS.std_Rorb.std})\n",
    "# vNSRorb.to_pickle(\"vNSRorb.pkl\")\n",
    "\n",
    "# vNSRbp4=pd.DataFrame({\"NS_Rbp4\":variability_NS.std_Rbp4.std})\n",
    "# vNSRbp4.to_pickle(\"vNSRbp4.pkl\")\n",
    "\n",
    "# vNSScnn1a=pd.DataFrame({\"NS_Scnn1a\":variability_NS.std_Scnn1a.std})\n",
    "# vNSScnn1a.to_pickle(\"vNSScnn1a.pkl\")"
   ]
  },
  {
   "cell_type": "code",
   "execution_count": 367,
   "metadata": {
    "collapsed": false
   },
   "outputs": [],
   "source": [
    "# NS=pd.read_pickle( \"vNSScnn1a.pkl\" )\n",
    "# NS.head()"
   ]
  },
  {
   "cell_type": "markdown",
   "metadata": {},
   "source": [
    "# Stats"
   ]
  },
  {
   "cell_type": "code",
   "execution_count": 180,
   "metadata": {
    "collapsed": false
   },
   "outputs": [
    {
     "data": {
      "text/plain": [
       "Anderson_ksampResult(statistic=91.681112078784068, critical_values=array([ 0.49854918,  1.3236709 ,  1.91577682,  2.49304213,  3.24593219]), significance_level=7.793229046789034e-144)"
      ]
     },
     "execution_count": 180,
     "metadata": {},
     "output_type": "execute_result"
    }
   ],
   "source": [
    "anderson_ksamp([variability_NS.std_VISp.std,variability_NS.std_VISpm.std,variability_NS.std_VISl.std,variability_NS.std_VISal.std])"
   ]
  },
  {
   "cell_type": "code",
   "execution_count": 181,
   "metadata": {
    "collapsed": false,
    "scrolled": true
   },
   "outputs": [
    {
     "data": {
      "text/plain": [
       "Anderson_ksampResult(statistic=72.396142572421198, critical_values=array([ 0.49854918,  1.3236709 ,  1.91577682,  2.49304213,  3.24593219]), significance_level=3.5110103490880364e-97)"
      ]
     },
     "execution_count": 181,
     "metadata": {},
     "output_type": "execute_result"
    }
   ],
   "source": [
    "anderson_ksamp([variability_NS.std_Rbp4.std,variability_NS.std_Cux2.std,variability_NS.std_Scnn1a.std,variability_NS.std_Rorb.std])"
   ]
  },
  {
   "cell_type": "code",
   "execution_count": 436,
   "metadata": {
    "collapsed": false
   },
   "outputs": [
    {
     "name": "stdout",
     "output_type": "stream",
     "text": [
      "vVISp_VISpm\n",
      "Ks_2sampResult(statistic=0.12719584876362194, pvalue=1.3315152378667187e-21)\n",
      "vVISp_VISl\n",
      "Ks_2sampResult(statistic=0.098134463266388139, pvalue=9.7458991337321856e-15)\n",
      "vVISp_VISal\n",
      "Ks_2sampResult(statistic=0.14174596779758586, pvalue=4.3067304474007878e-28)\n",
      "vVISpm_VISl\n",
      "Ks_2sampResult(statistic=0.038770591456326886, pvalue=0.056116270510482853)\n",
      "vVISpm_VISal\n",
      "Ks_2sampResult(statistic=0.037292711553310487, pvalue=0.087081601627814309)\n",
      "vVISl_VISal\n",
      "Ks_2sampResult(statistic=0.06930379213636273, pvalue=1.3840404544291539e-05)\n",
      "vRbp4_Cux2\n",
      "Ks_2sampResult(statistic=0.14835313174946002, pvalue=1.2367605064638316e-28)\n",
      "vRbp4_Scnn1a\n",
      "Ks_2sampResult(statistic=0.031506138041019177, pvalue=0.6849982346070107)\n",
      "vRbp4_Rorb\n",
      "Ks_2sampResult(statistic=0.14128783041414517, pvalue=2.852284244737306e-17)\n",
      "vCux2_Scnn1a\n",
      "Ks_2sampResult(statistic=0.16800740686507792, pvalue=2.0032234179713175e-16)\n",
      "vCux2_Rorb\n",
      "Ks_2sampResult(statistic=0.044125248793240257, pvalue=0.0038050805542304013)\n",
      "vScnn1a_Rorb\n",
      "Ks_2sampResult(statistic=0.13915442653566201, pvalue=2.3205494759140888e-09)\n"
     ]
    }
   ],
   "source": [
    "# KS 2SAMP\n",
    "vVISp_VISpm=ks_2samp(variability_NS.std_VISp.std,variability_NS.std_VISpm.std)\n",
    "print ('vVISp_VISpm')\n",
    "print (vVISp_VISpm)\n",
    "vVISp_VISl=ks_2samp(variability_NS.std_VISp.std,variability_NS.std_VISl.std)\n",
    "print('vVISp_VISl')\n",
    "print(vVISp_VISl)\n",
    "vVISp_VISal=ks_2samp(variability_NS.std_VISp.std,variability_NS.std_VISal.std)\n",
    "print('vVISp_VISal')\n",
    "print(vVISp_VISal)\n",
    "vVISpm_VISl=ks_2samp(variability_NS.std_VISpm.std,variability_NS.std_VISl.std)\n",
    "print('vVISpm_VISl')\n",
    "print(vVISpm_VISl)\n",
    "vVISpm_VISal=ks_2samp(variability_NS.std_VISpm.std,variability_NS.std_VISal.std)\n",
    "print('vVISpm_VISal')\n",
    "print(vVISpm_VISal)\n",
    "vVISl_VISal=ks_2samp(variability_NS.std_VISl.std,variability_NS.std_VISal.std)\n",
    "print('vVISl_VISal')\n",
    "print(vVISl_VISal)\n",
    "\n",
    "vRbp4_Cux2=ks_2samp(variability_NS.std_Rbp4.std,variability_NS.std_Cux2.std)\n",
    "print('vRbp4_Cux2')\n",
    "print(vRbp4_Cux2)\n",
    "vRbp4_Scnn1a=ks_2samp(variability_NS.std_Rbp4.std,variability_NS.std_Scnn1a.std)\n",
    "print('vRbp4_Scnn1a')\n",
    "print(vRbp4_Scnn1a)\n",
    "vRbp4_Rorb=ks_2samp(variability_NS.std_Rbp4.std,variability_NS.std_Rorb.std)\n",
    "print('vRbp4_Rorb')\n",
    "print(vRbp4_Rorb)\n",
    "vCux2_Scnn1a=ks_2samp(variability_NS.std_Cux2.std,variability_NS.std_Scnn1a.std)\n",
    "print('vCux2_Scnn1a')\n",
    "print(vCux2_Scnn1a)\n",
    "vCux2_Rorb=ks_2samp(variability_NS.std_Cux2.std,variability_NS.std_Rorb.std)\n",
    "print('vCux2_Rorb')\n",
    "print(vCux2_Rorb)\n",
    "vScnn1a_Rorb=ks_2samp(variability_NS.std_Scnn1a.std,variability_NS.std_Rorb.std)\n",
    "print('vScnn1a_Rorb')\n",
    "print(vScnn1a_Rorb)"
   ]
  },
  {
   "cell_type": "code",
   "execution_count": 184,
   "metadata": {
    "collapsed": false
   },
   "outputs": [
    {
     "data": {
      "text/plain": [
       "FlignerResult(statistic=41.925206296840351, pvalue=4.1614634794184887e-09)"
      ]
     },
     "execution_count": 184,
     "metadata": {},
     "output_type": "execute_result"
    }
   ],
   "source": [
    "fligner(variability_NS.std_VISp.std,variability_NS.std_VISpm.std,variability_NS.std_VISl.std,variability_NS.std_VISal.std)"
   ]
  },
  {
   "cell_type": "code",
   "execution_count": 185,
   "metadata": {
    "collapsed": false
   },
   "outputs": [
    {
     "data": {
      "text/plain": [
       "FlignerResult(statistic=34.920657351290757, pvalue=1.2661890789823885e-07)"
      ]
     },
     "execution_count": 185,
     "metadata": {},
     "output_type": "execute_result"
    }
   ],
   "source": [
    "fligner(variability_NS.std_Rbp4.std,variability_NS.std_Cux2.std,variability_NS.std_Scnn1a.std,variability_NS.std_Rorb.std)"
   ]
  },
  {
   "cell_type": "markdown",
   "metadata": {},
   "source": [
    "# Plots"
   ]
  },
  {
   "cell_type": "code",
   "execution_count": 444,
   "metadata": {
    "collapsed": false
   },
   "outputs": [
    {
     "data": {
      "text/plain": [
       "<matplotlib.text.Text at 0x324318d0>"
      ]
     },
     "execution_count": 444,
     "metadata": {},
     "output_type": "execute_result"
    },
    {
     "data": {
      "image/png": "[encoded data removed]",
      "text/plain": [
       "<matplotlib.figure.Figure at 0x3245f160>"
      ]
     },
     "metadata": {},
     "output_type": "display_data"
    }
   ],
   "source": [
    "fig,ax = plt.subplots()\n",
    "ax.hist(variability_NS.std_VISp.std,bins=np.arange(0,100),alpha=0.7,linewidth=2,histtype='step',weights=np.zeros_like(variability_NS.std_VISp.std)+1./len(variability_NS.std_VISp.std));\n",
    "ax.hist(variability_NS.std_VISpm.std,bins=np.arange(0,100),alpha=0.7,linewidth=2,histtype='step',weights=np.zeros_like(variability_NS.std_VISpm.std)+1./len(variability_NS.std_VISpm.std));\n",
    "ax.hist(variability_NS.std_VISl.std,bins=np.arange(0,100),alpha=0.7,linewidth=2,histtype='step',weights=np.zeros_like(variability_NS.std_VISl.std)+1./len(variability_NS.std_VISl.std));\n",
    "ax.hist(variability_NS.std_VISal.std,bins=np.arange(0,100),alpha=0.7,linewidth=2,histtype='step',weights=np.zeros_like(variability_NS.std_VISal.std)+1./len(variability_NS.std_VISal.std));\n",
    "\n",
    "ax.set_xlabel('Standard Deviation')"
   ]
  },
  {
   "cell_type": "code",
   "execution_count": 443,
   "metadata": {
    "collapsed": false
   },
   "outputs": [
    {
     "data": {
      "text/plain": [
       "<matplotlib.text.Text at 0x63616208>"
      ]
     },
     "execution_count": 443,
     "metadata": {},
     "output_type": "execute_result"
    },
    {
     "data": {
      "image/png": "[encoded data removed]",
      "text/plain": [
       "<matplotlib.figure.Figure at 0xab4b90f0>"
      ]
     },
     "metadata": {},
     "output_type": "display_data"
    }
   ],
   "source": [
    "fig,ax = plt.subplots()\n",
    "ax.hist(variability_NS.std_Rbp4.std,bins=np.arange(0,100),alpha=0.7,linewidth=2,histtype='step',weights=np.zeros_like(variability_NS.std_Rbp4.std)+1./len(variability_NS.std_Rbp4.std));\n",
    "ax.hist(variability_NS.std_Cux2.std,bins=np.arange(0,100),alpha=0.7,linewidth=2,histtype='step',weights=np.zeros_like(variability_NS.std_Cux2.std)+1./len(variability_NS.std_Cux2.std));\n",
    "ax.hist(variability_NS.std_Scnn1a.std,bins=np.arange(0,100),alpha=0.7,linewidth=2,histtype='step',weights=np.zeros_like(variability_NS.std_Scnn1a.std)+1./len(variability_NS.std_Scnn1a.std));\n",
    "ax.hist(variability_NS.std_Rorb.std,bins=np.arange(0,100),alpha=0.7,linewidth=2,histtype='step',weights=np.zeros_like(variability_NS.std_Rorb.std)+1./len(variability_NS.std_Rorb.std));\n",
    "\n",
    "ax.set_xlabel('Standard Deviation')"
   ]
  },
  {
   "cell_type": "markdown",
   "metadata": {},
   "source": [
    "# Reliability"
   ]
  },
  {
   "cell_type": "code",
   "execution_count": 345,
   "metadata": {
    "collapsed": true
   },
   "outputs": [
    {
     "name": "stdout",
     "output_type": "stream",
     "text": [
      "three_session_B\n",
      "\t79 sessions to sort through\n",
      "three_session_B and VISp\n",
      "\t25 sessions to sort through\n",
      "three_session_B and VISpm\n",
      "\t21 sessions to sort through\n",
      "three_session_B and VISl\n",
      "\t16 sessions to sort through\n",
      "three_session_B and VISal\n",
      "\t17 sessions to sort through\n",
      "three_session_B and Cux2\n",
      "\t42 sessions to sort through\n",
      "three_session_B and Rorb\n",
      "\t17 sessions to sort through\n",
      "three_session_B and Rbp4\n",
      "\t16 sessions to sort through\n",
      "three_session_B and Scnn1a\n",
      "\t4 sessions to sort through\n",
      "Done\n"
     ]
    }
   ],
   "source": [
    "#reliability_NS = pd.DataFrame(columns = ['r_all','r_VISp','r_VISpm','r_VISl','r_VISal','r_Cux2',\n",
    "                                            'r_Rorb','r_Rbp4','r_Scnn1a'],\n",
    "                         index = ['r'])\n",
    "\n",
    "# osi_dgMax = 1.5\n",
    "# osi_dgMin = 0\n",
    "# walkThresh = 1\n",
    "# runThresh = 5\n",
    "\n",
    "for expType in range(9):\n",
    "    stim_reliability = []\n",
    "    if expType == 0:\n",
    "        currSess_metaData = expMetaData[(expMetaData.session_type == 'three_session_B')]\n",
    "        print(\"three_session_B\")\n",
    "        print(\"\\t%d sessions to sort through\" % currSess_metaData.shape[0])\n",
    "    elif expType == 1:\n",
    "        currSess_metaData = expMetaData[(expMetaData.session_type == 'three_session_B') & (expMetaData.targeted_structure == 'VISp')]\n",
    "        print(\"three_session_B and VISp\")\n",
    "        print(\"\\t%d sessions to sort through\" % currSess_metaData.shape[0])\n",
    "    elif expType == 2:\n",
    "        currSess_metaData = expMetaData[(expMetaData.session_type == 'three_session_B') & (expMetaData.targeted_structure == 'VISpm')]\n",
    "        print(\"three_session_B and VISpm\")\n",
    "        print(\"\\t%d sessions to sort through\" % currSess_metaData.shape[0])\n",
    "    elif expType == 3:\n",
    "        currSess_metaData = expMetaData[(expMetaData.session_type == 'three_session_B') & (expMetaData.targeted_structure == 'VISl')]\n",
    "        print(\"three_session_B and VISl\")\n",
    "        print(\"\\t%d sessions to sort through\" % currSess_metaData.shape[0])\n",
    "    elif expType == 4:\n",
    "        currSess_metaData = expMetaData[(expMetaData.session_type == 'three_session_B') & (expMetaData.targeted_structure == 'VISal')]\n",
    "        print(\"three_session_B and VISal\")\n",
    "        print(\"\\t%d sessions to sort through\" % currSess_metaData.shape[0])\n",
    "    elif expType == 5:\n",
    "        currSess_metaData = expMetaData[(expMetaData.session_type == 'three_session_B') & (expMetaData.cre_line == 'Cux2-CreERT2')]\n",
    "        print(\"three_session_B and Cux2\")\n",
    "        print(\"\\t%d sessions to sort through\" % currSess_metaData.shape[0])\n",
    "    elif expType == 6:\n",
    "        currSess_metaData = expMetaData[(expMetaData.session_type == 'three_session_B') & (expMetaData.cre_line == 'Rorb-IRES2-Cre')]\n",
    "        print(\"three_session_B and Rorb\")\n",
    "        print(\"\\t%d sessions to sort through\" % currSess_metaData.shape[0])\n",
    "    elif expType == 7:\n",
    "        currSess_metaData = expMetaData[(expMetaData.session_type == 'three_session_B') & (expMetaData.cre_line == 'Rbp4-Cre')]\n",
    "        print(\"three_session_B and Rbp4\")\n",
    "        print(\"\\t%d sessions to sort through\" % currSess_metaData.shape[0])\n",
    "    elif expType == 8:\n",
    "        currSess_metaData = expMetaData[(expMetaData.session_type == 'three_session_B') & (expMetaData.cre_line == 'Scnn1a-Tg3-Cre')]\n",
    "        print(\"three_session_B and Scnn1a\")\n",
    "        print(\"\\t%d sessions to sort through\" % currSess_metaData.shape[0])\n",
    "\n",
    "    for expInd in currSess_metaData.index:\n",
    "        expContainerID = currSess_metaData.experiment_container_id[expInd]\n",
    "        expID = currSess_metaData.id[expInd]\n",
    "        exp = boc.get_ophys_experiment_data(ophys_experiment_id = expID)\n",
    "        #_, dF = exp.get_dff_traces()\n",
    "        path = r'D:\\BrainObservatory\\ophys_analysis\\%d_%s_analysis.h5' % (expID, currSess_metaData.session_type[expInd])\n",
    "        sReliability = pd.read_hdf(path, 'analysis/peak')\n",
    "        Reliability=sReliability['response_variability_ns']\n",
    "        stim_reliability.extend(Reliability.values)\n",
    "\n",
    "    if expType == 0:\n",
    "        reliability_NS.r_all.r = stim_reliability\n",
    "    elif expType == 1:\n",
    "        reliability_NS.r_VISp.r = stim_reliability\n",
    "    elif expType == 2:\n",
    "        reliability_NS.r_VISpm.r = stim_reliability\n",
    "    elif expType == 3:\n",
    "        reliability_NS.r_VISl.r = stim_reliability\n",
    "    elif expType == 4:\n",
    "        reliability_NS.r_VISal.r = stim_reliability\n",
    "    elif expType == 5:\n",
    "        reliability_NS.r_Cux2.r = stim_reliability\n",
    "    elif expType == 6:\n",
    "        reliability_NS.r_Rorb.r = stim_reliability\n",
    "    elif expType == 7:\n",
    "        reliability_NS.r_Rbp4.r = stim_reliability\n",
    "    elif expType == 8:\n",
    "        reliability_NS.r_Scnn1a.r = stim_reliability\n",
    "print(\"Done\")"
   ]
  },
  {
   "cell_type": "code",
   "execution_count": 407,
   "metadata": {
    "collapsed": false
   },
   "outputs": [],
   "source": [
    "#rNS=np.asarray(reliability_NS.r_VISp.values[0])"
   ]
  },
  {
   "cell_type": "code",
   "execution_count": 405,
   "metadata": {
    "collapsed": false,
    "scrolled": true
   },
   "outputs": [],
   "source": [
    "#import pickle\n",
    "rNSall=pd.DataFrame({\"R_all\":reliability_NS.r_all.r})\n",
    "rNSall.to_pickle(\"rNSall.pkl\")\n",
    "\n",
    "rNSVISp=pd.DataFrame({\"R_VISp\":reliability_NS.r_VISp.r})\n",
    "rNSVISp.to_pickle(\"rNSVISp.pkl\")\n",
    "\n",
    "rNSVISpm=pd.DataFrame({\"R_VISpm\":reliability_NS.r_VISpm.r})\n",
    "rNSVISpm.to_pickle(\"rNSVISpm.pkl\")\n",
    "\n",
    "rNSVISl=pd.DataFrame({\"R_VISl\":reliability_NS.r_VISl.r})\n",
    "rNSVISl.to_pickle(\"rNSVISl.pkl\")\n",
    "\n",
    "rNSVISal=pd.DataFrame({\"R_VISal\":reliability_NS.r_VISal.r})\n",
    "rNSVISal.to_pickle(\"rNSVISal.pkl\")\n",
    "\n",
    "rNSCux2=pd.DataFrame({\"R_Cux2\":reliability_NS.r_Cux2.r})\n",
    "rNSCux2.to_pickle(\"rNSCux2.pkl\")\n",
    "\n",
    "rNSRorb=pd.DataFrame({\"R_Rorb\":reliability_NS.r_Rorb.r})\n",
    "rNSRorb.to_pickle(\"rNSRorb.pkl\")\n",
    "\n",
    "rNSRbp4=pd.DataFrame({\"R_Rbp4\":reliability_NS.r_Rbp4.r})\n",
    "rNSRbp4.to_pickle(\"rNSRbp4.pkl\")\n",
    "\n",
    "rNSScnn1a=pd.DataFrame({\"R_Scnn1a\":reliability_NS.r_Scnn1a.r})\n",
    "rNSScnn1a.to_pickle(\"rNSScnn1a.pkl\")"
   ]
  },
  {
   "cell_type": "code",
   "execution_count": 406,
   "metadata": {
    "collapsed": false
   },
   "outputs": [
    {
     "data": {
      "text/html": [
       "<div>\n",
       "<table border=\"1\" class=\"dataframe\">\n",
       "  <thead>\n",
       "    <tr style=\"text-align: right;\">\n",
       "      <th></th>\n",
       "      <th>R_all</th>\n",
       "    </tr>\n",
       "  </thead>\n",
       "  <tbody>\n",
       "    <tr>\n",
       "      <th>0</th>\n",
       "      <td>36.0</td>\n",
       "    </tr>\n",
       "    <tr>\n",
       "      <th>1</th>\n",
       "      <td>12.0</td>\n",
       "    </tr>\n",
       "    <tr>\n",
       "      <th>2</th>\n",
       "      <td>24.0</td>\n",
       "    </tr>\n",
       "    <tr>\n",
       "      <th>3</th>\n",
       "      <td>50.0</td>\n",
       "    </tr>\n",
       "    <tr>\n",
       "      <th>4</th>\n",
       "      <td>38.0</td>\n",
       "    </tr>\n",
       "  </tbody>\n",
       "</table>\n",
       "</div>"
      ],
      "text/plain": [
       "   R_all\n",
       "0   36.0\n",
       "1   12.0\n",
       "2   24.0\n",
       "3   50.0\n",
       "4   38.0"
      ]
     },
     "execution_count": 406,
     "metadata": {},
     "output_type": "execute_result"
    }
   ],
   "source": [
    "NS=pd.read_pickle( \"rNSall.pkl\" )\n",
    "NS.head()"
   ]
  },
  {
   "cell_type": "markdown",
   "metadata": {},
   "source": [
    "# Stats"
   ]
  },
  {
   "cell_type": "code",
   "execution_count": 411,
   "metadata": {
    "collapsed": false
   },
   "outputs": [
    {
     "data": {
      "text/plain": [
       "Anderson_ksampResult(statistic=325.53051033082835, critical_values=array([ 0.49854918,  1.3236709 ,  1.91577682,  2.49304213,  3.24593219]), significance_level=0.0)"
      ]
     },
     "execution_count": 411,
     "metadata": {},
     "output_type": "execute_result"
    }
   ],
   "source": [
    "anderson_ksamp([reliability_NS.r_VISp.r,reliability_NS.r_VISpm.r,reliability_NS.r_VISl.r,reliability_NS.r_VISal.r])"
   ]
  },
  {
   "cell_type": "code",
   "execution_count": 438,
   "metadata": {
    "collapsed": false
   },
   "outputs": [
    {
     "data": {
      "text/plain": [
       "Anderson_ksampResult(statistic=25.343905578563515, critical_values=array([ 0.49854918,  1.3236709 ,  1.91577682,  2.49304213,  3.24593219]), significance_level=1.5788647994744197e-20)"
      ]
     },
     "execution_count": 438,
     "metadata": {},
     "output_type": "execute_result"
    }
   ],
   "source": [
    "anderson_ksamp([reliability_NS.r_Rbp4.r,reliability_NS.r_Cux2.r,reliability_NS.r_Scnn1a.r,reliability_NS.r_Rorb.r])"
   ]
  },
  {
   "cell_type": "code",
   "execution_count": 454,
   "metadata": {
    "collapsed": false
   },
   "outputs": [
    {
     "name": "stdout",
     "output_type": "stream",
     "text": [
      "rVISp_VISpm\n",
      "Ks_2sampResult(statistic=0.28150432048081059, pvalue=3.7698603463214289e-104)\n",
      "rVISp_VISl\n",
      "Ks_2sampResult(statistic=0.1258372982283858, pvalue=5.8581201713927649e-24)\n",
      "rVISp_VISal\n",
      "Ks_2sampResult(statistic=0.23726580735778657, pvalue=6.0514734024709039e-78)\n",
      "rVISpm_VISl\n",
      "Ks_2sampResult(statistic=0.15937971323264916, pvalue=1.1882952502080004e-26)\n",
      "rVISpm_VISal\n",
      "Ks_2sampResult(statistic=0.062101965170212325, pvalue=0.00033626149286671822)\n",
      "rVISl_VISal\n",
      "Ks_2sampResult(statistic=0.11142850912940078, pvalue=9.1660309442771494e-14)\n",
      "rRbp4_Cux2\n",
      "Ks_2sampResult(statistic=0.09395425608839697, pvalue=9.7016604140526692e-12)\n",
      "rRbp4_Scnn1a\n",
      "Ks_2sampResult(statistic=0.066656158439342805, pvalue=0.020403323269022933)\n",
      "rRbp4_Rorb\n",
      "Ks_2sampResult(statistic=0.064985517635860024, pvalue=0.00054601674991208336)\n",
      "rCux2_Scnn1a\n",
      "Ks_2sampResult(statistic=0.069610193896352701, pvalue=0.0035848033095793024)\n",
      "rCux2_Rorb\n",
      "Ks_2sampResult(statistic=0.029662271451829703, pvalue=0.11789468187217404)\n",
      "rCux2_Rorb\n",
      "Ks_2sampResult(statistic=0.029662271451829703, pvalue=0.11789468187217404)\n"
     ]
    }
   ],
   "source": [
    "# KS 2SAMP\n",
    "rVISp_VISpm=ks_2samp(reliability_NS.r_VISp.r,reliability_NS.r_VISpm.r)\n",
    "print('rVISp_VISpm')\n",
    "print(rVISp_VISpm)\n",
    "rVISp_VISl=ks_2samp(reliability_NS.r_VISp.r,reliability_NS.r_VISl.r)\n",
    "print('rVISp_VISl')\n",
    "print(rVISp_VISl)\n",
    "rVISp_VISal=ks_2samp(reliability_NS.r_VISp.r,reliability_NS.r_VISal.r)\n",
    "print('rVISp_VISal')\n",
    "print(rVISp_VISal)\n",
    "rVISpm_VISl=ks_2samp(reliability_NS.r_VISpm.r,reliability_NS.r_VISl.r)\n",
    "print('rVISpm_VISl')\n",
    "print(rVISpm_VISl)\n",
    "rVISpm_VISal=ks_2samp(reliability_NS.r_VISpm.r,reliability_NS.r_VISal.r)\n",
    "print('rVISpm_VISal')\n",
    "print(rVISpm_VISal)\n",
    "rVISl_VISal=ks_2samp(reliability_NS.r_VISl.r,reliability_NS.r_VISal.r)\n",
    "print('rVISl_VISal')\n",
    "print(rVISl_VISal)\n",
    "\n",
    "rRbp4_Cux2=ks_2samp(reliability_NS.r_Rbp4.r,reliability_NS.r_Cux2.r)\n",
    "print('rRbp4_Cux2')\n",
    "print(rRbp4_Cux2)\n",
    "rRbp4_Scnn1a=ks_2samp(reliability_NS.r_Rbp4.r,reliability_NS.r_Scnn1a.r)\n",
    "print('rRbp4_Scnn1a')\n",
    "print(rRbp4_Scnn1a)\n",
    "rRbp4_Rorb=ks_2samp(reliability_NS.r_Rbp4.r,reliability_NS.r_Rorb.r)\n",
    "print('rRbp4_Rorb')\n",
    "print(rRbp4_Rorb)\n",
    "rCux2_Scnn1a=ks_2samp(reliability_NS.r_Cux2.r,reliability_NS.r_Scnn1a.r)\n",
    "print('rCux2_Scnn1a')\n",
    "print(rCux2_Scnn1a)\n",
    "rCux2_Rorb=ks_2samp(reliability_NS.r_Cux2.r,reliability_NS.r_Rorb.r)\n",
    "print('rCux2_Rorb')\n",
    "print(rCux2_Rorb)\n",
    "rScnn1a_Rorb=ks_2samp(reliability_NS.r_Scnn1a.r,reliability_NS.r_Rorb.r)\n",
    "print('rCux2_Rorb')\n",
    "print(rCux2_Rorb)"
   ]
  },
  {
   "cell_type": "markdown",
   "metadata": {},
   "source": [
    "# Graphs"
   ]
  },
  {
   "cell_type": "code",
   "execution_count": 477,
   "metadata": {
    "collapsed": false
   },
   "outputs": [
    {
     "data": {
      "text/plain": [
       "<matplotlib.text.Text at 0xe5dc6d8>"
      ]
     },
     "execution_count": 477,
     "metadata": {},
     "output_type": "execute_result"
    },
    {
     "data": {
      "image/png": "[encoded data removed]",
      "text/plain": [
       "<matplotlib.figure.Figure at 0x530c9630>"
      ]
     },
     "metadata": {},
     "output_type": "display_data"
    }
   ],
   "source": [
    "fig,ax = plt.subplots()\n",
    "ax.hist(reliability_NS.r_VISp.r,bins=(50),range=(0,100),alpha=0.7,linewidth=2,histtype='step',weights=np.zeros_like(reliability_NS.r_VISp.r)+1./len(reliability_NS.r_VISp.r));\n",
    "ax.hist(reliability_NS.r_VISpm.r,bins=(50),range=(0,100),alpha=0.7,linewidth=2,histtype='step',weights=np.zeros_like(reliability_NS.r_VISpm.r)+1./len(reliability_NS.r_VISpm.r));\n",
    "ax.hist(reliability_NS.r_VISl.r,bins=(50),range=(0,100),alpha=0.7,linewidth=2,histtype='step',weights=np.zeros_like(reliability_NS.r_VISl.r)+1./len(reliability_NS.r_VISl.r));\n",
    "ax.hist(reliability_NS.r_VISal.r,bins=(50),range=(0,100),alpha=0.7,linewidth=2,histtype='step',weights=np.zeros_like(reliability_NS.r_VISal.r)+1./len(reliability_NS.r_VISal.r));\n",
    "\n",
    "ax.set_xlabel('Reliability')"
   ]
  },
  {
   "cell_type": "code",
   "execution_count": 478,
   "metadata": {
    "collapsed": false
   },
   "outputs": [
    {
     "data": {
      "text/plain": [
       "<matplotlib.text.Text at 0x6b539dd8>"
      ]
     },
     "execution_count": 478,
     "metadata": {},
     "output_type": "execute_result"
    },
    {
     "data": {
      "image/png": "[encoded data removed]",
      "text/plain": [
       "<matplotlib.figure.Figure at 0x6349ec88>"
      ]
     },
     "metadata": {},
     "output_type": "display_data"
    }
   ],
   "source": [
    "fig,ax = plt.subplots()\n",
    "ax.hist(reliability_NS.r_Rbp4.r,bins=(50),range=(0,100),alpha=0.7,linewidth=2,histtype='step',weights=np.zeros_like(reliability_NS.r_Rbp4.r)+1./len(reliability_NS.r_Rbp4.r));\n",
    "ax.hist(reliability_NS.r_Cux2.r,bins=(50),range=(0,100),alpha=0.7,linewidth=2,histtype='step',weights=np.zeros_like(reliability_NS.r_Cux2.r)+1./len(reliability_NS.r_Cux2.r));\n",
    "ax.hist(reliability_NS.r_Scnn1a.r,bins=(50),range=(0,100),alpha=0.7,linewidth=2,histtype='step',weights=np.zeros_like(reliability_NS.r_Scnn1a.r)+1./len(reliability_NS.r_Scnn1a.r));\n",
    "ax.hist(reliability_NS.r_Rorb.r,bins=(50),range=(0,100),alpha=0.7,linewidth=2,histtype='step',weights=np.zeros_like(reliability_NS.r_Rorb.r)+1./len(reliability_NS.r_Rorb.r));\n",
    "\n",
    "ax.set_xlabel('Reliability')"
   ]
  },
  {
   "cell_type": "markdown",
   "metadata": {},
   "source": [
    "# COV"
   ]
  },
  {
   "cell_type": "code",
   "execution_count": 453,
   "metadata": {
    "collapsed": false
   },
   "outputs": [
    {
     "name": "stdout",
     "output_type": "stream",
     "text": [
      "three_session_B\n",
      "\t79 sessions to sort through\n",
      "three_session_B and VISp\n",
      "\t25 sessions to sort through\n",
      "three_session_B and VISpm\n",
      "\t21 sessions to sort through\n",
      "three_session_B and VISl\n",
      "\t16 sessions to sort through\n",
      "three_session_B and VISal\n",
      "\t17 sessions to sort through\n",
      "three_session_B and Cux2\n",
      "\t42 sessions to sort through\n",
      "three_session_B and Rorb\n",
      "\t17 sessions to sort through\n",
      "three_session_B and Rbp4\n",
      "\t16 sessions to sort through\n",
      "three_session_B and Scnn1a\n",
      "\t4 sessions to sort through\n",
      "Done\n"
     ]
    }
   ],
   "source": [
    "cov_NS = pd.DataFrame(columns = ['cov_all','cov_VISp','cov_VISpm','cov_VISl','cov_VISal','cov_Cux2',\n",
    "                                            'cov_Rorb','cov_Rbp4','cov_Scnn1a'],\n",
    "                         index = ['cov'])\n",
    "\n",
    "for expType in range(9):\n",
    "    cov = []\n",
    "    if expType == 0:\n",
    "        currSess_metaData = expMetaData[(expMetaData.session_type == 'three_session_B')]\n",
    "        print(\"three_session_B\")\n",
    "        print(\"\\t%d sessions to sort through\" % currSess_metaData.shape[0])\n",
    "    elif expType == 1:\n",
    "        currSess_metaData = expMetaData[(expMetaData.session_type == 'three_session_B') & (expMetaData.targeted_structure == 'VISp')]\n",
    "        print(\"three_session_B and VISp\")\n",
    "        print(\"\\t%d sessions to sort through\" % currSess_metaData.shape[0])\n",
    "    elif expType == 2:\n",
    "        currSess_metaData = expMetaData[(expMetaData.session_type == 'three_session_B') & (expMetaData.targeted_structure == 'VISpm')]\n",
    "        print(\"three_session_B and VISpm\")\n",
    "        print(\"\\t%d sessions to sort through\" % currSess_metaData.shape[0])\n",
    "    elif expType == 3:\n",
    "        currSess_metaData = expMetaData[(expMetaData.session_type == 'three_session_B') & (expMetaData.targeted_structure == 'VISl')]\n",
    "        print(\"three_session_B and VISl\")\n",
    "        print(\"\\t%d sessions to sort through\" % currSess_metaData.shape[0])\n",
    "    elif expType == 4:\n",
    "        currSess_metaData = expMetaData[(expMetaData.session_type == 'three_session_B') & (expMetaData.targeted_structure == 'VISal')]\n",
    "        print(\"three_session_B and VISal\")\n",
    "        print(\"\\t%d sessions to sort through\" % currSess_metaData.shape[0])\n",
    "    elif expType == 5:\n",
    "        currSess_metaData = expMetaData[(expMetaData.session_type == 'three_session_B') & (expMetaData.cre_line == 'Cux2-CreERT2')]\n",
    "        print(\"three_session_B and Cux2\")\n",
    "        print(\"\\t%d sessions to sort through\" % currSess_metaData.shape[0])\n",
    "    elif expType == 6:\n",
    "        currSess_metaData = expMetaData[(expMetaData.session_type == 'three_session_B') & (expMetaData.cre_line == 'Rorb-IRES2-Cre')]\n",
    "        print(\"three_session_B and Rorb\")\n",
    "        print(\"\\t%d sessions to sort through\" % currSess_metaData.shape[0])\n",
    "    elif expType == 7:\n",
    "        currSess_metaData = expMetaData[(expMetaData.session_type == 'three_session_B') & (expMetaData.cre_line == 'Rbp4-Cre')]\n",
    "        print(\"three_session_B and Rbp4\")\n",
    "        print(\"\\t%d sessions to sort through\" % currSess_metaData.shape[0])\n",
    "    elif expType == 8:\n",
    "        currSess_metaData = expMetaData[(expMetaData.session_type == 'three_session_B') & (expMetaData.cre_line == 'Scnn1a-Tg3-Cre')]\n",
    "        print(\"three_session_B and Scnn1a\")\n",
    "        print(\"\\t%d sessions to sort through\" % currSess_metaData.shape[0])\n",
    "\n",
    "    for expInd in currSess_metaData.index:\n",
    "        expContainerID = currSess_metaData.experiment_container_id[expInd]\n",
    "        expID = currSess_metaData.id[expInd]\n",
    "        exp = boc.get_ophys_experiment_data(ophys_experiment_id = expID)\n",
    "        _, dF = exp.get_dff_traces()\n",
    "        path = r'D:\\BrainObservatory\\ophys_analysis\\%d_%s_analysis.h5' % (expID, currSess_metaData.session_type[expInd])\n",
    "        sResp = pd.read_hdf(path, 'analysis/sweep_response_ns')\n",
    "        sResp_mean = pd.read_hdf(path, 'analysis/mean_sweep_response_ns')\n",
    "        sTabl = pd.read_hdf(path, 'analysis/stim_table_ns')\n",
    "        cellIDs = exp.get_cell_specimen_ids()\n",
    "\n",
    "        relevCells = cells[cells.experiment_container_id == int(expContainerID)]\n",
    "        relevCells = relevCells[~np.isnan(relevCells.pref_image_ns)]\n",
    "\n",
    "        for currCell in relevCells.index:\n",
    "            cellInd = np.where(relevCells.cell_specimen_id[currCell] == cellIDs)[0][0]\n",
    "            prefNS = relevCells.pref_image_ns[currCell]\n",
    "            \n",
    "            prefNS_mask = sTabl.frame == prefNS\n",
    "\n",
    "            cellResponses = sResp_mean[str(cellInd)][prefNS_mask]\n",
    "            cov.append(variation(cellResponses))\n",
    "\n",
    "    if expType == 0:\n",
    "        cov_NS.cov_all.cov = cov\n",
    "    elif expType == 1:\n",
    "        cov_NS.cov_VISp.cov = cov\n",
    "    elif expType == 2:\n",
    "        cov_NS.cov_VISpm.cov = cov\n",
    "    elif expType == 3:\n",
    "        cov_NS.cov_VISl.cov = cov\n",
    "    elif expType == 4:\n",
    "        cov_NS.cov_VISal.cov = cov\n",
    "    elif expType == 5:\n",
    "        cov_NS.cov_Cux2.cov = cov\n",
    "    elif expType == 6:\n",
    "        cov_NS.cov_Rorb.cov = cov\n",
    "    elif expType == 7:\n",
    "        cov_NS.cov_Rbp4.cov = cov\n",
    "    elif expType == 8:\n",
    "        cov_NS.cov_Scnn1a.cov = cov\n",
    "print(\"Done\")"
   ]
  },
  {
   "cell_type": "code",
   "execution_count": 455,
   "metadata": {
    "collapsed": true
   },
   "outputs": [],
   "source": [
    "import pickle\n",
    "covNSall=pd.DataFrame({\"COV_all\":cov_NS.cov_all.cov})\n",
    "covNSall.to_pickle(\"covNSall.pkl\")\n",
    "\n",
    "covNSVISp=pd.DataFrame({\"COV_VISp\":cov_NS.cov_VISp.cov})\n",
    "covNSVISp.to_pickle(\"covNSVISp.pkl\")\n",
    "\n",
    "covNSVISpm=pd.DataFrame({\"COV_VISpm\":cov_NS.cov_VISpm.cov})\n",
    "covNSVISpm.to_pickle(\"covNSVISpm.pkl\")\n",
    "\n",
    "covNSVISl=pd.DataFrame({\"COV_VISl\":cov_NS.cov_VISl.cov})\n",
    "covNSVISl.to_pickle(\"covNSVISl.pkl\")\n",
    "\n",
    "covNSVISal=pd.DataFrame({\"COV_VISal\":cov_NS.cov_VISal.cov})\n",
    "covNSVISal.to_pickle(\"covNSVISal.pkl\")\n",
    "\n",
    "covNSCux2=pd.DataFrame({\"R_Cux2\":cov_NS.cov_Cux2.cov})\n",
    "covNSCux2.to_pickle(\"rNSCux2.pkl\")\n",
    "\n",
    "covNSRorb=pd.DataFrame({\"R_Rorb\":cov_NS.cov_Rorb.cov})\n",
    "covNSRorb.to_pickle(\"rNSRorb.pkl\")\n",
    "\n",
    "covNSRbp4=pd.DataFrame({\"R_Rbp4\":cov_NS.cov_Rbp4.cov})\n",
    "covNSRbp4.to_pickle(\"rNSRbp4.pkl\")\n",
    "\n",
    "covNSScnn1a=pd.DataFrame({\"cov_Scnn1a\":cov_NS.cov_Scnn1a.cov})\n",
    "covNSScnn1a.to_pickle(\"covNSScnn1a.pkl\")"
   ]
  },
  {
   "cell_type": "markdown",
   "metadata": {},
   "source": [
    "# Stats"
   ]
  },
  {
   "cell_type": "code",
   "execution_count": 411,
   "metadata": {
    "collapsed": false
   },
   "outputs": [
    {
     "data": {
      "text/plain": [
       "Anderson_ksampResult(statistic=325.53051033082835, critical_values=array([ 0.49854918,  1.3236709 ,  1.91577682,  2.49304213,  3.24593219]), significance_level=0.0)"
      ]
     },
     "execution_count": 411,
     "metadata": {},
     "output_type": "execute_result"
    }
   ],
   "source": [
    "anderson_ksamp([cov_NS.cov_VISp.cov,cov_NS.cov_VISpm.cov,cov_NS.cov_VISl.cov,cov_NS.cov_VISal.cov])"
   ]
  },
  {
   "cell_type": "code",
   "execution_count": 438,
   "metadata": {
    "collapsed": false
   },
   "outputs": [
    {
     "data": {
      "text/plain": [
       "Anderson_ksampResult(statistic=25.343905578563515, critical_values=array([ 0.49854918,  1.3236709 ,  1.91577682,  2.49304213,  3.24593219]), significance_level=1.5788647994744197e-20)"
      ]
     },
     "execution_count": 438,
     "metadata": {},
     "output_type": "execute_result"
    }
   ],
   "source": [
    "anderson_ksamp([cov_NS.cov_Rbp4.cov,cov_NS.cov_Cux2.cov,cov_NS.cov_Scnn1a.cov,cov_NS.cov_Rorb.cov])"
   ]
  },
  {
   "cell_type": "code",
   "execution_count": 456,
   "metadata": {
    "collapsed": false
   },
   "outputs": [
    {
     "name": "stdout",
     "output_type": "stream",
     "text": [
      "covVISp_VISpm\n",
      "Ks_2sampResult(statistic=0.26128237047101677, pvalue=8.7753814935641916e-90)\n",
      "covVISp_VISl\n",
      "Ks_2sampResult(statistic=0.083783734649826358, pvalue=7.3902699031121015e-11)\n",
      "covVISp_VISal\n",
      "Ks_2sampResult(statistic=0.1814460978375807, pvalue=9.2466402117494939e-46)\n",
      "covVISpm_VISl\n",
      "Ks_2sampResult(statistic=0.18008991767153371, pvalue=6.5512090209685877e-34)\n",
      "covVISpm_VISal\n",
      "Ks_2sampResult(statistic=0.088233186867093361, pvalue=4.8091587142328682e-08)\n",
      "covVISl_VISal\n",
      "Ks_2sampResult(statistic=0.10204604163576292, pvalue=1.2999205442413782e-11)\n",
      "covRbp4_Cux2\n",
      "Ks_2sampResult(statistic=0.035547648529474229, pvalue=0.048018427135743516)\n",
      "covRbp4_Scnn1a\n",
      "Ks_2sampResult(statistic=0.081398583243704359, pvalue=0.00214507706539936)\n",
      "covRbp4_Rorb\n",
      "Ks_2sampResult(statistic=0.02079150224881765, pvalue=0.79499946181700343)\n",
      "covCux2_Scnn1a\n",
      "Ks_2sampResult(statistic=0.090420647704115883, pvalue=4.6428105162541005e-05)\n",
      "covCux2_Rorb\n",
      "Ks_2sampResult(statistic=0.038071257879556009, pvalue=0.018866946546856337)\n",
      "covCux2_Rorb\n",
      "Ks_2sampResult(statistic=0.038071257879556009, pvalue=0.018866946546856337)\n"
     ]
    }
   ],
   "source": [
    "# KS 2SAMP\n",
    "covVISp_VISpm=ks_2samp(cov_NS.cov_VISp.cov,cov_NS.cov_VISpm.cov)\n",
    "print('covVISp_VISpm')\n",
    "print(covVISp_VISpm)\n",
    "covVISp_VISl=ks_2samp(cov_NS.cov_VISp.cov,cov_NS.cov_VISl.cov)\n",
    "print('covVISp_VISl')\n",
    "print(covVISp_VISl)\n",
    "covVISp_VISal=ks_2samp(cov_NS.cov_VISp.cov,cov_NS.cov_VISal.cov)\n",
    "print('covVISp_VISal')\n",
    "print(covVISp_VISal)\n",
    "covVISpm_VISl=ks_2samp(cov_NS.cov_VISpm.cov,cov_NS.cov_VISl.cov)\n",
    "print('covVISpm_VISl')\n",
    "print(covVISpm_VISl)\n",
    "covVISpm_VISal=ks_2samp(cov_NS.cov_VISpm.cov,cov_NS.cov_VISal.cov)\n",
    "print('covVISpm_VISal')\n",
    "print(covVISpm_VISal)\n",
    "covVISl_VISal=ks_2samp(cov_NS.cov_VISl.cov,cov_NS.cov_VISal.cov)\n",
    "print('covVISl_VISal')\n",
    "print(covVISl_VISal)\n",
    "\n",
    "covRbp4_Cux2=ks_2samp(cov_NS.cov_Rbp4.cov,cov_NS.cov_Cux2.cov)\n",
    "print('covRbp4_Cux2')\n",
    "print(covRbp4_Cux2)\n",
    "covRbp4_Scnn1a=ks_2samp(cov_NS.cov_Rbp4.cov,cov_NS.cov_Scnn1a.cov)\n",
    "print('covRbp4_Scnn1a')\n",
    "print(covRbp4_Scnn1a)\n",
    "covRbp4_Rorb=ks_2samp(cov_NS.cov_Rbp4.cov,cov_NS.cov_Rorb.cov)\n",
    "print('covRbp4_Rorb')\n",
    "print(covRbp4_Rorb)\n",
    "covCux2_Scnn1a=ks_2samp(cov_NS.cov_Cux2.cov,cov_NS.cov_Scnn1a.cov)\n",
    "print('covCux2_Scnn1a')\n",
    "print(covCux2_Scnn1a)\n",
    "covCux2_Rorb=ks_2samp(cov_NS.cov_Cux2.cov,cov_NS.cov_Rorb.cov)\n",
    "print('covCux2_Rorb')\n",
    "print(covCux2_Rorb)\n",
    "covScnn1a_Rorb=ks_2samp(cov_NS.cov_Scnn1a.cov,cov_NS.cov_Rorb.cov)\n",
    "print('covCux2_Rorb')\n",
    "print(covCux2_Rorb)"
   ]
  },
  {
   "cell_type": "markdown",
   "metadata": {},
   "source": [
    "# Graphs"
   ]
  },
  {
   "cell_type": "code",
   "execution_count": 462,
   "metadata": {
    "collapsed": false
   },
   "outputs": [
    {
     "data": {
      "text/plain": [
       "<matplotlib.text.Text at 0x88b4e860>"
      ]
     },
     "execution_count": 462,
     "metadata": {},
     "output_type": "execute_result"
    },
    {
     "data": {
      "image/png": "[encoded data removed]",
      "text/plain": [
       "<matplotlib.figure.Figure at 0x5417d4e0>"
      ]
     },
     "metadata": {},
     "output_type": "display_data"
    }
   ],
   "source": [
    "fig,ax = plt.subplots()\n",
    "ax.hist(cov_NS.cov_VISp.cov,bins=np.arange(0,30),alpha=0.7,linewidth=2,histtype='step',weights=np.zeros_like(cov_NS.cov_VISp.cov)+1./len(cov_NS.cov_VISp.cov));\n",
    "ax.hist(cov_NS.cov_VISpm.cov,bins=np.arange(0,30),alpha=0.7,linewidth=2,histtype='step',weights=np.zeros_like(cov_NS.cov_VISpm.cov)+1./len(cov_NS.cov_VISpm.cov));\n",
    "ax.hist(cov_NS.cov_VISl.cov,bins=np.arange(0,30),alpha=0.7,linewidth=2,histtype='step',weights=np.zeros_like(cov_NS.cov_VISl.cov)+1./len(cov_NS.cov_VISl.cov));\n",
    "ax.hist(cov_NS.cov_VISal.cov,bins=np.arange(0,30),alpha=0.7,linewidth=2,histtype='step',weights=np.zeros_like(cov_NS.cov_VISal.cov)+1./len(cov_NS.cov_VISal.cov));\n",
    "\n",
    "ax.set_xlabel('COV')"
   ]
  },
  {
   "cell_type": "code",
   "execution_count": 463,
   "metadata": {
    "collapsed": false
   },
   "outputs": [
    {
     "data": {
      "text/plain": [
       "<matplotlib.text.Text at 0x223bfd68>"
      ]
     },
     "execution_count": 463,
     "metadata": {},
     "output_type": "execute_result"
    },
    {
     "data": {
      "image/png": "[encoded data removed]",
      "text/plain": [
       "<matplotlib.figure.Figure at 0x1d5316d8>"
      ]
     },
     "metadata": {},
     "output_type": "display_data"
    }
   ],
   "source": [
    "fig,ax = plt.subplots()\n",
    "ax.hist(cov_NS.cov_Rbp4.cov,bins=np.arange(0,30),alpha=0.7,linewidth=2,histtype='step',weights=np.zeros_like(cov_NS.cov_Rbp4.cov)+1./len(cov_NS.cov_Rbp4.cov));\n",
    "ax.hist(cov_NS.cov_Cux2.cov,bins=np.arange(0,30),alpha=0.7,linewidth=2,histtype='step',weights=np.zeros_like(cov_NS.cov_Cux2.cov)+1./len(cov_NS.cov_Cux2.cov));\n",
    "ax.hist(cov_NS.cov_Scnn1a.cov,bins=np.arange(0,30),alpha=0.7,linewidth=2,histtype='step',weights=np.zeros_like(cov_NS.cov_Scnn1a.cov)+1./len(cov_NS.cov_Scnn1a.cov));\n",
    "ax.hist(cov_NS.cov_Rorb.cov,bins=np.arange(0,30),alpha=0.7,linewidth=2,histtype='step',weights=np.zeros_like(cov_NS.cov_Rorb.cov)+1./len(cov_NS.cov_Rorb.cov));\n",
    "\n",
    "ax.set_xlabel('COV')"
   ]
  },
  {
   "cell_type": "code",
   "execution_count": null,
   "metadata": {
    "collapsed": true
   },
   "outputs": [],
   "source": []
  }
 ],
 "metadata": {
  "anaconda-cloud": {},
  "kernelspec": {
   "display_name": "Python [Root]",
   "language": "python",
   "name": "Python [Root]"
  },
  "language_info": {
   "codemirror_mode": {
    "name": "ipython",
    "version": 2
   },
   "file_extension": ".py",
   "mimetype": "text/x-python",
   "name": "python",
   "nbconvert_exporter": "python",
   "pygments_lexer": "ipython2",
   "version": "2.7.12"
  }
 },
 "nbformat": 4,
 "nbformat_minor": 0
}
