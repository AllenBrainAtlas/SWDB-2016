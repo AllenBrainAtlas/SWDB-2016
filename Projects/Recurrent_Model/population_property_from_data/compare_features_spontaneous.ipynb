{
 "cells": [
  {
   "cell_type": "code",
   "execution_count": 66,
   "metadata": {
    "collapsed": false
   },
   "outputs": [],
   "source": [
    "import numpy as np\n",
    "import pandas as pd\n",
    "# import seaborn as sns\n",
    "import matplotlib.pyplot as plt\n",
    "%matplotlib inline\n",
    "import os\n",
    "import sys\n",
    "from allensdk.core.brain_observatory_cache import BrainObservatoryCache\n",
    "import scipy.io\n",
    "import time\n",
    "drive_path = '/home/iris/localexp/fhlexp/brain_observatory/'\n",
    "# savingfile='/Users/Jensun/Dropbox/SWDB-2016/project/L23_spontaneous'\n",
    "manifest_path = os.path.join(drive_path,'manifest.json')\n",
    "boc = BrainObservatoryCache(manifest_file=manifest_path)\n",
    "\n",
    "# Experiment containers has as a unique ID, 3 experiment sessions targeting the same set of cells.\n",
    "expt_cont_list = boc.get_experiment_containers()\n",
    "# Experiment session has as a unique sessions ID\n",
    "expt_session_list =boc.get_ophys_experiments()\n",
    "# good=np.load('good_dfof3_cell_ids.npy')"
   ]
  },
  {
   "cell_type": "code",
   "execution_count": 82,
   "metadata": {
    "collapsed": false
   },
   "outputs": [],
   "source": [
    "# compare spontaneous activity\n",
    "stimuli = 'spontaneous'\n",
    "L23_VISp=boc.get_ophys_experiments(targeted_structures=['VISp'], imaging_depths=[175], cre_lines=['Cux2-CreERT2'],stimuli=[stimuli])\n",
    "L4_Cux2_VISp=boc.get_ophys_experiments(targeted_structures=['VISp'], imaging_depths=[275], cre_lines=['Cux2-CreERT2'],stimuli=[stimuli])\n",
    "L4_Rorb_VISp=boc.get_ophys_experiments(targeted_structures=['VISp'],  cre_lines=['Rorb-IRES2-Cre'],stimuli=[stimuli])\n",
    "L4_Scnn1a_VISp=boc.get_ophys_experiments(targeted_structures=['VISp'],  cre_lines=['Scnn1a-Tg3-Cre'],stimuli=[stimuli])\n",
    "L4_VISp=L4_Cux2_VISp+L4_Rorb_VISp+L4_Scnn1a_VISp"
   ]
  },
  {
   "cell_type": "code",
   "execution_count": 413,
   "metadata": {
    "collapsed": false
   },
   "outputs": [],
   "source": [
    "layer4 = []\n",
    "for exp in L4_VISp:\n",
    "    data = boc.get_ophys_experiment_data(ophys_experiment_id = exp['id'])\n",
    "    all_t, all_dff = data.get_dff_traces()\n",
    "    idx = 0\n",
    "    for start, end in data.get_spontaneous_activity_stimulus_table().get_values():\n",
    "        if idx == 0:\n",
    "            t = all_t[start:end]\n",
    "            dff = all_dff[:, start:end]\n",
    "            idx += 1\n",
    "        else:\n",
    "            t = np.r_[t, all_t[start:end]]\n",
    "            dff = np.c_[dff, all_dff[:, start:end]]\n",
    "    layer4.append( [t, dff] )"
   ]
  },
  {
   "cell_type": "code",
   "execution_count": 414,
   "metadata": {
    "collapsed": false
   },
   "outputs": [],
   "source": [
    "layer23 = []\n",
    "for exp in L23_VISp:\n",
    "    data = boc.get_ophys_experiment_data(ophys_experiment_id = exp['id'])\n",
    "    all_t, all_dff = data.get_dff_traces()\n",
    "    idx = 0\n",
    "    for start, end in data.get_spontaneous_activity_stimulus_table().get_values():\n",
    "        if idx == 0:\n",
    "            t = all_t[start:end]\n",
    "            dff = all_dff[:, start:end]\n",
    "            idx += 1\n",
    "        else:\n",
    "            t = np.r_[t, all_t[start:end]]\n",
    "            dff = np.c_[dff, all_dff[:, start:end]]\n",
    "    layer23.append( [t, dff] )"
   ]
  },
  {
   "cell_type": "code",
   "execution_count": 415,
   "metadata": {
    "collapsed": false
   },
   "outputs": [],
   "source": [
    "# plot distribution of mean spontaneuous dff\n",
    "l4_mean = []\n",
    "for sp in layer4:\n",
    "    l4_mean = np.r_[l4_mean, np.mean(sp[1], 1)]\n",
    "\n",
    "l23_mean = []\n",
    "for sp in layer23:\n",
    "    l23_mean = np.r_[l23_mean, np.mean(sp[1], 1)]"
   ]
  },
  {
   "cell_type": "code",
   "execution_count": 445,
   "metadata": {
    "collapsed": false
   },
   "outputs": [
    {
     "name": "stdout",
     "output_type": "stream",
     "text": [
      "rank sum test p value is 5.57777887848e-14\n"
     ]
    },
    {
     "data": {
      "image/png": "[encoded data removed]",
      "text/plain": [
       "<matplotlib.figure.Figure at 0x7f4a8ee326d0>"
      ]
     },
     "metadata": {},
     "output_type": "display_data"
    }
   ],
   "source": [
    "import scipy.stats as stats\n",
    "plt.figure(figsize = (10,6))\n",
    "res1 = plt.hist(l23_mean, bins = 60, range=[-0.03, 0.15],  alpha=0.2, log = False, normed = True, label='layer2/3')\n",
    "res2 = plt.hist(l4_mean, bins = 60, range=[-0.03, 0.15],  alpha=0.2, log = False, normed = True, label='layer4')\n",
    "plt.legend(loc='upper right', fontsize=20)\n",
    "plt.ylabel('probability density', fontsize=20)\n",
    "plt.xlabel('mean dff response', fontsize=20)\n",
    "print 'rank sum test p value is ' + str(stats.mannwhitneyu(l23_mean, l4_mean)[1])\n",
    "plt.show()"
   ]
  }
 ],
 "metadata": {
  "kernelspec": {
   "display_name": "Python 2",
   "language": "python",
   "name": "python2"
  },
  "language_info": {
   "codemirror_mode": {
    "name": "ipython",
    "version": 2
   },
   "file_extension": ".py",
   "mimetype": "text/x-python",
   "name": "python",
   "nbconvert_exporter": "python",
   "pygments_lexer": "ipython2",
   "version": "2.7.6"
  }
 },
 "nbformat": 4,
 "nbformat_minor": 0
}
