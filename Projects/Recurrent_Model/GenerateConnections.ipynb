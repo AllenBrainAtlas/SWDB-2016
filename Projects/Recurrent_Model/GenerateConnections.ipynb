{
 "cells": [
  {
   "cell_type": "code",
   "execution_count": 25,
   "metadata": {
    "collapsed": true
   },
   "outputs": [],
   "source": [
    "#Generates network connections within L23 (stored in ../build/FOLDERNAME/target_xxx_yyy.dat)\n",
    "foldername = 'connections1' #to save connections to\n",
    "neuron_file = 'neuron_list1' #to load neuron data from (needs to be computed beforehand!)\n",
    "\n",
    "#connectivity (EE, EI, IE, II)\n",
    "p0 = [1.0, 1.0, 1.0, 1.0]\n",
    "lmbda = [200., 200., 100., 100.]\n",
    "\n",
    "#synapses\n",
    "num_syn_EE = [10, 50] #uniformly distributed\n",
    "num_syn_EI = [10, 50] #uniformly distributed\n",
    "num_syn_IE = [200, 300] #uniformly distributed\n",
    "num_syn_II = [200, 300] #uniformly distributed"
   ]
  },
  {
   "cell_type": "code",
   "execution_count": 26,
   "metadata": {
    "collapsed": true
   },
   "outputs": [],
   "source": [
    "import os\n",
    "import numpy as np\n",
    "import pandas as pd\n",
    "import matplotlib.pyplot as plt\n",
    "%matplotlib inline"
   ]
  },
  {
   "cell_type": "code",
   "execution_count": 27,
   "metadata": {
    "collapsed": false
   },
   "outputs": [
    {
     "data": {
      "text/html": [
       "<div>\n",
       "<table border=\"1\" class=\"dataframe\">\n",
       "  <thead>\n",
       "    <tr style=\"text-align: right;\">\n",
       "      <th></th>\n",
       "      <th>type</th>\n",
       "      <th>x</th>\n",
       "      <th>y</th>\n",
       "      <th>z</th>\n",
       "      <th>tuning</th>\n",
       "      <th>morphology</th>\n",
       "      <th>cell_par</th>\n",
       "    </tr>\n",
       "    <tr>\n",
       "      <th>index</th>\n",
       "      <th></th>\n",
       "      <th></th>\n",
       "      <th></th>\n",
       "      <th></th>\n",
       "      <th></th>\n",
       "      <th></th>\n",
       "      <th></th>\n",
       "    </tr>\n",
       "  </thead>\n",
       "  <tbody>\n",
       "    <tr>\n",
       "      <th>0</th>\n",
       "      <td>LIF_exc</td>\n",
       "      <td>-213.667</td>\n",
       "      <td>578.490</td>\n",
       "      <td>-6.572</td>\n",
       "      <td>None</td>\n",
       "      <td>None</td>\n",
       "      <td>None</td>\n",
       "    </tr>\n",
       "    <tr>\n",
       "      <th>1</th>\n",
       "      <td>LIF_exc</td>\n",
       "      <td>677.089</td>\n",
       "      <td>617.884</td>\n",
       "      <td>-16.595</td>\n",
       "      <td>None</td>\n",
       "      <td>None</td>\n",
       "      <td>None</td>\n",
       "    </tr>\n",
       "    <tr>\n",
       "      <th>2</th>\n",
       "      <td>LIF_exc</td>\n",
       "      <td>96.879</td>\n",
       "      <td>-863.536</td>\n",
       "      <td>39.966</td>\n",
       "      <td>None</td>\n",
       "      <td>None</td>\n",
       "      <td>None</td>\n",
       "    </tr>\n",
       "    <tr>\n",
       "      <th>3</th>\n",
       "      <td>LIF_exc</td>\n",
       "      <td>559.983</td>\n",
       "      <td>741.936</td>\n",
       "      <td>22.841</td>\n",
       "      <td>None</td>\n",
       "      <td>None</td>\n",
       "      <td>None</td>\n",
       "    </tr>\n",
       "    <tr>\n",
       "      <th>4</th>\n",
       "      <td>LIF_exc</td>\n",
       "      <td>770.114</td>\n",
       "      <td>-166.903</td>\n",
       "      <td>32.458</td>\n",
       "      <td>None</td>\n",
       "      <td>None</td>\n",
       "      <td>None</td>\n",
       "    </tr>\n",
       "  </tbody>\n",
       "</table>\n",
       "</div>"
      ],
      "text/plain": [
       "          type        x        y       z tuning morphology cell_par\n",
       "index                                                              \n",
       "0      LIF_exc -213.667  578.490  -6.572   None       None     None\n",
       "1      LIF_exc  677.089  617.884 -16.595   None       None     None\n",
       "2      LIF_exc   96.879 -863.536  39.966   None       None     None\n",
       "3      LIF_exc  559.983  741.936  22.841   None       None     None\n",
       "4      LIF_exc  770.114 -166.903  32.458   None       None     None"
      ]
     },
     "execution_count": 27,
     "metadata": {},
     "output_type": "execute_result"
    }
   ],
   "source": [
    "#load neuron list\n",
    "nrn_list = pd.DataFrame.from_csv('../build/' + neuron_file + '.csv', sep=' ')\n",
    "idx_E = np.where(nrn_list.type=='LIF_exc')[0]\n",
    "idx_I = np.where(nrn_list.type=='LIF_inh')[0]\n",
    "nrn_list.head()"
   ]
  },
  {
   "cell_type": "code",
   "execution_count": 28,
   "metadata": {
    "collapsed": true
   },
   "outputs": [],
   "source": [
    "#distance-dependent connection probability\n",
    "p_dist_EE = lambda d: p0[0]*np.exp(-d/lmbda[0]) #distance-dependent connection probability\n",
    "p_dist_EI = lambda d: p0[1]*np.exp(-d/lmbda[1]) #distance-dependent connection probability\n",
    "p_dist_IE = lambda d: p0[2]*np.exp(-d/lmbda[2]) #distance-dependent connection probability\n",
    "p_dist_II = lambda d: p0[3]*np.exp(-d/lmbda[3]) #distance-dependent connection probability"
   ]
  },
  {
   "cell_type": "code",
   "execution_count": 29,
   "metadata": {
    "collapsed": true
   },
   "outputs": [],
   "source": [
    "#generate connections\n",
    "d_EE = [] #connection distances\n",
    "d_EI = [] #connection distances\n",
    "d_IE = [] #connection distances\n",
    "d_II = [] #connection distances\n",
    "s_EE = [] #synapses per connection\n",
    "s_EI = [] #synapses per connection\n",
    "s_IE = [] #synapses per connection\n",
    "s_II = [] #synapses per connection\n",
    "\n",
    "col_tgt = []\n",
    "col_src = []\n",
    "col_N = []"
   ]
  },
  {
   "cell_type": "code",
   "execution_count": 30,
   "metadata": {
    "collapsed": true
   },
   "outputs": [],
   "source": [
    "#EE\n",
    "for tgt in idx_E:\n",
    "    tgt_pos = np.array([nrn_list.x[tgt], nrn_list.y[tgt], nrn_list.z[tgt]])\n",
    "    for src in idx_E:\n",
    "        if src==tgt:\n",
    "            continue #no autapses\n",
    "        src_pos = np.array([nrn_list.x[src], nrn_list.y[src], nrn_list.z[src]])\n",
    "        d = np.sqrt(np.sum((tgt_pos-src_pos)**2)) #Euclidean distance\n",
    "        if np.random.rand()<p_dist_EE(d):\n",
    "            d_EE.append(d)\n",
    "            col_tgt.append(tgt)\n",
    "            col_src.append(src)\n",
    "            n_syn = np.random.randint(num_syn_EE[0], num_syn_EE[1]+1)\n",
    "            s_EE.append(n_syn)\n",
    "            col_N.append(n_syn)"
   ]
  },
  {
   "cell_type": "code",
   "execution_count": 31,
   "metadata": {
    "collapsed": false
   },
   "outputs": [],
   "source": [
    "#EI\n",
    "for tgt in idx_E:\n",
    "    tgt_pos = np.array([nrn_list.x[tgt], nrn_list.y[tgt], nrn_list.z[tgt]])\n",
    "    for src in idx_I:\n",
    "        src_pos = np.array([nrn_list.x[src], nrn_list.y[src], nrn_list.z[src]])\n",
    "        d = np.sqrt(np.sum((tgt_pos-src_pos)**2)) #Euclidean distance\n",
    "        if np.random.rand()<p_dist_EI(d):\n",
    "            d_EI.append(d)\n",
    "            col_tgt.append(tgt)\n",
    "            col_src.append(src)\n",
    "            n_syn = np.random.randint(num_syn_EI[0], num_syn_EI[1]+1)\n",
    "            s_EI.append(n_syn)\n",
    "            col_N.append(n_syn)"
   ]
  },
  {
   "cell_type": "code",
   "execution_count": 32,
   "metadata": {
    "collapsed": true
   },
   "outputs": [],
   "source": [
    "#IE\n",
    "for tgt in idx_I:\n",
    "    tgt_pos = np.array([nrn_list.x[tgt], nrn_list.y[tgt], nrn_list.z[tgt]])\n",
    "    for src in idx_E:\n",
    "        src_pos = np.array([nrn_list.x[src], nrn_list.y[src], nrn_list.z[src]])\n",
    "        d = np.sqrt(np.sum((tgt_pos-src_pos)**2)) #Euclidean distance\n",
    "        if np.random.rand()<p_dist_IE(d):\n",
    "            d_IE.append(d)\n",
    "            col_tgt.append(tgt)\n",
    "            col_src.append(src)\n",
    "            n_syn = np.random.randint(num_syn_IE[0], num_syn_IE[1]+1)\n",
    "            s_IE.append(n_syn)\n",
    "            col_N.append(n_syn)"
   ]
  },
  {
   "cell_type": "code",
   "execution_count": 33,
   "metadata": {
    "collapsed": true
   },
   "outputs": [],
   "source": [
    "#II\n",
    "for tgt in idx_I:\n",
    "    tgt_pos = np.array([nrn_list.x[tgt], nrn_list.y[tgt], nrn_list.z[tgt]])\n",
    "    for src in idx_I:\n",
    "        if src==tgt:\n",
    "            continue #no autapses\n",
    "        src_pos = np.array([nrn_list.x[src], nrn_list.y[src], nrn_list.z[src]])\n",
    "        d = np.sqrt(np.sum((tgt_pos-src_pos)**2)) #Euclidean distance\n",
    "        if np.random.rand()<p_dist_II(d):\n",
    "            d_II.append(d)\n",
    "            col_tgt.append(tgt)\n",
    "            col_src.append(src)\n",
    "            n_syn = np.random.randint(num_syn_II[0], num_syn_II[1]+1)\n",
    "            s_II.append(n_syn)\n",
    "            col_N.append(n_syn)"
   ]
  },
  {
   "cell_type": "code",
   "execution_count": 34,
   "metadata": {
    "collapsed": false
   },
   "outputs": [
    {
     "name": "stdout",
     "output_type": "stream",
     "text": [
      "L23-EE: p=4.65%, 29.85 synapses per connection\n",
      "L23-EI: p=4.72%, 29.84 synapses per connection\n",
      "L23-IE: p=1.26%, 250.23 synapses per connection\n",
      "L23-II: p=1.53%, 249.32 synapses per connection\n"
     ]
    }
   ],
   "source": [
    "p_EE = 1.*len(d_EE)/(len(idx_E)*len(idx_E))\n",
    "p_EI = 1.*len(d_EI)/(len(idx_E)*len(idx_I))\n",
    "p_IE = 1.*len(d_IE)/(len(idx_I)*len(idx_E))\n",
    "p_II = 1.*len(d_II)/(len(idx_I)*len(idx_I))\n",
    "print('L23-EE: p=%.2f%%, %.2f synapses per connection'%(100.*p_EE, np.mean(s_EE)))\n",
    "print('L23-EI: p=%.2f%%, %.2f synapses per connection'%(100.*p_EI, np.mean(s_EI)))\n",
    "print('L23-IE: p=%.2f%%, %.2f synapses per connection'%(100.*p_IE, np.mean(s_IE)))\n",
    "print('L23-II: p=%.2f%%, %.2f synapses per connection'%(100.*p_II, np.mean(s_II)))"
   ]
  },
  {
   "cell_type": "code",
   "execution_count": 35,
   "metadata": {
    "collapsed": false
   },
   "outputs": [],
   "source": [
    "if not os.path.exists('../build/' + foldername):\n",
    "    os.mkdir('../build/' + foldername)"
   ]
  },
  {
   "cell_type": "code",
   "execution_count": 36,
   "metadata": {
    "collapsed": false
   },
   "outputs": [
    {
     "data": {
      "text/html": [
       "<div>\n",
       "<table border=\"1\" class=\"dataframe\">\n",
       "  <thead>\n",
       "    <tr style=\"text-align: right;\">\n",
       "      <th></th>\n",
       "      <th>tgt</th>\n",
       "      <th>src</th>\n",
       "      <th>N_syn</th>\n",
       "    </tr>\n",
       "  </thead>\n",
       "  <tbody>\n",
       "    <tr>\n",
       "      <th>0</th>\n",
       "      <td>400</td>\n",
       "      <td>32</td>\n",
       "      <td>261</td>\n",
       "    </tr>\n",
       "    <tr>\n",
       "      <th>1</th>\n",
       "      <td>400</td>\n",
       "      <td>133</td>\n",
       "      <td>252</td>\n",
       "    </tr>\n",
       "    <tr>\n",
       "      <th>2</th>\n",
       "      <td>400</td>\n",
       "      <td>154</td>\n",
       "      <td>244</td>\n",
       "    </tr>\n",
       "    <tr>\n",
       "      <th>3</th>\n",
       "      <td>400</td>\n",
       "      <td>196</td>\n",
       "      <td>283</td>\n",
       "    </tr>\n",
       "    <tr>\n",
       "      <th>4</th>\n",
       "      <td>400</td>\n",
       "      <td>205</td>\n",
       "      <td>250</td>\n",
       "    </tr>\n",
       "  </tbody>\n",
       "</table>\n",
       "</div>"
      ],
      "text/plain": [
       "   tgt  src  N_syn\n",
       "0  400   32    261\n",
       "1  400  133    252\n",
       "2  400  154    244\n",
       "3  400  196    283\n",
       "4  400  205    250"
      ]
     },
     "execution_count": 36,
     "metadata": {},
     "output_type": "execute_result"
    }
   ],
   "source": [
    "#save data (.dat files with 100 target ids each)\n",
    "for n_step in range(0, max(col_tgt), 100):\n",
    "    tgt_sel = np.logical_and(np.array(col_tgt)>=n_step, np.array(col_tgt)<(n_step+100))\n",
    "    conn_dict = {'tgt': np.array(col_tgt)[tgt_sel], 'src': np.array(col_src)[tgt_sel], 'N_syn': np.array(col_N)[tgt_sel]}\n",
    "    conn_list = pd.DataFrame(conn_dict, columns=['tgt', 'src', 'N_syn'])\n",
    "    conn_list.to_csv('../build/' + foldername + '/target_%d_%d.dat'%(n_step, n_step+100), sep=' ', index=False, header=False)\n",
    "conn_list.head()"
   ]
  },
  {
   "cell_type": "code",
   "execution_count": 37,
   "metadata": {
    "collapsed": false
   },
   "outputs": [
    {
     "data": {
      "image/png": "[encoded data removed]",
      "text/plain": [
       "<matplotlib.figure.Figure at 0x11c882210>"
      ]
     },
     "metadata": {},
     "output_type": "display_data"
    }
   ],
   "source": [
    "#plot connectivity profiles\n",
    "d_axis = np.arange(0, 1000)\n",
    "fig, ax = plt.subplots(figsize=(8, 6))\n",
    "ax.plot(d_axis, 100.*p_dist_EE(d_axis), label='L23-EE')\n",
    "ax.plot(d_axis, 100.*p_dist_EI(d_axis), label='L23-EI')\n",
    "ax.plot(d_axis, 100.*p_dist_IE(d_axis), label='L23-IE')\n",
    "ax.plot(d_axis, 100.*p_dist_II(d_axis), label='L23-II')\n",
    "ax.set_xlabel('distance')\n",
    "ax.set_ylabel('p (%)')\n",
    "ax.set_title('Connection probability')\n",
    "ax.grid(True)\n",
    "ax.legend()\n",
    "fig.savefig('../build/' + foldername + '/prob.png', dpi=600)"
   ]
  },
  {
   "cell_type": "code",
   "execution_count": 38,
   "metadata": {
    "collapsed": false
   },
   "outputs": [
    {
     "data": {
      "image/png": "[encoded data removed]",
      "text/plain": [
       "<matplotlib.figure.Figure at 0x118307190>"
      ]
     },
     "metadata": {},
     "output_type": "display_data"
    }
   ],
   "source": [
    "#plot histograms\n",
    "n_bins = np.arange(0, 1001, 50)\n",
    "fig, ax = plt.subplots(2, 2, figsize=(8, 6))\n",
    "ax[0, 0].hist(d_EE, n_bins)\n",
    "ax[0, 0].set_ylabel('Count')\n",
    "ax[0, 0].set_title('L23-EE')\n",
    "ax[0, 1].hist(d_EI, n_bins)\n",
    "ax[0, 1].set_title('L23-EI')\n",
    "ax[1, 0].hist(d_IE, n_bins)\n",
    "ax[1, 0].set_xlabel('distance')\n",
    "ax[1, 0].set_ylabel('Count')\n",
    "ax[1, 0].set_title('L23-IE')\n",
    "ax[1, 1].hist(d_II, n_bins)\n",
    "ax[1, 1].set_xlabel('distance')\n",
    "ax[1, 1].set_title('L23-II')\n",
    "fig.suptitle('Connection distance histograms (p_EE=%.2f%%, p_EI=%.2f%%, p_IE=%.2f%%, p_II=%.2f%%)'%(100.*p_EE, 100.*p_EI, 100.*p_IE, 100.*p_II))\n",
    "fig.savefig('../build/' + foldername + '/disthist.png', dpi=600)"
   ]
  },
  {
   "cell_type": "code",
   "execution_count": 39,
   "metadata": {
    "collapsed": false
   },
   "outputs": [
    {
     "data": {
      "image/png": "[encoded data removed]",
      "text/plain": [
       "<matplotlib.figure.Figure at 0x10a6ec510>"
      ]
     },
     "metadata": {},
     "output_type": "display_data"
    }
   ],
   "source": [
    "#plot number of synapses histograms\n",
    "n_bins = np.arange(np.min([num_syn_EE, num_syn_EI, num_syn_IE, num_syn_II]), np.max([num_syn_EE, num_syn_EI, num_syn_IE, num_syn_II])+2, max(1, np.round(0.05*np.diff([np.min([num_syn_EE, num_syn_EI, num_syn_IE, num_syn_II]), np.max([num_syn_EE, num_syn_EI, num_syn_IE, num_syn_II])]))))-0.5\n",
    "fig, ax = plt.subplots(2, 2, figsize=(8, 6))\n",
    "ax[0, 0].hist(s_EE, n_bins)\n",
    "ax[0, 0].set_ylabel('Count')\n",
    "ax[0, 0].set_title('L23-EE')\n",
    "ax[0, 1].hist(s_EI, n_bins)\n",
    "ax[0, 1].set_title('L23-EI')\n",
    "ax[1, 0].hist(s_IE, n_bins)\n",
    "ax[1, 0].set_xlabel('synapses per connection')\n",
    "ax[1, 0].set_ylabel('Count')\n",
    "ax[1, 0].set_title('L23-IE')\n",
    "ax[1, 1].hist(s_II, n_bins)\n",
    "ax[1, 1].set_xlabel('synapses per connection')\n",
    "ax[1, 1].set_title('L23-II')\n",
    "fig.suptitle('Synapses per connection (s_EE=%.2f, s_EI=%.2f, s_IE=%.2f, s_II=%.2f)'%(np.mean(s_EE), np.mean(s_EI), np.mean(s_IE), np.mean(s_II)))\n",
    "fig.savefig('../build/' + foldername + '/synhist.png', dpi=600)"
   ]
  },
  {
   "cell_type": "code",
   "execution_count": null,
   "metadata": {
    "collapsed": true
   },
   "outputs": [],
   "source": []
  }
 ],
 "metadata": {
  "anaconda-cloud": {},
  "kernelspec": {
   "display_name": "Python [Root]",
   "language": "python",
   "name": "Python [Root]"
  },
  "language_info": {
   "codemirror_mode": {
    "name": "ipython",
    "version": 2
   },
   "file_extension": ".py",
   "mimetype": "text/x-python",
   "name": "python",
   "nbconvert_exporter": "python",
   "pygments_lexer": "ipython2",
   "version": "2.7.12"
  }
 },
 "nbformat": 4,
 "nbformat_minor": 0
}
