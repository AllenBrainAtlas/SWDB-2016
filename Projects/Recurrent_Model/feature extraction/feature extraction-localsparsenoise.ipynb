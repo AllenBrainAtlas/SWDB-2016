{
 "cells": [
  {
   "cell_type": "code",
   "execution_count": 10,
   "metadata": {
    "collapsed": false
   },
   "outputs": [],
   "source": [
    "import numpy as np\n",
    "import pandas as pd\n",
    "import seaborn as sns\n",
    "import matplotlib.pyplot as plt\n",
    "%matplotlib inline\n",
    "import os\n",
    "import sys\n",
    "from allensdk.core.brain_observatory_cache import BrainObservatoryCache\n",
    "import scipy.io\n",
    "import time\n",
    "drive_path = '/Volumes/Brain2016'\n",
    "manifest_path = os.path.join(drive_path,'BrainObservatory/manifest.json')\n",
    "boc = BrainObservatoryCache(manifest_file=manifest_path)\n",
    "good=np.load('good_dfof3_cell_ids.npy')\n"
   ]
  },
  {
   "cell_type": "code",
   "execution_count": 11,
   "metadata": {
    "collapsed": false
   },
   "outputs": [],
   "source": [
    "# get one celltype to pick data\n",
    "#L23_VISp=boc.get_ophys_experiments(targeted_structures=['VISp'], imaging_depths=[175], cre_lines=['Cux2-CreERT2'],stimuli=['locally_sparse_noise'])\n",
    "\n",
    "L4_Cux2_VISp=boc.get_ophys_experiments(targeted_structures=['VISp'], imaging_depths=[275], cre_lines=['Cux2-CreERT2'],stimuli=['locally_sparse_noise'])\n",
    "#L4_Rorb_VISp=boc.get_ophys_experiments(targeted_structures=['VISp'],  cre_lines=['Rorb-IRES2-Cre'],stimuli=['locally_sparse_noise'])\n",
    "#L4_Scnn1a_VISp=boc.get_ophys_experiments(targeted_structures=['VISp'],  cre_lines=['Scnn1a-Tg3-Cre'],stimuli=['locally_sparse_noise'])\n",
    "\n",
    "cell_type='L4_Cux2_VISp'"
   ]
  },
  {
   "cell_type": "code",
   "execution_count": 12,
   "metadata": {
    "collapsed": false
   },
   "outputs": [],
   "source": [
    "# stim_table = data_set_c.get_stimulus_table()\n",
    "# lsn = data_set_c.get_stimulus_template('locally_sparse_noise')\n",
    "# plt.imshow(lsn[0,:,:], cmap='gray', interpolation='none')"
   ]
  },
  {
   "cell_type": "code",
   "execution_count": 13,
   "metadata": {
    "collapsed": false
   },
   "outputs": [],
   "source": [
    "i=0\n",
    "matlabdict={}\n",
    "for experiment in eval(cell_type):\n",
    "    data=boc.get_ophys_experiment_data(ophys_experiment_id = experiment['id'])\n",
    "#select good cells with dfof >3%\n",
    "    cells=data.get_cell_specimen_ids()\n",
    "    good_cells=[n for n in cells if n in good]  \n",
    "    timestamps,exp_dff=data.get_dff_traces(cell_specimen_ids=good_cells)\n",
    "    running_speed,_ = data.get_running_speed()\n",
    "### this is the line to modify for different stimulus\n",
    "    stim_time=data.get_stimulus_table('locally_sparse_noise')\n",
    "    section=len(stim_time)-1\n",
    "    timestamps_all=timestamps[stim_time['start'][0]:stim_time['end'][section]]\n",
    "    exp_dfof_all=exp_dff[:,stim_time['start'][0]:stim_time['end'][section]]\n",
    "    running_speed_all=running_speed[stim_time['start'][0]:stim_time['end'][section]]\n",
    "    matlabdict[cell_type+str(i)]=exp_dfof_all\n",
    "    matlabdict['running_speed'+str(i)]= running_speed_all\n",
    "    matlabdict['timestamps_'+str(i)]= timestamps_all\n",
    "    i=i+1\n",
    "    "
   ]
  },
  {
   "cell_type": "code",
   "execution_count": 14,
   "metadata": {
    "collapsed": false
   },
   "outputs": [],
   "source": [
    "savingfile='/Users/Jensun/Dropbox/SWDB-2016/project/localsparsenoise/'+cell_type\n",
    "scipy.io.savemat(savingfile,matlabdict)"
   ]
  },
  {
   "cell_type": "code",
   "execution_count": null,
   "metadata": {
    "collapsed": true
   },
   "outputs": [],
   "source": []
  }
 ],
 "metadata": {
  "anaconda-cloud": {},
  "kernelspec": {
   "display_name": "Python [Root]",
   "language": "python",
   "name": "Python [Root]"
  },
  "language_info": {
   "codemirror_mode": {
    "name": "ipython",
    "version": 2
   },
   "file_extension": ".py",
   "mimetype": "text/x-python",
   "name": "python",
   "nbconvert_exporter": "python",
   "pygments_lexer": "ipython2",
   "version": "2.7.12"
  }
 },
 "nbformat": 4,
 "nbformat_minor": 0
}
