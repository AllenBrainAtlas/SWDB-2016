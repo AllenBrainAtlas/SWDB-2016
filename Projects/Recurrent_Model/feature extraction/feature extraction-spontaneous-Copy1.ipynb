{
 "cells": [
  {
   "cell_type": "code",
   "execution_count": 2,
   "metadata": {
    "collapsed": false
   },
   "outputs": [],
   "source": [
    "import numpy as np\n",
    "import pandas as pd\n",
    "import seaborn as sns\n",
    "import matplotlib.pyplot as plt\n",
    "%matplotlib inline\n",
    "import os\n",
    "import sys\n",
    "from allensdk.core.brain_observatory_cache import BrainObservatoryCache\n",
    "import scipy.io\n",
    "import time\n",
    "drive_path = '/Volumes/Brain2016'\n",
    "manifest_path = os.path.join(drive_path,'BrainObservatory/manifest.json')\n",
    "boc = BrainObservatoryCache(manifest_file=manifest_path)\n",
    "stimulustype='spontaneous'\n",
    "good=np.load('good_dfof3_cell_ids.npy')"
   ]
  },
  {
   "cell_type": "code",
   "execution_count": 3,
   "metadata": {
    "collapsed": false
   },
   "outputs": [],
   "source": [
    "L23_VISp=boc.get_ophys_experiments(targeted_structures=['VISp'], imaging_depths=[175], cre_lines=['Cux2-CreERT2'],stimuli=[stimulustype])\n",
    "L4_Cux2_VISp=boc.get_ophys_experiments(targeted_structures=['VISp'], imaging_depths=[275], cre_lines=['Cux2-CreERT2'],stimuli=[stimulustype])\n",
    "L4_Rorb_VISp=boc.get_ophys_experiments(targeted_structures=['VISp'],  cre_lines=['Rorb-IRES2-Cre'],stimuli=[stimulustype])\n",
    "L4_Scnn1a_VISp=boc.get_ophys_experiments(targeted_structures=['VISp'],  cre_lines=['Scnn1a-Tg3-Cre'],stimuli=[stimulustype])\n",
    "\n",
    "celltype='L4_Scnn1a_VISp'"
   ]
  },
  {
   "cell_type": "code",
   "execution_count": 11,
   "metadata": {
    "collapsed": false
   },
   "outputs": [
    {
     "name": "stdout",
     "output_type": "stream",
     "text": [
      "0 30696 39576\n",
      "1 66794 75704\n",
      "2 66782 75689\n",
      "3 22569 31451\n",
      "4 73142 82022\n",
      "5 22608 31508\n",
      "6 73288 82186\n",
      "7 30688 39567\n",
      "8 30701 39580\n",
      "9 22567 31446\n",
      "10 73133 82011\n",
      "11 22573 31453\n",
      "12 73147 82028\n",
      "13 66804 75715\n",
      "14 30708 39588\n",
      "15 66791 75700\n"
     ]
    }
   ],
   "source": [
    "## get one experiment at a time to pick data\n",
    "i=0\n",
    "for experiment in eval(celltype):\n",
    "    data=boc.get_ophys_experiment_data(ophys_experiment_id = experiment['id'])\n",
    "#select good cells with dfof >3%\n",
    "    cells=data.get_cell_specimen_ids()\n",
    "    good_cells=[n for n in cells if n in good]  \n",
    "    timestamps,exp_1_dff=data.get_dff_traces(cell_specimen_ids=good_cells)\n",
    "    running_speed,_ = data.get_running_speed()\n",
    "    stim_time=data.get_spontaneous_activity_stimulus_table() \n",
    "    for section in range(len(stim_time)):\n",
    "        starting=stim_time['start'][section]\n",
    "        ending=stim_time['end'][section]\n",
    "        timestamps=timestamps[starting:ending]\n",
    "        exp_1=exp_1_dff[:,starting:ending]          \n",
    "        running_speed=running_speed[starting:ending]\n",
    "        i=i+1\n",
    "        matlabdict[cell_line+str(i)]=exp_1"
   ]
  },
  {
   "cell_type": "code",
   "execution_count": null,
   "metadata": {
    "collapsed": true
   },
   "outputs": [],
   "source": [
    "savingfile='/Volumes/Brain2016/modelling/'+ stimulustype+ '/'+cell_line\n",
    "print savingfile\n",
    "scipy.io.savemat(savingfile,matlabdict)"
   ]
  }
 ],
 "metadata": {
  "anaconda-cloud": {},
  "kernelspec": {
   "display_name": "Python [Root]",
   "language": "python",
   "name": "Python [Root]"
  },
  "language_info": {
   "codemirror_mode": {
    "name": "ipython",
    "version": 2
   },
   "file_extension": ".py",
   "mimetype": "text/x-python",
   "name": "python",
   "nbconvert_exporter": "python",
   "pygments_lexer": "ipython2",
   "version": "2.7.12"
  }
 },
 "nbformat": 4,
 "nbformat_minor": 0
}
