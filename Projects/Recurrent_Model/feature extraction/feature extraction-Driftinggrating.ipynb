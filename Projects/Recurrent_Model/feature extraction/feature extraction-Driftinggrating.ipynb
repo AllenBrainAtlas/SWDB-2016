{
 "cells": [
  {
   "cell_type": "code",
   "execution_count": 21,
   "metadata": {
    "collapsed": false
   },
   "outputs": [],
   "source": [
    "import numpy as np\n",
    "import pandas as pd\n",
    "import seaborn as sns\n",
    "import matplotlib.pyplot as plt\n",
    "%matplotlib inline\n",
    "import os\n",
    "import sys\n",
    "from allensdk.core.brain_observatory_cache import BrainObservatoryCache\n",
    "from constrained_foopsi import *\n",
    "import scipy.io\n",
    "import time\n",
    "drive_path = '/Volumes/Brain2016'\n",
    "manifest_path = os.path.join(drive_path,'BrainObservatory/manifest.json')\n",
    "boc = BrainObservatoryCache(manifest_file=manifest_path)\n",
    "\n",
    "# get all good cells and pick from there\n",
    "good=np.load('good_dfof3_cell_ids.npy')"
   ]
  },
  {
   "cell_type": "code",
   "execution_count": 22,
   "metadata": {
    "collapsed": false
   },
   "outputs": [],
   "source": [
    "### THIS IS THE LINE TO MODIFY FOR DIFFERENT STIMULUS\n",
    "stimulus_type='drifting_gratings'\n",
    "\n",
    "# Different celltypes\n",
    "L23_VISp=boc.get_ophys_experiments(targeted_structures=['VISp'], imaging_depths=[175], cre_lines=['Cux2-CreERT2'],stimuli=[stimulus_type])\n",
    "L4_Cux2_VISp=boc.get_ophys_experiments(targeted_structures=['VISp'], imaging_depths=[275], cre_lines=['Cux2-CreERT2'],stimuli=[stimulus_type])\n",
    "L4_Rorb_VISp=boc.get_ophys_experiments(targeted_structures=['VISp'],  cre_lines=['Rorb-IRES2-Cre'],stimuli=[stimulus_type])\n",
    "L4_Scnn1a_VISp=boc.get_ophys_experiments(targeted_structures=['VISp'],  cre_lines=['Scnn1a-Tg3-Cre'],stimuli=[stimulus_type])"
   ]
  },
  {
   "cell_type": "code",
   "execution_count": 27,
   "metadata": {
    "collapsed": false
   },
   "outputs": [
    {
     "name": "stdout",
     "output_type": "stream",
     "text": [
      "115503 60 115503\n",
      "(37680,) (60, 37680) (37680,)\n",
      "115459 111 115459\n",
      "(37680,) (111, 37680) (37680,)\n",
      "115495 191 115495\n",
      "(37680,) (191, 37680) (37680,)\n",
      "115477 117 115477\n",
      "(37680,) (117, 37680) (37680,)\n"
     ]
    }
   ],
   "source": [
    "# get one celltype to pick data\n",
    "cell_line='L4_Scnn1a_VISp'\n",
    "\n",
    "i=0\n",
    "matlabdict={}\n",
    "for experiment in eval(cell_line):\n",
    "    data=boc.get_ophys_experiment_data(ophys_experiment_id = experiment['id'])\n",
    "    #select good cells with dfof >3%\n",
    "    cells=data.get_cell_specimen_ids()\n",
    "    good_cells=[n for n in cells if n in good]\n",
    "    timestamps,exp_dff=data.get_dff_traces(cell_specimen_ids=good_cells)\n",
    "    running_speed,_ = data.get_running_speed()\n",
    "    print len(timestamps),len(exp_dff),len(running_speed)   \n",
    "### THIS IS THE LINE TO MODIFY FOR DIFFERENT STIMULUS\n",
    "    stim_time=data.get_stimulus_table(stimulus_type).sort_values(by=['blank_sweep','temporal_frequency','orientation']).reset_index(drop=True)\n",
    "\n",
    "    time_rearrange=np.empty([0])\n",
    "    running_rearrange=np.empty([0])\n",
    "#    chunksize=stim_time['end'][0]-stim_time['start'][0]\n",
    "    chunksize=60\n",
    "    dfof_rearrange=np.empty([len(good_cells),0])\n",
    "    ######rearrange data according to the stimulus\n",
    "    for section in range(stim_time.shape[0]):\n",
    "        time_chunk=timestamps[stim_time['start'][section]:stim_time['start'][section]+chunksize]\n",
    "        time_rearrange=np.concatenate((time_rearrange,time_chunk))\n",
    "        exp_dff_chunk=exp_dff[:,stim_time['start'][section]:stim_time['start'][section]+chunksize]\n",
    "        dfof_rearrange=np.concatenate((dfof_rearrange,exp_dff_chunk),axis=1)\n",
    "        running_chunk=running_speed[stim_time['start'][section]:stim_time['start'][section]+chunksize]\n",
    "        running_rearrange=np.concatenate((running_rearrange,running_chunk))\n",
    "    \n",
    "    print time_rearrange.shape,dfof_rearrange.shape,running_rearrange.shape\n",
    "    matlabdict[cell_line+str(i)]=dfof_rearrange\n",
    "    matlabdict['running_speed'+str(i)]= running_rearrange\n",
    "    matlabdict['timestamps_'+str(i)]= time_rearrange\n",
    "    i=i+1"
   ]
  },
  {
   "cell_type": "code",
   "execution_count": 28,
   "metadata": {
    "collapsed": false
   },
   "outputs": [
    {
     "name": "stdout",
     "output_type": "stream",
     "text": [
      "/Volumes/Brain2016/modelling/drifting_gratings/L4_Scnn1a_VISp\n"
     ]
    }
   ],
   "source": [
    "savingfile='/Volumes/Brain2016/modelling/'+ stimulus_type+ '/'+cell_line\n",
    "print savingfile\n",
    "scipy.io.savemat(savingfile,matlabdict)"
   ]
  },
  {
   "cell_type": "code",
   "execution_count": null,
   "metadata": {
    "collapsed": true
   },
   "outputs": [],
   "source": []
  }
 ],
 "metadata": {
  "anaconda-cloud": {},
  "kernelspec": {
   "display_name": "Python [Root]",
   "language": "python",
   "name": "Python [Root]"
  },
  "language_info": {
   "codemirror_mode": {
    "name": "ipython",
    "version": 2
   },
   "file_extension": ".py",
   "mimetype": "text/x-python",
   "name": "python",
   "nbconvert_exporter": "python",
   "pygments_lexer": "ipython2",
   "version": "2.7.12"
  }
 },
 "nbformat": 4,
 "nbformat_minor": 0
}
