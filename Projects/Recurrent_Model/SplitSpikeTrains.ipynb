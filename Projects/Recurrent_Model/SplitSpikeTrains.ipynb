{
 "cells": [
  {
   "cell_type": "code",
   "execution_count": 1,
   "metadata": {
    "collapsed": true
   },
   "outputs": [],
   "source": [
    "#Splits spike trains data into smaller parts\n",
    "inp_spike_file = 'spike_trains_DG_L4' #to load spikes from\n",
    "spikes_sel = (448, 896) #time interval in (s)"
   ]
  },
  {
   "cell_type": "code",
   "execution_count": 2,
   "metadata": {
    "collapsed": true
   },
   "outputs": [],
   "source": [
    "import numpy as np"
   ]
  },
  {
   "cell_type": "code",
   "execution_count": 3,
   "metadata": {
    "collapsed": false
   },
   "outputs": [],
   "source": [
    "#load input spikes from file\n",
    "f = open('../input_spike_trains/' + inp_spike_file + '.dat', 'r')\n",
    "inp_spikes = f.readlines()\n",
    "f.close()\n",
    "spike_times = []\n",
    "for n in range(len(inp_spikes)):\n",
    "    inp_spike_train = inp_spikes[n][1:-2].split(' ')\n",
    "    if len(inp_spike_train[0])>0:\n",
    "        inp_spike_train = [1e-3*float(inp_spike_train[k]) for k in range(len(inp_spike_train))] #convert to (s)\n",
    "    else:\n",
    "        inp_spike_train = []\n",
    "    #filter spikes\n",
    "    inp_spike_train = list(np.array(inp_spike_train)[np.logical_and(np.array(inp_spike_train)>=spikes_sel[0], np.array(inp_spike_train)<spikes_sel[1])]-spikes_sel[0])\n",
    "    spike_times.append(inp_spike_train)"
   ]
  },
  {
   "cell_type": "code",
   "execution_count": 4,
   "metadata": {
    "collapsed": false
   },
   "outputs": [],
   "source": [
    "#write to file\n",
    "f = open('../input_spike_trains/' + inp_spike_file + '_%d-%ds.dat'%(spikes_sel[0], spikes_sel[1]), 'w')\n",
    "for k in range(len(spike_times)):\n",
    "    for n in range(len(spike_times[k])):\n",
    "        f.write(' %.3f'%(1e3*spike_times[k][n])) #convert to (ms)\n",
    "    f.write('\\n')\n",
    "f.close()"
   ]
  },
  {
   "cell_type": "code",
   "execution_count": 5,
   "metadata": {
    "collapsed": false
   },
   "outputs": [
    {
     "name": "stdout",
     "output_type": "stream",
     "text": [
      "Signal length: 445.53s\n",
      "Mean firing rate: 1.03Hz\n"
     ]
    }
   ],
   "source": [
    "signal_length = max(max(spike_times))\n",
    "num_inputs = len(spike_times)\n",
    "firing_rates = [1.0*len(spike_times[k])/signal_length for k in range(len(spike_times))] #compute single-cell firing rates\n",
    "num_spikes = np.sum([len(spike_times[k]) for k in range(len(spike_times))])  #total number of spikes\n",
    "mean_rate = 1.0*num_spikes/(signal_length*num_inputs)\n",
    "print('Signal length: %.2fs'%(signal_length))\n",
    "print('Mean firing rate: %.2fHz'%(mean_rate))"
   ]
  },
  {
   "cell_type": "code",
   "execution_count": null,
   "metadata": {
    "collapsed": true
   },
   "outputs": [],
   "source": []
  }
 ],
 "metadata": {
  "anaconda-cloud": {},
  "kernelspec": {
   "display_name": "Python [Root]",
   "language": "python",
   "name": "Python [Root]"
  },
  "language_info": {
   "codemirror_mode": {
    "name": "ipython",
    "version": 2
   },
   "file_extension": ".py",
   "mimetype": "text/x-python",
   "name": "python",
   "nbconvert_exporter": "python",
   "pygments_lexer": "ipython2",
   "version": "2.7.11"
  }
 },
 "nbformat": 4,
 "nbformat_minor": 0
}
