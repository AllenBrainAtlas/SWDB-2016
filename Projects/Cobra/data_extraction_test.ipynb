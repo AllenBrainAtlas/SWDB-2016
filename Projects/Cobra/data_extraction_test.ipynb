{
 "cells": [
  {
   "cell_type": "markdown",
   "metadata": {},
   "source": [
    "### data extraction test\n",
    "For dynamic brain workshop... testing ways to query Allen data structures for easy analysis."
   ]
  },
  {
   "cell_type": "code",
   "execution_count": 1,
   "metadata": {
    "collapsed": true
   },
   "outputs": [],
   "source": [
    "#expt_list = [511510699, 511510664, 511510797, 511507650, 511510917,\n",
    "#             511510675, 511510911, 511510860, 511510658, 511498500]\n",
    "container_id = 511510699\n",
    "session_idx = 1"
   ]
  },
  {
   "cell_type": "code",
   "execution_count": 2,
   "metadata": {
    "collapsed": false
   },
   "outputs": [
    {
     "name": "stderr",
     "output_type": "stream",
     "text": [
      "/Users/philipmardoum/Desktop/anaconda/lib/python2.7/site-packages/matplotlib/font_manager.py:273: UserWarning: Matplotlib is building the font cache using fc-list. This may take a moment.\n",
      "  warnings.warn('Matplotlib is building the font cache using fc-list. This may take a moment.')\n"
     ]
    }
   ],
   "source": [
    "drive_path = '/Volumes/Brain2016/'  ######## note... *changed to fix problem -- may need to remove ' 1'\n",
    "\n",
    "import numpy as np\n",
    "import pandas as pd\n",
    "import os\n",
    "import sys\n",
    "\n",
    "import matplotlib.pyplot as plt\n",
    "%matplotlib inline"
   ]
  },
  {
   "cell_type": "code",
   "execution_count": 3,
   "metadata": {
    "collapsed": false
   },
   "outputs": [],
   "source": [
    "from allensdk.core.brain_observatory_cache import BrainObservatoryCache\n",
    "\n",
    "manifest_path = os.path.join(drive_path,'BrainObservatory/manifest.json')\n",
    "boc = BrainObservatoryCache(manifest_file=manifest_path)\n",
    "\n",
    "expt_cont_list = boc.get_experiment_containers()"
   ]
  },
  {
   "cell_type": "code",
   "execution_count": 4,
   "metadata": {
    "collapsed": false,
    "scrolled": true
   },
   "outputs": [
    {
     "name": "stdout",
     "output_type": "stream",
     "text": [
      "[{'targeted_structure': u'VISp', 'imaging_depth': 275, 'age_days': 124.0, 'id': 511510699, 'cre_line': u'Cux2-CreERT2'}]\n"
     ]
    }
   ],
   "source": [
    "expt_session_info = pd.DataFrame(boc.get_ophys_experiments(experiment_container_ids=[container_id]))\n",
    "#print(boc.get_experiment_containers(ids = [container_id]))\n",
    "print(boc.get_experiment_containers(ids=[container_id]))"
   ]
  },
  {
   "cell_type": "code",
   "execution_count": 5,
   "metadata": {
    "collapsed": false
   },
   "outputs": [],
   "source": [
    "# Create list of 3 session IDs in exp container, in standard order.\n",
    "container_session_ids = [expt_session_info[expt_session_info['session_type'] == 'three_session_A']['id'].values[0],\n",
    "                         expt_session_info[expt_session_info['session_type'] == 'three_session_B']['id'].values[0],\n",
    "                         expt_session_info[expt_session_info['session_type'] == 'three_session_C']['id'].values[0]]"
   ]
  },
  {
   "cell_type": "code",
   "execution_count": 6,
   "metadata": {
    "collapsed": false
   },
   "outputs": [
    {
     "name": "stdout",
     "output_type": "stream",
     "text": [
      "(319,)\n",
      "(289,)\n",
      "(243,)\n",
      "[u'drifting_gratings', u'natural_movie_one', u'natural_movie_three', u'spontaneous']\n",
      "[u'natural_movie_one', u'natural_scenes', u'spontaneous', u'static_gratings']\n",
      "[u'locally_sparse_noise', u'natural_movie_one', u'natural_movie_two', u'spontaneous']\n"
     ]
    }
   ],
   "source": [
    "data_sets = []\n",
    "specimens_by_session = []\n",
    "#specimen_indices_by_session = []  # useless because this just ends up being a list of consec numbers\n",
    "for i in range(3):\n",
    "    data_sets.append(boc.get_ophys_experiment_data(ophys_experiment_id = container_session_ids[i]))\n",
    "    specimens_by_session.append(data_sets[i].get_cell_specimen_ids())\n",
    "    #specimen_indices_by_session.append(data_sets[i].get_cell_specimen_indices(list(specimens_by_session[i])))\n",
    "specimens_by_session = np.array(specimens_by_session)\n",
    "#specimen_indices_by_session = np.array(specimen_indices_by_session)\n",
    "\n",
    "stable_specimen_ids = set(specimens_by_session[0]) & set(specimens_by_session[1]) & set(specimens_by_session[2])\n",
    "stable_specimen_ids = np.array(list(stable_specimen_ids))\n",
    "\n",
    "print(specimens_by_session[0].shape)\n",
    "print(specimens_by_session[1].shape)\n",
    "print(specimens_by_session[2].shape)\n",
    "\n",
    "for i in range(3):\n",
    "    print(data_sets[i].list_stimuli())"
   ]
  },
  {
   "cell_type": "code",
   "execution_count": 7,
   "metadata": {
    "collapsed": false
   },
   "outputs": [],
   "source": [
    "# After this point many variables are specific to the session chosen above\n",
    "current_data_set = data_sets[session_idx]\n",
    "\n",
    "# stim_tables = []\n",
    "# for i in range(len(current_data_set.list_stimuli())):\n",
    "#     stim_tables.append(current_data_set.get_stimulus_table(current_data_set.list_stimuli()[i]))\n",
    "# print(current_data_set.list_stimuli()[2])\n",
    "# temp = pd.DataFrame(stim_tables[2])\n",
    "# temp"
   ]
  },
  {
   "cell_type": "code",
   "execution_count": 8,
   "metadata": {
    "collapsed": false,
    "scrolled": true
   },
   "outputs": [],
   "source": [
    "# stim_table = current_data_set.get_stimulus_table('natural_movie_one')\n",
    "# stim_table\n",
    "\n",
    "# Note... stim_table_m1 = current_data_set.get_stimulus_table('natural_movie_one') gives a start and end for each frame"
   ]
  },
  {
   "cell_type": "code",
   "execution_count": 9,
   "metadata": {
    "collapsed": false
   },
   "outputs": [],
   "source": [
    "# %matplotlib notebook\n",
    "# plt.plot(stim_table.start.values)"
   ]
  },
  {
   "cell_type": "code",
   "execution_count": 10,
   "metadata": {
    "collapsed": false
   },
   "outputs": [
    {
     "ename": "NameError",
     "evalue": "name 'stim_table' is not defined",
     "traceback": [
      "\u001b[0;31m---------------------------------------------------------------------------\u001b[0m",
      "\u001b[0;31mNameError\u001b[0m                                 Traceback (most recent call last)",
      "\u001b[0;32m<ipython-input-10-33d8db8e7086>\u001b[0m in \u001b[0;36m<module>\u001b[0;34m()\u001b[0m\n\u001b[0;32m----> 1\u001b[0;31m \u001b[0;32mprint\u001b[0m\u001b[0;34m(\u001b[0m\u001b[0mstim_table\u001b[0m\u001b[0;34m.\u001b[0m\u001b[0mstart\u001b[0m\u001b[0;34m[\u001b[0m\u001b[0;36m18000\u001b[0m\u001b[0;34m]\u001b[0m\u001b[0;34m)\u001b[0m\u001b[0;34m\u001b[0m\u001b[0m\n\u001b[0m\u001b[1;32m      2\u001b[0m \u001b[0;32mprint\u001b[0m\u001b[0;34m(\u001b[0m\u001b[0mstim_table\u001b[0m\u001b[0;34m.\u001b[0m\u001b[0mend\u001b[0m\u001b[0;34m.\u001b[0m\u001b[0mvalues\u001b[0m\u001b[0;34m[\u001b[0m\u001b[0;34m-\u001b[0m\u001b[0;36m1\u001b[0m\u001b[0;34m]\u001b[0m\u001b[0;34m)\u001b[0m\u001b[0;34m\u001b[0m\u001b[0m\n",
      "\u001b[0;31mNameError\u001b[0m: name 'stim_table' is not defined"
     ],
     "output_type": "error"
    }
   ],
   "source": [
    "# print(stim_table.start[18000])\n",
    "# print(stim_table.end.values[-1])"
   ]
  },
  {
   "cell_type": "code",
   "execution_count": null,
   "metadata": {
    "collapsed": true
   },
   "outputs": [],
   "source": [
    ""
   ]
  },
  {
   "cell_type": "code",
   "execution_count": 11,
   "metadata": {
    "collapsed": false
   },
   "outputs": [
    {
     "ename": "KeyboardInterrupt",
     "evalue": "",
     "traceback": [
      "\u001b[0;31m---------------------------------------------------------------------------\u001b[0m",
      "\u001b[0;31mKeyboardInterrupt\u001b[0m                         Traceback (most recent call last)",
      "\u001b[0;32m<ipython-input-11-2abd331a240a>\u001b[0m in \u001b[0;36m<module>\u001b[0;34m()\u001b[0m\n\u001b[1;32m      1\u001b[0m \u001b[0;32mfrom\u001b[0m \u001b[0mallensdk\u001b[0m\u001b[0;34m.\u001b[0m\u001b[0mbrain_observatory\u001b[0m\u001b[0;34m.\u001b[0m\u001b[0mnatural_scenes\u001b[0m \u001b[0;32mimport\u001b[0m \u001b[0mNaturalScenes\u001b[0m\u001b[0;34m\u001b[0m\u001b[0m\n\u001b[0;32m----> 2\u001b[0;31m \u001b[0mns\u001b[0m \u001b[0;34m=\u001b[0m \u001b[0mNaturalScenes\u001b[0m\u001b[0;34m(\u001b[0m\u001b[0mcurrent_data_set\u001b[0m\u001b[0;34m)\u001b[0m\u001b[0;34m\u001b[0m\u001b[0m\n\u001b[0m",
      "\u001b[0;32m/Users/philipmardoum/Desktop/anaconda/lib/python2.7/site-packages/allensdk/brain_observatory/natural_scenes.pyc\u001b[0m in \u001b[0;36m__init__\u001b[0;34m(self, data_set, **kwargs)\u001b[0m\n\u001b[1;32m     40\u001b[0m         \u001b[0mself\u001b[0m\u001b[0;34m.\u001b[0m\u001b[0minterlength\u001b[0m \u001b[0;34m=\u001b[0m \u001b[0;36m4\u001b[0m \u001b[0;34m*\u001b[0m \u001b[0mself\u001b[0m\u001b[0;34m.\u001b[0m\u001b[0msweeplength\u001b[0m\u001b[0;34m\u001b[0m\u001b[0m\n\u001b[1;32m     41\u001b[0m         \u001b[0mself\u001b[0m\u001b[0;34m.\u001b[0m\u001b[0mextralength\u001b[0m \u001b[0;34m=\u001b[0m \u001b[0mself\u001b[0m\u001b[0;34m.\u001b[0m\u001b[0msweeplength\u001b[0m\u001b[0;34m\u001b[0m\u001b[0m\n\u001b[0;32m---> 42\u001b[0;31m         \u001b[0mself\u001b[0m\u001b[0;34m.\u001b[0m\u001b[0msweep_response\u001b[0m\u001b[0;34m,\u001b[0m \u001b[0mself\u001b[0m\u001b[0;34m.\u001b[0m\u001b[0mmean_sweep_response\u001b[0m\u001b[0;34m,\u001b[0m \u001b[0mself\u001b[0m\u001b[0;34m.\u001b[0m\u001b[0mpval\u001b[0m \u001b[0;34m=\u001b[0m \u001b[0mself\u001b[0m\u001b[0;34m.\u001b[0m\u001b[0mget_sweep_response\u001b[0m\u001b[0;34m(\u001b[0m\u001b[0;34m)\u001b[0m\u001b[0;34m\u001b[0m\u001b[0m\n\u001b[0m\u001b[1;32m     43\u001b[0m         \u001b[0mself\u001b[0m\u001b[0;34m.\u001b[0m\u001b[0mresponse\u001b[0m \u001b[0;34m=\u001b[0m \u001b[0mself\u001b[0m\u001b[0;34m.\u001b[0m\u001b[0mget_response\u001b[0m\u001b[0;34m(\u001b[0m\u001b[0;34m)\u001b[0m\u001b[0;34m\u001b[0m\u001b[0m\n\u001b[1;32m     44\u001b[0m         \u001b[0mself\u001b[0m\u001b[0;34m.\u001b[0m\u001b[0mpeak\u001b[0m \u001b[0;34m=\u001b[0m \u001b[0mself\u001b[0m\u001b[0;34m.\u001b[0m\u001b[0mget_peak\u001b[0m\u001b[0;34m(\u001b[0m\u001b[0;34m)\u001b[0m\u001b[0;34m\u001b[0m\u001b[0m\n",
      "\u001b[0;32m/Users/philipmardoum/Desktop/anaconda/lib/python2.7/site-packages/allensdk/brain_observatory/stimulus_analysis.pyc\u001b[0m in \u001b[0;36mget_sweep_response\u001b[0;34m(self)\u001b[0m\n\u001b[1;32m    327\u001b[0m                 \u001b[0mtemp\u001b[0m \u001b[0;34m=\u001b[0m \u001b[0mself\u001b[0m\u001b[0;34m.\u001b[0m\u001b[0mcelltraces\u001b[0m\u001b[0;34m[\u001b[0m\u001b[0mnc\u001b[0m\u001b[0;34m,\u001b[0m \u001b[0mstart\u001b[0m\u001b[0;34m:\u001b[0m\u001b[0mend\u001b[0m\u001b[0;34m]\u001b[0m\u001b[0;34m\u001b[0m\u001b[0m\n\u001b[1;32m    328\u001b[0m                 \u001b[0msweep_response\u001b[0m\u001b[0;34m[\u001b[0m\u001b[0mstr\u001b[0m\u001b[0;34m(\u001b[0m\u001b[0mnc\u001b[0m\u001b[0;34m)\u001b[0m\u001b[0;34m]\u001b[0m\u001b[0;34m[\u001b[0m\u001b[0mindex\u001b[0m\u001b[0;34m]\u001b[0m \u001b[0;34m=\u001b[0m \u001b[0;36m100\u001b[0m \u001b[0;34m*\u001b[0m\u001b[0;31m \u001b[0m\u001b[0;31m\\\u001b[0m\u001b[0;34m\u001b[0m\u001b[0m\n\u001b[0;32m--> 329\u001b[0;31m                     \u001b[0;34m(\u001b[0m\u001b[0;34m(\u001b[0m\u001b[0mtemp\u001b[0m \u001b[0;34m/\u001b[0m \u001b[0mnp\u001b[0m\u001b[0;34m.\u001b[0m\u001b[0mmean\u001b[0m\u001b[0;34m(\u001b[0m\u001b[0mtemp\u001b[0m\u001b[0;34m[\u001b[0m\u001b[0;34m:\u001b[0m\u001b[0mself\u001b[0m\u001b[0;34m.\u001b[0m\u001b[0minterlength\u001b[0m\u001b[0;34m]\u001b[0m\u001b[0;34m)\u001b[0m\u001b[0;34m)\u001b[0m \u001b[0;34m-\u001b[0m \u001b[0;36m1\u001b[0m\u001b[0;34m)\u001b[0m\u001b[0;34m\u001b[0m\u001b[0m\n\u001b[0m\u001b[1;32m    330\u001b[0m             \u001b[0msweep_response\u001b[0m\u001b[0;34m[\u001b[0m\u001b[0;34m'dx'\u001b[0m\u001b[0;34m]\u001b[0m\u001b[0;34m[\u001b[0m\u001b[0mindex\u001b[0m\u001b[0;34m]\u001b[0m \u001b[0;34m=\u001b[0m \u001b[0mself\u001b[0m\u001b[0;34m.\u001b[0m\u001b[0mdxcm\u001b[0m\u001b[0;34m[\u001b[0m\u001b[0mstart\u001b[0m\u001b[0;34m:\u001b[0m\u001b[0mend\u001b[0m\u001b[0;34m]\u001b[0m\u001b[0;34m\u001b[0m\u001b[0m\n\u001b[1;32m    331\u001b[0m \u001b[0;34m\u001b[0m\u001b[0m\n",
      "\u001b[0;31mKeyboardInterrupt\u001b[0m: "
     ],
     "output_type": "error"
    }
   ],
   "source": [
    "# # Takes way too long to run...\n",
    "# from allensdk.brain_observatory.natural_scenes import NaturalScenes\n",
    "# ns = NaturalScenes(current_data_set)."
   ]
  },
  {
   "cell_type": "code",
   "execution_count": null,
   "metadata": {
    "collapsed": false
   },
   "outputs": [],
   "source": [
    "timestamps, traces = current_data_set.get_corrected_fluorescence_traces()\n",
    "\n",
    "stable_specimen_indices = current_data_set.get_cell_specimen_indices(stable_specimen_ids)\n",
    "\n",
    "traces_subset = traces[stable_specimen_indices, :]"
   ]
  },
  {
   "cell_type": "code",
   "execution_count": null,
   "metadata": {
    "collapsed": false
   },
   "outputs": [],
   "source": [
    "responses = traces[:,stim_table.start[0] : stim_table.end[0]]\n",
    "responses.shape"
   ]
  },
  {
   "cell_type": "code",
   "execution_count": null,
   "metadata": {
    "collapsed": false
   },
   "outputs": [],
   "source": [
    "from allensdk.brain_observatory.natural_movie import NaturalMovie\n",
    "from allensdk.brain_observatory import stimulus_info\n",
    "\n",
    "nm1 = NaturalMovie(current_data_set, movie_name=stimulus_info.NATURAL_MOVIE_ONE)\n",
    "sweep_response_nm1 = nm1.sweep_response\n",
    "\n",
    "print(sweep_response_nm1.shape)"
   ]
  },
  {
   "cell_type": "code",
   "execution_count": null,
   "metadata": {
    "collapsed": false
   },
   "outputs": [],
   "source": [
    "# preallocate activity matrix: zeros(# cells, length of trace)\n",
    "responses_movie = np.zeros((sweep_response_nm1.shape[1], len(sweep_response_nm1.iloc[0,0])))\n",
    "for i in range(sweep_response_nm1.shape[1]):\n",
    "    responses_movie[i,:] = sweep_response_nm1.iloc[0,i]\n",
    "\n",
    "responses_movie.shape"
   ]
  },
  {
   "cell_type": "code",
   "execution_count": null,
   "metadata": {
    "collapsed": false
   },
   "outputs": [],
   "source": [
    "# for the cell we've been dealing with:\n",
    "plt.figure(figsize=(8,6))\n",
    "for i in range(100):\n",
    "    plt.plot(sweep_response_nm1[str(i)].iloc[0])"
   ]
  },
  {
   "cell_type": "code",
   "execution_count": null,
   "metadata": {
    "collapsed": false
   },
   "outputs": [],
   "source": [
    "nm3 = NaturalMovie(current_data_set, movie_name=stimulus_info.NATURAL_MOVIE_THREE)\n",
    "sweep_response_nm3 = nm3.sweep_response\n",
    "\n",
    "sweep_response_nm3.shape"
   ]
  },
  {
   "cell_type": "code",
   "execution_count": null,
   "metadata": {
    "collapsed": false
   },
   "outputs": [],
   "source": [
    "sweep_response_nm3"
   ]
  },
  {
   "cell_type": "code",
   "execution_count": null,
   "metadata": {
    "collapsed": false
   },
   "outputs": [],
   "source": [
    "# preallocate activity matrix: zeros(# cells, length of trace)\n",
    "responses_movie = np.zeros((sweep_response_nm3.shape[1], len(sweep_response_nm3.iloc[0,0])))\n",
    "for i in range(sweep_response_nm3.shape[1]):\n",
    "    responses_movie[i,:] = sweep_response_nm3.iloc[0,i]\n",
    "\n",
    "responses_movie.shape"
   ]
  },
  {
   "cell_type": "code",
   "execution_count": null,
   "metadata": {
    "collapsed": false
   },
   "outputs": [],
   "source": [
    "plt.figure(figsize=(8,6))\n",
    "for i in range(100):\n",
    "    plt.plot(sweep_response_nm3[str(i)].iloc[0])"
   ]
  }
 ],
 "metadata": {
  "kernelspec": {
   "display_name": "Python [Root]",
   "language": "python",
   "name": "Python [Root]"
  },
  "language_info": {
   "codemirror_mode": {
    "name": "ipython",
    "version": 2.0
   },
   "file_extension": ".py",
   "mimetype": "text/x-python",
   "name": "python",
   "nbconvert_exporter": "python",
   "pygments_lexer": "ipython2",
   "version": "2.7.12"
  }
 },
 "nbformat": 4,
 "nbformat_minor": 0
}