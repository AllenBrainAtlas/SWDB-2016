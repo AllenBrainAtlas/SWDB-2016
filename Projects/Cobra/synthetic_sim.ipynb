{
 "cells": [
  {
   "cell_type": "markdown",
   "metadata": {
    "collapsed": true
   },
   "source": [
    "Ok so we have two modules, one that creates the synthetic data, and another that extracts the population correlation.\n",
    "\n",
    "Here we put these together."
   ]
  },
  {
   "cell_type": "code",
   "execution_count": 7,
   "metadata": {
    "collapsed": false
   },
   "outputs": [],
   "source": [
    "#import the modules\n",
    "import cobra_analysis as ca  #this loads the function\n",
    "import synthetic_signals as ss #this loads the data\n",
    "import numpy as np\n",
    "\n",
    "import matplotlib.pyplot as plt\n",
    "%matplotlib inline"
   ]
  },
  {
   "cell_type": "code",
   "execution_count": 3,
   "metadata": {
    "collapsed": false
   },
   "outputs": [
    {
     "name": "stdout",
     "output_type": "stream",
     "text": [
      "[ 0.          0.22222222  0.44444444  0.66666667  0.88888889  1.11111111\n",
      "  1.33333333  1.55555556  1.77777778  2.        ]\n",
      "shape of activity matrices is: (2000, 100, 10)\n",
      "2000\n",
      "10\n"
     ]
    }
   ],
   "source": [
    "#get the signals\n",
    "#inputs: n_cells, coupling_factors=np.linspace(0, 2, 10), duration=2000, dt=1.0):\n",
    "activity_matrices, coupling_factors=ss.get_set_of_coupled_activity_matrices(100)\n",
    "print coupling_factors\n",
    "\n",
    "num_cells=np.shape(activity_matrices)[0]\n",
    "num_factors=len(coupling_factors)\n",
    "print 'shape of activity matrices is: ' + str(np.shape(activity_matrices))\n",
    "print(num_cells)\n",
    "print(num_factors)"
   ]
  },
  {
   "cell_type": "code",
   "execution_count": 9,
   "metadata": {
    "collapsed": false
   },
   "outputs": [
    {
     "name": "stdout",
     "output_type": "stream",
     "text": [
      "(100,)\n",
      "(100,)\n",
      "(100,)\n",
      "(100,)\n",
      "(100,)\n",
      "(100,)\n",
      "(100,)\n",
      "(100,)\n",
      "(100,)\n",
      "(100,)\n",
      "(100,)\n",
      "(100,)\n",
      "(100,)\n",
      "(100,)\n",
      "(100,)\n",
      "(100,)\n",
      "(100,)\n",
      "(100,)\n",
      "(100,)\n",
      "(100,)\n"
     ]
    }
   ],
   "source": [
    "#get the pop_corr\n",
    "mean_network_pop_corr=np.zeros_like(coupling_factors)\n",
    "std_network_pop_corr=np.zeros_like(coupling_factors)\n",
    "\n",
    "\n",
    "for i in np.arange(num_factors):\n",
    "    temp =  ca.pop_corr(activity_matrices[:,:,i])\n",
    "    mean_network_pop_corr[i]=np.mean(temp)\n",
    "    std_network_pop_corr[i]=np.std(temp,ddof=1)"
   ]
  },
  {
   "cell_type": "markdown",
   "metadata": {
    "collapsed": true
   },
   "source": [
    "Now plot"
   ]
  },
  {
   "cell_type": "code",
   "execution_count": 10,
   "metadata": {
    "collapsed": false
   },
   "outputs": [
    {
     "data": {
      "text/plain": [
       "<matplotlib.text.Text at 0x1082d8bd0>"
      ]
     },
     "execution_count": 10,
     "metadata": {},
     "output_type": "execute_result"
    },
    {
     "name": "stderr",
     "output_type": "stream",
     "text": [
      "/Users/madsarv/anaconda/lib/python2.7/site-packages/matplotlib/collections.py:590: FutureWarning: elementwise comparison failed; returning scalar instead, but in the future will perform elementwise comparison\n",
      "  if self._edgecolors == str('face'):\n"
     ]
    },
    {
     "data": {
      "image/png": "[encoded data removed]",
      "text/plain": [
       "<matplotlib.figure.Figure at 0x10823fe90>"
      ]
     },
     "metadata": {},
     "output_type": "display_data"
    }
   ],
   "source": [
    "fig,ax = plt.subplots(1)\n",
    "ax.errorbar(coupling_factors,mean_network_pop_corr,yerr=std_network_pop_corr)\n",
    "ax.set_title('Mean Network PopCorr for different coupling factors')\n",
    "ax.set_xlabel('Network Coupling Factor')\n",
    "ax.set_ylabel('Mean PopCorr')"
   ]
  },
  {
   "cell_type": "code",
   "execution_count": null,
   "metadata": {
    "collapsed": true
   },
   "outputs": [],
   "source": [
    ""
   ]
  }
 ],
 "metadata": {
  "kernelspec": {
   "display_name": "Python 2",
   "language": "python",
   "name": "python2"
  },
  "language_info": {
   "codemirror_mode": {
    "name": "ipython",
    "version": 2.0
   },
   "file_extension": ".py",
   "mimetype": "text/x-python",
   "name": "python",
   "nbconvert_exporter": "python",
   "pygments_lexer": "ipython2",
   "version": "2.7.12"
  }
 },
 "nbformat": 4,
 "nbformat_minor": 0
}