{
 "cells": [
  {
   "cell_type": "markdown",
   "metadata": {},
   "source": [
    "# This notebook uses the raster maginalized model (Okun et al. 2012, 2015) to generate a raster of neural responses, constrained by three properties of the observed raster of neural response:\n",
    "1) the generated raster has the same mean firing rate for each cell as the original raster\n",
    "2) the generated raster has the same overall population rate as the original raster\n",
    "3) the generated raster has the same population coupling for each cell as the original raster\n",
    "\n",
    "Note that it's not always possible to generate such a raster. In this case, an error message is given.\n",
    "\n",
    "# Then the pairwise correlation coefficients are calculated, and plotted for the original raster and the generated raster.\n",
    "\n",
    "# The main goal here is to determine whether these pairwise correlations are similar. If they are, this means that the three constraints used to generate the raster also capture pairwise correlations.\n",
    "This is because the model generated data doesn't have access to the pairwise correlations, apriori. So if this generated data can capture pairwise correlations, it means that the imposed constraints (firing rate, population rate, population coupling) implicitly impose pairwise correlations. Another way of sayign this is that population coupling contains pairwise correlation data.\n",
    "\n",
    "#To check that it's the last constraint of population coupling, and not the first two constraints from the list above, that capture pairwise correlations, we will also generate a raster that meets only first two constraints. We will again compare the pairwise population matrices for this generated data and the real data. \n",
    "The expectation is that the data generated from all three constraints will have similar pairwise correlations to the real data, but that the data generated from just the first two constraints will have less similar pairise correlations."
   ]
  },
  {
   "cell_type": "code",
   "execution_count": 1,
   "metadata": {
    "collapsed": false
   },
   "outputs": [
    {
     "name": "stderr",
     "output_type": "stream",
     "text": [
      ":0: FutureWarning: IPython widgets are experimental and may change in the future.\n"
     ]
    }
   ],
   "source": [
    "import numpy as np\n",
    "import seaborn as sns\n",
    "import matplotlib.pyplot as plt\n",
    "%matplotlib inline\n",
    "\n",
    "import synthetic_signals\n",
    "import Okun_Shuffle\n",
    "import generate_RMM\n",
    "\n"
   ]
  },
  {
   "cell_type": "markdown",
   "metadata": {},
   "source": [
    "# Import some synthetic data, play around with firing rate and  number of cells.\n"
   ]
  },
  {
   "cell_type": "code",
   "execution_count": 4,
   "metadata": {
    "collapsed": false
   },
   "outputs": [
    {
     "name": "stdout",
     "output_type": "stream",
     "text": [
      "the mean firing rate is 9.746\n"
     ]
    }
   ],
   "source": [
    "\n",
    "# Get raster by creating a synthetic spike train. This is useful for checking effect of firing rate, correlation on popcorr. \n",
    "    #But otherwise it has no inherent structure to it, so you're better off using Okun's raster below.\n",
    "t_start=0\n",
    "t_end = 10000 #in microseconds\n",
    "n_cells = 50\n",
    "firing_rate= 10 # in spikes per second\n",
    "spike_times, cell_ids = synthetic_signals.generate_poisson_spike_train_population(n_cells, firing_rate,\n",
    "                                                                               correlation=6 * 0.08,\n",
    "                                                                               t_start=t_start,\n",
    "                                                                               t_stop=t_end,\n",
    "                                                                               seed=1 + 1000)\n",
    "\n",
    "# #now make a binned (1 ms) and binarized raster to use for the shuffling\n",
    "raster_original = Okun_Shuffle.make_raster(spike_times, cell_ids, n_cells, t_start,t_end, dt_conv=1.0)\n",
    "raster=raster_original.copy()\n",
    "\n",
    "\n",
    "print \"the mean firing rate is \" + np.str(np.mean(np.sum(raster,axis=0) /(t_end/1000) ))"
   ]
  },
  {
   "cell_type": "markdown",
   "metadata": {},
   "source": [
    "# Import raster provided by Okun (I think it's real data). 10 cells, ~5 minutes, mea firing rate ~20 Hz."
   ]
  },
  {
   "cell_type": "code",
   "execution_count": 5,
   "metadata": {
    "collapsed": false
   },
   "outputs": [
    {
     "name": "stdout",
     "output_type": "stream",
     "text": [
      "the mean firing rate is 23.6\n"
     ]
    }
   ],
   "source": [
    "#2) Use the raster provided by Michael Okun (I think it's real data) with his sample code\n",
    "#(note that this requires raster.mat to be in your working directory)\n",
    "\n",
    "t_end = 5*60*1000 # in ms, total time of raster\n",
    "import h5py\n",
    "f = h5py.File('raster.mat','r') #load mat file\n",
    "variables = f.items()\n",
    "for var in variables:\n",
    "    name = var[0]\n",
    "    data = var[1]\n",
    "    if type(data) is h5py.Dataset:\n",
    "        raster_big = data.value\n",
    "\n",
    "raster = raster_big[:,:]\n",
    "\n",
    "print \"the mean firing rate is \" + np.str(np.mean(np.sum(raster,axis=0) /(t_end/1000) ))"
   ]
  },
  {
   "cell_type": "markdown",
   "metadata": {},
   "source": [
    "# Import extracted spikes from Observatory Calcium Data\n"
   ]
  },
  {
   "cell_type": "code",
   "execution_count": 7,
   "metadata": {
    "collapsed": false
   },
   "outputs": [
    {
     "name": "stdout",
     "output_type": "stream",
     "text": [
      "(242L, 115730L)\n",
      "(36000L, 20L)\n",
      "the mean firing rate is 0.286658249158\n"
     ]
    }
   ],
   "source": [
    "#For now, we'll use the spikes Anatoly extracted from session B. He already binarized them (into 33 ms bins, since the calcium\n",
    "#imaging sampling rate is 30 Hz)\n",
    "#this raster contains responses from 242 neurons for an hour (64 minutes of data, for the whole session B)\n",
    "#we'll use smaller chunks of time\n",
    "\n",
    "t_end_frame=30*1200 #%10 seconds of data\n",
    "t_end = t_end_frame*(33) # in ms, total time of raster\n",
    "import h5py\n",
    "f = h5py.File('observatory_raster.mat','r') #load mat file\n",
    "variables = f.items()\n",
    "for var in variables:\n",
    "    name = var[0]\n",
    "    data = var[1]\n",
    "    if type(data) is h5py.Dataset:\n",
    "        raster_big = data.value\n",
    "\n",
    "        \n",
    "raster = raster_big.T[:t_end_frame,:20]\n",
    "print np.shape(raster_big)\n",
    "print np.shape(raster)\n",
    "\n",
    "print \"the mean firing rate is \" + np.str(np.mean(np.sum(raster,axis=0) /(t_end/1000) ))"
   ]
  },
  {
   "cell_type": "markdown",
   "metadata": {},
   "source": [
    "Generate a new raster ('raster_model_wcoupling') that matches the constraints of the original raster. \n",
    "Then check to see that it meets the constraints. During this process, we'll also generate a raster that matches just the first two constraints (raster_model).\n"
   ]
  },
  {
   "cell_type": "code",
   "execution_count": 8,
   "metadata": {
    "collapsed": false
   },
   "outputs": [
    {
     "name": "stdout",
     "output_type": "stream",
     "text": [
      "Only the first two constraints match (firing rate and population rate).\n",
      "All three constraints match.\n"
     ]
    }
   ],
   "source": [
    "raster_model, raster_model_wcoupling = generate_RMM.get_cRMM_raster(raster)\n",
    "\n",
    "constraints_met = generate_RMM.check_constraints(raster,raster_model)\n",
    "constraints_met_wcoupling = generate_RMM.check_constraints(raster,raster_model_wcoupling)\n"
   ]
  },
  {
   "cell_type": "markdown",
   "metadata": {},
   "source": [
    "Calculate pairwise correlation coefficients for both the original and the two generated raster. The 'sortby' optional flag indicateswhether the matrices should be row-sorted by each cell's population coupling. The default is that they should be sorted (as done in Okun et al. 2015), since this allows easy visual verification that:\n",
    "1) cells with high population couplin also have high pairwise population coefficients\n",
    "2) pairwise population coefficients for generated data are similar to those for real data"
   ]
  },
  {
   "cell_type": "code",
   "execution_count": 9,
   "metadata": {
    "collapsed": false
   },
   "outputs": [],
   "source": [
    "pairwise_data,pairwise_model_wcoupling = generate_RMM.get_pairwise(raster,raster_model_wcoupling,sortby=1)\n",
    "pairwise_data,pairwise_model = generate_RMM.get_pairwise(raster,raster_model,sortby=1)\n"
   ]
  },
  {
   "cell_type": "markdown",
   "metadata": {},
   "source": [
    "Plot the pairwise correlation coefficients for the model generated raster on the lower triangle, and the coefficients for the data on the upper triangle. This will reproduce Fig. 2B and 2D of Okun et al. 2015. Keep in mind that if the 'sortby' flag was set to 1 above, the rows will be sorted in descending population coupling order. So if everything checks out, cells near the top of the diagonal will have both high pairwise corre values (redder colors) and high coupling values!"
   ]
  },
  {
   "cell_type": "code",
   "execution_count": 10,
   "metadata": {
    "collapsed": false
   },
   "outputs": [
    {
     "data": {
      "image/png": "[encoded data removed]",
      "text/plain": [
       "<matplotlib.figure.Figure at 0x1a752ef0>"
      ]
     },
     "metadata": {},
     "output_type": "display_data"
    },
    {
     "data": {
      "image/png": "[encoded data removed]",
      "text/plain": [
       "<matplotlib.figure.Figure at 0x1ac08278>"
      ]
     },
     "metadata": {},
     "output_type": "display_data"
    }
   ],
   "source": [
    "#this is equivalent to Fig 2D (Okun et al. 2015)\n",
    "vmaxc=0.3 #colormap max\n",
    "vminc=-0.1\n",
    "#colormap min\n",
    "\n",
    "titlestr=\"Pairwise Corr Coeff for Model Data w Coupling (LT) and data (UT)\"\n",
    "generate_RMM.plot_pairwise(pairwise_data,pairwise_model_wcoupling,titlestr)\n",
    "\n",
    "\n",
    "#this is equivalent to Fig 2D (Okun et al. 2015)\n",
    "titlestr=\"Pairwise Corr Coeff for Model Data w/o Coupling (LT) and data (UT)\"\n",
    "generate_RMM.plot_pairwise(pairwise_data,pairwise_model,titlestr)"
   ]
  },
  {
   "cell_type": "code",
   "execution_count": null,
   "metadata": {
    "collapsed": true
   },
   "outputs": [],
   "source": []
  }
 ],
 "metadata": {
  "kernelspec": {
   "display_name": "Python 2",
   "language": "python",
   "name": "python2"
  },
  "language_info": {
   "codemirror_mode": {
    "name": "ipython",
    "version": 2
   },
   "file_extension": ".py",
   "mimetype": "text/x-python",
   "name": "python",
   "nbconvert_exporter": "python",
   "pygments_lexer": "ipython2",
   "version": "2.7.10"
  }
 },
 "nbformat": 4,
 "nbformat_minor": 0
}
