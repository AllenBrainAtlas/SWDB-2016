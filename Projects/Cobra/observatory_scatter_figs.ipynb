{
 "cells": [
  {
   "cell_type": "code",
   "execution_count": 1,
   "metadata": {
    "collapsed": false
   },
   "outputs": [
    {
     "name": "stderr",
     "output_type": "stream",
     "text": [
      "/Users/philipmardoum/Desktop/anaconda/lib/python2.7/site-packages/matplotlib/font_manager.py:273: UserWarning: Matplotlib is building the font cache using fc-list. This may take a moment.\n",
      "  warnings.warn('Matplotlib is building the font cache using fc-list. This may take a moment.')\n"
     ]
    }
   ],
   "source": [
    "import numpy as np\n",
    "import pandas as pd\n",
    "import os\n",
    "import sys\n",
    "import matplotlib.pyplot as plt\n",
    "%matplotlib inline\n",
    "import allen_data_fetch"
   ]
  },
  {
   "cell_type": "markdown",
   "metadata": {},
   "source": [
    "**Cre lines:** 'Cux2-CreERT2', 'Rbp4-Cre', 'Scnn1a-Tg3-Cre', 'Rorb-IRES2-Cre'\n",
    "\n",
    "**Areas:** 'VISal', 'VISpm', 'VISp', 'VISl'"
   ]
  },
  {
   "cell_type": "code",
   "execution_count": 2,
   "metadata": {
    "collapsed": false
   },
   "outputs": [
    {
     "data": {
      "text/html": [
       "<div>\n",
       "<table border=\"1\" class=\"dataframe\">\n",
       "  <thead>\n",
       "    <tr style=\"text-align: right;\">\n",
       "      <th></th>\n",
       "      <th>age_days</th>\n",
       "      <th>cre_line</th>\n",
       "      <th>id</th>\n",
       "      <th>imaging_depth</th>\n",
       "      <th>targeted_structure</th>\n",
       "    </tr>\n",
       "  </thead>\n",
       "  <tbody>\n",
       "    <tr>\n",
       "      <th>3</th>\n",
       "      <td>152.0</td>\n",
       "      <td>Cux2-CreERT2</td>\n",
       "      <td>511510736</td>\n",
       "      <td>175</td>\n",
       "      <td>VISp</td>\n",
       "    </tr>\n",
       "    <tr>\n",
       "      <th>8</th>\n",
       "      <td>111.0</td>\n",
       "      <td>Cux2-CreERT2</td>\n",
       "      <td>511510884</td>\n",
       "      <td>175</td>\n",
       "      <td>VISp</td>\n",
       "    </tr>\n",
       "    <tr>\n",
       "      <th>17</th>\n",
       "      <td>144.0</td>\n",
       "      <td>Cux2-CreERT2</td>\n",
       "      <td>511510667</td>\n",
       "      <td>275</td>\n",
       "      <td>VISp</td>\n",
       "    </tr>\n",
       "    <tr>\n",
       "      <th>24</th>\n",
       "      <td>113.0</td>\n",
       "      <td>Cux2-CreERT2</td>\n",
       "      <td>511510855</td>\n",
       "      <td>175</td>\n",
       "      <td>VISp</td>\n",
       "    </tr>\n",
       "    <tr>\n",
       "      <th>25</th>\n",
       "      <td>143.0</td>\n",
       "      <td>Cux2-CreERT2</td>\n",
       "      <td>511510650</td>\n",
       "      <td>175</td>\n",
       "      <td>VISp</td>\n",
       "    </tr>\n",
       "    <tr>\n",
       "      <th>39</th>\n",
       "      <td>144.0</td>\n",
       "      <td>Cux2-CreERT2</td>\n",
       "      <td>511509529</td>\n",
       "      <td>175</td>\n",
       "      <td>VISp</td>\n",
       "    </tr>\n",
       "    <tr>\n",
       "      <th>41</th>\n",
       "      <td>143.0</td>\n",
       "      <td>Cux2-CreERT2</td>\n",
       "      <td>511510927</td>\n",
       "      <td>275</td>\n",
       "      <td>VISp</td>\n",
       "    </tr>\n",
       "    <tr>\n",
       "      <th>47</th>\n",
       "      <td>124.0</td>\n",
       "      <td>Cux2-CreERT2</td>\n",
       "      <td>511510670</td>\n",
       "      <td>175</td>\n",
       "      <td>VISp</td>\n",
       "    </tr>\n",
       "    <tr>\n",
       "      <th>55</th>\n",
       "      <td>156.0</td>\n",
       "      <td>Cux2-CreERT2</td>\n",
       "      <td>511507650</td>\n",
       "      <td>175</td>\n",
       "      <td>VISp</td>\n",
       "    </tr>\n",
       "    <tr>\n",
       "      <th>61</th>\n",
       "      <td>99.0</td>\n",
       "      <td>Cux2-CreERT2</td>\n",
       "      <td>511510718</td>\n",
       "      <td>175</td>\n",
       "      <td>VISp</td>\n",
       "    </tr>\n",
       "    <tr>\n",
       "      <th>74</th>\n",
       "      <td>132.0</td>\n",
       "      <td>Cux2-CreERT2</td>\n",
       "      <td>511510779</td>\n",
       "      <td>275</td>\n",
       "      <td>VISp</td>\n",
       "    </tr>\n",
       "    <tr>\n",
       "      <th>78</th>\n",
       "      <td>124.0</td>\n",
       "      <td>Cux2-CreERT2</td>\n",
       "      <td>511510699</td>\n",
       "      <td>275</td>\n",
       "      <td>VISp</td>\n",
       "    </tr>\n",
       "  </tbody>\n",
       "</table>\n",
       "</div>"
      ],
      "text/plain": [
       "    age_days      cre_line         id  imaging_depth targeted_structure\n",
       "3      152.0  Cux2-CreERT2  511510736            175               VISp\n",
       "8      111.0  Cux2-CreERT2  511510884            175               VISp\n",
       "17     144.0  Cux2-CreERT2  511510667            275               VISp\n",
       "24     113.0  Cux2-CreERT2  511510855            175               VISp\n",
       "25     143.0  Cux2-CreERT2  511510650            175               VISp\n",
       "39     144.0  Cux2-CreERT2  511509529            175               VISp\n",
       "41     143.0  Cux2-CreERT2  511510927            275               VISp\n",
       "47     124.0  Cux2-CreERT2  511510670            175               VISp\n",
       "55     156.0  Cux2-CreERT2  511507650            175               VISp\n",
       "61      99.0  Cux2-CreERT2  511510718            175               VISp\n",
       "74     132.0  Cux2-CreERT2  511510779            275               VISp\n",
       "78     124.0  Cux2-CreERT2  511510699            275               VISp"
      ]
     },
     "execution_count": 2,
     "metadata": {},
     "output_type": "execute_result"
    }
   ],
   "source": [
    "container_list = allen_data_fetch.get_container_list()\n",
    "\n",
    "container_list_filt = container_list[(container_list['targeted_structure'] == 'VISp') & \n",
    "                                     (container_list['cre_line'] == 'Cux2-CreERT2')]\n",
    "container_list_filt\n",
    "\n",
    "# container_list_filt = container_list[(container_list['targeted_structure'] == 'VISl') |\n",
    "#                                      (container_list['targeted_structure'] == 'VISal')]\n",
    "\n",
    "# container_list_filt = container_list[(container_list['targeted_structure'] == 'VISl')]\n",
    "# container_list_filt\n",
    "\n",
    "# container_list_grouped = container_list_filt.groupby(['targeted_structure', 'cre_line'])\n",
    "# list(container_list_filt['id'].groupby(container_list_filt['cre_line']))"
   ]
  },
  {
   "cell_type": "code",
   "execution_count": 17,
   "metadata": {
    "collapsed": false
   },
   "outputs": [],
   "source": [
    "container_id = container_list_filt['id'].values[2]"
   ]
  },
  {
   "cell_type": "code",
   "execution_count": 18,
   "metadata": {
    "collapsed": false
   },
   "outputs": [
    {
     "name": "stdout",
     "output_type": "stream",
     "text": [
      "Experiment container info:\n",
      "[{'targeted_structure': u'VISp', 'imaging_depth': 275, 'age_days': 144.0, 'id': 511510667, 'cre_line': u'Cux2-CreERT2'}]\n",
      "Stimuli in selected session:\n",
      "[u'drifting_gratings', u'natural_movie_one', u'natural_movie_three', u'spontaneous']\n",
      "\n",
      "Experiment container info:\n",
      "[{'targeted_structure': u'VISp', 'imaging_depth': 275, 'age_days': 144.0, 'id': 511510667, 'cre_line': u'Cux2-CreERT2'}]\n",
      "Stimuli in selected session:\n",
      "[u'drifting_gratings', u'natural_movie_one', u'natural_movie_three', u'spontaneous']\n",
      "\n"
     ]
    }
   ],
   "source": [
    "activity_matrix_1 = allen_data_fetch.get_activity_matrix(\n",
    "    container_id=container_id, session_idx=0, stim_type='drifting_gratings', units='all', trace_type='dff')\n",
    "activity_matrix_2 = allen_data_fetch.get_activity_matrix(\n",
    "    container_id=container_id, session_idx=0, stim_type='natural_movie_three_2', units='all', trace_type='dff')\n",
    "\n",
    "# activity_matrix_1, activity_matrix_2 = allen_data_fetch.split_activity_matrix(activity_matrix_1)"
   ]
  },
  {
   "cell_type": "code",
   "execution_count": 24,
   "metadata": {
    "collapsed": false
   },
   "outputs": [
    {
     "data": {
      "image/png": "[encoded data removed]",
      "text/plain": [
       "<matplotlib.figure.Figure at 0x11cf9a110>"
      ]
     },
     "metadata": {},
     "output_type": "display_data"
    }
   ],
   "source": [
    "# for i in range(50):\n",
    "#     plt.plot(activity_matrix_1[:,i])"
   ]
  },
  {
   "cell_type": "code",
   "execution_count": 20,
   "metadata": {
    "collapsed": false
   },
   "outputs": [],
   "source": [
    "# for i in range(50):\n",
    "#     plt.plot(activity_matrix_2[:,i])"
   ]
  },
  {
   "cell_type": "code",
   "execution_count": 21,
   "metadata": {
    "collapsed": true
   },
   "outputs": [],
   "source": [
    "import cobra_analysis\n",
    "\n",
    "pop_coupling_strengths_1 = cobra_analysis.pop_corr_z_scored(activity_matrix_1)\n",
    "pop_coupling_strengths_2 = cobra_analysis.pop_corr_z_scored(activity_matrix_2)\n",
    "\n",
    "# pop_coupling_strengths_1 = cobra_analysis.pop_corr(activity_matrix_1)\n",
    "# pop_coupling_strengths_2 = cobra_analysis.pop_corr(activity_matrix_2)"
   ]
  },
  {
   "cell_type": "code",
   "execution_count": 22,
   "metadata": {
    "collapsed": false
   },
   "outputs": [
    {
     "data": {
      "image/png": "[encoded data removed]",
      "text/plain": [
       "<matplotlib.figure.Figure at 0x11c5d17d0>"
      ]
     },
     "metadata": {},
     "output_type": "display_data"
    }
   ],
   "source": [
    "fig, ax = plt.subplots()\n",
    "ax.scatter(pop_coupling_strengths_1, pop_coupling_strengths_2)\n",
    "\n",
    "plt.plot(range(5))\n",
    "plt.gca().set_aspect('equal', adjustable='box')\n",
    "plt.draw()"
   ]
  },
  {
   "cell_type": "code",
   "execution_count": 23,
   "metadata": {
    "collapsed": false
   },
   "outputs": [
    {
     "data": {
      "text/plain": [
       "(243, 1)"
      ]
     },
     "execution_count": 23,
     "metadata": {},
     "output_type": "execute_result"
    }
   ],
   "source": [
    "pop_coupling_strengths_1.shape"
   ]
  }
 ],
 "metadata": {
  "kernelspec": {
   "display_name": "Python [Root]",
   "language": "python",
   "name": "Python [Root]"
  },
  "language_info": {
   "codemirror_mode": {
    "name": "ipython",
    "version": 2
   },
   "file_extension": ".py",
   "mimetype": "text/x-python",
   "name": "python",
   "nbconvert_exporter": "python",
   "pygments_lexer": "ipython2",
   "version": "2.7.12"
  }
 },
 "nbformat": 4,
 "nbformat_minor": 0
}
